{
 "cells": [
  {
   "cell_type": "markdown",
   "metadata": {},
   "source": [
    "Accept-reject sampler. Change the uniformGenerator to whatever generator you have. Change (np.abs(np.sin(2 * np.pi * x))) to the function you want to sample from. "
   ]
  },
  {
   "cell_type": "code",
   "execution_count": null,
   "metadata": {},
   "outputs": [],
   "source": [
    "def problem4_accept_reject(uniformGenerator=problem4_uniform, n_iterations=1000, seed=0):\n",
    "    \n",
    "    accepted_samples = []  # List to store accepted samples\n",
    "\n",
    "    uniform_seq = uniformGenerator()\n",
    "    \n",
    "    for i in range(n_iterations):\n",
    "        x = uniform_seq[i]  # Candidate sample from U[0,1]\n",
    "        u = uniform_seq[i + 1]  # Uniform random for acceptance criterion\n",
    "\n",
    "        # Acceptance check: u <= target density / (M * proposal density)\n",
    "        if u <= (np.abs(np.sin(2 * np.pi * x))):\n",
    "            accepted_samples.append(x)  # Accept x\n",
    "\n",
    "        # Stop if we have collected enough samples\n",
    "        if len(accepted_samples) >= n_iterations:\n",
    "            break\n",
    "\n",
    "    return np.array(accepted_samples)"
   ]
  }
 ],
 "metadata": {
  "kernelspec": {
   "display_name": "base",
   "language": "python",
   "name": "python3"
  },
  "language_info": {
   "name": "python",
   "version": "3.11.7"
  }
 },
 "nbformat": 4,
 "nbformat_minor": 2
}
