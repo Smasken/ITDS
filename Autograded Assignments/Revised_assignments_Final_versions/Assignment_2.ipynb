{
 "cells": [
  {
   "cell_type": "markdown",
   "id": "daa981f6",
   "metadata": {
    "deletable": false
   },
   "source": [
    "\n",
    "# Assignment 2 for Course 1MS041\n",
    "Make sure you pass the `# ... Test` cells and\n",
    " submit your solution notebook in the corresponding assignment on the course website. You can submit multiple times before the deadline and your highest score will be used."
   ]
  },
  {
   "cell_type": "markdown",
   "id": "5184e036",
   "metadata": {
    "deletable": false,
    "lx_assignment_number": "2",
    "lx_assignment_type": "ASSIGNMENT",
    "lx_assignment_type2print": "Assignment",
    "lx_problem_cell_type": "PROBLEM",
    "lx_problem_number": "1",
    "lx_problem_points": "8"
   },
   "source": [
    "---\n",
    "## Assignment 2, PROBLEM 1\n",
    "Maximum Points = 8"
   ]
  },
  {
   "cell_type": "markdown",
   "id": "db58f10b",
   "metadata": {
    "deletable": false,
    "lx_assignment_number": "2",
    "lx_assignment_type": "ASSIGNMENT",
    "lx_assignment_type2print": "Assignment",
    "lx_problem_cell_type": "PROBLEM",
    "lx_problem_number": "1",
    "lx_problem_points": "8"
   },
   "source": [
    "\n",
    "A courier company operates a fleet of delivery trucks that make deliveries to different parts of the city. The trucks are equipped with GPS tracking devices that record the location of each truck at regular intervals. The locations are divided into three regions: downtown, the suburbs, and the countryside. The following table shows the probabilities of a truck transitioning between these regions at each time step:\n",
    "\n",
    "| Current region | Probability of transitioning to downtown | Probability of transitioning to the suburbs | Probability of transitioning to the countryside |\n",
    "|----------------|--------------------------------------------|-----------------------------------------------|------------------------------------------------|\n",
    "| Downtown       | 0.3                                      | 0.4                                           | 0.3                                            |\n",
    "| Suburbs        | 0.2                                      | 0.5                                           | 0.3                                            |\n",
    "| Countryside    | 0.4                                      | 0.3                                           | 0.3                                            |\n",
    "\n",
    "1. If a truck is currently in the suburbs, what is the probability that it will be in the downtown region after two time steps? [1.5p]\n",
    "2. If a truck is currently in the suburbs, what is the probability that it will be in the downtown region **the first time** after two time steps? [1.5p]\n",
    "3. Is this Markov chain irreducible? [1.5p]\n",
    "4. What is the stationary distribution? [1.5p]\n",
    "5. Advanced question: What is the expected number of steps until the first time one enters the downtown region having started in the suburbs region. Hint: to get within 1 decimal point, it is enough to compute the probabilities for hitting times below 30. [2p]\n",
    "\n"
   ]
  },
  {
   "cell_type": "code",
   "id": "2c601f0f",
   "metadata": {
    "deletable": false,
    "lx_assignment_number": "2",
    "lx_assignment_type": "ASSIGNMENT",
    "lx_assignment_type2print": "Assignment",
    "lx_problem_cell_type": "PROBLEM",
    "lx_problem_number": "1",
    "lx_problem_points": "8",
    "ExecuteTime": {
     "end_time": "2025-01-11T16:28:44.308097Z",
     "start_time": "2025-01-11T16:28:44.303200Z"
    }
   },
   "source": [
    "import numpy as np\n",
    "\n",
    "# Part 1\n",
    "\n",
    "# Stochastic matrix / Probability matrix\n",
    "matrix = np.array([\n",
    "    [0.3, 0.4, 0.3],\n",
    "    [0.2, 0.5, 0.3],\n",
    "    [0.4, 0.3, 0.3]\n",
    "])\n",
    "\n",
    "two_steps = matrix @ matrix\n",
    "\n",
    "start_pos = [0, 1, 0]\n",
    "\n",
    "final_pos = (start_pos @ two_steps)[0]\n",
    "\n",
    "# Fill in the answer to part 1 below as a decimal number\n",
    "problem1_p1 = final_pos"
   ],
   "outputs": [],
   "execution_count": 233
  },
  {
   "cell_type": "code",
   "id": "52a172dc",
   "metadata": {
    "deletable": false,
    "lx_assignment_number": "2",
    "lx_assignment_type": "ASSIGNMENT",
    "lx_assignment_type2print": "Assignment",
    "lx_problem_cell_type": "PROBLEM",
    "lx_problem_number": "1",
    "lx_problem_points": "8",
    "ExecuteTime": {
     "end_time": "2025-01-11T16:28:44.326699Z",
     "start_time": "2025-01-11T16:28:44.323543Z"
    }
   },
   "source": [
    "# Part 2\n",
    "\n",
    "'''\n",
    "There exist two ways:\n",
    "\n",
    "a = suburb -> suburb -> downtown\n",
    "b = suburb -> countryside -> downtown\n",
    "'''\n",
    "a = 1 * 0.5 * 0.2\n",
    "b = 1 * 0.3 * 0.4\n",
    "\n",
    "# Fill in the answer to part 2 below as a decimal number\n",
    "problem1_p2 = a + b\n",
    "print(problem1_p2)"
   ],
   "outputs": [
    {
     "name": "stdout",
     "output_type": "stream",
     "text": [
      "0.22\n"
     ]
    }
   ],
   "execution_count": 234
  },
  {
   "cell_type": "code",
   "id": "a3b3872d",
   "metadata": {
    "deletable": false,
    "lx_assignment_number": "2",
    "lx_assignment_type": "ASSIGNMENT",
    "lx_assignment_type2print": "Assignment",
    "lx_problem_cell_type": "PROBLEM",
    "lx_problem_number": "1",
    "lx_problem_points": "8",
    "ExecuteTime": {
     "end_time": "2025-01-11T16:28:44.337417Z",
     "start_time": "2025-01-11T16:28:44.333657Z"
    }
   },
   "source": [
    "# Part 3\n",
    "'''\n",
    "To check for irreducibility, raise the matrix to a high power\n",
    "and check for convergence. No elements should approach 0.\n",
    "'''\n",
    "\n",
    "matrix_inf = np.linalg.matrix_power(matrix, 100)\n",
    "\n",
    "mama = matrix = np.array([\n",
    "    [0.3, 0.4, 0.3],\n",
    "    [0.2, 0.5, 0.3],\n",
    "    [0.4, 0.3, 0.3]\n",
    "])\n",
    "\n",
    "swd = np.linalg.matrix_power(mama, 30)\n",
    "\n",
    "print(swd)\n",
    "\n",
    "# Fill in the answer to part 3 below as a boolean\n",
    "problem1_irreducible = True"
   ],
   "outputs": [
    {
     "name": "stdout",
     "output_type": "stream",
     "text": [
      "[[0.28888889 0.41111111 0.3       ]\n",
      " [0.28888889 0.41111111 0.3       ]\n",
      " [0.28888889 0.41111111 0.3       ]]\n"
     ]
    }
   ],
   "execution_count": 235
  },
  {
   "cell_type": "code",
   "id": "1b9d0a00",
   "metadata": {
    "deletable": false,
    "lx_assignment_number": "2",
    "lx_assignment_type": "ASSIGNMENT",
    "lx_assignment_type2print": "Assignment",
    "lx_problem_cell_type": "PROBLEM",
    "lx_problem_number": "1",
    "lx_problem_points": "8",
    "ExecuteTime": {
     "end_time": "2025-01-11T16:28:44.355234Z",
     "start_time": "2025-01-11T16:28:44.352423Z"
    }
   },
   "source": [
    "# Part 4\n",
    "\n",
    "# Fill in the answer to part 4 below\n",
    "# the answer should be a numpy array of length 3\n",
    "# make sure that the entries sums to 1!\n",
    "\n",
    "def stat_distr(p):\n",
    "    A = p.T - np.eye(p.shape[0])\n",
    "    b = np.zeros(p.shape[0])\n",
    "\n",
    "    A[-1] = 1\n",
    "    b[-1] = 1\n",
    "\n",
    "    return np.linalg.solve(A, b)\n",
    "\n",
    "\n",
    "problem1_stationary = stat_distr(matrix)"
   ],
   "outputs": [],
   "execution_count": 236
  },
  {
   "cell_type": "code",
   "id": "481625e3",
   "metadata": {
    "deletable": false,
    "lx_assignment_number": "2",
    "lx_assignment_type": "ASSIGNMENT",
    "lx_assignment_type2print": "Assignment",
    "lx_problem_cell_type": "PROBLEM",
    "lx_problem_number": "1",
    "lx_problem_points": "8",
    "ExecuteTime": {
     "end_time": "2025-01-11T16:28:44.374076Z",
     "start_time": "2025-01-11T16:28:44.369967Z"
    }
   },
   "source": [
    "# Part 5\n",
    "\n",
    "import numpy as np\n",
    "\n",
    "# Transition matrix with downtown as an absorbing state\n",
    "P = np.array([\n",
    "    [1.0, 0.0, 0.0],  # Downtown is absorbing\n",
    "    [0.2, 0.5, 0.3],  # Suburbs\n",
    "    [0.4, 0.3, 0.3]  # Countryside\n",
    "])\n",
    "\n",
    "max_steps = 30\n",
    "initial_state = np.array([0, 1, 0])  # Start in the suburbs\n",
    "target_index = 0  # Downtown index\n",
    "\n",
    "hitting_probabilities = []\n",
    "cumulative_probability = 0  # Tracks total probability of hitting downtown\n",
    "\n",
    "current_state = initial_state.copy()\n",
    "for step in range(1, max_steps + 1):\n",
    "    # Advance the Markov chain one step\n",
    "    next_state = current_state @ P\n",
    "    # Calculate hitting probability at this step\n",
    "    hitting_probability = next_state[target_index] - cumulative_probability\n",
    "    hitting_probabilities.append(hitting_probability)\n",
    "    # Update cumulative probability\n",
    "    cumulative_probability += hitting_probability\n",
    "    # Update the current state\n",
    "    current_state = next_state\n",
    "\n",
    "    print(hitting_probability)\n",
    "\n",
    "# Check if total hitting probabilities sum to 1\n",
    "total_probability = sum(hitting_probabilities)\n",
    "if not np.isclose(total_probability, 1.0):\n",
    "    print(f\"Warning: Total hitting probability is {total_probability}, not 1.0\")\n",
    "\n",
    "# Compute expected hitting time\n",
    "expected_hitting_time = sum(step * hitting_probabilities[step - 1] for step in range(1, max_steps + 1))\n",
    "print(f\"Expected hitting time: {expected_hitting_time}\")\n",
    "\n",
    "# Fill in the answer to part 5 below\n",
    "# That is, the expected number of steps as a decimal number\n",
    "problem1_ET = 3.8"
   ],
   "outputs": [
    {
     "name": "stdout",
     "output_type": "stream",
     "text": [
      "0.2\n",
      "0.22000000000000003\n",
      "0.16399999999999992\n",
      "0.118\n",
      "0.08455999999999997\n",
      "0.060567999999999955\n",
      "0.0433808\n",
      "0.03107055999999997\n",
      "0.022253600000000096\n",
      "0.01593864639999998\n",
      "0.01141570112000001\n",
      "0.008176242112000076\n",
      "0.005856051622399994\n",
      "0.00419426677120005\n",
      "0.003004050319616036\n",
      "0.002151584249420857\n",
      "0.0015410243803597456\n",
      "0.0011037244493224962\n",
      "0.0007905180966364389\n",
      "0.0005661910103497148\n",
      "0.00040552172248153884\n",
      "0.0002904459173643792\n",
      "0.00020802543054254663\n",
      "0.00014899358939213236\n",
      "0.00010671334568113089\n",
      "7.643106118138121e-05\n",
      "5.474204820421491e-05\n",
      "3.920777489252458e-05\n",
      "2.8081697021731244e-05\n",
      "2.0112891123802434e-05\n",
      "Warning: Total hitting probability is 0.9999492360091907, not 1.0\n",
      "Expected hitting time: 3.8444520365145927\n"
     ]
    }
   ],
   "execution_count": 237
  },
  {
   "cell_type": "markdown",
   "id": "e78a4dee",
   "metadata": {
    "deletable": false,
    "lx_assignment_number": "2",
    "lx_assignment_type": "ASSIGNMENT",
    "lx_assignment_type2print": "Assignment",
    "lx_problem_cell_type": "PROBLEM",
    "lx_problem_number": "2",
    "lx_problem_points": "4"
   },
   "source": [
    "---\n",
    "## Assignment 2, PROBLEM 2\n",
    "Maximum Points = 4"
   ]
  },
  {
   "cell_type": "markdown",
   "id": "d9a825d1",
   "metadata": {
    "deletable": false,
    "lx_assignment_number": "2",
    "lx_assignment_type": "ASSIGNMENT",
    "lx_assignment_type2print": "Assignment",
    "lx_problem_cell_type": "PROBLEM",
    "lx_problem_number": "2",
    "lx_problem_points": "4"
   },
   "source": [
    "\n",
    "Use the **Multi-dimensional Constrained Optimisation** example (in `07-Optimization.ipynb`) to numerically find the MLe for the mean and variance parameter based on `normallySimulatedDataSamples`, an array obtained by a specific simulation of $30$ IID samples from the $Normal(10,2)$ random variable.\n",
    "\n",
    "Recall that $Normal(\\mu, \\sigma^2)$ RV has the probability density function given by:\n",
    "\n",
    "$$\n",
    "f(x ;\\mu, \\sigma) = \\displaystyle\\frac{1}{\\sigma\\sqrt{2\\pi}}\\exp\\left(\\frac{-1}{2\\sigma^2}(x-\\mu)^2\\right)\n",
    "$$\n",
    "\n",
    "The two parameters, $\\mu \\in \\mathbb{R} := (-\\infty,\\infty)$ and $\\sigma \\in (0,\\infty)$, are sometimes referred to as the location and scale parameters.\n",
    "\n",
    "You know that the log likelihood function for $n$ IID samples from a Normal RV with parameters $\\mu$ and $\\sigma$ simply follows from $\\sum_{i=1}^n \\log(f(x_i; \\mu,\\sigma))$, based on the IID assumption. \n",
    "\n",
    "NOTE: When setting bounding boxes for $\\mu$ and $\\sigma$ try to start with some guesses like $[-20,20]$ and $[0.1,5.0]$ and make it larger if the solution is at the boundary. Making the left bounding-point for $\\sigma$ too close to $0.0$ will cause division by zero Warnings. Other numerical instabilities can happen in such iterative numerical solutions to the MLe. You need to be patient and learn by trial-and-error. You will see the mathematical theory in more details in a future course in scientific computing/optimisation. So don't worry too much now except learning to use it for our problems.  "
   ]
  },
  {
   "cell_type": "code",
   "id": "699b52ca",
   "metadata": {
    "deletable": false,
    "lx_assignment_number": "2",
    "lx_assignment_type": "ASSIGNMENT",
    "lx_assignment_type2print": "Assignment",
    "lx_problem_cell_type": "PROBLEM",
    "lx_problem_number": "2",
    "lx_problem_points": "4",
    "ExecuteTime": {
     "end_time": "2025-01-11T16:28:44.383480Z",
     "start_time": "2025-01-11T16:28:44.377038Z"
    }
   },
   "source": [
    "\n",
    "import numpy as np\n",
    "from scipy import optimize\n",
    "\n",
    "# do NOT change the next three lines\n",
    "np.random.seed(123456)  # set seed\n",
    "# simulate 30 IID samples drawn from Normal(10,2)RV\n",
    "normallySimulatedDataSamples = np.random.normal(10, 2, 30)\n",
    "\n",
    "\n",
    "def f(x, mu, sigma):\n",
    "    return (1 / (sigma * np.sqrt(2 * np.pi))) * np.exp(-((x - mu) ** 2) / (2 * sigma ** 2))\n",
    "\n",
    "\n",
    "# define the negative log likelihood function you want to minimise by editing XXX\n",
    "def negLogLklOfIIDNormalSamples(parameters):\n",
    "    # Return the -log(likelihood) of normallySimulatedDataSamples with mean and variance parameters\n",
    "    mu_param = parameters[0]\n",
    "    sigma_param = parameters[1]\n",
    "\n",
    "    likelihoods = f(normallySimulatedDataSamples, mu_param, sigma_param)\n",
    "    positive_likelihoods = likelihoods[likelihoods > 0]  #filter zeros\n",
    "\n",
    "    negative_log_likelihood = -np.sum(np.log(positive_likelihoods))\n",
    "    return negative_log_likelihood\n",
    "\n",
    "\n",
    "# you should only change XXX below and not anything else\n",
    "parameter_bounding_box = ((-20, 20), (0.1, 5.0))  # specify the constraints for each parameter - some guess work...\n",
    "initial_arguments = np.array([10, 2])  # point in 2D to initialise the minimize algorithm\n",
    "result_problem2_opt = optimize.minimize(negLogLklOfIIDNormalSamples, initial_arguments, bounds=parameter_bounding_box,\n",
    "                                        method='L-BFGS-B')\n",
    "# call the minimize method above finally! you need to play a bit to get initial conditions and bounding box ok\n",
    "result_problem2_opt\n"
   ],
   "outputs": [
    {
     "data": {
      "text/plain": [
       "  message: CONVERGENCE: REL_REDUCTION_OF_F_<=_FACTR*EPSMCH\n",
       "  success: True\n",
       "   status: 0\n",
       "      fun: 58.63138728248559\n",
       "        x: [ 9.269e+00  1.708e+00]\n",
       "      nit: 5\n",
       "      jac: [ 1.066e-05 -6.892e-05]\n",
       "     nfev: 27\n",
       "     njev: 9\n",
       " hess_inv: <2x2 LbfgsInvHessProduct with dtype=float64>"
      ]
     },
     "execution_count": 238,
     "metadata": {},
     "output_type": "execute_result"
    }
   ],
   "execution_count": 238
  },
  {
   "cell_type": "markdown",
   "id": "d64a351c",
   "metadata": {
    "deletable": false,
    "lx_assignment_number": "2",
    "lx_assignment_type": "ASSIGNMENT",
    "lx_assignment_type2print": "Assignment",
    "lx_problem_cell_type": "PROBLEM",
    "lx_problem_number": "3",
    "lx_problem_points": "4"
   },
   "source": [
    "---\n",
    "## Assignment 2, PROBLEM 3\n",
    "Maximum Points = 4"
   ]
  },
  {
   "cell_type": "markdown",
   "id": "0b9c787c",
   "metadata": {
    "deletable": false,
    "lx_assignment_number": "2",
    "lx_assignment_type": "ASSIGNMENT",
    "lx_assignment_type2print": "Assignment",
    "lx_problem_cell_type": "PROBLEM",
    "lx_problem_number": "3",
    "lx_problem_points": "4"
   },
   "source": [
    "\n",
    "\n",
    "Derive the maximum likelihood estimate for $n$ IID samples from a random variable with the following probability density function:\n",
    "$$\n",
    "f(x; \\lambda) = \\frac{1}{24} \\lambda^5 x^4 \\exp(-\\lambda x), \\qquad \\text{ where, } \\lambda>0, x > 0\n",
    "$$\n",
    "\n",
    "You can solve the MLe by hand (using pencil paper or using key-strokes). Present your solution as the return value of a function called `def MLeForAssignment2Problem3(x)`, where `x` is a list of $n$ input data points."
   ]
  },
  {
   "cell_type": "code",
   "id": "41720f28",
   "metadata": {
    "deletable": false,
    "lx_assignment_number": "2",
    "lx_assignment_type": "ASSIGNMENT",
    "lx_assignment_type2print": "Assignment",
    "lx_problem_cell_type": "PROBLEM",
    "lx_problem_number": "3",
    "lx_problem_points": "4",
    "ExecuteTime": {
     "end_time": "2025-01-11T16:28:44.393959Z",
     "start_time": "2025-01-11T16:28:44.391860Z"
    }
   },
   "source": [
    "# do not change the name of the function, just replace XXX with the appropriate expressions for the MLe\n",
    "def MLeForAssignment2Problem3(x):\n",
    "    # Derivation of Log-Likelihood Function set to equal 0\n",
    "    n = len(x)\n",
    "    return 5 * n / sum(x)"
   ],
   "outputs": [],
   "execution_count": 239
  },
  {
   "cell_type": "markdown",
   "id": "2de9360d",
   "metadata": {
    "deletable": false,
    "lx_assignment_number": "2",
    "lx_assignment_type": "ASSIGNMENT",
    "lx_assignment_type2print": "Assignment",
    "lx_problem_cell_type": "PROBLEM",
    "lx_problem_number": "4",
    "lx_problem_points": "8"
   },
   "source": [
    "---\n",
    "## Assignment 2, PROBLEM 4\n",
    "Maximum Points = 8"
   ]
  },
  {
   "cell_type": "markdown",
   "id": "2e67892b",
   "metadata": {
    "deletable": false,
    "lx_assignment_number": "2",
    "lx_assignment_type": "ASSIGNMENT",
    "lx_assignment_type2print": "Assignment",
    "lx_problem_cell_type": "PROBLEM",
    "lx_problem_number": "4",
    "lx_problem_points": "8"
   },
   "source": [
    "\n",
    "## Random variable generation and transformation\n",
    "\n",
    "The purpose of this problem is to show that you can implement your own sampler, this will be built in the following three steps:\n",
    "\n",
    "1. [2p] Implement a Linear Congruential Generator where you tested out a good combination (a large $M$ with $a,b$ satisfying the Hull-Dobell (Thm 6.8)) of parameters. Follow the instructions in the code block.\n",
    "2. [2p] Using a generator construct random numbers from the uniform $[0,1]$ distribution.\n",
    "3. [4p] Using a uniform $[0,1]$ random generator, generate samples from \n",
    "\n",
    "$$p_0(x) = \\frac{\\pi}{2}|\\sin(2\\pi x)|, \\quad x \\in [0,1] \\enspace .$$\n",
    "\n",
    "Using the **Accept-Reject** sampler (**Algorithm 1** in TFDS notes) with sampling density given by the uniform $[0,1]$ distribution."
   ]
  },
  {
   "cell_type": "code",
   "id": "530446bc",
   "metadata": {
    "deletable": false,
    "lx_assignment_number": "2",
    "lx_assignment_type": "ASSIGNMENT",
    "lx_assignment_type2print": "Assignment",
    "lx_problem_cell_type": "PROBLEM",
    "lx_problem_number": "4",
    "lx_problem_points": "8",
    "ExecuteTime": {
     "end_time": "2025-01-11T16:28:44.411111Z",
     "start_time": "2025-01-11T16:28:44.408388Z"
    }
   },
   "source": [
    "def problem4_LCG(size=None, seed=0):\n",
    "    \"\"\"\n",
    "    A linear congruential generator that generates pseudo random numbers according to size.\n",
    "    \n",
    "    Parameters\n",
    "    -------------\n",
    "    size : an integer denoting how many samples should be produced\n",
    "    seed : the starting point of the LCG, i.e. u0 in the notes.\n",
    "    \n",
    "    Returns\n",
    "    -------------\n",
    "    out : a list of the pseudo random numbers\n",
    "    \"\"\"\n",
    "\n",
    "    def LCG(size=10, seed=0):\n",
    "        # Parameters for maximal period\n",
    "        m = 2 ** 31 - 1  # Large prime modulus\n",
    "        a = 1103515245  # Multiplier (common choice)\n",
    "        b = 12345  # Increment (common choice)\n",
    "\n",
    "        x = seed\n",
    "        retValue = []\n",
    "        for _ in range(size):\n",
    "            x = (a * x + b) % m\n",
    "            retValue.append(x)\n",
    "        return retValue\n",
    "\n",
    "    return LCG(size=10000, seed=0)"
   ],
   "outputs": [],
   "execution_count": 240
  },
  {
   "cell_type": "code",
   "id": "8d215c5a",
   "metadata": {
    "deletable": false,
    "lx_assignment_number": "2",
    "lx_assignment_type": "ASSIGNMENT",
    "lx_assignment_type2print": "Assignment",
    "lx_problem_cell_type": "PROBLEM",
    "lx_problem_number": "4",
    "lx_problem_points": "8",
    "ExecuteTime": {
     "end_time": "2025-01-11T16:33:12.440097Z",
     "start_time": "2025-01-11T16:32:57.036962Z"
    }
   },
   "source": [
    "from matplotlib import pyplot as plt\n",
    "\n",
    "\n",
    "def problem4_uniform(generator=None, period=1, size=None, seed=0):\n",
    "    \"\"\"\n",
    "    Takes a generator and produces samples from the uniform [0,1] distribution according\n",
    "    to size.\n",
    "    \n",
    "    Parameters\n",
    "    -------------\n",
    "    generator : a function of type generator(size,seed) and produces the same result as problem1_LCG, i.e. pseudo random numbers in the range {0,1,...,period-1}\n",
    "    period : the period of the generator\n",
    "    seed : the seed to be used in the generator provided\n",
    "    size : an integer denoting how many samples should be produced\n",
    "    \n",
    "    Returns\n",
    "    --------------\n",
    "    out : a list of the uniform pseudo random numbers\n",
    "    \"\"\"\n",
    "\n",
    "    LCG = problem4_LCG(seed=seed)\n",
    "    scaledLCG = [x / max(problem4_LCG(seed=0)) for x in LCG]\n",
    "\n",
    "    return scaledLCG\n",
    "\n",
    "\n",
    "ScaledLCG = problem4_uniform(generator=problem4_LCG)\n",
    "\n",
    "plt.hist(ScaledLCG, bins=40)"
   ],
   "outputs": [
    {
     "data": {
      "text/plain": [
       "(array([254., 226., 214., 281., 235., 268., 262., 229., 241., 241., 267.,\n",
       "        225., 253., 265., 262., 266., 234., 242., 222., 254., 270., 248.,\n",
       "        228., 279., 236., 282., 258., 226., 233., 297., 245., 240., 235.,\n",
       "        257., 266., 270., 233., 233., 269., 254.]),\n",
       " array([5.74884967e-06, 2.50056051e-02, 5.00054614e-02, 7.50053177e-02,\n",
       "        1.00005174e-01, 1.25005030e-01, 1.50004887e-01, 1.75004743e-01,\n",
       "        2.00004599e-01, 2.25004455e-01, 2.50004312e-01, 2.75004168e-01,\n",
       "        3.00004024e-01, 3.25003880e-01, 3.50003737e-01, 3.75003593e-01,\n",
       "        4.00003449e-01, 4.25003306e-01, 4.50003162e-01, 4.75003018e-01,\n",
       "        5.00002874e-01, 5.25002731e-01, 5.50002587e-01, 5.75002443e-01,\n",
       "        6.00002300e-01, 6.25002156e-01, 6.50002012e-01, 6.75001868e-01,\n",
       "        7.00001725e-01, 7.25001581e-01, 7.50001437e-01, 7.75001293e-01,\n",
       "        8.00001150e-01, 8.25001006e-01, 8.50000862e-01, 8.75000719e-01,\n",
       "        9.00000575e-01, 9.25000431e-01, 9.50000287e-01, 9.75000144e-01,\n",
       "        1.00000000e+00]),\n",
       " <BarContainer object of 40 artists>)"
      ]
     },
     "execution_count": 253,
     "metadata": {},
     "output_type": "execute_result"
    },
    {
     "data": {
      "text/plain": [
       "<Figure size 640x480 with 1 Axes>"
      ],
      "image/png": "[encoded data removed]"
     },
     "metadata": {},
     "output_type": "display_data"
    }
   ],
   "execution_count": 253
  },
  {
   "cell_type": "code",
   "id": "15832284",
   "metadata": {
    "deletable": false,
    "lx_assignment_number": "2",
    "lx_assignment_type": "ASSIGNMENT",
    "lx_assignment_type2print": "Assignment",
    "lx_problem_cell_type": "PROBLEM",
    "lx_problem_number": "4",
    "lx_problem_points": "8",
    "ExecuteTime": {
     "end_time": "2025-01-11T16:34:22.048808Z",
     "start_time": "2025-01-11T16:34:21.960195Z"
    }
   },
   "source": [
    "\n",
    "def problem4_accept_reject(uniformGenerator=problem4_uniform, n_iterations=10, seed=0):\n",
    "    \"\"\"\n",
    "    Takes a generator that produces uniform pseudo random [0,1] numbers \n",
    "    and produces samples from (pi/2)*abs(sin(x*2*pi)) using an Accept-Reject\n",
    "    sampler with the uniform distribution as the proposal distribution.\n",
    "    Runs n_iterations\n",
    "    \n",
    "    Parameters\n",
    "    -------------\n",
    "    generator : a function of the type generator(size,seed) that produces uniform pseudo random\n",
    "    numbers from [0,1]\n",
    "    seed : the seed to be used in the generator provided\n",
    "    n_iterations : an integer denoting how many attempts should be made in the accept-reject sampler\n",
    "    \n",
    "    Returns\n",
    "    --------------\n",
    "    out : a list of the pseudo random numbers with the specified distribution\n",
    "    \"\"\"\n",
    "\n",
    "    accepted_samples = []  # List to store accepted samples\n",
    "    for i in range(n_iterations):\n",
    "        x = uniformGenerator()  # Candidate sample from U[0,1]\n",
    "        u = uniformGenerator()  # Uniform random for acceptance criterion\n",
    "\n",
    "        # Acceptance check: u <= target density / (M * proposal density)\n",
    "        if u <= (np.abs(np.sin(2 * np.pi * x))):\n",
    "            accepted_samples.append(x)  # Accept x\n",
    "\n",
    "        # Stop if we have collected enough samples\n",
    "        if len(accepted_samples) >= n_iterations:\n",
    "            break\n",
    "\n",
    "    return np.array(accepted_samples)\n",
    "\n",
    "\n",
    "# Example usage with matplotlib for plotting\n",
    "plot = problem4_accept_reject(np.random.uniform, n_iterations=10000)\n",
    "plt.hist(plot, bins=30, density=True)\n"
   ],
   "outputs": [
    {
     "data": {
      "text/plain": [
       "(array([0.31093399, 0.58359919, 0.73667438, 1.35854237, 1.23416877,\n",
       "        1.36810957, 1.35854237, 1.54031916, 1.31070637, 1.55466996,\n",
       "        1.20068357, 1.13849677, 0.67927118, 0.46400919, 0.1865604 ,\n",
       "        0.21047839, 0.44965839, 0.77015958, 1.09544437, 1.45899796,\n",
       "        1.47813236, 1.50683396, 1.64555836, 1.56423716, 1.31548997,\n",
       "        1.30592277, 1.05717557, 0.67448758, 0.52619599, 0.1722096 ]),\n",
       " array([0.00820152, 0.04125252, 0.07430352, 0.10735453, 0.14040553,\n",
       "        0.17345653, 0.20650753, 0.23955853, 0.27260953, 0.30566053,\n",
       "        0.33871154, 0.37176254, 0.40481354, 0.43786454, 0.47091554,\n",
       "        0.50396654, 0.53701754, 0.57006855, 0.60311955, 0.63617055,\n",
       "        0.66922155, 0.70227255, 0.73532355, 0.76837455, 0.80142556,\n",
       "        0.83447656, 0.86752756, 0.90057856, 0.93362956, 0.96668056,\n",
       "        0.99973157]),\n",
       " <BarContainer object of 30 artists>)"
      ]
     },
     "execution_count": 257,
     "metadata": {},
     "output_type": "execute_result"
    },
    {
     "data": {
      "text/plain": [
       "<Figure size 640x480 with 1 Axes>"
      ],
      "image/png": "[encoded data removed]"
     },
     "metadata": {},
     "output_type": "display_data"
    }
   ],
   "execution_count": 257
  },
  {
   "cell_type": "markdown",
   "id": "6479a17c",
   "metadata": {
    "deletable": false,
    "lx_assignment_number": "2",
    "lx_assignment_type": "ASSIGNMENT",
    "lx_assignment_type2print": "Assignment",
    "lx_problem_cell_type": "Test",
    "lx_problem_number": "4",
    "lx_problem_points": "8"
   },
   "source": [
    "---\n",
    "#### Local Test for Assignment 2, PROBLEM 4\n",
    "Evaluate cell below to make sure your answer is valid.                             You **should not** modify anything in the cell below when evaluating it to do a local test of                             your solution.\n",
    "You may need to include and evaluate code snippets from lecture notebooks in cells above to make the local test work correctly sometimes (see error messages for clues). This is meant to help you become efficient at recalling materials covered in lectures that relate to this problem. Such local tests will generally not be available in the exam."
   ]
  },
  {
   "cell_type": "code",
   "id": "26cd1592",
   "metadata": {
    "deletable": false,
    "lx_assignment_number": "2",
    "lx_assignment_type": "ASSIGNMENT",
    "lx_assignment_type2print": "Assignment",
    "lx_problem_cell_type": "Test",
    "lx_problem_number": "4",
    "lx_problem_points": "8",
    "ExecuteTime": {
     "end_time": "2025-01-11T16:28:59.965951Z",
     "start_time": "2025-01-11T16:28:59.951926Z"
    }
   },
   "source": [
    "\n",
    "# If you managed to solve all three parts you can test the following code to see if it runs\n",
    "# you have to change the period to match your LCG though, this is marked as XXX.\n",
    "# It is a very good idea to check these things using the histogram function in sagemath\n",
    "# try with a larger number of samples, up to 10000 should run\n",
    "\n",
    "print(\"LCG output: %s\" % problem4_LCG(size=10, seed=1))\n",
    "\n",
    "period = XXX\n",
    "\n",
    "print(\"Uniform sampler %s\" % problem4_uniform(generator=problem4_LCG, period=period, size=10, seed=1))\n",
    "\n",
    "uniform_sampler = lambda size, seed: problem4_uniform(generator=problem4_LCG, period=period, size=size, seed=seed)\n",
    "\n",
    "print(\"Accept-Reject sampler %s\" % problem4_accept_reject(uniformGenerator=uniform_sampler, n_iterations=20, seed=1))"
   ],
   "outputs": [
    {
     "name": "stdout",
     "output_type": "stream",
     "text": [
      "LCG output: [12345, 1406938949, 178066070, 1543701248, 427461576, 562845833, 1609490218, 377220791, 2040027864, 186150528, 667276653, 167860840, 95653539, 1525258573, 795960552, 1272442040, 173617473, 865290808, 270830898, 1905073316, 1560342131, 835276979, 5600085, 1987058269, 1401826095, 1694140998, 1087770539, 2122194134, 754953873, 2085830575, 1024885510, 1518985360, 2097608274, 1890535832, 545680769, 1377224096, 131584826, 908364759, 189246844, 1410643431, 521981313, 1218695711, 1611912202, 774336434, 1479967491, 1875327846, 1547822973, 1403927672, 527212241, 1886344482, 2137687561, 1788968695, 1011332867, 1922553165, 1326717799, 1295382156, 890099664, 617196876, 73107992, 668633302, 1304190794, 594241059, 1109311699, 1577361936, 168432667, 1165338027, 478490292, 449821714, 1265878824, 1051712694, 1360726589, 1467843818, 1659002142, 1757749254, 741020201, 2034742934, 159445517, 1570204149, 1414977256, 691741732, 1077507238, 1499864157, 1744631027, 901256469, 883311753, 2041650383, 1557331845, 1698854622, 1598099958, 1835296794, 30074496, 1569399995, 1294164748, 1865055905, 1381168876, 1701111519, 1306706590, 219349713, 559020559, 1909553872, 1358532845, 1918192227, 290289699, 1334650513, 786478753, 653245911, 523737056, 574403288, 1325269985, 1358152786, 278984578, 420130674, 470538426, 1968806651, 432993870, 1740761207, 2059379830, 269264803, 1137214761, 2122201090, 1700443715, 2047822777, 1784982244, 1072848637, 1756225095, 863366763, 68086479, 1930762536, 1169758253, 1489974450, 328641461, 210194062, 1708131725, 128115262, 522843174, 413683296, 1383496282, 1538629752, 657089523, 747830531, 1306953642, 671187156, 174809279, 2135375656, 686531205, 1153300211, 2087016207, 1009976012, 1095349323, 1608475065, 557654503, 941263801, 550138466, 263347017, 843591724, 1867033060, 154881321, 456586048, 1174361004, 540365515, 444417259, 2025113928, 772055988, 1790468701, 104816737, 664118356, 1947734314, 1872650286, 313295367, 1695823749, 475346752, 288186805, 870946977, 1328170862, 1820736572, 632187519, 1615670595, 989152031, 1009195525, 173725416, 988450047, 2002013520, 1470442000, 1770889621, 486856314, 1068374104, 1968467551, 1733871414, 207529991, 1581586567, 549447373, 174726048, 1186117604, 1355562356, 1189910338, 743487889, 1691682615, 373385629, 2145759365, 2116790311, 1003638542, 1580439373, 386348637, 895877809, 1922550647, 1519170107, 1868548344, 1007649351, 890451814, 1312413447, 750874828, 528675075, 196282559, 1352803865, 913001073, 1018829682, 1526411978, 124444759, 1458961166, 1623063668, 2067685624, 843032336, 708009503, 1597385864, 901749473, 1248477694, 1040903384, 1707246432, 1214500364, 1237412020, 710875239, 542958984, 894348087, 697852400, 1756943960, 1038245535, 2147336205, 1751257657, 436786536, 1251577725, 1797123214, 1957712570, 1511679916, 1915338023, 1094429797, 294828812, 1892104462, 553493358, 970077084, 1318585455, 223402763, 176455263, 986481725, 1002702780, 49342221, 696871561, 1380347051, 513919376, 1533706220, 1792296299, 1009755608, 1624182269, 249125799, 1581546033, 599389906, 707398791, 1355633905, 70925594, 1773289471, 1156540105, 1998753935, 479555323, 1396905502, 1212862212, 1496025616, 1103960865, 15656100, 716457028, 1108847835, 1226305117, 139356331, 1355647631, 719016173, 1818075069, 1801861128, 1962461185, 1220490423, 493171009, 24700020, 479099272, 663615163, 2090112760, 1293450921, 1364819360, 1525606250, 384907044, 421768125, 1889334652, 1499900537, 422463462, 1634821294, 1218158219, 1684180768, 1273525118, 496985498, 1814574362, 821867449, 1839025195, 633629617, 1019230784, 1548761504, 552024901, 1674172555, 1991562941, 1956311605, 1638845673, 826574779, 1786516982, 1317173838, 1031662458, 1179768116, 505958221, 291543836, 1912258046, 413950862, 574462981, 1547401692, 805385034, 1544195595, 1049885122, 1229896677, 1368360153, 2002066446, 1005551411, 1895390393, 2123411719, 1828667767, 1068355268, 1649532044, 551265459, 1342721015, 1004011222, 1491159944, 499967090, 1330931704, 154257609, 1854894696, 1697626172, 232450340, 372575759, 1491277676, 1091115224, 653063354, 1532080661, 104226796, 1444555861, 765699627, 1392826885, 1661312879, 297085137, 1750183172, 1479617291, 1256224731, 989065327, 809801483, 696874568, 1788454151, 1424278269, 287177944, 1554671478, 183913056, 560539792, 1152220997, 844031920, 1915386033, 292287110, 1903367702, 1141604439, 2000787947, 937321981, 1210593533, 1036801332, 1274007698, 1889134538, 541067264, 2118521623, 2035583609, 2082401068, 346143042, 619988021, 1908714474, 2022756374, 973590819, 1492174329, 1075865783, 1127372477, 680681416, 1359681612, 596500925, 94635414, 1265913114, 1927603604, 149636427, 585160126, 2075872210, 1977238188, 668362533, 164493675, 125683216, 1193270978, 789152978, 303918753, 689068948, 306920014, 629559966, 2128206392, 599675288, 2060665772, 1823996640, 2044993075, 1953055955, 768513837, 1683891401, 458515868, 446181002, 1197508688, 808465552, 78484562, 1827452883, 2029499730, 1212978049, 427373006, 640822094, 1820527470, 505297679, 351398609, 1509303680, 2088076964, 1406991482, 1970864537, 884338262, 665774999, 1399902219, 1154395695, 264780430, 436765649, 1070638661, 2108216291, 915798943, 143491110, 152334234, 125506212, 1103441530, 591801621, 737939769, 1766000922, 411310875, 251463131, 597302789, 753789391, 448412580, 1913358282, 488576998, 1348491578, 2053066115, 426120899, 373718090, 1821373830, 965204521, 630632412, 1580653138, 834007700, 1717893716, 47859724, 2141440337, 1196458369, 1948778531, 1591029309, 1170514827, 183115361, 546470346, 208826269, 1636757860, 1625500485, 638589271, 1617731931, 1079585542, 2127056635, 362966716, 543989509, 976932862, 818558885, 1790865006, 111725853, 1228432620, 2079007757, 1456858041, 1797892530, 2066668362, 1582087691, 9143783, 1982220219, 713044192, 1787834560, 2038547216, 1920942659, 67621736, 104930159, 1780838645, 1667589338, 1150683136, 1032850019, 1689472046, 1323348875, 1567312766, 153415787, 1215304860, 803316446, 285274066, 1570839113, 19758394, 1912412824, 184677327, 1860181230, 88775388, 550714670, 1728536767, 625602871, 44955740, 440890948, 1083130848, 605756476, 1192964650, 719540535, 1662805962, 501343898, 300502693, 2015308872, 1781393711, 847420345, 1360621581, 1756588978, 1924045156, 1230654987, 208553260, 376589638, 2011380948, 1708970071, 354507020, 511208981, 867684870, 410642807, 1722330630, 1849479417, 164410363, 2133487140, 667983112, 340859767, 1549913535, 1921500907, 1644683135, 1896672008, 476342075, 258807673, 924670173, 1557309084, 1557098489, 1001905113, 868928577, 1836592910, 1704402447, 256815073, 788221295, 1033265491, 59159127, 315260505, 238357254, 1239590945, 356083080, 544727674, 253229188, 2093401843, 72429735, 499561541, 976421058, 1206300611, 2139814502, 2028342767, 1177358848, 750548500, 1991086498, 1821282139, 1535870925, 1113728869, 1795583164, 323278592, 28871346, 1852037877, 879938516, 1676091060, 458309422, 2088087374, 2110664129, 128324774, 2119417594, 1042213528, 136336373, 2013501224, 3243546, 1270103041, 1991432781, 708268353, 1128732056, 1006306838, 1871897019, 222869771, 1085134465, 1264733852, 473163474, 962035818, 1825926925, 1202810365, 160712496, 98517772, 1892277589, 102142765, 1029928389, 740620383, 1586760968, 768336438, 1644720519, 402248571, 742570016, 1275120044, 1742642343, 1393409247, 1787638584, 1875564231, 1160411208, 1458966536, 445063598, 1073890226, 539463708, 1626274873, 1434483621, 1072615782, 2017116052, 363000849, 2114162361, 1507286062, 109510861, 413313215, 470745074, 2046164128, 589389279, 1800829178, 1328681889, 847624634, 995696267, 1967243042, 667417166, 1496233537, 1501920089, 2000768277, 1557156707, 1331654871, 1712860501, 793761379, 70416827, 1314857295, 1426533106, 939562049, 1299721316, 2061015731, 636414291, 243329499, 1979345797, 853569563, 901705983, 1335015800, 699367992, 1042507577, 764068031, 1424979958, 174877018, 1396288288, 657851890, 1193452255, 325535499, 35212193, 2053802647, 1548285620, 954210701, 746320316, 2125545729, 1009219193, 476429262, 880120594, 364922262, 1262672684, 1089697481, 1605452935, 972146008, 1843958373, 1077521579, 57514312, 835803994, 456065102, 2103906546, 430490146, 763144205, 934640075, 1577278555, 1195612331, 338495177, 571568451, 4421407, 740427119, 564918505, 2056497274, 898431804, 1769996093, 128509298, 619593787, 211793698, 1452683133, 1150740462, 574511563, 595786927, 2019336557, 1036493988, 1019370069, 675110951, 793085248, 922613412, 1315067351, 2039979646, 1237872484, 764030367, 1025296316, 552324777, 771714063, 1659550917, 1537804717, 533978480, 1604877974, 1081839007, 585012088, 1114543837, 1763628723, 1594010003, 1867627073, 352731932, 1788021706, 1295223290, 1812193986, 139209259, 1238157016, 432209190, 1606974300, 1414722008, 1030077433, 1589239727, 408085731, 1411028540, 45628600, 2057822222, 2006589643, 135631106, 823198726, 1330864948, 1169589077, 390770981, 542959294, 1534174164, 1212344959, 1783408937, 327438924, 490328324, 1265240680, 109248007, 1928271569, 980815631, 1870639538, 1014672151, 1782188212, 254461988, 1976932519, 1965823859, 1695752727, 1178797274, 347770938, 2095325042, 856663329, 884775581, 2029082020, 634883061, 1364951864, 1695589147, 1335419700, 275888642, 253245831, 469991587, 1848036743, 791228566, 1670877023, 1256091633, 313539235, 1838367604, 1581763533, 1655370451, 766216771, 1081366091, 1307883373, 1953663766, 1610657728, 1974245914, 939896484, 1766011353, 666483550, 1581873161, 1480879213, 617942942, 1587231890, 806804798, 1708090573, 1105436131, 1249066628, 1417143310, 449072436, 756289183, 321053182, 419375569, 1491138935, 981637897, 81783210, 847625117, 1417615146, 1930644283, 1172784870, 451097278, 922203855, 1887767565, 1261578912, 196939691, 697313186, 2098988231, 1201072480, 2070305257, 748199429, 283743744, 1809440789, 716487184, 1307982143, 621908931, 39837488, 153826497, 1685363107, 925244559, 434026075, 303086574, 465515762, 100240620, 30086132, 120581755, 1541779006, 1292846770, 2119215809, 797858633, 1532183553, 1239431152, 521761259, 1430807947, 1595451958, 234813458, 474117335, 1270151478, 2091381016, 261459977, 1820940825, 1342902678, 1295516207, 948667211, 1232626760, 1950468364, 1380579179, 1156329282, 1097671398, 563931336, 45219559, 813738754, 962336682, 274837817, 1360593060, 1918616765, 150360224, 1573665740, 1713952215, 542359838, 1414605677, 275561704, 733739315, 736234253, 2117574890, 1351535348, 1690321770, 1009314234, 862477121, 1592622121, 1752184384, 326734487, 389645554, 991606778, 841602211, 225597708, 50505900, 974810385, 343752275, 873094016, 805832728, 1495363687, 1744011134, 1113886711, 450276284, 1928146685, 51037982, 889605029, 9962526, 1602040473, 2048974139, 1489650266, 1200759170, 281094013, 1284514188, 691466171, 1144978640, 1003154538, 740611057, 945222522, 1652848596, 58831773, 1294912527, 1767701481, 1722999998, 429354222, 1139056842, 1517648675, 504894927, 595027489, 1806978703, 346530280, 180482095, 1688399050, 527905833, 143076311, 1419065176, 1273782640, 1291417231, 1904159837, 971691164, 1613707609, 2094512184, 1433511372, 899155565, 1686658533, 1383264498, 400858607, 915889527, 2047127281, 526747054, 1873498488, 1928753437, 501641386, 1313557657, 116913335, 1145166396, 1241748551, 1990619298, 930338958, 279012820, 1614994700, 277941502, 1387229054, 211565959, 1563059547, 1160835098, 1353212752, 1866944924, 269620631, 1817409612, 480495401, 433587381, 2024739754, 1477000283, 1123135960, 747580516, 1757039645, 1271024017, 1379383622, 949031855, 254816974, 1210226584, 1032609441, 717237164, 1243677207, 965915022, 888716810, 2026145846, 453085796, 1930114049, 444698336, 831594701, 1473256199, 660704677, 76305008, 1708373918, 866043809, 1031460963, 979770868, 928357905, 1412620306, 1696553973, 617845940, 1871304762, 767539786, 1545816816, 282387331, 1257187368, 595723137, 1148323020, 116806612, 838359388, 80596110, 104824793, 633496, 2142050955, 786992354, 1154993269, 185344476, 2018568607, 795842672, 569794818, 578147651, 430809455, 1848226503, 566217149, 1688623485, 830392545, 1285903994, 108913357, 429405027, 875506838, 1149283757, 1136022041, 1556496402, 931617775, 1225255699, 1261976494, 643544240, 1240448582, 489673422, 1743468247, 546077986, 620206209, 1973972541, 1727104718, 841186579, 1387130481, 2039975712, 73349241, 1217739364, 301514691, 1315268972, 1696460709, 525818735, 1828903743, 314774168, 1877838753, 565820086, 588297342, 781466842, 36959690, 711012293, 890539945, 2122548853, 1702420809, 79098334, 834077811, 734401795, 395211878, 1746774413, 64533769, 2052981903, 1407649237, 1610604453, 1711888811, 1157516428, 1062565464, 34465995, 904554405, 179644349, 2146191016, 80585089, 1610686256, 946890254, 1623747700, 1305832964, 1853634465, 69414366, 1422434813, 1829206913, 849201982, 722676206, 539362787, 118684001, 1354269912, 1469403785, 363960093, 557590607, 1209234879, 1408045210, 322672219, 1198718279, 96649145, 258081314, 966069968, 1366410793, 778175028, 477403522, 1872131155, 520767933, 1861909522, 1399300699, 1859510995, 391406083, 1108988952, 1210471577, 1384255955, 1231548894, 39866966, 1641417498, 1105664761, 823263183, 1659655979, 709340671, 1065148144, 307757486, 603785097, 444359382, 36940843, 1138310973, 500179695, 1601160179, 575096206, 989552193, 961816252, 1535083324, 984865464, 1269999568, 1811481533, 1892948209, 1598602936, 660341843, 1256916534, 741979091, 675798204, 368400948, 510922023, 1983629486, 804204323, 971482475, 1972080790, 954560364, 1483223438, 1924689456, 774708786, 214940398, 1209049514, 416999829, 1399109411, 1687890947, 511672710, 420555257, 596671095, 723848796, 914030193, 1145688366, 735415567, 973614191, 1571879999, 420859986, 1376964617, 126367510, 1789603810, 890675181, 2029140702, 1894598513, 221871065, 249018248, 244666140, 114544951, 1023093432, 1604023845, 166712584, 525435875, 1619946529, 901395111, 1266445822, 1153207284, 217471989, 1880173891, 830683128, 1798171789, 432160023, 1247264840, 165067728, 899010906, 1471731823, 1838411538, 1829722691, 669436712, 748414176, 2051615309, 1601127575, 505070064, 2006195642, 7208422, 2018370685, 675839917, 2135325835, 182356907, 1713871837, 1858552916, 1200533709, 1643331547, 46031152, 154476336, 1861899599, 1236640617, 1815556363, 1435441789, 1839580846, 1124784849, 1264871986, 763784950, 934620968, 705938586, 789384189, 487646731, 1287330220, 1542613485, 1275792702, 1640309768, 1247317192, 1937586021, 195563216, 1978615145, 852947855, 1836409201, 626019189, 2128120940, 1169382965, 1239581899, 1608651713, 785564132, 423085943, 1166394602, 917108575, 508458419, 1514775332, 1632429215, 1063240852, 1756679176, 925075216, 1878853980, 441135918, 1823730491, 1019549878, 1601267297, 831244648, 2009620574, 837759112, 1316625757, 439525046, 404980394, 1590824109, 1255398742, 379397584, 485326830, 487299233, 1659117059, 1214836275, 552115604, 1752136767, 1018671765, 1712454069, 992865136, 1465028546, 1960818698, 186598813, 2108409499, 270329802, 1131549061, 1835964037, 839679847, 1753592773, 46634305, 1898459935, 282140646, 2068519204, 903217927, 1528803782, 1755347625, 1865252560, 1359210413, 1974471221, 1435002980, 1211032377, 1633677730, 1758397178, 809771166, 1072928516, 1689222041, 2071169093, 1837377831, 1497391171, 1114410470, 595245012, 326522472, 505866588, 441585040, 1341671545, 578413467, 1205379704, 1585004274, 2089134249, 1509902560, 90540196, 293290446, 1003988409, 1948669540, 330095396, 928168262, 1899896568, 1256451333, 312305196, 499047865, 1462892558, 1870498014, 723883199, 1933092262, 1362137662, 1642712003, 985909086, 1526803798, 815286385, 1749554293, 436254162, 1232878591, 1881824630, 594229551, 2074160597, 115145795, 1665981668, 577148214, 378900415, 1741653691, 1399045858, 356985541, 1654818545, 1181117236, 1890238813, 1685200430, 1123721012, 1507515117, 526251495, 1672910083, 1286848434, 168240999, 417236044, 245183285, 906599402, 207190017, 482813837, 1638970634, 827680413, 1516798850, 1033039467, 765087709, 1751550596, 228275034, 760503816, 1527626664, 1858097428, 1123552322, 1993292615, 1464032489, 1611342919, 286308597, 666666185, 748372786, 237829155, 726991727, 1197262408, 1866873037, 2062607143, 337483041, 1457843478, 1633728088, 2144771469, 1008813459, 2130028403, 1590490881, 1292148280, 1913669822, 1118439715, 1199726242, 593679548, 92081884, 1304464960, 868777781, 364546626, 1388547686, 101870893, 336143884, 1427159828, 1112422589, 299393314, 1378971307, 1011014158, 1521654591, 1236185788, 958165098, 1957774700, 203453997, 1742568713, 1757187789, 1093367775, 1962882614, 1930532149, 1897009474, 2065301328, 1560162451, 528666536, 437848540, 1195085983, 1493291301, 1222268039, 1469123838, 841707263, 1246883094, 911447360, 1685772503, 927732601, 508798513, 1891391348, 880611696, 2083098979, 1566488980, 1783828022, 2115541005, 1453767750, 1124505765, 593536323, 1770052312, 2144473417, 383417945, 723220035, 1236447154, 237512139, 266630048, 1969933615, 1722680468, 280538537, 634998601, 1117269480, 1148247941, 1362312164, 253884856, 799295028, 1862870864, 30341489, 1953807174, 12514317, 253374343, 2043560088, 10974060, 2119518526, 1803570213, 1571788024, 1125809272, 58665116, 1106771995, 946379217, 151641776, 1272096012, 1362660977, 1453183467, 711754004, 516690207, 1994933158, 452967525, 1397219079, 1287900585, 2033228680, 2056014221, 1529581747, 602846507, 613372108, 406137396, 1713864925, 75609973, 217042334, 1067102664, 543681260, 620894363, 1531595425, 1238248838, 540635532, 669337880, 234216878, 83563202, 1698267079, 760758222, 1889873824, 2054856210, 356187872, 267374411, 1098302756, 1327420542, 352012786, 763004257, 322123173, 866258354, 1080068679, 1849390451, 1337013592, 800598714, 1288732988, 336093694, 1747753055, 527174876, 725237457, 1674389937, 1681763396, 752476025, 578639034, 851641202, 1045893190, 238304554, 1990823852, 939177577, 340648878, 831268826, 316900209, 1090937239, 346536649, 1902584516, 392152666, 1909844413, 620316937, 190506601, 1811155328, 1648781359, 26402884, 625306425, 2138518568, 1477810235, 2071554565, 357617064, 1962213181, 341643123, 918396022, 701291203, 36538582, 2042046104, 1356431981, 1764992220, 460300277, 735781439, 50344008, 1996844422, 1299959095, 228080597, 247918109, 1984320066, 1725187415, 1654870742, 1559980667, 2003286667, 1105109440, 1567402458, 1268963744, 1799584284, 2142644288, 66269168, 1288590938, 1564354209, 346797481, 315310005, 848939662, 956772465, 1048985343, 515227330, 1330996133, 1796876485, 1459013860, 693190232, 2111950934, 533973778, 1196687136, 233224714, 751642208, 978345312, 115497359, 2093842416, 1681686202, 230479044, 1021422652, 1078049183, 1938397240, 1285943039, 1897244621, 1325615745, 779766908, 1227531652, 1397220422, 1545158190, 1553542876, 1664969569, 1491298013, 2076541639, 1299549881, 1349387974, 1902240113, 1644624050, 449427750, 1165330912, 167735549, 1006737045, 1940027738, 774827864, 78924578, 811557280, 1660346906, 150540965, 183879866, 223157827, 448151951, 2028444593, 638866943, 1051185729, 251449000, 1849620208, 1179859649, 1673542161, 2012364650, 353785031, 1813441911, 447916076, 420432147, 945335659, 1800336522, 587248395, 1968724826, 542977154, 711537698, 650436581, 1645565111, 1909837376, 484405424, 1181679029, 566155256, 389473888, 918511419, 1564718662, 1198456953, 2008238964, 630138782, 1904678161, 1433129388, 1001911821, 873060828, 527997606, 2013830470, 1667813827, 913450962, 824406733, 702589119, 1615934058, 1500080018, 172872144, 893083909, 739288342, 822863659, 1375125346, 642372107, 513591096, 712973697, 2075750860, 1040033417, 1687072632, 749974976, 861771429, 1707259191, 2062721587, 1817869045, 975765844, 985155258, 839616093, 1954422410, 1805239028, 501306084, 1877256767, 896882630, 1213287518, 599763736, 497815735, 52717817, 1504713675, 277627172, 1441382585, 24865558, 636777674, 1449682671, 303151282, 751242825, 1670641640, 1411700683, 716111305, 1715108485, 346092586, 1610785717, 1934958676, 458519744, 2031329445, 1797482649, 1582714598, 321378183, 1323564932, 1536177203, 1842153884, 2085554935, 1961482084, 1050492553, 1495558633, 1305141032, 1481174798, 1880493437, 1455873557, 1345098427, 1485077613, 622643966, 614604987, 1568026547, 1431558590, 869830830, 1048779403, 42615805, 160587496, 9990523, 871125349, 1345851629, 713972635, 1229366277, 2140336591, 1843821471, 960533392, 1547723376, 661641220, 164382411, 982980761, 2034616187, 670100259, 1037119660, 2142392739, 2088566824, 506317048, 1141658415, 585735228, 795522525, 304389067, 1952649859, 234068983, 158608633, 1922881684, 1747105296, 2329341, 540784535, 1370988766, 837102734, 798956130, 588044963, 1714144770, 855941104, 1602931978, 1231489753, 1220278398, 311657828, 1951933725, 839767565, 2078465158, 873860120, 1919322777, 973283446, 1447849300, 388683675, 330882348, 2135175760, 1923336525, 814293972, 372760463, 1055702445, 767254007, 183661558, 880056474, 406097865, 488036341, 603419741, 1698329530, 1493607840, 1439351368, 105691583, 993669482, 859887041, 39343524, 1270946974, 2131947817, 277731918, 1941935580, 668902470, 947538502, 601668996, 826327320, 1028057047, 949705145, 1789417611, 838400033, 114277893, 1924639326, 734223656, 1946029203, 323816256, 782663984, 1264231784, 824644579, 1938215049, 306457031, 1812825548, 534025510, 1689553275, 648275553, 1205595576, 1414494851, 1288715984, 874975200, 1568986377, 142342659, 145008495, 208293249, 1711781260, 1968120182, 577720509, 350160636, 1152944345, 275431339, 898337420, 543991513, 513327432, 1733780753, 1380049482, 310442741, 90299093, 1943620276, 1057466855, 1544909908, 987618987, 1808922464, 1299017362, 234768193, 326181630, 1481051407, 1379019324, 1491027245, 2040359765, 368518129, 803042263, 578331002, 1587726051, 186339239, 348458964, 2136917268, 1582409332, 1806368315, 1161432299, 1979450637, 2005340532, 1022868389, 379166037, 1035147463, 661448801, 1752502822, 175228599, 1256555378, 342784366, 1067264289, 1235820094, 738653367, 816833061, 946699959, 2026105967, 1751008412, 190086977, 81306411, 850675832, 599111183, 1120591878, 765060937, 1373943235, 1336541827, 359197970, 248844467, 551551895, 1864919552, 1503661740, 548731241, 839971473, 33542664, 1193414459, 290727513, 1329673824, 877624869, 247960845, 923458619, 732215732, 828202423, 53919079, 844430823, 1964232914, 1940228112, 884816139, 546217956, 1887738384, 1100501332, 860840472, 429789821, 684202764, 1638803607, 360792161, 12131156, 746293669, 100906938, 142822183, 743894605, 1358295976, 780169868, 734323503, 1541736442, 1032285774, 876086436, 586251022, 1092131999, 1520479081, 1969957129, 1735244697, 526230719, 1575595335, 1802945140, 29433833, 1863356018, 749866178, 2125882395, 254277716, 242240309, 69451912, 456338365, 189105594, 687837382, 656569470, 1421495885, 524737760, 768273546, 1740435725, 792818431, 1483361123, 658204737, 92165318, 781534812, 806823571, 1225042349, 1359127295, 1168384328, 1384089942, 890138985, 2033057886, 28054999, 554891539, 1705568104, 1444523155, 1953751786, 189685171, 573304619, 1734696929, 1736981472, 2075362092, 1023361035, 822865316, 243819067, 974766873, 1922758755, 2116050034, 1122901771, 2092916485, 1869061648, 182883288, 467856799, 978599860, 410603078, 1043815530, 1605326346, 1892034053, 1254440260, 1000996404, 565577463, 2080183079, 1568134399, 2066561943, 1736466231, 2137327355, 1757236984, 139249390, 1000685677, 1592928132, 2047298623, 1690672082, 668073263, 1163764487, 312066134, 1713647037, 352443768, 1356958345, 1086570840, 999952733, 2071101050, 2115279651, 384218120, 1560930803, 2000815060, 1803989662, 1312513649, 1252470288, 267664070, 2017216496, 1627313371, 1603615022, 1118267709, 1741085808, 1791618828, 620273029, 716656402, 1510185668, 311039743, 160335217, 1772526954, 539872450, 1484298077, 1171998318, 416040145, 592793940, 1463515625, 1669427145, 2143546050, 765833057, 1215710680, 1710231554, 604336898, 124475130, 543188332, 371024809, 1744063692, 429795245, 1113967455, 1441220887, 380492425, 2067359322, 932069071, 1046105684, 424908713, 59175173, 1318212260, 1085497472, 2013698775, 888466983, 1631184150, 7173645, 601467210, 1625940827, 738894489, 805940063, 696151830, 1191489024, 1652600149, 2096486101, 437649115, 349045477, 224922270, 1134588938, 455664907, 95021086, 1445869353, 91956988, 17406253, 1142462886, 481045940, 1194350842, 2057508417, 1585662109, 1963264238, 1846762388, 1697489953, 49614391, 1673201085, 315536132, 2135931671, 1277793628, 562163003, 1651773522, 1818728264, 966268765, 694611773, 422382919, 1259625295, 2869944, 1825575258, 929512673, 1593830548, 743843703, 1955049565, 911347372, 1113238303, 1003574842, 1241550124, 793682391, 1969476497, 359662270, 696211178, 805466725, 1739541124, 1773586674, 1200362706, 908919996, 1239107457, 1994438376, 837749332, 42855832, 833794484, 1509715704, 878221769, 1576075270, 680063781, 81220897, 1721915023, 534122257, 1329450685, 506786775, 1034368258, 1402129258, 946413038, 1022441708, 65420824, 1887757956, 1857838593, 965065629, 1394077556, 2123456549, 836325178, 170142936, 1666657570, 423030870, 1058516817, 1586645512, 1369502581, 1998959015, 1116828122, 862917537, 1748676883, 1077061602, 545371749, 614455914, 929719803, 989591659, 1326114262, 1003306583, 1818696972, 1304265985, 535875068, 1436315951, 1131464489, 688995223, 1063448984, 920637572, 1964956709, 721703236, 1447843962, 371949586, 1557898187, 1596337531, 1042535435, 1263356436, 581221389, 1112247117, 725289017, 1341194872, 37947997, 97221676, 813418068, 755184095, 1814673924, 1595825972, 1208572664, 2122831518, 544454690, 811138327, 1654852816, 417571314, 876218334, 2040893313, 981475752, 1087334372, 698130329, 1325974319, 1613398612, 942790873, 184681030, 1515753224, 1239840667, 846060989, 158276389, 1191906920, 1326100595, 1038106049, 257754507, 2125656198, 1178113496, 82138071, 1727950612, 311580884, 283357531, 1628190871, 1494931870, 985312034, 2115580246, 487755040, 1570143493, 1512069879, 2077768922, 1205613137, 1353281768, 1567552989, 219762448, 116973404, 1824686352, 744966422, 336871598, 2000298696, 1716399109, 1713546831, 1879238269, 1320381339, 1786856863, 720760192, 2539794, 1163119352, 603267323, 1325917454, 1838640674, 1436884996, 975868950, 2049420874, 1879136374, 878248984, 1184664650, 854285413, 430290283, 1908730611, 366380368, 537794611, 743102891, 104175997, 1886746394, 506704738, 1274837125, 1780610342, 18141555, 3057514, 821280166, 152838461, 704074539, 225988623, 639946656, 1044979992, 499792264, 1663104873, 2006046540, 1726697925, 2103245233, 83615236, 445288276, 1095125598, 970281148, 1770833068, 1411471296, 1152012968, 1525510468, 485332147, 952533294, 1554118721, 2105177412, 1945201672, 1048172794, 628386205, 174858938, 2111222965, 2032288839, 411956826, 633053769, 1563444500, 334795925, 1323825069, 1804953043, 1595760585, 1107787049, 1039602247, 1938166243, 1031276321, 1113814585, 496124175, 1457818368, 1347423379, 1273063483, 1012633969, 1723305425, 516659481, 2004817771, 527003260, 2140813173, 748647408, 1204144199, 1695005203, 1352181416, 186693606, 1553099767, 1859727470, 2068142472, 609677670, 606240766, 1958056927, 1037114790, 1027234383, 1626157951, 1337486785, 808772420, 1193359086, 1988241513, 1154946406, 1851605095, 380916903, 141024557, 1002231427, 1137172900, 243777115, 1755670659, 1113438478, 557361356, 1399354572, 599021332, 639779020, 699689046, 1468861041, 832525172, 1165744602, 1315760339, 1640917712, 680617025, 848452753, 598242395, 769801851, 504643176, 898061296, 2102637610, 543907293, 1256668398, 228007447, 2018037089, 493388578, 2061304825, 839472236, 1995459626, 723498334, 1084225233, 1496010646, 2072439586, 1910279549, 339012410, 1836200347, 1440486940, 2134436460, 2140203325, 461327861, 227821286, 949668311, 331870050, 1762076135, 322571836, 676842645, 313575446, 853200923, 1016524040, 1137577877, 747759839, 1098215024, 585720256, 1704454403, 976476687, 688331574, 2032821801, 757558626, 1344117030, 1674780683, 460721389, 1671324961, 2029523630, 1980664742, 399279015, 949344799, 1884374184, 288154406, 1535763125, 2026943434, 502624612, 818609512, 522613269, 459338151, 237214663, 1758339789, 466125891, 1237698844, 2047743083, 1991359158, 206719022, 1492111178, 976457585, 1039600536, 1461707761, 2050152524, 1528861681, 103568689, 2061989812, 1667691521, 1577626295, 1586542554, 416736053, 1232776906, 1249659849, 1656764210, 840140385, 1862497445, 665640723, 11023952, 1516380280, 619605753, 2145753612, 1555246358, 883798386, 625167060, 630295401, 1727440609, 1707905380, 940451954, 89402764, 868040048, 1065466506, 40955211, 111490006, 454075976, 173625256, 1737338290, 18989523, 1093985894, 471810159, 306045383, 1332585345, 420927345, 61395314, 1891598208, 827483590, 831789795, 1145885185, 1301330936, 563180462, 1409373085, 1604547085, 965402906, 577085616, 638066954, 1456364066, 1513763547, 1158015130, 1425478999, 967304030, 169293756, 997564331, 797646718, 330779443, 1686658748, 268357356, 1900699581, 691786438, 688227677, 2113841719, 462680374, 627847795, 832413978, 1959698005, 1996186623, 350188633, 422029221, 1719792476, 122659789, 572598620, 225086363, 145604389, 1649116703, 713187477, 1896269422, 1367391630, 1095225094, 1926677499, 1598887473, 1551129597, 1673708620, 600335019, 403144456, 1483652980, 447105877, 1781654843, 1749721343, 514189285, 690580966, 556457540, 1822208685, 1405538702, 207711994, 1258636627, 1679615458, 1352053818, 56228592, 1595804436, 2105777693, 1931780956, 548586643, 1367481651, 195068666, 680896152, 1726303717, 1180433416, 374122243, 1414377355, 1281644383, 1930667023, 1763040975, 21825977, 92591333, 593534129, 871674951, 1052464732, 293097337, 1375800808, 272851185, 670780993, 866770655, 1531073733, 1431658411, 1838912757, 896668673, 1491582468, 525908830, 984496859, 1353145554, 459842324, 1355501876, 84674204, 191002034, 407776271, 432856780, 321337072, 300370612, 480839564, 625429425, 662261286, 1881328618, 864924912, 479538965, 1842064474, 776177253, 1956062789, 206300232, 970975675, 1022168412, 2071440690, 1859664188, 1289641528, 976445692, 205358568, 1958287531, 1401986917, 1026800661, 1057407539, 736198048, 1133898453, 1289415034, 573768051, 2108537542, 1838807325, 1446384999, 277067374, 960158095, 2103111855, 1808949359, 2117530097, 224269062, 509384998, 1293224195, 497158872, 1201066115, 467296522, 194550177, 675552498, 1336883198, 1175509419, 1623331727, 1978305417, 485433721, 1501073759, 286580433, 288607516, 1678508536, 1928310704, 1153787536, 1946387739, 26057943, 892062571, 380961895, 1824492604, 345173482, 2124105102, 1378947267, 370015749, 1871586432, 1123532156, 730412159, 1191402462, 1386064666, 1372849585, 1928657813, 1011299792, 1787889202, 1125240393, 861681330, 285088742, 726762190, 1462118140, 181401019, 110831089, 577358629, 2017328862, 1368071614, 69646434, 278439429, 1224319220, 931914420, 1835378279, 534546137, 925962686, 110956250, 90697622, 1594625751, 1724474416, 37223435, 1028110555, 633076693, 1189559220, 709671248, 482211325, 726139217, 166923336, 386347309, 11479703, 1907578757, 1045574497, 313780724, 943160238, 1254498914, 1427056054, 1634347881, 1102282724, 444599594, 849521691, 832225222, 2012453550, 1511103277, 1457353626, 625106247, 1421669966, 559943867, 2009646947, 1146931353, 51855013, 1076935203, 679758938, 201724618, 1354330760, 646357149, 377255549, 1817494507, 1580602948, 1154600927, 1132646003, 473703867, 289375320, 1867207607, 1179599965, 933482555, 1063990931, 1418717498, 581320903, 457081408, 818747648, 872781588, 1654459130, 4099991, 273513307, 408291956, 705388781, 407475639, 301445088, 243789839, 488080306, 700613142, 1408090141, 1263703378, 835281372, 877480091, 1858706094, 578426008, 2005445981, 2053042052, 174075619, 623131603, 1173349439, 173653219, 2141610482, 7594390, 273841453, 1534353292, 116412263, 1086204257, 1155414876, 1900087935, 558946209, 163821757, 785511231, 558570246, 217464340, 702797596, 1388046460, 1900252784, 603831844, 1766832810, 1634474816, 1894063930, 2079418718, 1883852320, 1802986422, 775174112, 1145066510, 1558619697, 2138763055, 1796490999, 374463079, 260552007, 971569906, 1268173969, 1367811948, 2012992062, 1742953583, 1681180102, 794608893, 529113728, 475144568, 2122880437, 2110290206, 790205101, 1335250632, 244731048, 2059989020, 293025826, 1478691922, 996393884, 876654000, 359633005, 181649839, 1662470216, 730545744, 260457472, 618487797, 619592011, 1021288289, 320108716, 1733422615, 642727670, 820022014, 1367769661, 335992410, 1243570237, 821265668, 141986601, 1206861287, 844815658, 1919897298, 648186869, 36885433, 660466554, 257117734, 126621271, 1201605102, 882878335, 1934085519, 2097895474, 1537308278, 2050066566, 2065603608, 1366048894, 805906422, 889600474, 757239178, 1489238261, 1902567550, 2062424189, 1336938369, 2053698864, 728508295, 1624397998, 1189726219, 342903698, 2051246589, 1481555559, 798322862, 939379161, 2116738816, 50880534, 1080738098, 873967929, 200327182, 251460464, 1722224411, 1516091316, 2139608956, 401557431, 328340060, 1879083177, 790735111, 1836541691, 379174185, 963333734, 1257838754, 660844279, 1124636306, 1374093108, 23782007, 189224985, 207226080, 1533631715, 800392969, 1253229538, 1325069623, 1605445569, 704455233, 370224278, 1044433105, 1097381771, 597767084, 2126030818, 867213308, 644537510, 1289519050, 814559821, 1056111798, 563226748, 817459260, 1654188407, 233980261, 5992120, 1562992753, 1044776549, 283228403, 1041547549, 453113799, 1377839454, 1261699666, 569054424, 435146035, 1365642745, 1914695699, 253114766, 1268031112, 1117499606, 166326473, 1233591303, 323209084, 712125432, 1805792706, 1305300989, 1903370451, 310619733, 1970331130, 1248207600, 1744654778, 453928829, 1044353499, 1776336130, 1983606417, 82168956, 1083330900, 1866121263, 253001436, 742981954, 1799717894, 882293012, 621746456, 1957577790, 149382742, 1288455221, 1295390324, 1413754365, 554043237, 1407735178, 1641456184, 1869014118, 243882766, 210140877, 1977898910, 1672756336, 1074006654, 960775852, 571479052, 96293185, 2090245766, 1377305882, 2081663574, 646717896, 410280939, 1599296267, 809887072, 984900166, 1527638254, 1187185446, 1170129924, 350341962, 1074482696, 967823355, 1442897667, 1305853386, 1092590, 60324274, 1350909151, 1042380165, 1876492122, 1346883433, 1295799686, 403946076, 1320543052, 804089495, 943004497, 1802996779, 974597243, 191323807, 1840125147, 842538635, 2139347070, 672416739, 1987748928, 1453684015, 201828806, 273700087, 1652797643, 210882689, 1389939273, 2079916066, 588258790, 1860272319, 921862064, 1451520968, 852605202, 1505277035, 1585080342, 1298513326, 2121697902, 917947445, 1303737514, 1832464934, 371614020, 703864962, 2062850923, 7449451, 312291311, 485692385, 1937014493, 511938992, 37154396, 1716455619, 582416548, 207141022, 949165581, 300698945, 1805821603, 1600661451, 1585557359, 1343617557, 905137465, 1760465438, 892945031, 1919561387, 1333483285, 1143107552, 184753773, 1586495399, 1979092182, 1493520516, 2107788819, 1747339264, 1740743632, 1703765012, 22611583, 2026762785, 336597970, 563993565, 610820545, 2100692687, 1501926427, 1726152808, 1712699620, 778211671, 1616936694, 1234142145, 441642848, 201736723, 2058087145, 889556433, 544749390, 420272735, 643527371, 430032873, 153954792, 19324613, 660772367, 1099545457, 718596027, 1726369305, 1896967635, 841892626, 30897985, 759957986, 309726168, 1584109342, 731092740, 1834429085, 666293386, 515840527, 1471514698, 136303997, 141880596, 802534446, 487361840, 594169490, 1632828013, 1207103946, 424773095, 1664038193, 1697408740, 1201062457, 1077786672, 1854479110, 2081252687, 275473161, 541856133, 1345377844, 259802577, 231387491, 2114071921, 1743538940, 1858331849, 243199200, 1961506074, 202819887, 647002125, 720789459, 576647976, 1528651690, 351652723, 1767646350, 2035747413, 5090470, 2050568425, 860186527, 410152529, 915133112, 571767624, 1937494283, 440620633, 575665208, 627441353, 733783520, 1536597873, 355263338, 172288576, 1367233874, 706078929, 1351242525, 1057582872, 1540505874, 1031038829, 1828045278, 1298594588, 1355405666, 326976787, 1092104731, 1407640185, 537048910, 432601429, 814235829, 1202275494, 2033449345, 1781851522, 294841349, 425593406, 723943125, 1576238414, 427131463, 2075748346, 1351579411, 410343184, 493788350, 1139709402, 29544659, 850201738, 608630293, 1293130271, 82026300, 1448767162, 1551480433, 1901354986, 1230946180, 1702738994, 2058593218, 595286027, 638951975, 861542904, 2038046423, 505088707, 1947569917, 252965640, 125474852, 1564329735, 1816519670, 1662939181, 1558228521, 1294652052, 25443762, 1519268308, 1849327675, 591478398, 1231286305, 1928589253, 2002470049, 1403042287, 1021926212, 51356369, 293396468, 840721592, 886517846, 1678056609, 1574042752, 1754115904, 821247154, 820158229, 1431511924, 885262720, 645564447, 1919249833, 286792667, 1324056673, 1878475612, 830401968, 1594238855, 1609072260, 1005251859, 1707019216, 790248870, 2039304360, 405064649, 815811072, 1606970762, 1303055444, 880228461, 372785114, 1634650391, 1313605171, 1727022760, 212530274, 1737394753, 709733900, 1830809547, 1807641520, 375474539, 722280516, 589496894, 748240753, 132484079, 994599926, 822234887, 296292847, 526441585, 535709526, 1159543863, 47808970, 702209367, 1600974045, 1384351632, 1226140004, 824222008, 1586664322, 914329129, 173501075, 1337181309, 336311331, 1513983228, 1651576733, 2146015540, 387387106, 1275321810, 347560406, 194631750, 1652601584, 797931190, 360036623, 2099483861, 294348341, 2088817426, 1427102113, 1800060140, 906802686, 1058488977, 1623278694, 331181729, 453517331, 735159227, 1011628319, 298980424, 427363600, 1912377222, 1048246702, 2099167899, 1150401865, 745292769, 513897007, 178229433, 294955474, 2071934363, 1742154466, 131494576, 359116781, 2114854649, 1741665548, 1161444652, 1477080966, 1371643675, 1641030941, 1419776082, 1778942687, 1266054083, 1800270976, 1121197879, 1404403088, 1223450708, 208654139, 633696807, 40662365, 2015187884, 884749288, 1954299852, 1408963084, 1842750035, 1514471303, 218694273, 51532888, 2049243841, 1999619526, 1207739106, 570177553, 286652648, 1818852315, 1790848245, 369356019, 337655699, 1001401907, 1697994367, 827103421, 212473075, 608248622, 1051291045, 542983074, 876533924, 846545226, 419119150, 250794588, 1884438781, 490257153, 753676869, 357967877, 431329029, 871735956, 1682619801, 712433078, 314585393, 291157466, 277806423, 786355263, 425428540, 1246651148, 1392832873, 1703418120, 1257222675, 612670831, 2047669745, 311558543, 1909020193, 66482476, 2088440081, 1136065476, 906161937, 939414398, 49547005, 1111146184, 299682742, 788933798, 768197616, 197337874, 784133057, 1720694781, 883064200, 631972474, 1712737658, 1575736719, 72938729, 200367633, 951549417, 920180469, 2122281657, 642718183, 753671824, 1548653523, 1444959292, 337129299, 607980113, 627533459, 707926980, 252873764, 556767396, 1705753477, 526272261, 1472490616, 1100523524, 167647124, 33150306, 1664341242, 1850478023, 170668077, 8821871, 1780074872, 162726278, 1682872292, 966894711, 1385617346, 1819522899, 67981595, 1616444668, 2070095020, 114472715, 2088832252, 466217990, 2077170177, 1853852690, 162547205, 1195117700, 1997838160, 250605296, 1011025931, 930569626, 401900276, 2081001860, 171861023, 860868877, 1109012434, 270286318, 1396727696, 867068838, 688078346, 236443169, 1227381380, 494061475, 1558627224, 1831265574, 1826369743, 2007663219, 1019789442, 300540189, 1708024996, 1790151372, 2136534187, 162235084, 1520508091, 261005103, 697487416, 1201725024, 105826497, 2050637843, 1792291800, 1276860217, 1382644917, 1312861769, 72398799, 699478580, 1533213568, 1169956491, 280960164, 797726843, 1145587137, 795029108, 1601443752, 681593045, 554593979, 696310439, 133818141, 727298147, 1858545982, 910059140, 96847935, 451610167, 1700111575, 118316555, 511331241, 981415795, 1594953977, 937442178, 1105039843, 674563854, 1580707181, 340032398, 655113415, 2008377515, 1525116965, 151687841, 1616448800, 539821132, 432726557, 418793736, 1008825851, 1715080347, 100180749, 950736339, 1389326723, 801706565, 1528439088, 1244486336, 2106869673, 1010174946, 1281283578, 170783186, 887438526, 843009274, 1268129910, 619400573, 678622310, 1091984989, 1101456952, 927055199, 1099940194, 1285420465, 1600300195, 356504131, 737834308, 378546201, 1871120907, 1784687930, 71353046, 346280720, 218831175, 168521075, 559034777, 26298653, 1499421797, 1691103338, 830010254, 1911896261, 1688368660, 1951725482, 1592184853, 833580036, 1127904403, 245789600, 157377669, 868778060, 1155138460, 1207345895, 340437737, 1199656487, 1439091288, 460258945, 648853732, 270008849, 491085698, 154798674, 1862620623, 194085174, 1846048766, 1932095698, 2023664535, 2140976127, 1281215946, 874401184, 823533459, 2079700004, 1544269069, 336420120, 1055653292, 824372448, 1049307140, 514654675, 1378722407, 1372468605, 1859158197, 1877848850, 1614088215, 1766170394, 1733512520, 583821642, 1681606583, 1596120747, 1976971861, 785701250, 528682233, 713552603, 236863270, 1053025000, 1882928050, 978149275, 1357561133, 1626932003, 719446099, 1036067111, 1312485183, 1978294434, 975201554, 2053191151, 1586491322, 1925678782, 1509005443, 1323307590, 1805994046, 111643375, 149982664, 250052598, 1467696685, 799074639, 1764563309, 323818176, 2113058442, 225072715, 1819840687, 2038588202, 296201115, 950139531, 652883429, 1447174715, 25949665, 458483541, 1107199851, 810414517, 1353034546, 349201185, 1915126966, 1816301217, 1223917181, 2002898183, 954154176, 357107453, 2144817023, 97591566, 1408154887, 533336811, 2011543026, 1929825139, 1424982653, 2031094845, 569618793, 645468617, 590550704, 1541468998, 1178709204, 280072420, 850158023, 1512341326, 1929009348, 1649473140, 1271785022, 2075794556, 644369199, 1248263238, 420904711, 479638241, 543275389, 1416760229, 1176381835, 470428959, 1568109633, 1284895995, 687523427, 64596005, 1753255016, 1604769454, 2033026562, 1560786378, 162934393, 1414424346, 1278898069, 206233197, 1195715309, 1886730135, 678206968, 150391762, 2117479268, 1920740597, 1239705497, 757031312, 1655075396, 251194142, 914688412, 1715393976, 1723437040, 1061616252, 1777775304, 229028020, 790735, 1096981910, 2090753464, 1146463356, 127556837, 1192078934, 1022928401, 435342791, 1129574383, 575347179, 1145116576, 1841089498, 2088717015, 71570677, 2081354011, 1970592839, 1076161804, 338749217, 774161577, 1962906417, 883938780, 1631728069, 1236382300, 2047316478, 1792910332, 271050783, 2029961964, 277998057, 522160915, 1350462924, 745406650, 1337974059, 223441279, 173290259, 1718254546, 1478337275, 45129649, 1797519498, 265638011, 1050528034, 250630727, 1190922530, 1524524466, 2081124441, 179183838, 1767426901, 2007168657, 1512273038, 281132018, 25774503, 1524205321, 1583915975, 2011296980, 1365278667, 416909231, 1226128986, 1345661912, 1145499353, 652594551, 1232724873, 1458670250, 859922925, 1129428071, 1610820434, 1565456861, 1487049610, 443870898, 1103653968, 1258577823, 1082509877, 934893046, 1090596979, 1469983605, 2115659637, 923707823, 831946833, 1632551183, 1073067287, 544418366, 1653133849, 792552851, 1292867407, 1299250439, 141125868, 1236554802, 1241188447, 988662417, 644197060, 1050983215, 850848125, 1086530823, 336626829, 1875447657, 687146819, 1315476367, 1465985753, 959071288, 1350062877, 995503925, 479207791, 756396010, 1576812379, 727881708, 102240243, 2033102269, 1833120352, 224086418, 1182756, 256088493, 1765887703, 2117369680, 1138685048, 68892142, 808769677, 55500674, 1391338523, 1357198141, 250826579, 1956968543, 1649762164, 1538187109, 1841359961, 560198096, 323223972, 1597193442, 1326807796, 1828147259, 6273898, 839547351, 1821797248, 1838781318, 1296866792, 1927595537, 1559355474, 1183089190, 1504950444, 585791028, 99447, 571252866, 273894778, 1137897823, 397416986, 339171704, 772228545, 1548137029, 1781791238, 730228535, 1570018208, 454310267, 1865178280, 1697617803, 1240530682, 1051188286, 146418307, 419840745, 102735469, 1982817726, 1860014468, 2143134716, 1044512617, 1914693085, 1882285904, 1141535977, 1614786217, 327188571, 1614416095, 1414952552, 1756027917, 1419953134, 1150412720, 739494278, 1176381498, 100462325, 655510735, 1096796572, 829848640, 473523240, 778363951, 28100250, 285999343, 1526851960, 243736472, 1781535719, 516159774, 710644863, 523976018, 677429260, 1438469441, 477682045, 1946704709, 1264325880, 2065838355, 1601896593, 331480837, 307391244, 1248307560, 1483533176, 442454158, 780272432, 693780195, 1986528702, 131517055, 694702639, 2132189365, 65414597, 98514094, 1907299309, 274131643, 9342849, 1803278818, 505822088, 521738489, 2094832844, 866555000, 646222857, 659486185, 989127048, 1282889876, 697373103, 400431766, 133364168, 1733635569, 1640203837, 898739895, 1716801289, 1619390029, 1976150613, 671645960, 196208598, 1525256302, 826255206, 1431185996, 1372140861, 1964594069, 1235907592, 955823963, 309103800, 48223546, 312198195, 505164268, 20467999, 1263315322, 542448628, 1444331205, 1399479528, 1525001682, 534946786, 1419595978, 1733303410, 218744430, 1969642222, 716261375, 899003583, 1410556349, 1953135826, 463323411, 149034062, 827796199, 3443567, 533749938, 355775217, 943811639, 692479555, 908711646, 2026994115, 842137636, 1962434488, 2002147851, 1275632979, 1742643805, 1972478540, 2108132431, 1640153414, 1798318677, 1513792023, 729925199, 388169719, 1070730416, 1295565216, 899143368, 391231017, 737991902, 239365377, 57917847, 1356185855, 966055675, 2090401223, 963090899, 732726427, 707732782, 1487426678, 3862544, 1253806144, 1874272934, 156538940, 1050325926, 53137099, 1641987027, 328019699, 1684616166, 202922436, 1233599318, 1660239413, 540519519, 792835600, 488385047, 1838187722, 1703372888, 1018068056, 594317292, 2010079853, 1042889938, 74731622, 1832089377, 1775847497, 1835305209, 391571543, 1091824124, 1562281988, 1516443463, 1671763439, 319262347, 2079296803, 230791754, 2126450172, 1000689361, 1756546941, 1247949938, 1076911329, 686181204, 1090398857, 1837747491, 1686691986, 2034863553, 1880857465, 1464988950, 2020943187, 710441608, 1609848105, 1157606571, 1647282812, 348926219, 1444173161, 1025522559, 998066386, 1132852957, 1071793735, 662675277, 179993221, 1880896025, 624370845, 1731216835, 1369943954, 1657148918, 235805709, 1322584176, 409548808, 1587198924, 696218308, 489080967, 687968099, 234797498, 2031679829, 1452444379, 798135221, 903503150, 1369322215, 595134246, 978598395, 815955344, 2110743410, 1584168486, 713743396, 1776767028, 76593099, 1039719333, 475553264, 611326252, 1646768247, 1210371593, 930815441, 1604979146, 398882264, 548391576, 1424993222, 2100032393, 355655144, 446302301, 1690010786, 1901088342, 1573786693, 494785062, 589681617, 1952102354, 1759036826, 1434305202, 729326028, 1237833595, 1472869210, 997599792, 1104734029, 876104533, 1451206334, 445573185, 176724268, 1145470846, 1231450239, 1574339803, 1567345731, 1307970679, 749304728, 1851089468, 1835243349, 1148686679, 950689530, 368384809, 2107751186, 1196889865, 666402094, 867088920, 1597475043, 702175906, 711187618, 1456660399, 1424513207, 841040032, 794558801, 1620018615, 1812094007, 908377676, 1446701370, 1934666832, 2130414907, 772130044, 1225265836, 1353697836, 502330108, 602614777, 1083365724, 1461150078, 1188946920, 432366181, 1768031311, 1447895612, 570878809, 1241103918, 48208904, 308940933, 1032200855, 1208900420, 227193057, 2079159981, 348193640, 978484868, 1941734915, 1558524950, 1916166529, 408129987, 508611186, 466951453, 945275665, 132597708, 758225701, 1446754863, 97695234, 2025214210, 1508041521, 1038766975, 893475355, 1032288562, 132523345, 1846664577, 443443125, 489587182, 326556252, 1229698062, 1016470945, 1939469350, 1471938396, 756504226, 164439276, 757738699, 1540522064, 2026395986, 503452010, 1503097032, 2056378829, 1627412434, 1479279922, 1481545540, 2072381610, 195763206, 1393027799, 669079588, 136570707, 1764085902, 1551981442, 1158333394, 388365064, 700295434, 1819357254, 2093256210, 922961542, 432730077, 2142022360, 893270597, 1392122898, 2073767902, 216105944, 165649633, 1377526691, 1799906277, 1535211306, 1810906099, 1878456544, 46483614, 331397438, 798649321, 156060484, 37199273, 1049722017, 1570250610, 664703076, 1412827565, 1711860987, 1670524354, 1214596656, 1289046353, 541617650, 1545177065, 1959899998, 1990962249, 1544016143, 1089163840, 1444792583, 748254496, 212981000, 1767263659, 1489789315, 1890515731, 144330887, 1108561042, 1886155163, 1534134154, 1831174829, 497921828, 929622103, 1966652794, 1971090682, 559768211, 1252200388, 305008294, 1238273721, 1584566325, 1295924506, 1575708396, 1835136679, 1346129187, 1048223676, 1583647833, 703225026, 1453506083, 399551617, 1902890529, 746813748, 201350543, 1785618313, 1438747651, 896851081, 1415708177, 1185221059, 291374025, 160542924, 93941271, 562669744, 1918795855, 70521158, 1270600426, 723714023, 833888793, 1576455495, 819208458, 490122320, 1034613826, 619882135, 1826199321, 317998560, 1950980493, 1005523029, 827214651, 490362846, 458630790, 1125876954, 843718193, 1669301729, 406693692, 1007782378, 525806803, 907240160, 1667967213, 41763992, 1628712210, 455180919, 1879051161, 1047611635, 1501466170, 319903166, 2135027240, 1643604518, 174809357, 162735239, 1120788302, 1381634872, 1104593566, 1036402911, 543564451, 667068686, 547807874, 56988353, 1761301023, 1593040437, 1045619978, 450324532, 1769627374, 1112452527, 450372676, 662155874, 879029727, 1138349873, 1192590312, 836610998, 1679266652, 1434910981, 1201419547, 677333810, 686252247, 2085932010, 656145857, 110811013, 1994086108, 924236318, 249919083, 187813886, 1405732583, 1346144523, 239398989, 74781803, 169793533, 80909450, 639755035, 622486996, 5048004, 412835442, 1539254306, 705681661, 1663557739, 1326528046, 655065700, 1930003133, 925728328, 1793293103, 1051398954, 1801329629, 1151960276, 367447100, 1663602666, 981872, 2141524429, 937086745, 374186426, 27701836, 837711870, 1362436039, 133309446, 265068672, 1042672240, 1713548208, 1001308558, 148968158, 1440279021, 1796024079, 1377626977, 507501849, 1081097591, 78344757, 103826138, 1756703599, 1158134001, 495074046, 1812630491, 889271296, 1117261559, 462435586, 1011043571, 231371, 652520469, 1023818779, 1496692550, 229771737, 1370366057, 959640265, 1317358323, 1591900683, 1205961561, 634395827, 993736218, 1396570790, 15527184, 2146811770, 806808818, 1138160771, 1681160253, 1453710288, 1828626191, 159163656, 896197390, 368585358, 2059379106, 188144107, 960875945, 1048997039, 852814380, 1747463262, 2061073596, 119822671, 1131794128, 95876448, 1490660663, 1151853506, 1882514752, 763887478, 1969718133, 619922394, 1104758640, 264115619, 1169161035, 1431330223, 1609851365, 1582196546, 1515859666, 696508998, 965879392, 918630383, 182016438, 1983382817, 2091910903, 321845662, 857616300, 464349870, 1579454897, 171741906, 909463082, 215634296, 2133997381, 2062765639, 1284124646, 1252485665, 1753291488, 874273020, 1021181052, 1889632233, 2060658230, 611150975, 362288378, 1184496077, 1602327756, 945715099, 1115923615, 1113432040, 2118322, 246562325, 1905937769, 618626952, 170363957, 1254414690, 2051303334, 1978470211, 2114006644, 622862396, 1442580116, 1022838557, 1236685707, 2121852423, 553097349, 1186166144, 1300947535, 352929569, 938792098, 538253871, 1456280532, 1206835192, 222720006, 1318456513, 879648546, 1161319645, 106397943, 1440325151, 854423794, 558754105, 1466893529, 327365730, 950416758, 795808365, 261497566, 1061359678, 1291259742, 1948324448, 1469774013, 284695144, 785868312, 963898414, 1064019011, 2085254535, 147569592, 1053180782, 1481398643, 1796530640, 580400734, 400219777, 1023694161, 2044194079, 784728960, 208253558, 17172530, 1329827745, 1976074696, 589344412, 617813348, 11076031, 529463621, 1617483694, 779723797, 787036448, 1871732573, 365512942, 2083699021, 1953413290, 146356478, 1026190124, 657295225, 576818680, 877002977, 2146805448, 1557799031, 25486255, 739658201, 1568366235, 457583712, 1051343076, 274425830, 450839380, 1817867520, 1742196467, 1883230267, 2129535634, 705886228, 985709014, 1818454228, 267309544, 1447310792, 275927055, 404643883, 1591936801, 673092151, 129556931, 1112249245, 1806104206, 744226846, 926208652, 441112649, 1589461765, 1284383282, 854770597, 2043017617, 1091490444, 1026346890, 1635525163, 1587406753, 502506401, 2072119832, 1534668389, 349894729, 890218210, 1821589994, 898599588, 79302480, 1580262340, 506831789, 1225367931, 1308063550, 951537342, 1109626729, 889766985, 893427465, 1112274535, 1009173844, 2122493445, 1284123233, 1058572202, 246412570, 289510385, 2051253497, 997921169, 1484226226, 1889344357, 1614405673, 353998847, 558320000, 1306082741, 759925086, 16701850, 2054076447, 1663168308, 1971171856, 1468382177, 556744429, 1873123456, 710422202, 1499931519, 1592123812, 1279065440, 177760210, 375664538, 96924073, 1745128749, 3504345, 1921531091, 529989598, 1227908252, 2055636335, 1237251431, 799230021, 191083537, 1448169499, 54823697, 677540636, 1768311457, 1526350203, 191075252, 662249953, 540333514, 74153282, 1195380713, 1995628354, 1369110853, 1899788520, 1228308307, 2043726432, 543710074, 1666286311, 944411134, 899469657, 988881626, 2117089244, 1015872810, 1422143195, 1639960747, 297597850, 1582936002, 1648679326, 1917989303, 1567487891, 1207302882, 670254193, 1448882143, 766582783, 31407624, 1411009946, 489410155, 625679933, 931828377, 915121202, 305119314, 1706195918, 1917705268, 590572201, 556842354, 78889394, 1235514960, 1858767843, 1885170203, 1941576946, 196349123, 1063426410, 977802142, 785486761, 2147386121, 1862681527, 1038350142, 1730609082, 107174863, 313111447, 1851441319, 1144399656, 519715251, 293362377, 521032443, 259613291, 1684098817, 1927024587, 1904899701, 367164914, 976910331, 1082238756, 52369794, 204097932, 83000076, 915343599, 58915125, 478045463, 973902163, 581413726, 1377673437, 801196071, 117173686, 1343003496, 810186488, 1419053313, 1332743317, 798681613, 1674197353, 1578494730, 1090991203, 721686519, 868021027, 607157139, 664160188, 1888987242, 196781174, 199171553, 1278879898, 1433011988, 1705605037, 480930327, 342315280, 2005706628, 326393681, 289189900, 312365867, 1922298388, 1729691321, 877751853, 1424897881, 1371892672, 946372909, 1319459890, 127237711, 186823653, 510488213, 942301629, 98430285, 928872806, 1965109968, 1437500853, 856793766, 716380177, 1135458017, 1954327826, 1067001089, 1039109197, 203422913, 1830986664, 2040642127, 2000365354, 2078239628, 1255473394, 379284757, 977664981, 473375170, 1011769737, 1728753991, 2054053670, 1045037431, 184624967, 1996959212, 197047056, 791303974, 557150733, 10505394, 530412366, 2076113897, 534717338, 1113060753, 1837326431, 151882735, 1776844427, 1333432370, 279064838, 2033124800, 1569440481, 1962581630, 2056294324, 1401521037, 782068214, 1367828949, 311048468, 1161658341, 1809443642, 834454667, 424879024, 1953068647, 695657643, 1037845624, 4167863, 273065528, 1147608507, 666839388, 412318580, 1656885375, 1637971296, 502114631, 722465634, 1742699929, 86225793, 709821357, 1901011685, 933989705, 1697182599, 1644726194, 788949294, 428153075, 2002057696, 333634573, 535419548, 406585076, 1248205116, 801919770, 335367640, 1206369996, 1015655042, 976820276, 970098853, 1989878518, 32214878, 1487632283, 166054278, 586668065, 64965846, 1962836005, 421823594, 902585469, 226805631, 1216229959, 1614258076, 711589297, 404663131, 1292620084, 295008534, 1301714961, 24693548, 1059043554, 202550293, 1205078740, 158751232, 934102220, 505471528, 2069105516, 522957972, 1696442276, 394412034, 1100389750, 840124568, 161466449, 1286157694, 925961408, 715229219, 574350399, 1818035346, 1301986557, 1090948307, 1313767820, 694890505, 1350892449, 1982900376, 1617041981, 1735988819, 2142881690, 967397834, 1306583042, 412157542, 188133962, 630967231, 595035149, 90637164, 1144404890, 1734980798, 2066476487, 39596575, 1018655471, 1915628370, 1022621059, 240252005, 1138086625, 1714238830, 1025291706, 735805070, 325173082, 1820180426, 1509315997, 513864119, 242486173, 1657686612, 1882800992, 1892946342, 772457994, 810703852, 1215294308, 166785240, 1227115850, 1792238834, 550813946, 429747682, 1266185847, 1412758433, 705019675, 1680264806, 868484059, 1956531034, 1071955999, 2126419450, 1129667660, 2128170687, 1617807719, 542341187, 1235044030, 1582112111, 1226624127, 1985862012, 1827970088, 312992177, 565927505, 142569244, 35842022, 1317145143, 308082198, 419648411, 1000371237, 519488945, 1193120684, 1378462405, 1901879197, 1948599544, 1516305319, 1083407748, 676448993, 912400454, 1706252166, 1575873140, 1975038527, 2116776804, 1507218154, 1185599113, 1290671859, 1725437637, 1999173872, 1864808758, 1322081861, 923187567, 830316740, 243258360, 273047827, 1335509874, 709840233, 1263400405, 797508476, 1119595739, 121648242, 741807911, 40200165, 1814980560, 98234002, 1289125832, 1450147878, 911465706, 300633357, 1089287384, 1132891068, 821553082, 1865303954, 378594673, 1939397071, 183678268, 177723635, 1260724028, 1498941976, 1913187454, 1743288739, 1065528747, 963837255, 143724325, 2019940429, 1638989352, 1928319477, 1436751245, 1259393265, 130771698, 2036323585, 517530732, 1599359131, 2027999711, 658697876, 1255517691, 1771319508, 1764910388, 1435611434, 796391646, 906052042, 680594860, 1271786658, 1392988249, 2098781466, 861450158, 188782379, 1419371290, 1414333823, 117698786, 1685682986, 1801307936, 595963600, 1917839900, 1841370287, 910386984, 821270566, 2090800759, 1604902590, 1692459024, 138080891, 1096259572, 518255055, 1068815278, 1070455693, 543360071, 1543838114, 1620090236, 689311964, 852312515, 626756167, 1496846121, 1644942274, 368860602, 69925853, 1260194883, 2055598574, 1170771374, 939490366, 576551226, 725692192, 1880563228, 1682304991, 1507729818, 924545671, 1263560213, 4689796, 1886341419, 62268857, 1007344942, 1047718584, 2094615496, 41167229, 1158331060, 1764159634, 2077608246, 1924905719, 434447111, 1123333709, 1085490469, 742599946, 1187912034, 430650888, 2008897442, 1394967796, 1223557788, 1480896211, 2047904554, 245874728, 678499661, 1207553159, 1578353682, 2087449003, 1925825526, 450748394, 830217788, 451217776, 114773625, 1907320533, 825037341, 610848670, 885808221, 1731685681, 1875815043, 1891163847, 1634611486, 1546069270, 508974192, 112401131, 1823053083, 1432051030, 1622656221, 1037795793, 1349742997, 1163408950, 779744175, 1919431321, 736658007, 110119429, 1245358888, 708184935, 2128036948, 111129445, 1663939691, 271022302, 1235442964, 1480193235, 1422775832, 755208582, 1805748038, 678486920, 895253523, 1263300883, 1214486813, 430961086, 1337534152, 1263414355, 1672394530, 649440777, 1312572207, 967765121, 636773165, 1419053065, 391385726, 1675577754, 1223528642, 1288146560, 1557604049, 1539996830, 1989045309, 1354292252, 887709525, 240658750, 594387386, 1594181590, 662363957, 1805315940, 1217132790, 855613020, 175339128, 1064371324, 117346046, 604016906, 1252724241, 1101194996, 1261258649, 772784340, 2031697663, 2003182601, 1523130242, 2121203535, 1847539116, 1296230262, 1794792917, 870836837, 1291055821, 384966992, 719929550, 1517320690, 951128982, 1887632303, 580878104, 1291665386, 1910084666, 1579866243, 250343404, 1103244710, 1069854654, 1610847407, 411329179, 1910807576, 855408927, 2080887762, 403144270, 240763875, 567907071, 906782398, 458218392, 1937890743, 1841184611, 323483928, 1845689108, 1036329793, 1118949272, 1556841286, 41518427, 1426537774, 335456556, 692579339, 1849918801, 1806548842, 1990068812, 673825013, 1504930744, 312423109, 1110476173, 829108912, 832267520, 795735368, 1218240918, 1826364111, 1827477797, 775181119, 387775378, 1556762657, 818076357, 1946933884, 958909800, 1515657318, 1943328798, 741532405, 671467926, 1652009710, 934661581, 1934354528, 228494634, 2063643748, 1053844188, 793277166, 524136182, 1894014046, 773260689, 1515509155, 481548208, 355103096, 928344207, 1598185529, 1587400805, 1651338020, 1940378757, 1082301247, 1976156272, 581971939, 838923260, 1599655559, 1545998943, 1503858010, 875165559, 924643439, 163608093, 123742269, 271329764, 708377036, 1809386735, 1956696673, 1015524502, 1299778736, 106411602, 1167338313, 1820190237, 484836518, 815289031, 1073132643, 795969738, 2040668770, 1758426812, 499564980, 1361744364, 2043909987, 1331953715, 149002079, 993453809, 1586598225, 1149250719, 1029232850, 1423353539, 798952436, 126691939, 695781604, 1330300816, 499374626, 1081212586, 1857758655, 349178638, 1702432093, 1034937608, 663750865, 838733499, 721151731, 1990726390, 412378441, 438500953, 698998124, 1102786031, 1548907552, 246302958, 940376367, 1242395723, 1144593765, 2004036941, 1204255837, 1235549064, 1491769648, 794881235, 184020809, 1469199887, 559133155, 2055748119, 829747537, 2137104243, 1116539447, 1323763142, 1640990762, 228123189, 1342134907, 1015598222, 1468124482, 2127703541, 187145652, 81695760, 2059578753, 1201433245, 491768587, 795405415, 1052439930, 587071862, 1943533199, 1563746652, 624651710, 668183191, 1331365111, 1008056660, 2106576772, 202592818, 1378218121, 111010233, 2105284324, 362992579, 701102314, 1498138185, 788966892, 394814764, 201745597, 2126940955, 737337384, 1413168565, 1145909471, 676656446, 261300298, 1085821761, 1046564853, 1649930468, 297287147, 1177365140, 1253839289, 1945592755, 197097421, 312350392, 1813842957, 950437645, 976747429, 2097888136, 2103273305, 511964901, 1563844590, 291213951, 1623566073, 2086171153, 779452003, 268095173, 845045468, 119509224, 632333256, 1714090977, 203337193, 863868320, 608514340, 1055549634, 505047340, 1892314281, 1626831767, 1353037955, 1988805493, 1594568083, 590237307, 383195554, 1148064753, 1837237802, 1694452598, 1356554899, 2142281669, 131973552, 1822037085, 1150005515, 472321509, 1433555825, 493393129, 1194934487, 654686437, 368118881, 146041376, 1717582374, 1018167170, 914684865, 262024795, 1440885955, 1222939255, 1383190400, 1863061416, 1911043430, 764437698, 748952900, 5496385, 417249458, 193900944, 1361840259, 2086656043, 81244357, 126714491, 2131085408, 1946778527, 55499639, 1714360152, 1128840675, 1928946188, 208362325, 1051310968, 2087114870, 1861174194, 1764597112, 658696521, 640979028, 1358241279, 1129680332, 1459846063, 1631305534, 1956674747, 1038513381, 1084926336, 1116353897, 193343901, 228271592, 1359602069, 2077439015, 261905891, 315026175, 606866262, 2135924707, 94116414, 4994779, 1639149414, 108015270, 699240977, 16336298, 1767423275, 1422924648, 1257938765, 844425350, 1149312393, 1176712256, 1685289327, 1117977170, 391364912, 446872989, 2133764714, 1478608897, 1885493367, 765340365, 1549917659, 153039647, 1367760955, 974106118, 1009583866, 1435790523, 1760520982, 1065460637, 320661658, 2099015766, 1747222152, 281764005, 1263134833, 845202132, 208333816, 1570619813, 1206193971, 1082976008, 1136561525, 663341348, 454886926, 771147460, 1507397761, 392491610, 259280409, 1285033959, 211630542, 1348334393, 410932627, 2066056114, 705516895, 868640618, 2140371839, 1177879120, 1228553337, 275764071, 1126356347, 763511557, 1126360772, 440657404, 1231229038, 922334107, 1579998301, 26282194, 11207021, 719642954, 526342007, 1432859906, 599644350, 53552321, 1158253321, 1121775288, 1165601923, 2070149730, 1225758554, 1793599816, 772618616, 631130156, 1337916287, 287735628, 1371908680, 817934647, 413255827, 1230615044, 1748460547, 317605331, 1185319090, 1653122642, 1055525209, 212441712, 2053558386, 1515947174, 1211413809, 128378335, 159555011, 1701041724, 961181470, 1906613958, 1493288814, 1263954590, 590500729, 747155083, 2093302465, 481813474, 1934160696, 1622701582, 1896496315, 1838504391, 1496033718, 1810053394, 411009397, 701540614, 930658816, 1603576169, 751466079, 96714089, 1127884910, 766810814, 24935700, 1650003643, 345245528, 1843867138, 192482658, 105905671, 1394467278, 479201984, 734570943, 660759545, 1596824150, 1356707858, 368503777, 844142648, 131920093, 376337720, 563478835, 1928360489, 586118660, 855007661, 1470664404, 659357559, 316355790, 7403363, 356891652, 1208013902, 274616997, 241100897, 1822369060, 1388122660, 744756205, 298613314, 998359965, 651978392, 950161352, 724910763, 829663679, 773521910, 1846419196, 1424610951, 1174009443, 1275566855, 99941191, 282620329, 2032670215, 1534313121, 1310430389, 1244572499, 157486389, 1577307511, 26379191, 652008865, 923793864, 1692657067, 639442177, 1553444035, 1956553301, 1538027440, 1403975112, 2081572122, 817039274, 2031262789, 1495188973, 1115840217, 560721715, 594880984, 317407079, 1977505475, 1216221045, 354467406, 35411883, 1126123439, 520152998, 1514791918, 1533159404, 1282573262, 1468508632, 2089668844, 9635965, 1495953804, 1908728519, 357408353, 1665571089, 786182713, 1949915986, 627326578, 1209555058, 478716802, 1328874099, 553051894, 1823731295, 1335060647, 1286915392, 872173380, 803426962, 779777356, 915110669, 1308024940, 303484372, 900728414, 1680743081, 1861330538, 915861412, 1412262315, 2114699651, 1863237294, 688254974, 2016368015, 1368747114, 831515529, 41489960, 1048846675, 1505467949, 1358858984, 197313258, 173513040, 20142331, 901348465, 1877346142, 90448736, 225424452, 2029794237, 444551225, 626682471, 2043062491, 1409178401, 1254119032, 1836518540, 1510685549, 343337051, 1297280879, 937024957, 1127504263, 948184146, 1506495645, 2038038392, 839167281, 928823786, 613384351, 923658654, 412690530, 1307844721, 55127093, 1498310768, 1320744179, 784885866, 1059795212, 705922753, 759462096, 2065295305, 1549729281, 722730284, 13715414, 49186061, 581465876, 1430927881, 1175681178, 1244129815, 1194788369, 1023752522, 1262833994, 2066884954, 1373605278, 1234959970, 646749576, 886953026, 559298981, 50753678, 1567315367, 1358415640, 911509871, 2057543764, 646063016, 1543523779, 451634836, 667497461, 930071945, 1446620858, 1408705076, 1610820982, 701422667, 1454417824, 781603545, 1745229763, 1058797946, 1941344203, 1644379641, 305590216, 1149195848, 493135267, 1014957679, 1039923791, 1921110713, 2120784634, 1242779297, 1136937460, 1923526610, 601968131, 410341790, 1939311719, 1583244448, 353889096, 291905864, 356588908, 472161765, 1984389834, 193088331, 1716983805, 464077966, 2080404551, 625060910, 1277531560, 1856710539, 1582087948, 144720344, 1238026191, 1933418934, 1551848647, 1987961252, 873773813, 1728817012, 430400720, 1124875426, 1886352383, 80547839, 652297233, 986184270, 2045912549, 1718484290, 2007870676, 487782972, 2125181442, 804980396, 1469726348, 1694991837, 685104342, 1155025234, 1631248926, 170009723, 788413476, 949005351, 1414035634, 782053644, 1360774388, 1899701959, 2065288069, 857616007, 1404413782, 1792840473, 167510334, 1103301680, 749596379, 1949116720, 10110366, 963198683, 1490620765, 810339290, 339557363, 1638872128, 1429683936, 1253591346, 1809182343, 328701396, 1195042831, 905827639, 1330857636, 362179416, 1860733211, 833139712, 1563520772, 1322985694, 2080223443, 751677505, 697558791, 1344615880, 1709659, 1666897596, 2140206260, 873232260, 76563275, 2135426375, 9950599, 1902985821, 1089797639, 797017849, 1732634176, 1333540812, 1300517700, 623093413, 145231617, 1146725001, 197495712, 1467216138, 880491216, 1278967149, 1812340238, 1612298008, 648963860, 2097326479, 1034091245, 1188265582, 1946921423, 393233596, 556928819, 678628462, 1721964062, 1377801059, 1646223201, 1859997083, 1002019042, 974646214, 1157893594, 1392868770, 2106815323, 2027386259, 442149593, 587852742, 607468050, 820151781, 578534675, 62242269, 1813079843, 812648354, 1681308428, 1125288289, 960335886, 928562083, 964070676, 1702204408, 605595136, 1470058179, 1940703580, 981788877, 589688109, 1967626502, 1560558104, 450657657, 1887440892, 2115836329, 314164351, 1439753449, 285191523, 1778342230, 334319909, 2090886525, 1794114676, 1178139820, 6154482, 1649564939, 1769164493, 1037639808, 1075976957, 1885434291, 659798724, 224124962, 831673554, 923493744, 1772851654, 2145938353, 1147545899, 628271712, 456800751, 1632202023, 1353551474, 49132288, 524330395, 32320631, 831507847, 1102816226, 1835463475, 932777144, 2028766678, 623105092, 1050412325, 835313995, 439459418, 644992962, 294657263, 2081273948, 854253631, 1211696497, 728942734, 992113332, 909703841, 1208149352, 110270106, 248109837, 223860045, 2127347293, 2034499300, 541431352, 1766558659, 732797593, 2144171309, 1403592706, 357362740, 1893902937, 876729449, 1540358820, 1449469801, 1806642521, 479422234, 2063082027, 226646799, 1003136965, 444543082, 1921105131, 1281786640, 1496795641, 1921177854, 757060385, 748107101, 142351652, 535673993, 856253851, 588350623, 1222464474, 1339463586, 1927595536, 455840229, 1645563099, 2135255434, 1121491181, 192483532, 358072298, 919196448, 1495938003, 684072267, 20793721, 1085563293, 3763792, 973998919, 1563013753, 1368886772, 1399674784, 1725957657, 1416727432, 728794461, 550223671, 2003280641, 2079097829, 1001404286, 588261941, 113301174, 1807971118, 1782870953, 783569641, 893413654, 1154668599, 1619964865, 1366005397, 1757772401, 1637898798, 209667959, 493739705, 1289340436, 34161992, 264928422, 28516633, 1083211470, 111827303, 232552466, 176175716, 488695613, 1386025309, 1032629048, 1442902354, 193701078, 1344364577, 758334416, 932675383, 1281305510, 326434836, 474931119, 346204333, 1175407051, 1057014708, 1082940167, 252992279, 1911926271, 1835550723, 149043306, 1175397729, 534569948, 117556689, 440850867, 661789615, 2091145848, 1449645532, 1575870222, 995540470, 848429303, 343693495, 990550551, 26716375, 287314196, 1646288513, 801517909, 263569489, 1756652324, 313077782, 1330327847, 1072105391, 451287594, 71345616, 320574616, 426139845, 1820246315, 1523973676, 1363424948, 263249396, 951527687, 336309021, 1456856267, 519450317, 9146127, 904159864, 1153443231, 1821687136, 487838432, 1944213289, 1546667024, 1493786814, 53279055, 1909992185, 104366132, 1015607981, 1042910732, 707967957, 1581396897, 1306583078, 1484000716, 718942414, 1562307708, 637182464, 1754744692, 228970750, 2126440795, 2061931889, 457424694, 1742844624, 1372995677, 785482769, 1403488078, 1222589835, 365035938, 1351907446, 1452780204, 1847291850, 915331559, 216689314, 238813152, 638773265, 1517863905, 547201724, 350115516, 2100929287, 2147091167, 1133548999, 1406447888, 754341458, 1605807506, 1808113856, 1711371607, 1830055579, 1247142099, 1836448414, 973834324, 490642591, 409103418, 1514517264, 1761578519, 81339345, 8512834, 1584900348, 232983120, 1741865787, 473246495, 2101326296, 1639652549, 386262024, 184639653, 1162763373, 795994943, 1934223051, 1644786383, 746312536, 269076688, 2021122488, 1544085361, 361552107, 317001603, 575229128, 719923395, 1871763176, 2062206602, 911895624, 1427921674, 4735417, 1896196943, 566898143, 669429482, 234941431, 2105939000, 1745906341, 1704160713, 1373726936, 604960328, 1067479854, 1588546682, 183804463, 412009401, 1528852292, 807530159, 2017587179, 1136311499, 1859661538, 1846969492, 319142105, 1918788349, 2077002314, 118704181, 886494622, 1709850027, 354903074, 561182065, 1548833355, 1982162509, 475807027, 82874387, 714023583, 2002190077, 62712096, 388164542, 478808071, 1078725704, 1960416805, 1309534821, 277987739, 410159399, 1447592352, 1651810354, 1069245335, 967540481, 1746927810, 594096259, 2065041675, 669337088, 275987167, 1290679140, 536129408, 1981000939, 1786730207, 719570820, 334002526, 367355567, 496018726, 427644705, 1552513797, 1685079343, 500733331, 1154671381, 697761245, 1106295112, 595946173, 1673724170, 1868055239, 856593309, 1356423388, 398793440, 1653853364, 992802775, 1264303216, 1590878637, 1242889162, 502554353, 1690602345, 2049406590, 1797345774, 1195866968, 62209939, 1311036604, 1812975910, 1969308745, 855621724, 1625162224, 75821866, 763431171, 56882831, 1778893061, 1198987860, 225259874, 389829417, 212646006, 763758356, 1561715340, 1098228163, 2010423414, 491001415, 96155909, 1575416173, 1886581505, 1418365890, 990913256, 374042593, 783301168, 1541499242, 1850420957, 1927645182, 1118374882, 413546962, 997942331, 189179791, 1099461478, 1121138810, 433533574, 955307942, 770120410, 734495819, 1640202953, 348839053, 374360268, 463252969, 941199878, 1087968987, 723147422, 741282480, 1653678217, 1431384054, 1246361646, 1927120838, 1809565576, 1979468418, 2051829238, 489176823, 643292540, 1988185062, 821483087, 2007545475, 71360250, 85644506, 1451410883, 1379286520, 403246224, 1365786275, 1801426064, 92484766, 636413581, 579036704, 1770823196, 1693513887, 1144209094, 488762742, 1812503649, 1792676466, 1569525485, 939283003, 1759775670, 525660080, 1516997237, 1039039514, 1045037354, 1113296982, 1100228206, 1485891052, 1238026462, 338339749, 775470834, 826517075, 1727920346, 1132337505, 220276179, 194298263, 1494227718, 1853861627, 1033384746, 1971813442, 1811748611, 1586870745, 1808859533, 1307310953, 1481951328, 2026547230, 281605597, 789070673, 1155045246, 456506118, 796661385, 1443896074, 755909339, 1861905685, 2049057518, 402923759, 805066191, 1448625834, 653831154, 1601686046, 1205411693, 1597987193, 2026103431, 1407539133, 497848939, 806927683, 29115289, 1006362874, 1660550474, 867557043, 978257034, 297378110, 406484354, 296816005, 1031194991, 2002997806, 323065940, 1580517531, 1692636533, 1304844491, 1820004407, 1755277492, 46245561, 448866022, 1203461396, 1467429064, 1044311581, 1422052600, 482558763, 715430735, 325847675, 273618161, 1976890826, 794367402, 1364774251, 1727357005, 1464321167, 166075755, 1154056638, 1772173275, 491992816, 1407018239, 828128752, 270729163, 1931721107, 2124252123, 1051735209, 620671974, 2015986986, 914091668, 736966011, 687862425, 21796762, 1066701069, 1949162287, 559684776, 671615291, 829436413, 1008082988, 2203222, 421795156, 314581770, 869975545, 783534070, 1606217272, 2089349618, 322005828, 2133747929, 1021676947, 1356672027, 1930152393, 1762955775, 1651984931, 839682977, 455121600, 2054760860, 433829181, 725390063, 1201754314, 290981550, 369204862, 2076047959, 134903829, 1449884995, 489253013, 1337545393, 2012738328, 2061092848, 2087083287, 1051298522, 894298165, 407788001, 1782740161, 46076824, 609034533, 255195996, 965425372, 1599358818, 225111546, 1531627044, 972484037, 1941742931, 1851586877, 1282086707, 912351538, 1303478738, 209384639, 403725741, 682516611, 1893778860, 1425524657, 1005034326, 742257585, 960684358, 1638800374, 1813826390, 541660641, 560345336, 1147682105, 1497795005, 873368948, 264490202, 830386075, 1925395119, 870384316, 431244674, 816890490, 333798447, 542248455, 1950091534, 316727262, 459052761, 793243957, 694801032, 1387014683, 1048566290, 1827358384, 600777148, 1095204543, 1012189824, 1137569710, 1327620383, 698894754, 768271727, 195931368, 219269278, 1251870435, 139207306, 2146465119, 1700621727, 2084490039, 1812584728, 946557213, 1859417941, 109346452, 583831158, 1537644173, 888395406, 1916513092, 1189223280, 1605280264, 2115274923, 1349401970, 1999219909, 1375505744, 563609586, 371401201, 504575227, 1827181090, 466590053, 1871300682, 1698547945, 801239823, 1388821072, 775458962, 1691258782, 1102482615, 132668990, 1353413828, 1403038622, 350260588, 653635371, 1816264293, 1381728979, 1599553155, 2055322397, 77684308, 1858867287, 1293348636, 48470855, 899612199, 1524242607, 1466664525, 355327769, 1874454295, 46405220, 588516656, 11859166, 834212721, 1672276470, 1030028626, 1210543772, 171548677, 2003432195, 349593846, 801870486, 1860876982, 379071894, 1615828347, 1259204510, 1287042488, 1088766330, 994390735, 1266736004, 1537493116, 1309162522, 2047264348, 187640671, 1384505731, 1181807917, 449628359, 755880475, 1475326309, 2137617142, 44697735, 1372023983, 1030144132, 2098048704, 315934848, 1985857849, 1361526086, 1446527632, 300584241, 1174280597, 2066871193, 757186770, 196892011, 587266733, 345398308, 109355915, 2083102879, 1718715892, 2021846402, 647372173, 1724759581, 298367068, 921580134, 1944373596, 1652141967, 1266802132, 1151805769, 1149125097, 1748990251, 298163999, 1102857679, 156266066, 588344136, 282065610, 1373056410, 1907201778, 914191894, 1953123587, 64895839, 1747796468, 1369308785, 170041843, 1480489141, 431434570, 346097103, 1879602695, 294416607, 934195836, 340324866, 381964092, 299182751, 1776527419, 1111258063, 1646912067, 1141459605, 1944221592, 721024510, 1273681223, 48594824, 1430254763, 467141745, 1527338957, 1074843987, 17720865, 894479630, 1246606470, 468284589, 1025072988, 2070502784, 918860750, 1006780434, 2067599531, 581587831, 2127441660, 1680613891, 1576218730, 630138288, 81509822, 114490205, 987448066, 1368447829, 1076455128, 1929328581, 471775404, 1691640828, 698194845, 190171748, 1784476986, 936395625, 555424900, 2119605024, 164606720, 1828983658, 1319614288, 1468965888, 1118968268, 197073292, 242742940, 374279759, 1100353301, 1181667873, 1273830287, 1492682598, 1739519581, 1388635929, 2099145860, 1030219585, 1250384558, 1881342821, 1756293841, 1115085611, 332132200, 761465515, 1124102518, 57965266, 1211562061, 1018767968, 187995712, 1181596155, 582332268, 1311560345, 1422023051, 102280306, 1918521915, 82326754, 575477121, 197521235, 91300221, 1876519368, 804707056, 18232021, 540913595, 2080523073, 1114891912, 317495090, 1362313948, 1830061284, 379561820, 532716085, 2118975099, 190499407, 222042110, 86429855, 1102522127, 1866544389, 1022673743, 1160128001, 1512123731, 1265779231, 428519928, 1295484770, 190743784, 1560613803, 2016828125, 1619529266, 1820859475, 1636617469, 1782001564, 792564292, 1554424739, 1534963778, 71821904, 1209432867, 1345610137, 446117913, 796568976, 2112082311, 435307173, 1516769014, 1771465451, 1554204658, 2016935457, 1804738968, 508275445, 1918762230, 740344546, 2026702624, 1212890530, 658702382, 123085209, 923023144, 584006782, 1342341244, 1497098024, 1572501241, 644127878, 702954475, 361963910, 43413021, 2019315396, 1287572021, 1346779039, 538072824, 177850368, 333241385, 2064210250, 1420107243, 1403814848, 35128833, 484998692, 1746908916, 695785952, 1936118678, 1854995533, 704249638, 505766759, 1381799388, 898606253, 2024403077, 830692300, 2086971, 2049153147, 1115874284, 165848748, 1583741120, 406299102, 1596425430, 1387687994, 2134666955, 333514332, 1478426339, 1790321727, 757637782, 152024878, 96286641, 526503700, 2002107755, 1481432247, 1575207224, 946316037, 262546178, 1711165550, 1095179209, 499089640, 780802284, 785837951, 29921816, 1986286074, 400793861, 1646256094, 870865627, 1621885653, 159738282, 476084600, 1937468574, 573647445, 1847921897, 226829001, 1236388786, 1884200097, 74307770, 921749531, 2107310452, 162821654, 231856295, 1369459307, 2074105224, 1812659795, 1491254250, 1551128440, 511856473, 959219629, 1669061553, 665956018, 1844676581, 2092357072, 1039444377, 302333674, 1638259445, 1560318493, 1425775778, 1272097797, 1894869003, 570976350, 898777882, 2069623664, 39241306, 875675886, 584972921, 2136306091, 1454660081, 1277547421, 572804787, 2087555451, 1561134386, 2090690637, 2103709136, 522093670, 1765234984, 2092725148, 1312285770, 1489534986, 599596556, 844303111, 587081496, 1017867232, 2118674871, 1350131766, 136112930, 1181477582, 1795282240, 87962410, 1849719427, 1405211009, 757850539, 652846127, 1088051421, 491566832, 1444253165, 1458971722, 231204913, 1423431851, 247896302, 181636986, 163031019, 672963225, 1262177458, 1139982024, 1578558819, 1200581357, 800628512, 1566400634, 2088599758, 1811637697, 2127447580, 1845610117, 1772327375, 1551175974, 569950681, 1514523562, 296026190, 1555969442, 1044949117, 1442146191, 1926276345, 28320029, 1549872606, 2022102006, 170956291, 1928556307, 339868342, 1671972736, 883260262, 1207986061, 1355218581, 1812737601, 907232366, 1542153918, 1085851072, 783219934, 993963633, 229540398, 1670607421, 1575980876, 1303808633, 795810827, 549217301, 616928630, 2111051143, 1609507020, 266559083, 1149243692, 1191055552, 2084754171, 1840837052, 2100317526, 1811532936, 106551439, 1696230899, 178723162, 1844757356, 785052271, 187484467, 2106553147, 106404273, 927522310, 414790685, 752783531, 1361603652, 159335529, 1763681882, 550133859, 1609889398, 1157112663, 136747599, 666775789, 2006803079, 451510907, 1327791757, 668085623, 1943550590, 736019208, 67158306, 1938120036, 754064974, 1035956451, 825576491, 510789070, 256540394, 1346046696, 656461064, 1471886197, 318093952, 976339240, 450956022, 20757277, 502231882, 951241732, 176482520, 1845554808, 1080373057, 1842889438, 2006600840, 1722408180, 85912570, 437155960, 856802007, 192269177, 1671447373, 226363682, 1588418448, 444796198, 382860555, 1069434166, 2074049725, 1906206333, 1606180897, 339158820, 1571038752, 794860160, 848129444, 678558329, 2050440710, 467456668, 875213376, 1892423167, 835298246, 763021084, 2029538826, 1298528339, 1359734482, 611782379, 347871326, 1692325960, 474851130, 1433098316, 1447610830, 2049279199, 313786246, 2143236589, 831629699, 1953893061, 583084934, 1761770619, 806657534, 169070324, 1566790149, 1797439707, 805218510, 2094694652, 996558724, 1727320665, 1829941945, 260907393, 1376814336, 28989593, 1670370731, 398691848, 569391312, 1994936837, 1541461050, 762756292, 1678181135, 434870092, 797085369, 1989360264, 1654916159, 1938509146, 215829274, 500393120, 515790520, 1871934942, 817676817, 1186028507, 1849072839, 311561875, 182329222, 996676234, 3736520, 742066337, 1980001170, 439979817, 1682996859, 2122174156, 794509365, 767451536, 413869722, 678145346, 1551130274, 1429220329, 1038111088, 1035911979, 1739385742, 1199582799, 76011383, 819671094, 786639536, 2045967606, 1349987331, 147981695, 1121684062, 1622265619, 103759555, 406644222, 1290402615, 1966793542, 632541020, 658848496, 1782409085, 1878203667, 1184383164, 1681635305, 2049841564, 987714258, 452922680, 869218522, 533286964, 733259769, 1629816517, 404579926, 1117470991, 1824619933, 2130264524, 1932830428, 1033731241, 728314073, 2144388796, 998776948, 2133374243, 1223665405, 487854629, 2074242573, 1279723687, 1581121622, 1299318441, 1863739237, 1983805299, 867368940, 71962172, 612026414, 93867454, 727527583, 1807800149, 2060755733, 1284918569, 630358857, 1244065953, 327572131, 1189931889, 1366626006, 1388075483, 1652097061, 2143848334, 690813186, 1790538577, 1788247175, 171173128, 1498369397, 2076210115, 530602127, 807134078, 89989891, 57056675, 126507390, 377528050, 837666489, 2055750734, 304091644, 1801125469, 2136431493, 627200891, 1067781885, 1497043936, 1800414399, 1043397614, 1336357470, 1462474050, 1155532786, 1348454155, 1312584290, 1016506233, 316980212, 420871157, 42149085, 675984753, 103955386, 1621190207, 390174167, 1775359118, 659518474, 1344201829, 2064123413, 482073612, 1158968134, 913834374, 288423439, 380924401, 43839676, 1558951650, 1721864927, 1505933458, 221328466, 1813503974, 366096387, 1168643682, 888855041, 1983563737, 662858360, 1947567443, 1755448494, 1824625514, 1865747273, 2141287993, 879795837, 282996804, 43150264, 1053586518, 2034829992, 161212535, 540048383, 825305980, 610183757, 728798261, 2020075727, 1244049687, 1364402234, 1155320242, 1820662568, 598124655, 2087949992, 587335504, 267710870, 1696455793, 188566637, 1165458214, 75202387, 417356032, 1433177266, 564644790, 1251129943, 1373377677, 1159101257, 1259954180, 582911475, 918279862, 1816805080, 1702378317, 1962223686, 652565342, 237991491, 39454954, 1061070104, 1829345006, 992855000, 329338802, 1639558921, 194127628, 979017044, 360263886, 701860695, 1378502395, 687580897, 1746146598, 635320058, 1731151750, 1670797044, 493236184, 255971218, 822549489, 1898059023, 1621773911, 1817725879, 1189142670, 309006848, 1820967493, 771557850, 1039895716, 329698960, 242166400, 1790122267, 2090752994, 37857133, 594445720, 1082680948, 1546413612, 661549567, 1866438832, 1071937852, 1920276710, 1277601807, 627436648, 1310014241, 2075405307, 265324781, 1643190510, 296254765, 566369638, 953723017, 2009450524, 1633872663, 2006214420, 746769129, 2107175951, 1738599961, 1571255349, 1808986678, 1909059733, 486530030, 1693332426, 424484311, 2100806325, 459771172, 335891250, 136324391, 1750650213, 857811924, 884506722, 1922045144, 1604421592, 157222563, 2069787578, 1237007073, 1100095160, 211099231, 1840269432, 659623939, 703266589, 901901392, 722596147, 1689600912, 551806705, 1370727116, 1692038575, 688704824, 1734523451, 1401537530, 1135095674, 1647561956, 659183525, 606758670, 652076356, 1390832552, 393390246, 228925510, 1649098804, 1448402328, 1167307428, 317326302, 1077779786, 845645126, 1958341560, 491183714, 2143687792, 1104776955, 1177225877, 635021468, 120040998, 2114332313, 2088344498, 1792692340, 1746416036, 1875040630, 1424675783, 856673478, 1333777981, 633148274, 1023323964, 1972693271, 1252145605, 241488156, 934363162, 45789735, 1045886403, 1103297475, 1180152321, 1031719883, 447772918, 871996345, 864363271, 2034215296, 1561233552, 1811792481, 2076814574, 356484912, 826838425, 229788339, 1747470990, 221841072, 1681726174, 627742804, 553565480, 805135507, 1491325761, 1448237326, 1935797421, 753346622, 28715556, 2015379912, 1613864776, 1053240438, 1675655578, 1175428345, 1544576264, 1523527063, 311328969, 2146001153, 460159562, 1983112187, 1869493902, 2141407525, 1376011496, 375747290, 743356932, 1410284368, 1235273848, 19911409, 1805946536, 768111283, 1380206797, 1528153730, 605781471, 1276551357, 1088656881, 1129615304, 236558708, 2023667398, 409194178, 68341031, 197478294, 417319378, 1039878281, 1994879505, 1821158977, 336317571, 469056099, 2032406141, 1085435597, 1250470765, 1241990083, 1301927233, 44049075, 864871264, 922855701, 616277068, 1100775111, 1424223132, 421284830, 1757767533, 582287285, 969794915, 64299462, 2032537782, 257017680, 1884008546, 1735954279, 266086346, 1832848308, 851724356, 776339610, 820026044, 1095574074, 581944736, 1587614938, 170714313, 75720618, 1331091527, 881782075, 2126982682, 773606525, 1052419664, 641816550, 673653838, 2091941636, 1594116823, 1841230496, 1751071787, 516290650, 1801621439, 615252429, 170890231, 43869022, 1263934660, 2059180453, 852348529, 1292418215, 1844653527, 743181204, 656635108, 1479217532, 1491132810, 81799381, 203545442, 290091561, 1226039655, 1314642705, 1111863246, 1553915548, 1337502768, 1009740444, 1111584513, 1669374420, 1076701596, 25873397, 1736871105, 648389488, 1489953742, 108435728, 1490319661, 1658258179, 1653846831, 830310169, 1096859384, 499743361, 573644101, 1069848163, 551354857, 147333992, 116666484, 1309077557, 1010500943, 1775029697, 1300792195, 1029409397, 1865373067, 1893482800, 2126726302, 1768167440, 1098607273, 90716000, 1162236093, 2119249640, 1966392780, 2143220216, 1903929172, 2011865796, 1907762369, 309677693, 352771090, 1572040482, 1471489819, 1358950537, 1960365628, 1234790262, 887955045, 176771042, 50601184, 1079606904, 344243559, 1567582505, 691259819, 1290619339, 1393435473, 941343335, 2022465053, 2110858074, 1024772632, 1566620838, 2047533453, 1176488295, 463018877, 1953332262, 1437178404, 772448426, 1553931991, 201859153, 790848784, 762714365, 2129678635, 948603972, 660641117, 1758211122, 1793869822, 1743773424, 1779962458, 1140327450, 1793268395, 1996591453, 1846187514, 1176245152, 1505110963, 560780388, 512893819, 1189107814, 1908712192, 651801568, 1924580480, 1034118019, 1625419786, 2061190459, 1681413109, 764310710, 1600405825, 1406957968, 576828594, 1845444089, 2058057967, 1891540941, 1968712091, 409318047, 1916608739, 290611745, 1231467047, 1642318624, 49201752, 678529410, 1100064975, 222277523, 824023450, 1858118316, 260522984, 1219725629, 1875641126, 296347925, 1856928301, 1848770338, 1441942045, 1180091816, 255890035, 719716553, 313329222, 1431436365, 724427834, 857750594, 241666077, 1482874538, 1356328645, 295290600, 563080363, 753214569, 1475385697, 795048056, 960035173, 1606728720, 1839688073, 1405010764, 1267408167, 655960604, 306905193, 665569373, 1686210457, 796067628, 278106779, 1290237209, 1444239484, 1076943287, 849929880, 331673689, 1947485931, 1520836296, 2069956484, 739837678, 1199681231, 1565741963, 946209512, 1555909333, 1321975948, 1110531857, 874936234, 1059013588, 1365398776, 1986261743, 759406207, 1284625693, 1640854090, 516571006, 1690043604, 1900175744, 371974480, 1855594793, 1430678452, 1893123004, 1417195524, 260342209, 1597215172, 1910679244, 346089002, 129541764, 1584073048, 318807260, 2130297379, 1959792602, 2047737218, 242675644, 344349146, 264037394, 1089279369, 1943344386, 993158995, 730777413, 1195510615, 2004579800, 938408760, 1129986709, 1914614336, 1233516901, 1324226345, 565426969, 1009775500, 1171596175, 538071719, 564216139, 265802844, 619038925, 663289736, 1387347720, 693802363, 578773238, 96833121, 1769775348, 168281924, 197541259, 1421322118, 1248451416, 338980715, 1986668761, 827658273, 1610726469, 1003355831, 1368828103, 1600755635, 1151844933, 1111784402, 1297896973, 358057904, 1857296777, 1146078449, 175689752, 1422503273, 8178153, 236799563, 1579463624, 1232611873, 21431952, 1397090180, 3178022, 311584151, 1990103280, 406934009, 1725347013, 1052084488, 661999475, 1163969068, 51045310, 25905787, 1877835987, 1964398450, 2038359671, 448347818, 19866458, 269446947, 1791091782, 320573769, 2051597422, 546139837, 668872103, 1982405022, 3812219, 776212939, 1445977173, 1921694500, 650821213, 925934048, 10719192, 886852515, 521392689, 1482281862, 1237095110, 1259012592, 1685519718, 509819635, 113626045, 989099333, 1819975275, 1979355742, 1671244918, 1508652852, 1456655843, 1068274614, 1190711729, 1278457202, 581009044, 2140657291, 320318312, 1535997147, 1078155192, 314334120, 1940984868, 701752469, 345657636, 987495702, 168463736, 1704060577, 689693648, 407464397, 596089517, 317565430, 1828226433, 1497586980, 1673941182, 1279507974, 1116895946, 1580829173, 1064420949, 1228380671, 494018270, 466914046, 681168584, 1913335086, 1354026218, 64984330, 391461732, 1186488345, 443935284, 392273896, 1421722251, 1411384743, 79696455, 934576065, 598563229, 1088453526, 1385628888, 1866970332, 838470359, 163362477, 1624348807, 115454643, 1602688646, 2015114293, 1335949445, 403415768, 536706974, 1047917832, 891985867, 1563039567, 1140843747, 959781531, 369055469, 500180923, 1655699782, 1740302409, 69137393, 252024350, 1510628114, 777598034, 1261014551, 224804481, 2067581249, 1724742306, 284844112, 1519191269, 573501909, 217766472, 397184951, 1391948174, 1147862770, 2140196391, 170853292, 828821321, 1355247326, 1877505289, 18493091, 1744746107, 1990185724, 473087634, 2098545902, 996779034, 547269745, 1564682070, 503626454, 534895085, 775964082, 2013946921, 1700172842, 2106657116, 21587056, 136533819, 846257227, 1679444866, 1043358445, 151089234, 2078453226, 2099680184, 1125032175, 1284692332, 363257777, 255567252, 1428466667, 998344058, 566306755, 243657193, 385238850, 996886154, 862965030, 1659802633, 1266442981, 1392520859, 1993339141, 1575288883, 188912078, 753027289, 376554789, 598274772, 1597454077, 1390362014, 1050497507, 816717101, 1574447195, 1391477076, 164239520, 1867855735, 879677975, 116271169, 713084668, 11033580, 412073784, 1801893779, 210612667, 2089893368, 1888215367, 133309232, 336007412, 1227841004, 1307346307, 1824508009, 516973055, 916794056, 304144404, 688814205, 1722189867, 1667685933, 559987772, 320435058, 687839093, 1133027952, 402619682, 109690664, 1160829032, 1136264281, 472550289, 1178798311, 84296152, 1398734690, 65417387, 1561981493, 95281399, 512316436, 54534291, 1922593418, 426636589, 1868859022, 1742626499, 2109721341, 2010049216, 481383594, 1938262396, 165630536, 803920937, 1063906339, 1823763901, 1464633632, 1492807772, 566171230, 1396222942, 704034733, 476145538, 1646546226, 1913964031, 67467872, 1777307181, 848246029, 405588531, 1401685174, 1103114211, 1539781572, 1113082710, 1663571795, 1062429485, 554800265, 733107568, 202044142, 1324505916, 1777775197, 264497390, 93375117, 1967622783, 1428611366, 256723981, 939556178, 1519880920, 678522015, 1042686800, 1422868554, 1889910510, 1253421036, 1306657245, 1002422167, 25343495, 156142274, 2106371707, 1085663165, 1417548392, 858038947, 931196984, 183304067, 1152527373, 195284948, 1980071309, 290143698, 1965981443, 1258837688, 1842849657, 1927351469, 1904578260, 229657388, 1644713272, 456369484, 69015572, 1397665405, 1311217358, 1883986339, 908804481, 1157383555, 1717350092, 85617647, 1704741322, 1920594103, 1151383333, 1595760802, 52426750, 1614495403, 453453174, 748460058, 168657433, 1659150844, 1013793033, 962115611, 1345893269, 1381179576, 301658166, 638202978, 1202091940, 201237302, 689178198, 1762977331, 1350248332, 371189947, 729791729, 1521832711, 193415278, 430709291, 330537413, 433088788, 1685903692, 1674113695, 1874629403, 1667885973, 1463071501, 635191458, 1832489451, 1255890779, 944694169, 20251258, 256783402, 1653251825, 58481243, 1587998552, 1353994868, 823606750, 1286407985, 103405151, 1321612294, 1499257870, 1180024915, 175300856, 1889800233, 358572720, 952787435, 1542601948, 303470553, 704935106, 1696358080, 1852315116, 1380144510, 1383177944, 372510496, 787429033, 643179706, 1198367439, 1897392740, 1477365789, 40211743, 786787520, 1399531218, 767384118, 1046548980, 429071515, 1046539258, 882160037, 387125738, 1936427926, 816169229, 1836245759, 596406488, 511864965, 392044661, 2088216688, 1792712909, 1049341651, 454278972, 1040113412, 778819178, 1997895037, 382644292, 1409695841, 1165656414, 2029765378, 1280580780, 550356197, 680795164, 1445119075, 2021200552, 51671636, 1293393295, 1481065954, 1775027014, 1949339073, 601359278, 756547401, 362949809, 749667430, 1035353598, 1571168401, 787328731, 1459209390, 462129110, 829932040, 1085780408, 1408137118, 844129163, 1290514978, 544489697, 485994159, 1709935186, 725259309, 1595651514, 1759946710, 1287946403, 392255475, 1647596608, 1575634783, 1631321563, 1379736513, 1157775464, 1836800761, 18222166, 255362528, 653113687, 100377591, 1127698579, 1079411322, 1174570410, 1128440903, 703057964, 1018289902, 49085209, 54499264, 1652269156, 1031097811, 1282368945, 999778144, 1943382350, 1734934499, 1197594009, 1707148776, 1354108398, 860889267, 451204718, 27975785, 20125244, 42777810, 1429208265, 481323161, 1158635249, 1499191075, 2107934768, 1715274063, 1694707848, 1077766041, 705601362, 2110625645, 1084239266, 1620865214, 1871655823, 178013225, 1199013508, 1497279821, 1558677413, 407157102, 726607718, 64640419, 1260070965, 1969658683, 116539347, 945516149, 453614616, 1360771875, 1167279551, 326084712, 2118608038, 1146651602, 2070225503, 1315654700, 1396244905, 708920626, 759332481, 937639418, 246921958, 983626313, 200288058, 1479738019, 854230505, 2013801575, 1432000208, 306316236, 678282576, 696382478, 718908050, 630667254, 1711603540, 2035357410, 799206358, 1110988622, 1391613054, 687873652, 354292834, 1487583172, 1473656422, 1355762292, 1144041878, 1910890591, 1816058876, 374489546, 1220942222, 1331408303, 638973535, 678899991, 1867141404, 406022523, 1419324803, 1390499044, 683516352, 259389801, 526466188, 1833016887, 282322542, 1781038634, 2125970394, 1429288778, 2110800162, 1215755265, 939593462, 1343082627, 2094984269, 664988761, 2123764849, 1637066350, 1640740801, 138490306, 590700799, 395957810, 1418743477, 2044666955, 1018404462, 688220813, 1760023008, 902761484, 2009234097, 1386260506, 1781614540, 1161131478, 1589571399, 1288532573, 79136961, 914537123, 1671178245, 1773952834, 261903327, 1285384741, 978995794, 1182732876, 1387258273, 1504033556, 505019400, 1099088960, 1738745228, 561069508, 1490060723, 1654334542, 1444804165, 1986638789, 1811866227, 871785632, 1090873452, 638585200, 1742959060, 467710662, 1855712760, 1502387874, 2055552036, 702233922, 1469157174, 1231041473, 1001754483, 44302968, 2059480547, 2145528630, 1072825438, 1458612227, 967281242, 297397066, 3263147, 1817127702, 1568816459, 573580554, 2065066933, 1067140885, 1421033325, 343516931, 1116124681, 351791523, 412530075, 1090870690, 8773603, 1343125753, 1908338972, 1843302563, 291286188, 1661342498, 614019452, 386173067, 551461852, 2110060707, 38967203, 1403122895, 111169138, 1270611617, 2131850568, 723962444, 169609153, 1573138659, 1445925026, 884018497, 1036398026, 55546596, 699317507, 96134226, 1317153712, 959718862, 1735534552, 838284132, 1424915174, 1921337215, 614166000, 2082259992, 508945040, 1888494598, 1960112385, 65552131, 1852435493, 191355749, 1527499079, 1040945070, 1596547115, 487828909, 806019925, 1196742434, 1671413219, 1252174449, 32599102, 1505347130, 125213677, 455513436, 1074493583, 1914774352, 191118952, 385679421, 399112131, 1518830351, 817930560, 62108212, 1575871767, 824578277, 1438294349, 1480059683, 115018261, 1293531983, 1086293765, 1087620571, 1680220735, 1910275273, 1876880896, 1542196344, 1532647195, 1423239339, 140830337, 1581769068, 21275811, 773637680, 2004172816, 1882453025, 112158556, 449095758, 1494807425, 1314906365, 2119446151, 1952028915, 293346110, 454347301, 687475553, 620956722, 1672773912, 385653070, 744955163, 1199109685, 1346196152, 886828184, 880005035, 1120651461, 2007083573, 153697945, 1068341393, 1933910779, 695615598, 123563034, 1402731830, 1498166098, 1852051656, 2032278611, 832079598, 2057204327, 1576973926, 1245177312, 1933225797, 1090005244, 376510467, 1683129954, 1634638160, 1153364971, 1773477541, 6570234, 1913359099, 117400423, 1464429797, 342480918, 845759886, 2109710523, 2043722479, 2034717293, 169581344, 1459006084, 1103298524, 1273958593, 1227893564, 682801684, 1563251362, 916920924, 174848193, 1097130527, 2037281886, 2023135385, 1475023794, 703685764, 1074644114, 865573056, 655991719, 67721485, 1077809385, 567111011, 1253875047, 1431709840, 826624946, 1854876884, 1801903223, 70447556, 320551123, 2112559291, 452536632, 231874034, 165464310, 1636965013, 632308467, 1321378158, 1201359708, 403249858, 40734009, 503452712, 929202455, 1669725408, 1534940736, 1227410741, 1719387631, 1401285056, 313040383, 1304408138, 1300535144, 299615485, 846424800, 1222752081, 1292858524, 2036177659, 160642804, 1745913243, 1041885794, 539506460, 1041788170, 1631863982, 898485858, 529786604, 420966939, 2089207629, 145219584, 439171317, 1015913332, 1014919604, 214523971, 1249290488, 706040012, 1226425566, 1094253918, 414102023, 1102648054, 564004134, 679758093, 1886729038, 1302760111, 678129243, 2072318964, 1173289160, 1831649336, 973665739, 881403876, 31764201, 1842919207, 347097439, 1854272076, 1248772746, 392863925, 1113862191, 550421084, 927255558, 1837068970, 99887890, 1393637914, 1389709911, 38927796, 1721714930, 1274272659, 1903491345, 556046182, 1386326129, 318993041, 474700575, 1767737496, 1344693644, 314687719, 1754474429, 1269723028, 1721802521, 1039145984, 1335361487, 1168747815, 1391911656, 508781815, 803521598, 918749566, 2098468052, 270770372, 1577743440, 806819620, 628112764, 1084958157, 422369298, 516518503, 790447782, 1570223342, 551864180, 2127402993, 409217719, 1958529464, 841276815, 1519550558, 146551692, 2124146043, 1635627226, 589022979, 718493194, 1274054994, 1303605370, 1643495542, 434218590, 1573214627, 1972929247, 498564505, 469794865, 948917789, 1438849709, 823342023, 1796580868, 1391197524, 591328124, 268580515, 719522458, 1393319080, 488359120, 1923059588, 715726683, 584990116, 1915438974, 1347739667, 1533210780, 1913519582, 1168030256, 1446415717, 28995389, 290946338, 2106990387, 191352819, 190719964, 1027317183, 1554231395, 278731242, 1850673461, 1495419471, 472213312, 190398466, 266466455, 665759738, 1220508048, 189973255, 769977907, 286556453, 1434014397, 49809601, 504579671, 996280122, 374388636, 1114600810, 458948889, 544857589, 1722976937, 2092989874, 1846081289, 664216522, 1960185716, 463196972, 1239968038, 1734152087, 2017934007, 143685078, 659828963, 1820711431, 496648567, 48268259, 1205074408, 29308114, 768833357, 1534972871, 1292345905, 707159156, 1616189910, 1965021727, 1647256376, 1385253894, 1780029114, 1442621126, 112659129, 1757247921, 427387815, 247531629, 1369759372, 1430114278, 2119908497, 56704837, 130663739, 1436789602, 1890963360, 1381452052, 1798720081, 1937780254, 1076821878, 1377318711, 719057008, 1066255996, 1650978831, 1049703830, 173171010, 2131724407, 1501973009, 1357237159, 161533639, 307589275, 1392387788, 1047953606, 854477696, 1235435489, 1188424987, 966573937, 705887314, 1107390058, 2082962452, 803373797, 1645012971, 1800208151, 2137990502, 873992103, 535996778, 207050580, 1125871616, 826984104, 748833921, 2015339110, 126981288, 974869267, 1115701086, 1724511885, 2147282649, 638761877, 1760556089, 1570174972, 1372993362, 1653230524, 436247560, 89761725, 1412825814, 44465645, 1861004094, 1072039588, 849660517, 251217906, 1928157075, 159242199, 1854092505, 966239776, 1955063827, 338122699, 232628082, 960353804, 1832784064, 1495962987, 1513893161, 1182155772, 1043276584, 1336712991, 518421265, 1906880105, 311701521, 393207419, 1788379898, 1492826216, 2098827391, 1332491230, 1835264031, 594783453, 957467330, 1773802566, 1625321713, 1596441786, 882982179, 1348816085, 1134087139, 1300003631, 1219770322, 25565262, 480035363, 179007930, 2097012712, 1744553728, 474275701, 493731935, 1878089257, 716293491, 1471985562, 595397557, 1258933608, 1556189427, 1999696268, 1157051451, 859687044, 1490258743, 397165310, 1801470300, 742082629, 1717280026, 1335171712, 2020899733, 1868822888, 1799121165, 1424208193, 1238997794, 53118038, 2140224447, 122828213, 757025591, 2046280931, 364574427, 1264492889, 1996805020, 693676414, 1226298220, 2024240181, 2024982209, 1425630675, 722673823, 1530001527, 534898237, 132508182, 290098419, 1401217837, 1501921402, 1364823237, 2066786291, 522407096, 565712181, 1596528120, 803628501, 142321503, 1618695459, 370816321, 570701830, 821868184, 1173911704, 17722728, 1601530886, 798656450, 883643128, 1595583804, 141237831, 789784239, 1400611544, 758674761, 1266227431, 412653770, 2053530351, 1115472281, 161192038, 1233325469, 1160200895, 709943435, 890947191, 389206433, 1811169036, 1760950351, 1953267903, 1878699033, 1007410337, 1386691571, 1625537142, 47466697, 947559136, 766125185, 1557016282, 475859619, 411079252, 685987377, 1559731089, 1505714160, 1467310886, 59119340, 57370605, 1047887141, 870198409, 482874016, 1298599661, 998375822, 1396462601, 1158040844, 367577471, 1677645090, 1713348452, 2111425594, 1635607716, 1677637851, 2005656737, 2033047172, 1010680451, 1255578936, 957161149, 712173966, 1572537356, 1095680027, 1585537306, 223908260, 2060046896, 1177683666, 1574910846, 769504233, 2063494358, 641039240, 926651392, 1071122273, 2014281614, 1258071038, 1652940645, 1557115678, 602397467, 1389367970, 1579118915, 1964350866, 491594388, 1541902865, 695896616, 394637409, 1472605261, 1049174485, 1217594249, 1542293306, 57637463, 634107888, 1892983577, 210503871, 1266067530, 1657769721, 1347185268, 1811157267, 323645355, 937657779, 382125958, 650523402, 2107223998, 964332046, 1100645135, 1359522142, 715317837, 1925498370, 883086932, 984041207, 688290335, 1493596823, 916822870, 1349536352, 101629914, 1383410686, 2115932027, 2007739136, 1102090990, 2026419086, 1074721620, 2086942957, 1950236489, 754652148, 550582065, 1772663769, 1287798437, 1574613450, 348120400, 68995913, 1271265944, 640032991, 2069141559, 978307420, 1517408203, 541159077, 885245348, 965245076, 132189907, 2073446541, 312988491, 342761853, 1866865747, 1910212755, 222953861, 766215998, 615089565, 170445981, 1700633167, 1242532126, 363288329, 1507558239, 220512512, 406152227, 1975589733, 187834112, 160051035, 1787627421, 1301083488, 1205969987, 249658687, 1871398289, 1173784081, 216664000, 321181398, 1769945894, 1254883555, 2049127608, 2015415457, 126952199, 1405462818, 34191532, 1450987909, 840206987, 557026360, 336302426, 1595895175, 1108101432, 1489698232, 1236069584, 763648429, 350146314, 2087247375, 987188689, 105152212, 2029995695, 616673701, 135948244, 620950534, 2118435312, 1725984158, 1241930331, 396905481, 2112973694, 280432658, 1834639222, 470161597, 2008469979, 1420727087, 806028776, 1654549373, 1418675842, 1585222865, 194437475, 1668342866, 1495778979, 1196933286, 1746723375, 907069328, 656101621, 1608696797, 913219663, 168101310, 2147326193, 12504885, 750820512, 410699072, 812904844, 1814340231, 1746578218, 897364240, 1642505114, 1249349792, 1157470814, 187382067, 587486640, 1125302229, 1537487725, 788178917, 2015593600, 842712207, 978525339, 1089808651, 96937416, 653675305, 1082138036, 1308011173, 1655908982, 490020262, 1108122884, 239009444, 1620222856, 18044461, 1842942902, 379941842, 2144048962, 1920799581, 753576007, 1680750697, 982442100, 587751548, 635409520, 293780056, 1249893188, 773823730, 841433631, 1838967924, 1655764432, 299171025, 545737724, 1684106322, 964511833, 1371786208, 834689305, 636649250, 348691615, 97215619, 1938172214, 1640975220, 1346073988, 1483862076, 395355188, 1525802989, 716432340, 502025117, 611619410, 442443289, 369243022, 63479489, 151147435, 828312995, 68250326, 59967239, 167674725, 396862150, 1564776701, 1567473380, 1883138366, 742750817, 1671739460, 420700826, 2135607606, 324239378, 1433242605, 1383789820, 910786729, 169534586, 882766843, 298010256, 1009109585, 1246388930, 368850831, 137858545, 1787166434, 1782556268, 2079318598, 1676193776, 648358888, 956322170, 2040301045, 124896307, 192778781, 206687757, 1560248955, 1215827219, 67684367, 1902028353, 1836874802, 80159802, 1998901321, 1355965701, 348309408, 1076691645, 1177041160, 1757284043, 13612091, 40280744, 1114536086, 1844330729, 2079071819, 1836307638, 1478728184, 455929876, 347565265, 2056024293, 759772515, 457665402, 143173360, 1460601291, 1051610399, 1894127516, 1171621563, 511453017, 1717196243, 1130854168, 277491012, 1941436681, 1956817664, 927747366, 952961149, 314638776, 1621560444, 1652611835, 2136338936, 1183888040, 473841547, 2095248964, 1349550037, 602752035, 1062273730, 686470229, 312832542, 1140838987, 972215893, 574124134, 717278464, 377855426, 513029740, 1089398744, 986358340, 679869196, 1604619749, 1905270253, 1344553943, 1687496810, 629031996, 87669430, 1911262471, 1530362364, 1100047915, 1241331072, 773991912, 263143540, 1762215179, 1937203113, 704965417, 1141663603, 431423386, 220116332, 899695328, 1584095313, 725331858, 185317212, 2024823397, 1808006111, 1040898884, 870835796, 1435436921, 783969333, 1884911805, 835431743, 1506982296, 1157476656, 177535063, 349338188, 1818005254, 860867578, 14301728, 1875956596, 1971640199, 956865957, 1486901709, 340275800, 1955628380, 1731787543, 261682665, 575125881, 826314465, 1616554654, 1817070444, 1904263930, 283810919, 1458012871, 1677571258, 357863145, 347603935, 195515259, 1137523701, 503095552, 1392999459, 851387549, 554454126, 1838526756, 584933172, 862322561, 1870050602, 578885382, 1817826379, 1973283149, 1817208016, 494608052, 321211640, 234627157, 1679920488, 1430470800, 1988021399, 1728136999, 1666291980, 1152471328, 1212412523, 1202681924, 1774798745, 1312187621, 909489926, 589444358, 2087347492, 31785145, 499717826, 1592278960, 1328539625, 2146823889, 1927393104, 1349176270, 1614318822, 1146620962, 345657071, 271639907, 1620701034, 1344094525, 565085866, 1730290072, 408152829, 1988272637, 109981668, 249063573, 31523488, 72497893, 424377723, 444702102, 1289150426, 1405752622, 2049025919, 1264156990, 891898847, 545178919, 1776860147, 1220183304, 1568844100, 2128229258, 646415208, 1341740406, 1032850317, 1972017065, 945077401, 567503035, 1576043718, 1866905999, 2054099947, 1258904636, 101564176, 495830536, 152287643, 1300202891, 374421751, 292717986, 1488822758, 1536162579, 227334562, 730512101, 394359273, 1109185769, 1716840103, 1898770044, 182168313, 147470724, 1614623957, 1130021731, 962329667, 793941577, 767274078, 1839292442, 2138034916, 380808052, 900886007, 438047012, 510601387, 1117664327, 695181450, 1903720592, 246832803, 1897761996, 375622553, 969046773, 1165061940, 2065011161, 548736118, 1089801956, 1553601468, 245077086, 1168679731, 1522845018, 1177169857, 1322742757, 665705770, 726264492, 926948733, 928709747, 1527557643, 934880432, 1338296403, 402802832, 650858656, 114400656, 908273913, 1222392475, 1945310537, 705139245, 1160386835, 567095179, 179984552, 399400858, 458719017, 499293530, 347441850, 839988064, 1156881784, 1247860971, 1145999313, 1963250334, 193970076, 221197924, 2076915591, 427356954, 1606713457, 1600747059, 1365536142, 885731977, 1577151714, 1055049099, 328285194, 418110878, 217453353, 1073471743, 1642575841, 1426416339, 88736428, 219382410, 176749430, 832509826, 1676835074, 1006914518, 2034948164, 967764247, 384606538, 1894323895, 1522133354, 1726076430, 1863494466, 1799407417, 763064468, 934501688, 1270174204, 117325573, 2011856108, 1225663575, 1106020443, 1451505789, 967147947, 1272699703, 1944876167, 170564524, 1741964197, 1307961802, 1664872477, 1243246597, 710255497, 2030150402, 1494712710, 2045059327, 964305580, 1243770165, 537209836, 714213281, 2078710174, 836553505, 386669188, 304843964, 539666492, 475764965, 1883669102, 1384709415, 1057573595, 1284123258, 729165916, 1569466727, 1711754811, 1543651554, 483286338, 371289485, 789188136, 1253335761, 1777551410, 2075318634, 2062648629, 714550365, 884157002, 561798820, 249003267, 1959379048, 653930458, 1136552763, 1781627099, 349635695, 175529756, 912886005, 287181485, 681916483, 1093823948, 2033563082, 466039525, 364303034, 873533577, 201674048, 1098442052, 1855019449, 1948311075, 1668024812, 195376841, 981185107, 876598091, 1130978610, 932318240, 1177508856, 235975112, 1664161561, 440352335, 1065390441, 1994638222, 259756584, 2030721051, 1851045023, 331709510, 88103100, 931794965, 410490605, 1338526657, 1084395669, 1455019559, 1109064750, 970961437, 162471554, 442611683, 1807950995, 726505798, 2099397997, 1482308242, 680939478, 1051891779, 58278592, 1329664402, 1672805253, 432811680, 1864790444, 1512486848, 994853225, 1511300975, 1350560906, 1721999437, 1271857768, 1162115172, 2143682634, 4807795, 763316682, 457918330, 1597460130, 146514182, 2014602018, 1659053350, 1681728056, 826747245, 2056029424, 2129601118, 473468258, 158642052, 1562184408, 1771347884, 506961954, 1548536467, 1653291269, 1915247627, 493229574, 1022150627, 1905858298, 2095767743, 1399251338, 18725058, 814860622, 850522606, 1939578299, 1482388606, 1095402146, 1298147532, 1072327668, 927240119, 652973066, 1998926313, 276490320, 2104847481, 286932310, 371872782, 1910117356, 2062922987, 263133074, 1538714575, 1760994369, 407227173, 699662584, 1731079757, 307800877, 790903733, 1473655178, 824847945, 935967278, 31283349, 359634991, 1329606469, 164804211, 927801805, 1511842526, 795784153, 941921600, 1499908928, 69398393, 1519201004, 1581209690, 1307470116, 1886370427, 441253635, 894535479, 836339222, 1696246964, 673628102, 347344244, 320783526, 1278983698, 1685195655, 1763295875, 59757829, 1607989298, 1988117081, 797853393, 138277477, 93676849, 490059773, 1738483038, 370743268, 2007617225, 1715607757, 499987200, 926500556, 555622776, 870030390, 545522694, 1154032884, 1056438827, 1718372797, 1415763815, 2008954639, 317083437, 1806948461, 1881849017, 1902928809, 159572211, 555299891, 689375158, 1158236014, 155502844, 1529992617, 1541684900, 1901402426, 637822414, 633433786, 1952168446, 301506305, 743459325, 1647195101, 1306209608, 1674597277, 887492081, 851989809, 406834266, 931108316, 1638452315, 1588851120, 1963708740, 1250449520, 1139584357, 1822438913, 1313022580, 151292649, 1461361285, 638121431, 999151813, 1600769558, 149106783, 243523101, 179702845, 15533716, 1205789131, 1436726559, 712117390, 738621820, 1078800563, 607209464, 559054277, 787433213, 542030050, 792710119, 37485762, 2076170070, 1181104068, 675848255, 1278011250, 955533677, 1123349426, 1956662962, 1272317288, 1026447815, 1114726074, 1965208473, 1879465732, 1582475179, 570542291, 2107544483, 555736029, 176267916, 1114057047, 1726910341, 2115006162, 2012676754, 595988298, 674913186, 2126284198, 746701067, 745640939, 822496593, 1108668610, 507957751, 599373597, 1537713593, 1880047522, 1858272962, 396125105, 1274974103, 2012894916, 2034621053, 1666164929, 1201940522, 1684959315, 269286137, 668229530, 1243700802, 168900922, 181244362, 1304162271, 696722003, 260574585, 1033499022, 597748281, 1715876397, 1602837532, 307016687, 213707832, 1850048528, 1973860643, 887922208, 685730455, 1449483080, 957173748, 1091615043, 986892176, 1277637623, 1840412180, 885858808, 1419980731, 1395030878, 342341726, 1267113168, 1808249579, 11492374, 135738888, 1521546221, 210935627, 1282329742, 949697224, 1103605256, 487131440, 2008108055, 1777864767, 2042655218, 1264896617, 747264466, 2140515724, 1970497706, 98442814, 1371658025, 1540383713, 643651162, 2103457351, 1960314793, 605137621, 98151704, 1274924452, 127751332, 1284039441, 1660035688, 517785383, 1739901794, 587800432, 85433460, 1427048116, 1516129184, 23135996, 168712704, 1219715145, 1116218935, 2002218602, 19777995, 311953838, 1909544652, 1725493431, 1025110265, 611548717, 1277673073, 746250031, 75945956, 1675432266, 1022497449, 734591348, 1523294975, 859855923, 1262948791, 98645042, 846994939, 1427024958, 1365484774, 492973029, 325322465, 950829600, 318291840, 84045664, 1724636029, 372081211, 253105526, 1039523268, 883961236, 208783409, 1153198688, 1983178415, 166181411, 831135787, 324264162, 603346493, 550653203, 227962847, 1268332035, 249300543, 955435948, 163239514, 980997214, 1927754450, 962870139, 1399639554, 780337948, 1414111713, 1392682181, 1180324025, 88721612, 1478000748, 1717351244, 24860863, 1510742610, 1658718309, 352613766, 1160110523, 823305328, 1256313425, 308026038, 1234057984, 1867873859, 1474773844, 2015302341, 1678447948, 1902512342, 1156359972, 15943611, 2106570796, 517768635, 1310844616, 127313635, 1551280975, 1146533394, 191830617, 940288093, 1543370160, 1902307361, 245430431, 2009654819, 1447587878, 1589508677, 3278493, 1306037230, 1877662280, 179550102, 1777919711, 1530987100, 124951825, 1738669075, 2042175074, 1533842000, 715760268, 871713515, 330940313, 300958996, 1661566841, 324835033, 1126927438, 1394794291, 1157973289, 142523454, 362987382, 1661195186, 1940842265, 1571438247, 1289703393, 1441939487, 181607264, 659760, 279662076, 539753810, 1776170632, 869381228, 124497911, 1280412895, 307676062, 841750344, 794175653, 1426250597, 299730981, 1436195517, 1696910048, 1135883137, 1962660488, 581657153, 201298469, 1847660256, 275983812, 1258839593, 1652900969, 1382850094, 1616930983, 1923081895, 225251337, 690942241, 1277463953, 83438604, 693753391, 656171853, 1006563407, 1135803650, 815942888, 620192490, 460554089, 592485404, 78697920, 1968489454, 2099835664, 321864063, 36273513, 959643422, 1896511354, 1850649930, 2050448900, 1646126642, 1375051974, 97758808, 760135997, 1390361832, 2074185735, 1235106306, 325838437, 104657160, 818404638, 1723698005, 212981330, 855074519, 1344738282, 48299143, 1604423098, 2046322402, 1368782252, 1185464107, 1789516014, 390959566, 767657790, 1645401010, 513150906, 843261253, 1310985264, 106389117, 653111926, 282731681, 1647950115, 797453213, 1797218810, 614398362, 1101715941, 1375681509, 1345133618, 195792060, 1481872960, 910291760, 355395690, 111678699, 1746820347, 1877277458, 1684682021, 1352767431, 627403877, 1636535826, 868296620, 1492435225, 1394090248, 2050600355, 190279401, 1863278578, 1493542096, 373130689, 916890653, 1920479530, 1198935073, 1607430581, 405964704, 1158010165, 703071071, 1490243572, 749895427, 16585343, 354405828, 598697294, 1563848974, 1968874987, 1362511785, 493065035, 1617091069, 817339804, 1273269135, 1500434690, 794730093, 1295272568, 108044115, 1593867168, 124846357, 1216542227, 296851528, 1036750788, 1792227949, 1810893439, 756578579, 925749832, 2090822233, 1009229075, 492120886, 558152672, 1541071029, 1020950593, 473197106, 1574368204]\n"
     ]
    },
    {
     "ename": "NameError",
     "evalue": "name 'XXX' is not defined",
     "output_type": "error",
     "traceback": [
      "\u001B[0;31m---------------------------------------------------------------------------\u001B[0m",
      "\u001B[0;31mNameError\u001B[0m                                 Traceback (most recent call last)",
      "Cell \u001B[0;32mIn[243], line 8\u001B[0m\n\u001B[1;32m      1\u001B[0m \u001B[38;5;66;03m# If you managed to solve all three parts you can test the following code to see if it runs\u001B[39;00m\n\u001B[1;32m      2\u001B[0m \u001B[38;5;66;03m# you have to change the period to match your LCG though, this is marked as XXX.\u001B[39;00m\n\u001B[1;32m      3\u001B[0m \u001B[38;5;66;03m# It is a very good idea to check these things using the histogram function in sagemath\u001B[39;00m\n\u001B[1;32m      4\u001B[0m \u001B[38;5;66;03m# try with a larger number of samples, up to 10000 should run\u001B[39;00m\n\u001B[1;32m      6\u001B[0m \u001B[38;5;28mprint\u001B[39m(\u001B[38;5;124m\"\u001B[39m\u001B[38;5;124mLCG output: \u001B[39m\u001B[38;5;132;01m%s\u001B[39;00m\u001B[38;5;124m\"\u001B[39m \u001B[38;5;241m%\u001B[39m problem4_LCG(size\u001B[38;5;241m=\u001B[39m\u001B[38;5;241m10\u001B[39m, seed\u001B[38;5;241m=\u001B[39m\u001B[38;5;241m1\u001B[39m))\n\u001B[0;32m----> 8\u001B[0m period \u001B[38;5;241m=\u001B[39m \u001B[43mXXX\u001B[49m\n\u001B[1;32m     10\u001B[0m \u001B[38;5;28mprint\u001B[39m(\u001B[38;5;124m\"\u001B[39m\u001B[38;5;124mUniform sampler \u001B[39m\u001B[38;5;132;01m%s\u001B[39;00m\u001B[38;5;124m\"\u001B[39m \u001B[38;5;241m%\u001B[39m problem4_uniform(generator\u001B[38;5;241m=\u001B[39mproblem4_LCG, period\u001B[38;5;241m=\u001B[39mperiod, size\u001B[38;5;241m=\u001B[39m\u001B[38;5;241m10\u001B[39m, seed\u001B[38;5;241m=\u001B[39m\u001B[38;5;241m1\u001B[39m))\n\u001B[1;32m     12\u001B[0m uniform_sampler \u001B[38;5;241m=\u001B[39m \u001B[38;5;28;01mlambda\u001B[39;00m size, seed: problem4_uniform(generator\u001B[38;5;241m=\u001B[39mproblem4_LCG, period\u001B[38;5;241m=\u001B[39mperiod, size\u001B[38;5;241m=\u001B[39msize, seed\u001B[38;5;241m=\u001B[39mseed)\n",
      "\u001B[0;31mNameError\u001B[0m: name 'XXX' is not defined"
     ]
    }
   ],
   "execution_count": 243
  },
  {
   "cell_type": "code",
   "id": "5318f370",
   "metadata": {
    "deletable": false,
    "lx_assignment_number": "2",
    "lx_assignment_type": "ASSIGNMENT",
    "lx_assignment_type2print": "Assignment",
    "lx_problem_cell_type": "Test",
    "lx_problem_number": "4",
    "lx_problem_points": "8"
   },
   "source": [
    "\n",
    "# If however you did not manage to implement either part 1 or part 2 but still want to check part 3, you can run the code below\n",
    "\n",
    "def testUniformGenerator(size, seed):\n",
    "    import random\n",
    "    random.seed(seed)\n",
    "\n",
    "    return [random.uniform(0, 1) for s in range(size)]\n",
    "\n",
    "\n",
    "print(\n",
    "    \"Accept-Reject sampler %s\" % problem4_accept_reject(uniformGenerator=testUniformGenerator, n_iterations=20, seed=1))"
   ],
   "outputs": [],
   "execution_count": null
  }
 ],
 "metadata": {
  "lx_assignment_number": 2,
  "lx_course_instance": "2024",
  "lx_course_name": "Introduction to Data Science",
  "lx_course_number": "1MS041",
  "kernelspec": {
   "name": "python3",
   "language": "python",
   "display_name": "Python 3 (ipykernel)"
  }
 },
 "nbformat": 4,
 "nbformat_minor": 5
}
