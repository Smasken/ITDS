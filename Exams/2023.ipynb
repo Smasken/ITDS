{
 "cells": [
  {
   "metadata": {
    "ExecuteTime": {
     "end_time": "2025-01-14T11:10:55.835653Z",
     "start_time": "2025-01-14T11:10:55.831822Z"
    }
   },
   "cell_type": "code",
   "source": [
    "import numpy as np\n",
    "\n",
    "matrix = np.array([[0.3, 0.4, 0.3],\n",
    "                   [0.2, 0.5, 0.3],\n",
    "                   [0.4, 0.3, 0.3]])\n",
    "\n",
    "start_pos = [0, 1, 0]\n",
    "\n",
    "final_pos = (start_pos @ matrix @ matrix)[0]\n",
    "\n",
    "print(final_pos)"
   ],
   "id": "4d58000714257a2d",
   "outputs": [
    {
     "name": "stdout",
     "output_type": "stream",
     "text": [
      "0.28\n"
     ]
    }
   ],
   "execution_count": 220
  },
  {
   "metadata": {
    "ExecuteTime": {
     "end_time": "2025-01-14T11:10:55.851088Z",
     "start_time": "2025-01-14T11:10:55.848120Z"
    }
   },
   "cell_type": "code",
   "source": [
    "# Part 2\n",
    "\n",
    "'''\n",
    "There exist two ways:\n",
    "\n",
    "a = suburb -> suburb -> downtown\n",
    "b = suburb -> countryside -> downtown\n",
    "'''\n",
    "a = 1 * 0.5 * 0.2\n",
    "b = 1 * 0.3 * 0.4\n",
    "\n",
    "# Fill in the answer to part 2 below as a decimal number\n",
    "problem1_p2 = a + b\n",
    "print(problem1_p2)"
   ],
   "id": "2f56c72a56418cae",
   "outputs": [
    {
     "name": "stdout",
     "output_type": "stream",
     "text": [
      "0.22\n"
     ]
    }
   ],
   "execution_count": 221
  },
  {
   "metadata": {
    "ExecuteTime": {
     "end_time": "2025-01-14T11:10:55.871619Z",
     "start_time": "2025-01-14T11:10:55.869180Z"
    }
   },
   "cell_type": "code",
   "source": [
    "# Part 3\n",
    "'''\n",
    "To check for irreducibility, raise the matrix to a high power\n",
    "and check for convergence. No elements should approach 0.\n",
    "'''\n",
    "\n",
    "matrix_inf = np.linalg.matrix_power(matrix, 100)\n",
    "print(matrix_inf)\n",
    "\n",
    "# Fill in the answer to part 3 below as a boolean\n",
    "problem1_irreducible = True"
   ],
   "id": "cd0e121456074714",
   "outputs": [
    {
     "name": "stdout",
     "output_type": "stream",
     "text": [
      "[[0.28888889 0.41111111 0.3       ]\n",
      " [0.28888889 0.41111111 0.3       ]\n",
      " [0.28888889 0.41111111 0.3       ]]\n"
     ]
    }
   ],
   "execution_count": 222
  },
  {
   "metadata": {
    "ExecuteTime": {
     "end_time": "2025-01-14T11:10:55.889318Z",
     "start_time": "2025-01-14T11:10:55.886297Z"
    }
   },
   "cell_type": "code",
   "source": [
    "# Part 4\n",
    "\n",
    "def stat_distr(p):\n",
    "    A = p.T - np.eye(p.shape[0])\n",
    "    b = np.zeros(p.shape[0])\n",
    "\n",
    "    A[-1] = 1\n",
    "    b[-1] = 1\n",
    "\n",
    "    return np.linalg.solve(A, b)\n",
    "\n",
    "\n",
    "problem1_stationary = stat_distr(matrix)\n",
    "print(problem1_stationary)\n",
    "\n"
   ],
   "id": "c7f05ef5446ae273",
   "outputs": [
    {
     "name": "stdout",
     "output_type": "stream",
     "text": [
      "[0.28888889 0.41111111 0.3       ]\n"
     ]
    }
   ],
   "execution_count": 223
  },
  {
   "metadata": {},
   "cell_type": "markdown",
   "source": "**Problem 2**",
   "id": "5aa87008e66b05bb"
  },
  {
   "metadata": {
    "ExecuteTime": {
     "end_time": "2025-01-14T11:10:55.910290Z",
     "start_time": "2025-01-14T11:10:55.903897Z"
    }
   },
   "cell_type": "code",
   "source": [
    "# Part 1\n",
    "# Let problem2_df be the pandas dataframe that contains the data from the file\n",
    "# data/abalone.csv\n",
    "\n",
    "import pandas as pd\n",
    "\n",
    "data = pd.read_csv(\"data_2/abalone.csv\")\n",
    "\n",
    "Y = data[\"Rings\"]\n",
    "X = data.drop(columns=[\"Rings\", \"Sex\"])\n",
    "X = pd.concat([pd.get_dummies(data[\"Sex\"], dtype=int), X], axis=1)\n",
    "\n",
    "problem2_df = data"
   ],
   "id": "9bf08457930fbdcb",
   "outputs": [],
   "execution_count": 224
  },
  {
   "metadata": {
    "ExecuteTime": {
     "end_time": "2025-01-14T11:10:55.927294Z",
     "start_time": "2025-01-14T11:10:55.925325Z"
    }
   },
   "cell_type": "code",
   "source": [
    "# Part 1\n",
    "# Fill in the features as a list of strings of the names of the columns\n",
    "problem2_features = X.columns\n",
    "# Fill in the target as a string with the correct column name\n",
    "problem2_target = \"Rings\""
   ],
   "id": "4841c3755a76ce24",
   "outputs": [],
   "execution_count": 225
  },
  {
   "metadata": {
    "ExecuteTime": {
     "end_time": "2025-01-14T11:10:55.946368Z",
     "start_time": "2025-01-14T11:10:55.942412Z"
    }
   },
   "cell_type": "code",
   "source": [
    "# Part 2\n",
    "# Split the data into train and test using train_test_split\n",
    "# keep the train size as 0.8 and use random_state=42\n",
    "\n",
    "from sklearn.model_selection import train_test_split\n",
    "\n",
    "problem2_X_train, problem2_X_test, problem2_y_train, problem2_y_test = train_test_split(X, Y, train_size=0.8,\n",
    "                                                                                        random_state=42)"
   ],
   "id": "c63b3a6e1595b0a3",
   "outputs": [],
   "execution_count": 226
  },
  {
   "metadata": {
    "ExecuteTime": {
     "end_time": "2025-01-14T11:10:55.965890Z",
     "start_time": "2025-01-14T11:10:55.961056Z"
    }
   },
   "cell_type": "code",
   "source": [
    "# Part 3\n",
    "# Include the necessary imports\n",
    "# Initialize your linear regression model\n",
    "\n",
    "from sklearn.pipeline import Pipeline\n",
    "from sklearn.linear_model import LinearRegression\n",
    "\n",
    "pipeline = Pipeline([(\"Regressor\", LinearRegression())])\n",
    "\n",
    "pipeline.fit(problem2_X_train, problem2_y_train)\n",
    "\n",
    "problem2_y_pred = pipeline.predict(problem2_X_test)\n",
    "\n",
    "problem2_model = pipeline\n",
    "# Train your model on the training data"
   ],
   "id": "1d9084961a228510",
   "outputs": [],
   "execution_count": 227
  },
  {
   "metadata": {
    "ExecuteTime": {
     "end_time": "2025-01-14T11:10:56.114810Z",
     "start_time": "2025-01-14T11:10:55.981647Z"
    }
   },
   "cell_type": "code",
   "source": [
    "# Part 4\n",
    "# Evaluate the model by computing the mean absolute error\n",
    "from sklearn.metrics import mean_squared_error, mean_absolute_error, r2_score\n",
    "import Utils as u\n",
    "import matplotlib.pyplot as plt\n",
    "\n",
    "problem2_mae = mean_absolute_error(problem2_y_test, problem2_y_pred)\n",
    "print(\"MAE:\", problem2_mae)\n",
    "print(\"R2:\", r2_score(problem2_y_test, problem2_y_pred))\n",
    "\n",
    "u.plotEDF(u.makeEDF(problem2_y_pred), confidence_band=True, alpha=0.95)\n",
    "\n",
    "plt.scatter(problem2_y_pred, problem2_y_test)"
   ],
   "id": "97aa672b8c0de842",
   "outputs": [
    {
     "name": "stdout",
     "output_type": "stream",
     "text": [
      "MAE: 1.5914087614944676\n",
      "R2: 0.5486624417012392\n"
     ]
    },
    {
     "data": {
      "text/plain": [
       "<Figure size 640x480 with 1 Axes>"
      ],
      "image/png": "[encoded data removed]"
     },
     "metadata": {},
     "output_type": "display_data"
    },
    {
     "data": {
      "text/plain": [
       "<matplotlib.collections.PathCollection at 0x13f147cd0>"
      ]
     },
     "execution_count": 228,
     "metadata": {},
     "output_type": "execute_result"
    },
    {
     "data": {
      "text/plain": [
       "<Figure size 640x480 with 1 Axes>"
      ],
      "image/png": "[encoded data removed]"
     },
     "metadata": {},
     "output_type": "display_data"
    }
   ],
   "execution_count": 228
  },
  {
   "metadata": {
    "ExecuteTime": {
     "end_time": "2025-01-14T11:10:56.134157Z",
     "start_time": "2025-01-14T11:10:56.132707Z"
    }
   },
   "cell_type": "code",
   "source": "",
   "id": "8bf5c12d5ed2098c",
   "outputs": [],
   "execution_count": null
  },
  {
   "metadata": {},
   "cell_type": "markdown",
   "source": "**Problem 3**",
   "id": "17280125b7217544"
  },
  {
   "metadata": {
    "ExecuteTime": {
     "end_time": "2025-01-14T11:37:35.920455Z",
     "start_time": "2025-01-14T11:37:35.911931Z"
    }
   },
   "cell_type": "code",
   "source": [
    "import pandas as pd\n",
    "\n",
    "# Part 1\n",
    "# Let problem3_df be the pandas dataframe that contains the data from the file\n",
    "# data/visits_clean.csv\n",
    "\n",
    "problem3_df = pd.read_csv(\"data_2/visits_clean.csv\", sep='\\s+')"
   ],
   "id": "a4b569e6bfe8bd3d",
   "outputs": [],
   "execution_count": 230
  },
  {
   "metadata": {
    "ExecuteTime": {
     "end_time": "2025-01-14T11:45:11.141877Z",
     "start_time": "2025-01-14T11:45:11.137187Z"
    }
   },
   "cell_type": "code",
   "source": [
    "# Part 1\n",
    "\n",
    "data_features = problem3_df.drop(columns=[\"ofp\", \"ofnp\", \"opnp\", ], axis=1)\n",
    "\n",
    "# Fill in the features as a list of strings of the names of the columns\n",
    "problem3_features = data_features.columns\n",
    "\n",
    "# Fill in the target as a string with the correct column name\n",
    "problem3_target = \"ofp\""
   ],
   "id": "bdca13111dcff2e8",
   "outputs": [
    {
     "data": {
      "text/plain": [
       "'ofnp'"
      ]
     },
     "execution_count": 237,
     "metadata": {},
     "output_type": "execute_result"
    }
   ],
   "execution_count": 237
  },
  {
   "metadata": {},
   "cell_type": "code",
   "outputs": [],
   "execution_count": null,
   "source": [
    "from sklearn.model_selection import train_test_split\n",
    "\n",
    "# Part 2\n",
    "\n",
    "# Fill in your X and y below\n",
    "problem3_X = problem3_df[problem3_features]\n",
    "problem3_y = problem3_df[problem3_target]\n",
    "\n",
    "# Split the data into train and test using train_test_split\n",
    "# keep the train size as 0.8 and use random_state=42\n",
    "problem3_X_train, problem3_X_test, problem3_y_train, problem3_y_test = train_test_split(problem3_X, problem3_y,\n",
    "                                                                                        train_size=0.8, random_state=42)"
   ],
   "id": "c572bf40021698ac"
  },
  {
   "metadata": {},
   "cell_type": "code",
   "outputs": [],
   "execution_count": null,
   "source": "",
   "id": "7c2de75d6db11fa2"
  }
 ],
 "metadata": {
  "kernelspec": {
   "name": "python3",
   "language": "python",
   "display_name": "Python 3 (ipykernel)"
  }
 },
 "nbformat": 5,
 "nbformat_minor": 9
}
