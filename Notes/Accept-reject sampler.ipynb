{
 "cells": [
  {
   "cell_type": "markdown",
   "metadata": {},
   "source": [
    "Accept-reject sampler. Change the uniformGenerator to whatever generator you have. Change (np.abs(np.sin(2 * np.pi * x))) to the proposal distribution you want to sample from. \n",
    "\n",
    "Pro tip: Use desmos to find a simple proposal distribtion. You want it to be larger than the target density at all points but reasonably close. "
   ]
  },
  {
   "cell_type": "code",
   "execution_count": 5,
   "metadata": {},
   "outputs": [],
   "source": [
    "def reject_sampler(n_samples=1000):\n",
    "# Distribution from part 1\n",
    "# write the code in this function to produce samples from the distribution in the assignment\n",
    "# Make sure you choose a good sampling distribution to avoid unnecessary rejections\n",
    "# Return a numpy array of length n_samples\n",
    "\n",
    "    accepted_samples = []\n",
    "\n",
    "\n",
    "    target = lambda x: NotImplemented\n",
    "    proposal = lambda x: NotImplemented\n",
    "    M = NotImplemented\n",
    "\n",
    "    while len(accepted_samples) < n_samples:\n",
    "        x = np.random.uniform(0, 1)\n",
    "        u = np.random.uniform(0, 1)\n",
    "        \n",
    "        if u <= target(x) / M * proposal(x):\n",
    "            accepted_samples.append(x)  # Accept x\n",
    "    \n",
    "    return np.array(accepted_samples)"
   ]
  }
 ],
 "metadata": {
  "kernelspec": {
   "display_name": "base",
   "language": "python",
   "name": "python3"
  },
  "language_info": {
   "codemirror_mode": {
    "name": "ipython",
    "version": 3
   },
   "file_extension": ".py",
   "mimetype": "text/x-python",
   "name": "python",
   "nbconvert_exporter": "python",
   "pygments_lexer": "ipython3",
   "version": "3.11.7"
  }
 },
 "nbformat": 4,
 "nbformat_minor": 2
}





def accept_reject_sampler(n_samples, M, target_density, proposal_sampler, proposal_density):
    """
    Accept-Reject Sampling Algorithm
    
    Parameters:
        n_samples (int): Number of samples to generate.
        M (float): Scaling constant such that M * proposal_density(x) >= target(x) for all x.
        target (function): The target density function.
        proposal_sampler (function): Function to sample from the proposal distribution.
        proposal_density (function): The density of the proposal distribution.
    
    Returns:
        np.array: Accepted samples from the target distribution.
    """
    accepted_samples = []
    
    while len(accepted_samples) < n_samples:
        # Generate a candidate sample from the proposal distribution
        x = proposal_sampler()
        
        # Generate a uniform random number for acceptance criterion
        u = np.random.uniform(0, 1)
        
        # Acceptance condition
        if u <= target_density(x) / (M * proposal_density(x)):
            accepted_samples.append(x)
    
    return np.array(accepted_samples)



#################################################################
# Target density: f(x) = pi/2 * |sin(2*pi*x)|
def target_density(x):
    return (np.pi / 2) * np.abs(np.sin(2 * np.pi * x))

# Proposal sampler: samples from U(0, 1)
#x = np.random.normal(mu, sigma)
def proposal_sampler():
    return np.random.uniform(0, 1)

# Proposal density: q(x) = 1 for U(0, 1)
#proposal_density = norm.pdf(x, loc=0.5, scale=0.1) #scipy.stats.norm
def proposal_density(x):
    return 1 if 0 <= x <= 1 else 0

# M: maximum value of target_density(x) / proposal_density(x)
M = (np.pi / 2)  # Maximum value of |sin(2*pi*x)| is 1, so M = pi/2 * 1

# Generate 1000 samples
samples = accept_reject_sampler(n_samples=1000, M=M, target_density=target_density, 
                                 proposal_sampler=proposal_sampler, 
                                 proposal_density=proposal_density)

import matplotlib.pyplot as plt
x = np.linspace(0, 1, 1000)  # High resolution for smooth plotting
plt.figure(figsize=(8, 6))

# Plot the histogram of samples
plt.hist(samples, bins=30, density=True, alpha=0.6, color='skyblue', edgecolor='black', label='Samples Histogram')

# Plot the target density
plt.plot(x, target_density(x), color='red', linewidth=2, label=r'Target Density: $f(x) = \frac{\pi}{2} |\sin(2\pi x)|$')

# Add labels, legend, and title
plt.xlabel('x')
plt.ylabel('Density')
plt.title('Histogram of Samples and Target Density')
plt.legend()

# Show the plot
plt.grid(alpha=0.3)
plt.show()





