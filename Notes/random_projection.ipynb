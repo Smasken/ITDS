{
 "cells": [
  {
   "cell_type": "markdown",
   "metadata": {},
   "source": [
    "Example exam problem from notebook 13 - high dimensionality."
   ]
  },
  {
   "cell_type": "code",
   "execution_count": 17,
   "metadata": {},
   "outputs": [],
   "source": [
    "import numpy as np\n",
    "import matplotlib.pyplot as plt\n",
    "from ipywidgets import interact, IntSlider\n",
    "\n",
    "# Do not rename the function below just replace what is XXX\n",
    "def random_projection(X,d,k):\n",
    "    '''Perform a random projection of the dataset X from \n",
    "    d-dimensions into k-dimensions'''\n",
    "    assert X.shape[1] == d, \"The array X does not have the shape (n_samples,d)\"\n",
    "    \n",
    "    R = np.random.normal(0, 1, size=(d, k))\n",
    "    R = R / np.linalg.norm(R, axis=0)\n",
    "\n",
    "    f = X@R\n",
    "\n",
    "    return f\n",
    "\n",
    "# Perform the random projection\n",
    "X = np.random.rand(200, 1000)\n",
    "X_projected = random_projection(X, d=1000, k=10)"
   ]
  },
  {
   "cell_type": "code",
   "execution_count": 18,
   "metadata": {},
   "outputs": [
    {
     "name": "stdout",
     "output_type": "stream",
     "text": [
      "You are outputting the correct dimension, hopefully it is correct.\n"
     ]
    }
   ],
   "source": [
    "# small test to see that you output the correct shape\n",
    "import numpy as np\n",
    "X_test = np.array([[1,1],[2,1],[3,1],[4,1]])\n",
    "try:\n",
    "    assert(random_projection(X_test,2,1).shape == (X_test.shape[0],1))\n",
    "    print(\"You are outputting the correct dimension, hopefully it is correct.\")\n",
    "except AssertionError:\n",
    "    print(\"Try again! and make sure you are producing an output of (n_samples,k)\")"
   ]
  },
  {
   "cell_type": "markdown",
   "metadata": {},
   "source": [
    "Below is taken straight from the notebook, just for testing purposes"
   ]
  },
  {
   "cell_type": "code",
   "execution_count": 3,
   "metadata": {},
   "outputs": [
    {
     "data": {
      "application/vnd.jupyter.widget-view+json": {
       "model_id": "0b2f4d42c60c4a91b8e395deeea22a32",
       "version_major": 2,
       "version_minor": 0
      },
      "text/plain": [
       "interactive(children=(IntSlider(value=100, description='d', max=2000, min=100, step=100), IntSlider(value=2, d…"
      ]
     },
     "metadata": {},
     "output_type": "display_data"
    }
   ],
   "source": [
    "# Lets simulate\n",
    "\n",
    "@interact\n",
    "def _(d=IntSlider(100,100,2000,100),k=IntSlider(2,2,100,1)):\n",
    "    np.random.seed(1)\n",
    "    v_pre = np.random.normal(size=d)\n",
    "    v = v_pre / np.linalg.norm(v_pre)\n",
    "\n",
    "    print(\"v has length: %.2f\" % np.linalg.norm(v))\n",
    "\n",
    "    num_simulations = 300\n",
    "\n",
    "    error = []\n",
    "\n",
    "    for i in range(num_simulations):\n",
    "        uis = np.random.normal(size=(k,d))\n",
    "        f = uis@v\n",
    "        error.append(abs(np.linalg.norm(f)-np.linalg.norm(v)*np.sqrt(k))/(np.linalg.norm(v)*np.sqrt(k)))\n",
    "    _=plt.hist(error)\n",
    "\n",
    "    # P=histogram(error)\n",
    "    # P.xmax(1)\n",
    "    # P.show()"
   ]
  }
 ],
 "metadata": {
  "kernelspec": {
   "display_name": "base",
   "language": "python",
   "name": "python3"
  },
  "language_info": {
   "codemirror_mode": {
    "name": "ipython",
    "version": 3
   },
   "file_extension": ".py",
   "mimetype": "text/x-python",
   "name": "python",
   "nbconvert_exporter": "python",
   "pygments_lexer": "ipython3",
   "version": "3.11.7"
  }
 },
 "nbformat": 4,
 "nbformat_minor": 2
}
