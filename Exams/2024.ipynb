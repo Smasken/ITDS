{
 "cells": [
  {
   "cell_type": "markdown",
   "metadata": {},
   "source": [
    "Problem 1"
   ]
  },
  {
   "cell_type": "code",
   "execution_count": 111,
   "metadata": {},
   "outputs": [
    {
     "data": {
      "text/plain": [
       "(array([1.000e+00, 1.000e+00, 2.000e+00, 6.000e+00, 6.000e+00, 8.000e+00,\n",
       "        1.200e+01, 2.200e+01, 2.500e+01, 2.300e+01, 2.900e+01, 2.300e+01,\n",
       "        4.500e+01, 5.600e+01, 5.400e+01, 6.100e+01, 7.100e+01, 7.100e+01,\n",
       "        8.500e+01, 1.020e+02, 1.120e+02, 1.110e+02, 1.310e+02, 1.320e+02,\n",
       "        1.630e+02, 1.470e+02, 1.720e+02, 1.950e+02, 1.930e+02, 2.070e+02,\n",
       "        2.320e+02, 2.370e+02, 2.710e+02, 2.650e+02, 3.190e+02, 3.020e+02,\n",
       "        3.360e+02, 3.130e+02, 3.570e+02, 3.470e+02, 4.260e+02, 4.420e+02,\n",
       "        4.310e+02, 4.960e+02, 4.640e+02, 5.140e+02, 5.150e+02, 5.510e+02,\n",
       "        5.670e+02, 6.340e+02, 6.900e+02, 6.570e+02, 7.100e+02, 6.840e+02,\n",
       "        7.550e+02, 7.830e+02, 7.890e+02, 8.420e+02, 8.970e+02, 8.840e+02,\n",
       "        9.500e+02, 9.940e+02, 1.025e+03, 1.115e+03, 1.117e+03, 1.247e+03,\n",
       "        1.179e+03, 1.257e+03, 1.294e+03, 1.326e+03, 1.450e+03, 1.458e+03,\n",
       "        1.470e+03, 1.513e+03, 1.611e+03, 1.670e+03, 1.738e+03, 1.769e+03,\n",
       "        1.858e+03, 1.937e+03, 1.954e+03, 2.089e+03, 2.056e+03, 2.155e+03,\n",
       "        2.204e+03, 2.305e+03, 2.379e+03, 2.571e+03, 2.602e+03, 2.622e+03,\n",
       "        2.725e+03, 2.847e+03, 2.882e+03, 3.010e+03, 3.146e+03, 3.139e+03,\n",
       "        3.303e+03, 3.373e+03, 3.349e+03, 3.335e+03]),\n",
       " array([0.0157867 , 0.02562883, 0.03547096, 0.04531309, 0.05515523,\n",
       "        0.06499736, 0.07483949, 0.08468163, 0.09452376, 0.10436589,\n",
       "        0.11420802, 0.12405016, 0.13389229, 0.14373442, 0.15357656,\n",
       "        0.16341869, 0.17326082, 0.18310295, 0.19294509, 0.20278722,\n",
       "        0.21262935, 0.22247149, 0.23231362, 0.24215575, 0.25199789,\n",
       "        0.26184002, 0.27168215, 0.28152428, 0.29136642, 0.30120855,\n",
       "        0.31105068, 0.32089282, 0.33073495, 0.34057708, 0.35041921,\n",
       "        0.36026135, 0.37010348, 0.37994561, 0.38978775, 0.39962988,\n",
       "        0.40947201, 0.41931415, 0.42915628, 0.43899841, 0.44884054,\n",
       "        0.45868268, 0.46852481, 0.47836694, 0.48820908, 0.49805121,\n",
       "        0.50789334, 0.51773547, 0.52757761, 0.53741974, 0.54726187,\n",
       "        0.55710401, 0.56694614, 0.57678827, 0.5866304 , 0.59647254,\n",
       "        0.60631467, 0.6161568 , 0.62599894, 0.63584107, 0.6456832 ,\n",
       "        0.65552534, 0.66536747, 0.6752096 , 0.68505173, 0.69489387,\n",
       "        0.704736  , 0.71457813, 0.72442027, 0.7342624 , 0.74410453,\n",
       "        0.75394666, 0.7637888 , 0.77363093, 0.78347306, 0.7933152 ,\n",
       "        0.80315733, 0.81299946, 0.8228416 , 0.83268373, 0.84252586,\n",
       "        0.85236799, 0.86221013, 0.87205226, 0.88189439, 0.89173653,\n",
       "        0.90157866, 0.91142079, 0.92126292, 0.93110506, 0.94094719,\n",
       "        0.95078932, 0.96063146, 0.97047359, 0.98031572, 0.99015785,\n",
       "        0.99999999]),\n",
       " <BarContainer object of 100 artists>)"
      ]
     },
     "execution_count": 111,
     "metadata": {},
     "output_type": "execute_result"
    },
    {
     "data": {
      "image/png": "[encoded data removed]",
      "text/plain": [
       "<Figure size 640x480 with 1 Axes>"
      ]
     },
     "metadata": {},
     "output_type": "display_data"
    }
   ],
   "source": [
    "import numpy as np\n",
    "import matplotlib.pyplot as plt\n",
    "\n",
    "def problem1_inversion(n_samples=1000):\n",
    "# Distribution from part 1\n",
    "# write the code in this function to produce samples from the distribution in the assignment\n",
    "# Make sure you choose a good sampling distribution to avoid unnecessary rejections\n",
    "# Return a numpy array of length n_samples\n",
    "\n",
    "    accepted_samples = []\n",
    "\n",
    "    target = lambda x: np.clip((np.exp(x**2) - 1) / (np.e - 1), 0, 1)\n",
    "    proposal = lambda x: 1\n",
    "\n",
    "    while len(accepted_samples) < n_samples:\n",
    "        x = np.random.uniform(1e-6, 1)\n",
    "        u = np.random.uniform(1e-6, 1)  # Uniform random for acceptance criterion\n",
    "        \n",
    "        if u <= 1.1*target(x):\n",
    "            accepted_samples.append(x)  # Accept x\n",
    "    \n",
    "    return np.array(accepted_samples)\n",
    "\n",
    "accepted_samples = problem1_inversion(n_samples=100000)\n",
    "\n",
    "plt.hist(accepted_samples, bins=100)"
   ]
  },
  {
   "cell_type": "markdown",
   "metadata": {},
   "source": [
    "Problem 2 (This is exacly the same as an assignment)"
   ]
  },
  {
   "cell_type": "markdown",
   "metadata": {},
   "source": [
    "Problem 3"
   ]
  },
  {
   "cell_type": "markdown",
   "metadata": {},
   "source": [
    "Problem 4"
   ]
  },
  {
   "cell_type": "markdown",
   "metadata": {},
   "source": [
    "Problem 5"
   ]
  }
 ],
 "metadata": {
  "kernelspec": {
   "display_name": "base",
   "language": "python",
   "name": "python3"
  },
  "language_info": {
   "codemirror_mode": {
    "name": "ipython",
    "version": 3
   },
   "file_extension": ".py",
   "mimetype": "text/x-python",
   "name": "python",
   "nbconvert_exporter": "python",
   "pygments_lexer": "ipython3",
   "version": "3.11.7"
  }
 },
 "nbformat": 4,
 "nbformat_minor": 2
}
