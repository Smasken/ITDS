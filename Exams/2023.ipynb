{
 "cells": [
  {
   "metadata": {
    "ExecuteTime": {
     "end_time": "2025-01-14T09:51:20.550698Z",
     "start_time": "2025-01-14T09:51:20.546301Z"
    }
   },
   "cell_type": "code",
   "source": [
    "import numpy as np\n",
    "\n",
    "matrix = np.array([[0.3, 0.4, 0.3],\n",
    "                   [0.2, 0.5, 0.3],\n",
    "                   [0.4, 0.3, 0.3]])\n",
    "\n",
    "start_pos = [0, 1, 0]\n",
    "\n",
    "final_pos = (start_pos @ matrix @ matrix)[0]\n",
    "\n",
    "print(final_pos)"
   ],
   "id": "4d58000714257a2d",
   "outputs": [
    {
     "name": "stdout",
     "output_type": "stream",
     "text": [
      "0.28\n"
     ]
    }
   ],
   "execution_count": 19
  },
  {
   "metadata": {
    "ExecuteTime": {
     "end_time": "2025-01-14T09:51:20.561761Z",
     "start_time": "2025-01-14T09:51:20.558785Z"
    }
   },
   "cell_type": "code",
   "source": [
    "# Part 2\n",
    "\n",
    "'''\n",
    "There exist two ways:\n",
    "\n",
    "a = suburb -> suburb -> downtown\n",
    "b = suburb -> countryside -> downtown\n",
    "'''\n",
    "a = 1 * 0.5 * 0.2\n",
    "b = 1 * 0.3 * 0.4\n",
    "\n",
    "# Fill in the answer to part 2 below as a decimal number\n",
    "problem1_p2 = a + b\n",
    "print(problem1_p2)"
   ],
   "id": "2f56c72a56418cae",
   "outputs": [
    {
     "name": "stdout",
     "output_type": "stream",
     "text": [
      "0.22\n"
     ]
    }
   ],
   "execution_count": 20
  },
  {
   "metadata": {
    "ExecuteTime": {
     "end_time": "2025-01-14T09:51:20.633838Z",
     "start_time": "2025-01-14T09:51:20.630706Z"
    }
   },
   "cell_type": "code",
   "source": [
    "# Part 3\n",
    "'''\n",
    "To check for irreducibility, raise the matrix to a high power\n",
    "and check for convergence. No elements should approach 0.\n",
    "'''\n",
    "\n",
    "matrix_inf = np.linalg.matrix_power(matrix, 100)\n",
    "print(matrix_inf)\n",
    "\n",
    "# Fill in the answer to part 3 below as a boolean\n",
    "problem1_irreducible = True"
   ],
   "id": "cd0e121456074714",
   "outputs": [
    {
     "name": "stdout",
     "output_type": "stream",
     "text": [
      "[[0.28888889 0.41111111 0.3       ]\n",
      " [0.28888889 0.41111111 0.3       ]\n",
      " [0.28888889 0.41111111 0.3       ]]\n"
     ]
    }
   ],
   "execution_count": 21
  },
  {
   "metadata": {
    "ExecuteTime": {
     "end_time": "2025-01-14T09:51:20.652664Z",
     "start_time": "2025-01-14T09:51:20.649303Z"
    }
   },
   "cell_type": "code",
   "source": [
    "# Part 4\n",
    "\n",
    "def stat_distr(p):\n",
    "    A = p.T - np.eye(p.shape[0])\n",
    "    b = np.zeros(p.shape[0])\n",
    "\n",
    "    A[-1] = 1\n",
    "    b[-1] = 1\n",
    "\n",
    "    return np.linalg.solve(A, b)\n",
    "\n",
    "problem1_stationary = stat_distr(matrix)\n",
    "print(problem1_stationary)\n",
    "\n"
   ],
   "id": "c7f05ef5446ae273",
   "outputs": [
    {
     "name": "stdout",
     "output_type": "stream",
     "text": [
      "[0.28888889 0.41111111 0.3       ]\n"
     ]
    }
   ],
   "execution_count": 22
  }
 ],
 "metadata": {
  "kernelspec": {
   "name": "python3",
   "language": "python",
   "display_name": "Python 3 (ipykernel)"
  }
 },
 "nbformat": 5,
 "nbformat_minor": 9
}
