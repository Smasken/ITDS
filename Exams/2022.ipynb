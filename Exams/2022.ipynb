{
 "cells": [
  {
   "cell_type": "markdown",
   "metadata": {},
   "source": [
    "Problem 1\n",
    "\n",
    "This is essentially the same as problem 4 in assignment 1\n",
    "\n",
    "Let’s say we have an exam question which consists of 20 yes/no questions. From past performance of\n",
    "similar students, a randomly chosen student will know the correct answer to 𝑁 ∼ binom(20, 11/20)\n",
    "questions. Furthermore, we assume that the student will guess the answer with equal probability\n",
    "to each question they don’t know the answer to, i.e. given 𝑁 we define 𝑍 ∼ binom(20 − 𝑁 , 1/2) as\n",
    "the number of correctly guessed answers. Define 𝑌 = 𝑁 + 𝑍, i.e., 𝑌 represents the number of total\n",
    "correct answers.\n",
    "We are interested in setting a deterministic threshold 𝑇 , i.e., we would pass a student at threshold\n",
    "𝑇 if 𝑌 ≥ 𝑇 . Here 𝑇 ∈ {0, 1, 2, ... , 20}.\n",
    "1. [5p] For each threshold 𝑇 , compute the probability that the student knows less than\n",
    "10 correct answers given that the student passed, i.e., 𝑁 < 10. Put the answer in\n",
    "problem11_probabilities as a list.\n",
    "2. [3p] What is the smallest value of 𝑇 such that if 𝑌 ≥ 𝑇 then we are 90% certain that 𝑁 ≥ 10?"
   ],
   "id": "31d0e6f3b99e9817"
  },
  {
   "cell_type": "code",
   "metadata": {
    "ExecuteTime": {
     "end_time": "2025-01-13T14:07:00.566173Z",
     "start_time": "2025-01-13T14:07:00.563389Z"
    }
   },
   "source": [
    "# We want to find P(N<10|Y>=T) (A|B)"
   ],
   "id": "61ad5aed391a1df6",
   "outputs": [],
   "execution_count": 128
  },
  {
   "cell_type": "code",
   "metadata": {
    "ExecuteTime": {
     "end_time": "2025-01-13T14:07:00.765463Z",
     "start_time": "2025-01-13T14:07:00.573187Z"
    }
   },
   "source": [
    "from scipy.special import binom as binomial\n",
    "from scipy.stats import binom as binomial_pmf\n",
    "\n",
    "n_questions = 20\n",
    "p_know = 11/20\n",
    "p_guess = 1/2\n",
    "p_N = lambda k: binomial(n_questions,k)*((1-p_know)**(n_questions-k))*((p_know)**k) # the PMF of N is p_N(k) where p_N is\n",
    "\n",
    "def prob_Y_given_N(y,k):\n",
    "    return binomial_pmf.pmf(y - k, n_questions - k, p_guess)\n",
    "\n",
    "def prob_Y(y):\n",
    "    return sum(p_N(k) * prob_Y_given_N(y,k) for k in range(n_questions+1))\n",
    "\n",
    "def prob_Y_geq_T(T):\n",
    "    return sum(prob_Y(y) for y in range(T, n_questions+1))\n",
    "\n",
    "def prob_N_given_Y(T):\n",
    "    prob = 0\n",
    "    for k in range(5):\n",
    "        for y in range(T, n_questions+1):\n",
    "            prob += p_N(k) * prob_Y_given_N(y,k)\n",
    "    return prob\n",
    "\n",
    "problem11_probabilities = []\n",
    "\n",
    "for T in range(n_questions+1):\n",
    "    p_N_given_Y = prob_N_given_Y(T)\n",
    "    p_Y_geq_T = prob_Y_geq_T(T)\n",
    "    if p_Y_geq_T > 0:\n",
    "        cond_prob = p_N_given_Y / p_Y_geq_T\n",
    "    else:\n",
    "        cond_prob = 0\n",
    "    problem11_probabilities.append(cond_prob)\n",
    "\n",
    "problem11_probabilities"
   ],
   "id": "e36a20a65db9db7",
   "outputs": [
    {
     "data": {
      "text/plain": [
       "[np.float64(0.0015307441509554297),\n",
       " np.float64(0.0015307441508450256),\n",
       " np.float64(0.0015307441432394124),\n",
       " np.float64(0.0015307438943668445),\n",
       " np.float64(0.0015307387510004125),\n",
       " np.float64(0.0015306634578246326),\n",
       " np.float64(0.0015299831809291856),\n",
       " np.float64(0.001525995482238295),\n",
       " np.float64(0.0015097453994162818),\n",
       " np.float64(0.0014613233766861324),\n",
       " np.float64(0.001352242121684195),\n",
       " np.float64(0.0011625255705667336),\n",
       " np.float64(0.0009042671762339275),\n",
       " np.float64(0.0006257545746121421),\n",
       " np.float64(0.0003838760049282565),\n",
       " np.float64(0.00021057755764174177),\n",
       " np.float64(0.00010495959267083927),\n",
       " np.float64(4.8399893298043265e-05),\n",
       " np.float64(2.0989815106644922e-05),\n",
       " np.float64(8.676066230525746e-06),\n",
       " np.float64(3.4534154491733502e-06)]"
      ]
     },
     "execution_count": 129,
     "metadata": {},
     "output_type": "execute_result"
    }
   ],
   "execution_count": 129
  },
  {
   "cell_type": "markdown",
   "metadata": {},
   "source": "Problem 4",
   "id": "ed2767e499f68d2b"
  },
  {
   "cell_type": "code",
   "metadata": {
    "ExecuteTime": {
     "end_time": "2025-01-13T14:07:00.791603Z",
     "start_time": "2025-01-13T14:07:00.774093Z"
    }
   },
   "source": [
    "import pandas as pd\n",
    "\n",
    "# Don't bother this\n",
    "data_raw = pd.read_csv(\"data_2/spam.csv\", encoding_errors=\"ignore\")\n",
    "data_flag = data_raw.iloc[:, 0].map({\"ham\": 0, \"spam\": 1})\n",
    "data_text = data_raw.iloc[:, 1].str.lower()\n",
    "sms_tuples = list(zip(data_text, data_flag))\n",
    "\n",
    "# PROBABILITY THAT SMS CONTAINS “FREE” OR “PRIZE”\n",
    "a = 0\n",
    "for text, bool in sms_tuples:\n",
    "    if \"free\" in text or \"prize\" in text:\n",
    "        a += 1\n",
    "\n",
    "P_B = a / len(sms_tuples)\n",
    "\n",
    "# PROBABILITY THAT A SMS IS SPAM\n",
    "b = 0\n",
    "for text, bool in sms_tuples:\n",
    "    if bool:\n",
    "        b += 1\n",
    "\n",
    "P_A = b / len(sms_tuples)\n",
    "\n",
    "# PROBABILITY THAT \"FREE\" OR \"PRIZE\" IS SPAM\n",
    "sms_tuples_spam = []\n",
    "for text, bool in sms_tuples:\n",
    "    if bool:\n",
    "        sms_tuples_spam.append((text, bool))\n",
    "\n",
    "k = 0\n",
    "for text, bool in sms_tuples_spam:\n",
    "    if \"free\" in text or \"prize\" in text:\n",
    "        k += 1\n",
    "\n",
    "P_BA = k / len(sms_tuples_spam)\n",
    "\n",
    "\n",
    "# PROBABILITY THAT IT IS SPAM IF CONTAINS \"FREE\" OR \"PRIZE\"\n",
    "P_AB = (P_BA * P_A) / P_B\n",
    "print(P_AB)\n",
    "\n",
    "'''\n",
    "# ALTERNATIV LÖSNING (KORT)\n",
    "\n",
    "import pandas as pd\n",
    "\n",
    "# Load data\n",
    "data_raw = pd.read_csv(\"data_2/spam.csv\", encoding_errors=\"ignore\")\n",
    "data_flag = data_raw.iloc[:, 0].map({\"ham\": 0, \"spam\": 1})  # 0 = ham, 1 = spam\n",
    "data_text = data_raw.iloc[:, 1].str.lower()  # Convert to lowercase\n",
    "sms_tuples = list(zip(data_text, data_flag))\n",
    "\n",
    "# Filter SMS messages containing \"free\" or \"prize\"\n",
    "filtered_sms = [(text, label) for text, label in sms_tuples if \"free\" in text or \"prize\" in text]\n",
    "\n",
    "# Extract labels (1 = spam, 0 = ham) for filtered SMS\n",
    "spam_labels = [label for text, label in filtered_sms]\n",
    "\n",
    "# Calculate P(Y=1 | \"free\" or \"prize\")\n",
    "P_AB = sum(spam_labels) / len(spam_labels)\n",
    "print(f\"P(Y=1 | 'free' or 'prize' in SMS): {P_AB}\")\n",
    "'''\n"
   ],
   "id": "3fe48d279f6e19b5",
   "outputs": [
    {
     "name": "stdout",
     "output_type": "stream",
     "text": [
      "0.808695652173913\n"
     ]
    },
    {
     "data": {
      "text/plain": [
       "'\\n# ALTERNATIV LÖSNING (KORT)\\n\\nimport pandas as pd\\n\\n# Load data\\ndata_raw = pd.read_csv(\"data_2/spam.csv\", encoding_errors=\"ignore\")\\ndata_flag = data_raw.iloc[:, 0].map({\"ham\": 0, \"spam\": 1})  # 0 = ham, 1 = spam\\ndata_text = data_raw.iloc[:, 1].str.lower()  # Convert to lowercase\\nsms_tuples = list(zip(data_text, data_flag))\\n\\n# Filter SMS messages containing \"free\" or \"prize\"\\nfiltered_sms = [(text, label) for text, label in sms_tuples if \"free\" in text or \"prize\" in text]\\n\\n# Extract labels (1 = spam, 0 = ham) for filtered SMS\\nspam_labels = [label for text, label in filtered_sms]\\n\\n# Calculate P(Y=1 | \"free\" or \"prize\")\\nP_AB = sum(spam_labels) / len(spam_labels)\\nprint(f\"P(Y=1 | \\'free\\' or \\'prize\\' in SMS): {P_AB}\")\\n'"
      ]
     },
     "execution_count": 130,
     "metadata": {},
     "output_type": "execute_result"
    }
   ],
   "execution_count": 130
  },
  {
   "metadata": {
    "ExecuteTime": {
     "end_time": "2025-01-13T14:07:00.810467Z",
     "start_time": "2025-01-13T14:07:00.805789Z"
    }
   },
   "cell_type": "code",
   "source": [
    "import numpy as np\n",
    "\n",
    "\n",
    "def hoeffdings_range_based(X, alpha):\n",
    "\n",
    "    log_term = np.log(2 / (1 - alpha))\n",
    "    range_term = (np.max(X) - np.min(X)) ** 2\n",
    "    denominator = 2 * len(X)\n",
    "\n",
    "    epsilon = np.sqrt((log_term * range_term) / denominator)\n",
    "    sample_mean = np.mean(X)\n",
    "\n",
    "    return sample_mean - epsilon, sample_mean + epsilon\n",
    "\n",
    "\n",
    "gg = []\n",
    "for text, bool in sms_tuples:\n",
    "    if \"free\" in text or \"prize\" in text:\n",
    "        gg.append((text, bool))\n",
    "\n",
    "spam_list = []\n",
    "for text, bool in gg:\n",
    "    spam_list.append(bool)\n",
    "\n",
    "print(hoeffdings_range_based(spam_list, 0.9))\n",
    "\n"
   ],
   "id": "94e93c8ffd415189",
   "outputs": [
    {
     "name": "stdout",
     "output_type": "stream",
     "text": [
      "(np.float64(0.7428045224509738), np.float64(0.8745867818968522))\n"
     ]
    }
   ],
   "execution_count": 131
  }
 ],
 "metadata": {
  "kernelspec": {
   "display_name": "base",
   "language": "python",
   "name": "python3"
  },
  "language_info": {
   "codemirror_mode": {
    "name": "ipython",
    "version": 3
   },
   "file_extension": ".py",
   "mimetype": "text/x-python",
   "name": "python",
   "nbconvert_exporter": "python",
   "pygments_lexer": "ipython3",
   "version": "3.11.7"
  }
 },
 "nbformat": 4,
 "nbformat_minor": 2
}
