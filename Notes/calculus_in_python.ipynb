{
 "cells": [
  {
   "metadata": {
    "ExecuteTime": {
     "end_time": "2025-01-15T17:52:02.214036Z",
     "start_time": "2025-01-15T17:52:02.211581Z"
    }
   },
   "cell_type": "code",
   "source": [
    "#EXAMPLE FUNC\n",
    "def f(x):\n",
    "    return x ** 2"
   ],
   "id": "16b3b55906f0747a",
   "outputs": [],
   "execution_count": 6
  },
  {
   "metadata": {
    "ExecuteTime": {
     "end_time": "2025-01-15T17:52:02.226455Z",
     "start_time": "2025-01-15T17:52:02.223602Z"
    }
   },
   "cell_type": "code",
   "source": [
    "#DERIVATIVE (Symbolic)\n",
    "from sympy import symbols, diff\n",
    "from sympy.abc import lamda\n",
    "import numpy as np\n",
    "\n",
    "# Define a variable and a function\n",
    "x = symbols('x')\n",
    "f_sym = x ** 2\n",
    "\n",
    "print(f\"The derivative of the function is: {diff(f_sym, x)}\")"
   ],
   "id": "dabe57fe9df609d1",
   "outputs": [
    {
     "name": "stdout",
     "output_type": "stream",
     "text": [
      "The derivative of the function is: 2*x\n"
     ]
    }
   ],
   "execution_count": 7
  },
  {
   "metadata": {
    "ExecuteTime": {
     "end_time": "2025-01-15T17:52:02.240821Z",
     "start_time": "2025-01-15T17:52:02.238154Z"
    }
   },
   "cell_type": "code",
   "source": [
    "#DERIVATIVE of function at x (numerical)\n",
    "def df(func, x, dx=1e-10):\n",
    "    return (func(x + dx) - func(x - dx)) / (2 * dx)\n",
    "\n",
    "\n",
    "print(f\"The derivative of the function at x=1 is: {df(f, 0)}\")"
   ],
   "id": "433d190b957380fc",
   "outputs": [
    {
     "name": "stdout",
     "output_type": "stream",
     "text": [
      "The derivative of the function at x=1 is: 0.0\n"
     ]
    }
   ],
   "execution_count": 8
  },
  {
   "metadata": {
    "ExecuteTime": {
     "end_time": "2025-01-15T17:52:02.266077Z",
     "start_time": "2025-01-15T17:52:02.262311Z"
    }
   },
   "cell_type": "code",
   "source": [
    "#INTEGRATE function over [0, 1]\n",
    "def I(func, n=100000):\n",
    "    # Monte Carlo Integration\n",
    "    return np.mean(func(np.random.uniform(0, 1, n)))\n",
    "\n",
    "\n",
    "print(f\"The integral of the function over [0, 1] is: {I(f)}\")"
   ],
   "id": "75a0b54704f17053",
   "outputs": [
    {
     "name": "stdout",
     "output_type": "stream",
     "text": [
      "The integral of the function over [0, 1] is: 0.3316997560261286\n"
     ]
    }
   ],
   "execution_count": 9
  },
  {
   "metadata": {
    "ExecuteTime": {
     "end_time": "2025-01-15T18:04:11.950602Z",
     "start_time": "2025-01-15T18:04:11.721068Z"
    }
   },
   "cell_type": "code",
   "source": [
    "from scipy.integrate import quad\n",
    "\n",
    "# Define the normalization function\n",
    "def get_normalized_function(fun):\n",
    "    integral = quad(fun, 0, 1)[0]  # Compute integral over [0, 1]\n",
    "    normalization_constant = 1 / integral\n",
    "\n",
    "    # Return the normalized function\n",
    "    def normalized_fun(x):\n",
    "        return normalization_constant * fun(x)\n",
    "\n",
    "    return normalized_fun\n",
    "\n",
    "# Get the normalized function\n",
    "normalized_fun = get_normalized_function(lambda z: 4 * z)\n",
    "\n",
    "# Test the normalized function with a specific value of x (e.g., x = 0.5)\n",
    "x = 0.5\n",
    "print(f\"The normalization of f(x) at x={x} is: {normalized_fun(x)}\")"
   ],
   "id": "230a782bd8910972",
   "outputs": [
    {
     "name": "stdout",
     "output_type": "stream",
     "text": [
      "The normalization of f(x) at x=0.5 is: 1.0\n"
     ]
    }
   ],
   "execution_count": 1
  }
 ],
 "metadata": {
  "kernelspec": {
   "display_name": "Python 3",
   "language": "python",
   "name": "python3"
  },
  "language_info": {
   "codemirror_mode": {
    "name": "ipython",
    "version": 2
   },
   "file_extension": ".py",
   "mimetype": "text/x-python",
   "name": "python",
   "nbconvert_exporter": "python",
   "pygments_lexer": "ipython2",
   "version": "2.7.6"
  }
 },
 "nbformat": 4,
 "nbformat_minor": 5
}
