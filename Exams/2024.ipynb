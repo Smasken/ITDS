{
 "cells": [
  {
   "cell_type": "markdown",
   "metadata": {},
   "source": [
    "Problem 1"
   ]
  },
  {
   "cell_type": "code",
   "metadata": {
    "ExecuteTime": {
     "end_time": "2025-01-14T18:45:06.556625Z",
     "start_time": "2025-01-14T18:45:04.951326Z"
    }
   },
   "source": [
    "import numpy as np\n",
    "import matplotlib.pyplot as plt\n",
    "\n",
    "\n",
    "def problem1_inversion(n_samples=1000):\n",
    "    # Distribution from part 1\n",
    "    # write the code in this function to produce samples from the distribution in the assignment\n",
    "    # Make sure you choose a good sampling distribution to avoid unnecessary rejections\n",
    "    # Return a numpy array of length n_samples\n",
    "\n",
    "    accepted_samples = []\n",
    "\n",
    "    target = lambda x: np.clip((np.exp(x ** 2) - 1) / (np.e - 1), 0, 1)\n",
    "    proposal = lambda x: 1\n",
    "\n",
    "    while len(accepted_samples) < n_samples:\n",
    "        x = np.random.uniform(1e-6, 1)\n",
    "        u = np.random.uniform(1e-6, 1)  # Uniform random for acceptance criterion\n",
    "\n",
    "        if u <= 1.1 * target(x):\n",
    "            accepted_samples.append(x)  # Accept x\n",
    "\n",
    "    return np.array(accepted_samples)\n",
    "\n",
    "\n",
    "accepted_samples = problem1_inversion(n_samples=100000)\n",
    "\n",
    "plt.hist(accepted_samples, bins=100)"
   ],
   "outputs": [
    {
     "data": {
      "text/plain": [
       "(array([1.000e+00, 2.000e+00, 6.000e+00, 1.300e+01, 1.200e+01, 2.200e+01,\n",
       "        1.400e+01, 2.000e+01, 2.500e+01, 3.300e+01, 3.800e+01, 4.700e+01,\n",
       "        4.700e+01, 6.000e+01, 4.600e+01, 6.500e+01, 8.400e+01, 8.300e+01,\n",
       "        8.400e+01, 1.030e+02, 1.030e+02, 1.340e+02, 1.250e+02, 1.570e+02,\n",
       "        1.660e+02, 1.540e+02, 1.820e+02, 1.970e+02, 2.070e+02, 2.080e+02,\n",
       "        2.250e+02, 2.240e+02, 2.590e+02, 2.640e+02, 3.000e+02, 2.820e+02,\n",
       "        3.430e+02, 3.460e+02, 3.810e+02, 4.140e+02, 4.410e+02, 4.250e+02,\n",
       "        4.690e+02, 4.560e+02, 4.910e+02, 5.180e+02, 5.330e+02, 5.750e+02,\n",
       "        6.310e+02, 6.520e+02, 6.370e+02, 6.320e+02, 7.030e+02, 7.060e+02,\n",
       "        7.790e+02, 7.910e+02, 8.400e+02, 8.800e+02, 9.210e+02, 9.360e+02,\n",
       "        1.020e+03, 1.067e+03, 1.092e+03, 1.119e+03, 1.121e+03, 1.130e+03,\n",
       "        1.243e+03, 1.267e+03, 1.295e+03, 1.397e+03, 1.423e+03, 1.400e+03,\n",
       "        1.510e+03, 1.554e+03, 1.611e+03, 1.737e+03, 1.645e+03, 1.744e+03,\n",
       "        1.838e+03, 1.904e+03, 2.020e+03, 2.005e+03, 2.118e+03, 2.156e+03,\n",
       "        2.232e+03, 2.267e+03, 2.393e+03, 2.349e+03, 2.524e+03, 2.653e+03,\n",
       "        2.685e+03, 2.823e+03, 2.911e+03, 2.933e+03, 3.122e+03, 3.181e+03,\n",
       "        3.337e+03, 3.228e+03, 3.235e+03, 3.219e+03]),\n",
       " array([0.02811341, 0.03783227, 0.04755114, 0.05727   , 0.06698886,\n",
       "        0.07670772, 0.08642659, 0.09614545, 0.10586431, 0.11558317,\n",
       "        0.12530203, 0.1350209 , 0.14473976, 0.15445862, 0.16417748,\n",
       "        0.17389635, 0.18361521, 0.19333407, 0.20305293, 0.21277179,\n",
       "        0.22249066, 0.23220952, 0.24192838, 0.25164724, 0.26136611,\n",
       "        0.27108497, 0.28080383, 0.29052269, 0.30024156, 0.30996042,\n",
       "        0.31967928, 0.32939814, 0.339117  , 0.34883587, 0.35855473,\n",
       "        0.36827359, 0.37799245, 0.38771132, 0.39743018, 0.40714904,\n",
       "        0.4168679 , 0.42658676, 0.43630563, 0.44602449, 0.45574335,\n",
       "        0.46546221, 0.47518108, 0.48489994, 0.4946188 , 0.50433766,\n",
       "        0.51405652, 0.52377539, 0.53349425, 0.54321311, 0.55293197,\n",
       "        0.56265084, 0.5723697 , 0.58208856, 0.59180742, 0.60152628,\n",
       "        0.61124515, 0.62096401, 0.63068287, 0.64040173, 0.6501206 ,\n",
       "        0.65983946, 0.66955832, 0.67927718, 0.68899605, 0.69871491,\n",
       "        0.70843377, 0.71815263, 0.72787149, 0.73759036, 0.74730922,\n",
       "        0.75702808, 0.76674694, 0.77646581, 0.78618467, 0.79590353,\n",
       "        0.80562239, 0.81534125, 0.82506012, 0.83477898, 0.84449784,\n",
       "        0.8542167 , 0.86393557, 0.87365443, 0.88337329, 0.89309215,\n",
       "        0.90281101, 0.91252988, 0.92224874, 0.9319676 , 0.94168646,\n",
       "        0.95140533, 0.96112419, 0.97084305, 0.98056191, 0.99028077,\n",
       "        0.99999964]),\n",
       " <BarContainer object of 100 artists>)"
      ]
     },
     "execution_count": 353,
     "metadata": {},
     "output_type": "execute_result"
    },
    {
     "data": {
      "text/plain": [
       "<Figure size 640x480 with 1 Axes>"
      ],
      "image/png": "[encoded data removed]"
     },
     "metadata": {},
     "output_type": "display_data"
    }
   ],
   "execution_count": 353
  },
  {
   "cell_type": "markdown",
   "metadata": {},
   "source": [
    "Problem 2 (This is exacly the same as an assignment)"
   ]
  },
  {
   "cell_type": "markdown",
   "metadata": {},
   "source": [
    "Problem 3"
   ]
  },
  {
   "metadata": {
    "ExecuteTime": {
     "end_time": "2025-01-14T18:45:06.573180Z",
     "start_time": "2025-01-14T18:45:06.569347Z"
    }
   },
   "cell_type": "code",
   "source": [
    "# PART 1\n",
    "#------------------------TRANSITION MATRIX -------------------------------\n",
    "# Answer each one by supplying the transition matrix as a numpy array\n",
    "# of shape (n_states,n_states), where state (A,B,...) corresponds to index (0,1,...)\n",
    "\n",
    "import numpy as np\n",
    "\n",
    "problem3_A = np.array([[0.8, 0.2, 0.0, 0.0],\n",
    "                       [0.6, 0.2, 0.2, 0.0],\n",
    "                       [0.0, 0.4, 0.0, 0.6],\n",
    "                       [0.0, 0.0, 0.8, 0.2]])\n",
    "\n",
    "problem3_B = np.array([[0.0, 0.2, 0.0, 0.8],\n",
    "                       [0.0, 0.0, 1.0, 0.0],\n",
    "                       [0.0, 1.0, 0.0, 0.0],\n",
    "                       [0.5, 0.0, 0.5, 0.0]])\n",
    "\n",
    "problem3_C = np.array([[0.2, 0.3, 0.0, 0.0, 0.5],\n",
    "                       [0.2, 0.2, 0.6, 0.0, 0.0],\n",
    "                       [0.0, 0.4, 0.0, 0.6, 0.0],\n",
    "                       [0.0, 0.0, 0.0, 0.6, 0.4],\n",
    "                       [0.0, 0.0, 0.0, 0.4, 0.6]])\n",
    "\n",
    "problem3_D = np.array([[0.8, 0.2, 0.0, 0.0],\n",
    "                       [0.6, 0.2, 0.2, 0.0],\n",
    "                       [0.0, 0.4, 0.0, 0.6],\n",
    "                       [0.1, 0.0, 0.7, 0.2]])"
   ],
   "outputs": [],
   "execution_count": 354
  },
  {
   "metadata": {
    "ExecuteTime": {
     "end_time": "2025-01-14T18:45:06.585013Z",
     "start_time": "2025-01-14T18:45:06.581194Z"
    }
   },
   "cell_type": "code",
   "source": [
    "'''\n",
    "To check for irreducibility, raise the matrix to a high power\n",
    "and check for convergence. No elements should approach 0.\n",
    "'''\n",
    "\n",
    "\n",
    "def check_irreducibility(lst):\n",
    "    if isinstance(lst, list):\n",
    "        pass\n",
    "    else:\n",
    "        raise Exception(\"Input to check_irreducibility() must be a LIST!\")\n",
    "\n",
    "    i = 0\n",
    "    for matrix in lst:\n",
    "        if matrix.shape[0] != matrix.shape[1]:\n",
    "            raise Exception(f\"Matrix #{i} is not square!\")\n",
    "        matrix_inf = np.linalg.matrix_power(matrix, 1000)\n",
    "        if np.any(matrix_inf < 1e-10):\n",
    "            print(f\"Matrix #{i} is REDUCIBLE!.\")\n",
    "            # print(matrix)\n",
    "        else:\n",
    "            print(f\"Matrix #{i} is irreducible.\")\n",
    "\n",
    "        i += 1\n",
    "\n",
    "\n",
    "check_irreducibility([problem3_A, problem3_B, problem3_C, problem3_D])\n",
    "\n",
    "problem3_A_irreducible = True\n",
    "problem3_B_irreducible = False\n",
    "problem3_C_irreducible = False\n",
    "problem3_D_irreducible = True"
   ],
   "outputs": [
    {
     "name": "stdout",
     "output_type": "stream",
     "text": [
      "Matrix #0 is irreducible.\n",
      "Matrix #1 is REDUCIBLE!.\n",
      "Matrix #2 is REDUCIBLE!.\n",
      "Matrix #3 is irreducible.\n"
     ]
    }
   ],
   "execution_count": 355
  },
  {
   "metadata": {
    "ExecuteTime": {
     "end_time": "2025-01-14T18:45:06.603710Z",
     "start_time": "2025-01-14T18:45:06.598727Z"
    }
   },
   "cell_type": "code",
   "source": [
    "\n",
    "import numpy as np\n",
    "import numpy as np\n",
    "\n",
    "def stat_distr(p):\n",
    "    A = p.T - np.eye(p.shape[0])\n",
    "    b = np.zeros(p.shape[0])\n",
    "\n",
    "    A[-1] = 1\n",
    "    b[-1] = 1\n",
    "\n",
    "    return np.linalg.solve(A, b)\n",
    "\n",
    "def reversible_markov(A):\n",
    "    n = len(A)\n",
    "\n",
    "    stationary_dist = stat_distr(A)\n",
    "\n",
    "    for i in range(n):\n",
    "        for j in range(n):\n",
    "            if not np.isclose(stationary_dist[i] * A[i, j], stationary_dist[j] * A[j, i]):\n",
    "                print(f\"Chain is not reversible. Detailed balance is violated between states {i} and {j}.\")\n",
    "                return False\n",
    "\n",
    "    print(\"Chain is reversible!\")\n",
    "    return True\n",
    "\n",
    "reversible_markov(problem3_A)\n",
    "\n",
    "\n",
    "\n",
    "\n",
    "\n"
   ],
   "outputs": [
    {
     "name": "stdout",
     "output_type": "stream",
     "text": [
      "Chain is reversible!\n"
     ]
    },
    {
     "data": {
      "text/plain": [
       "True"
      ]
     },
     "execution_count": 356,
     "metadata": {},
     "output_type": "execute_result"
    }
   ],
   "execution_count": 356
  },
  {
   "cell_type": "markdown",
   "metadata": {},
   "source": [
    "Problem 4"
   ]
  },
  {
   "cell_type": "markdown",
   "metadata": {},
   "source": [
    "Problem 5"
   ]
  },
  {
   "metadata": {},
   "cell_type": "markdown",
   "source": ""
  }
 ],
 "metadata": {
  "kernelspec": {
   "display_name": "base",
   "language": "python",
   "name": "python3"
  },
  "language_info": {
   "codemirror_mode": {
    "name": "ipython",
    "version": 3
   },
   "file_extension": ".py",
   "mimetype": "text/x-python",
   "name": "python",
   "nbconvert_exporter": "python",
   "pygments_lexer": "ipython3",
   "version": "3.11.7"
  }
 },
 "nbformat": 4,
 "nbformat_minor": 2
}
