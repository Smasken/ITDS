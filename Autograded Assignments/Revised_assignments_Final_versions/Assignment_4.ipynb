{
 "cells": [
  {
   "cell_type": "markdown",
   "id": "e9959f48",
   "metadata": {
    "deletable": false
   },
   "source": [
    "\n",
    "# Assignment 4 for Course 1MS041\n",
    "Make sure you pass the `# ... Test` cells and\n",
    " submit your solution notebook in the corresponding assignment on the course website. You can submit multiple times before the deadline and your highest score will be used."
   ]
  },
  {
   "cell_type": "markdown",
   "id": "b63d8b71",
   "metadata": {
    "deletable": false,
    "lx_assignment_number": "4",
    "lx_assignment_type": "ASSIGNMENT",
    "lx_assignment_type2print": "Assignment",
    "lx_problem_cell_type": "PROBLEM",
    "lx_problem_number": "1",
    "lx_problem_points": "24"
   },
   "source": [
    "---\n",
    "## Assignment 4, PROBLEM 1\n",
    "Maximum Points = 24"
   ]
  },
  {
   "cell_type": "markdown",
   "id": "04e1585d",
   "metadata": {
    "deletable": false,
    "lx_assignment_number": "4",
    "lx_assignment_type": "ASSIGNMENT",
    "lx_assignment_type2print": "Assignment",
    "lx_problem_cell_type": "PROBLEM",
    "lx_problem_number": "1",
    "lx_problem_points": "24"
   },
   "source": [
    "\n",
    "    This time the assignment only consists of one problem, but we will do a more comprehensive analysis instead.\n",
    "\n",
    "Consider the dataset `Corona_NLP_train.csv` that you can get from the course website [git](https://github.com/datascience-intro/1MS041-2024/blob/main/notebooks/data/Corona_NLP_train.csv). The data is \"Coronavirus tweets NLP - Text Classification\" that can be found on [kaggle](https://www.kaggle.com/datasets/datatattle/covid-19-nlp-text-classification). The data has several columns, but we will only be working with `OriginalTweet`and `Sentiment`.\n",
    "\n",
    "1. [3p] Load the data and filter out those tweets that have `Sentiment`=`Neutral`. Let $X$ represent the `OriginalTweet` and let \n",
    "    $$\n",
    "        Y = \n",
    "        \\begin{cases}\n",
    "        1 & \\text{if sentiment is towards positive}\n",
    "        \\\\\n",
    "        0 & \\text{if sentiment is towards negative}.\n",
    "        \\end{cases}\n",
    "    $$\n",
    "    Put the resulting arrays into the variables $X$ and $Y$. Split the data into three parts, train/test/validation where train is 60% of the data, test is 15% and validation is 25% of the data. Do not do this randomly, this is to make sure that we all did the same splits (we are in this case assuming the data is IID as presented in the dataset). That is [train,test,validation] is the splitting layout.\n",
    "\n",
    "2. [4p] There are many ways to solve this classification problem. The first main issue to resolve is to convert the $X$ variable to something that you can feed into a machine learning model. For instance, you can first use [`CountVectorizer`](https://scikit-learn.org/1.5/modules/generated/sklearn.feature_extraction.text.CountVectorizer.html) as the first step. The step that comes after should be a `LogisticRegression` model, but for this to work you need to put together the `CountVectorizer` and the `LogisticRegression` model into a [`Pipeline`](https://scikit-learn.org/1.5/modules/generated/sklearn.pipeline.Pipeline.html#sklearn.pipeline.Pipeline). Fill in the variable `model` such that it accepts the raw text as input and outputs a number $0$ or $1$, make sure that `model.predict_proba` works for this. **Hint: You might need to play with the parameters of LogisticRegression to get convergence, make sure that it doesn't take too long or the autograder might kill your code**\n",
    "3. [3p] Use your trained model and calculate the precision and recall on both classes. Fill in the corresponding variables with the answer.\n",
    "4. [3p] Let us now define a cost function\n",
    "    * A positive tweet that is classified as negative will have a cost of 1\n",
    "    * A negative tweet that is classified as positive will have a cost of 5\n",
    "    * Correct classifications cost 0\n",
    "    \n",
    "    complete filling the function `cost` to compute the cost of a prediction model under a certain prediction threshold (recall our precision recall lecture and the `predict_proba` function from trained models). \n",
    "\n",
    "5. [4p] Now, we wish to select the threshold of our classifier that minimizes the cost, fill in the selected threshold value in value `optimal_threshold`.\n",
    "6. [4p] With your newly computed threshold value, compute the cost of putting this model in production by computing the cost using the validation data. Also provide a confidence interval of the cost using Hoeffdings inequality with a 99% confidence.\n",
    "7. [3p] Let $t$ be the threshold you found and $f$ the model you fitted (one of the outputs of `predict_proba`), if we define the random variable\n",
    "    $$\n",
    "        C = (1-1_{f(X)\\geq t})Y+5(1-Y)1_{f(X) \\geq t}\n",
    "    $$\n",
    "    then $C$ denotes the cost of a randomly chosen tweet. In the previous step we estimated $\\mathbb{E}[C]$ using the empirical mean. However, since the threshold is chosen to minimize cost it is likely that $C=0$ or $C=1$ than $C=5$ as such it will have a low variance. Compute the empirical variance of $C$ on the validation set. What would be the confidence interval if we used Bennett's inequality instead of Hoeffding in point 6 but with the computed empirical variance as our guess for the variance?"
   ]
  },
  {
   "cell_type": "code",
   "id": "49e6fa33",
   "metadata": {
    "deletable": false,
    "lx_assignment_number": "4",
    "lx_assignment_type": "ASSIGNMENT",
    "lx_assignment_type2print": "Assignment",
    "lx_problem_cell_type": "PROBLEM",
    "lx_problem_number": "1",
    "lx_problem_points": "24",
    "ExecuteTime": {
     "end_time": "2025-01-13T11:59:17.712985Z",
     "start_time": "2025-01-13T11:59:16.910777Z"
    }
   },
   "source": [
    "from pandas import read_csv\n",
    "from sklearn.linear_model import LogisticRegression\n",
    "\n",
    "# Part 1\n",
    "\n",
    "# Load the data from the file specified in the problem definition and make sure that it is loaded using\n",
    "# the search path `data/Corona_NLP_train.csv`. This is to make sure the autograder and your computer have the same\n",
    "# file path and can load the data correctly.\n",
    "\n",
    "# Contrary to how many other problems are structured, this problem actually requires you to\n",
    "# have X on the shape (n_samples, ) that is a 1-dimensional array. Otherwise it will cause a bunch\n",
    "# of errors in the autograder or also in for instance CountVectorizer.\n",
    "\n",
    "# Make sure that all your data is numpy arrays and not pandas dataframes or series.\n",
    "\n",
    "data = read_csv(\"data/Corona_NLP_train.csv\", encoding=\"latin1\")\n",
    "\n",
    "filtered_data = data[data[\"Sentiment\"] != \"Neutral\"]\n",
    "\n",
    "X = filtered_data[\"OriginalTweet\"]\n",
    "Y = filtered_data[\"Sentiment\"].map(\n",
    "    {\"Extremely Positive\": 1, \"Positive\": 1, \"Negative\": 0, \"Extremely Negative\": 0})\n",
    "\n",
    "n = len(Y)\n",
    "train_end = int(0.6*n)\n",
    "test_end = train_end + int(0.15*n)\n",
    "Y_train, Y_test, Y_valid = Y[:train_end], Y[train_end:test_end], Y[test_end:]\n",
    "X_train, X_test, X_valid = X[:train_end], X[train_end:test_end], X[test_end:]"
   ],
   "outputs": [],
   "execution_count": 1
  },
  {
   "cell_type": "code",
   "id": "078fe203",
   "metadata": {
    "deletable": false,
    "lx_assignment_number": "4",
    "lx_assignment_type": "ASSIGNMENT",
    "lx_assignment_type2print": "Assignment",
    "lx_problem_cell_type": "PROBLEM",
    "lx_problem_number": "1",
    "lx_problem_points": "24",
    "ExecuteTime": {
     "end_time": "2025-01-13T11:59:18.783263Z",
     "start_time": "2025-01-13T11:59:17.723067Z"
    }
   },
   "source": [
    "from sklearn.feature_extraction.text import CountVectorizer\n",
    "from sklearn.linear_model import LogisticRegression\n",
    "from sklearn.pipeline import Pipeline\n",
    "# Part 2\n",
    "\n",
    "# Train a machine learning model or pipeline that can take the raw strings from X and predict Y=0,1 depending on the\n",
    "# sentiment of the tweet. Store the trained model in the variable `model`.\n",
    "\n",
    "model = Pipeline([(\"Vectorizer\", CountVectorizer()),\n",
    "                     (\"Classifier\", LogisticRegression(solver=\"liblinear\"))])\n",
    "\n",
    "model.fit(X_train, Y_train)\n",
    "\n",
    "p = model.predict_proba(X_test)\n",
    "print(p)"
   ],
   "outputs": [
    {
     "name": "stdout",
     "output_type": "stream",
     "text": [
      "[[0.87756822 0.12243178]\n",
      " [0.99712819 0.00287181]\n",
      " [0.03465636 0.96534364]\n",
      " ...\n",
      " [0.5880614  0.4119386 ]\n",
      " [0.94842084 0.05157916]\n",
      " [0.92855212 0.07144788]]\n"
     ]
    }
   ],
   "execution_count": 2
  },
  {
   "cell_type": "code",
   "id": "ec6fd1d4",
   "metadata": {
    "deletable": false,
    "lx_assignment_number": "4",
    "lx_assignment_type": "ASSIGNMENT",
    "lx_assignment_type2print": "Assignment",
    "lx_problem_cell_type": "PROBLEM",
    "lx_problem_number": "1",
    "lx_problem_points": "24",
    "ExecuteTime": {
     "end_time": "2025-01-13T11:59:19.031017Z",
     "start_time": "2025-01-13T11:59:18.954169Z"
    }
   },
   "source": [
    "from sklearn.metrics import classification_report\n",
    "\n",
    "# Part 3\n",
    "\n",
    "# Evaluate the model on the test set and calculate precision, and recall on both classes. Store the results in the\n",
    "# variables `precision_0`, `precision_1`, `recall_0`, `recall_1`.\n",
    "\n",
    "pred_test = model.predict(X_test)\n",
    "report = classification_report(Y_test, pred_test, output_dict=True)\n",
    "\n",
    "precision_0 = report[\"0\"][\"precision\"]\n",
    "precision_1 = report[\"1\"][\"precision\"]\n",
    "recall_0 = report[\"0\"][\"recall\"]\n",
    "recall_1 = report[\"1\"][\"recall\"]"
   ],
   "outputs": [],
   "execution_count": 3
  },
  {
   "cell_type": "code",
   "id": "10698374",
   "metadata": {
    "deletable": false,
    "lx_assignment_number": "4",
    "lx_assignment_type": "ASSIGNMENT",
    "lx_assignment_type2print": "Assignment",
    "lx_problem_cell_type": "PROBLEM",
    "lx_problem_number": "1",
    "lx_problem_points": "24",
    "ExecuteTime": {
     "end_time": "2025-01-13T11:59:19.037724Z",
     "start_time": "2025-01-13T11:59:19.034979Z"
    }
   },
   "source": [
    "import numpy as np\n",
    "\n",
    "\n",
    "# Part 4\n",
    "\n",
    "def cost(model, threshold, X, Y):\n",
    "    # Hint, make sure that the model has a predict_proba method\n",
    "    # think about how the decision is made based on the probabilities\n",
    "    # and how the threshold can be used to make the decision.\n",
    "    # For reference take a look at the lecture notes \"Bayes classifier\"\n",
    "    # which contains how the decision is made based on the probabilities when the threshold is 0.5.\n",
    "\n",
    "    # Fill in what is missing to compute the cost and return it\n",
    "    # Note that we are interested in average cost\n",
    "\n",
    "    # Get the probabilities for each of the positive classifications that the model has made\n",
    "    pos_prob = model.predict_proba(X)[:, 1]\n",
    "\n",
    "    # Make new predictions based on our own threshold (the original model defaults 0.5)\n",
    "    predictions = (np.array(pos_prob) >= threshold).astype(int)\n",
    "\n",
    "    cost_values = np.zeros_like(Y, dtype=float)\n",
    "    cost_values[(Y == 1) & (predictions == 0)] = 1  # Positive classified as Negative\n",
    "    cost_values[(Y == 0) & (predictions == 1)] = 5  # Negative classified as Positive\n",
    "\n",
    "    return np.mean(cost_values), cost_values"
   ],
   "outputs": [],
   "execution_count": 4
  },
  {
   "cell_type": "code",
   "id": "b21963ec",
   "metadata": {
    "deletable": false,
    "lx_assignment_number": "4",
    "lx_assignment_type": "ASSIGNMENT",
    "lx_assignment_type2print": "Assignment",
    "lx_problem_cell_type": "PROBLEM",
    "lx_problem_number": "1",
    "lx_problem_points": "24",
    "ExecuteTime": {
     "end_time": "2025-01-13T11:59:33.153999Z",
     "start_time": "2025-01-13T11:59:19.049411Z"
    }
   },
   "source": [
    "\n",
    "# Part 5\n",
    "\n",
    "# Find the optimal threshold for the model on the test set. Store the threshold in the variable `optimal_threshold`\n",
    "# and the cost at the optimal threshold in the variable `cost_at_optimal_threshold` evaluated on the test set.\n",
    "\n",
    "# Find the optimal threshold\n",
    "thresholds = np.linspace(0, 1, 201)\n",
    "costs = [cost(model, t, X_test, Y_test) for t in thresholds]\n",
    "\n",
    "optimal_threshold = thresholds[np.argmin(costs)]\n",
    "cost_at_optimal_threshold = min(costs)\n",
    "\n",
    "optimal_threshold, cost_at_optimal_threshold"
   ],
   "outputs": [
    {
     "data": {
      "text/plain": [
       "(np.float64(0.8), np.float64(0.2727272727272727))"
      ]
     },
     "execution_count": 5,
     "metadata": {},
     "output_type": "execute_result"
    }
   ],
   "execution_count": 5
  },
  {
   "cell_type": "code",
   "id": "79a1c5e6",
   "metadata": {
    "deletable": false,
    "lx_assignment_number": "4",
    "lx_assignment_type": "ASSIGNMENT",
    "lx_assignment_type2print": "Assignment",
    "lx_problem_cell_type": "PROBLEM",
    "lx_problem_number": "1",
    "lx_problem_points": "24",
    "ExecuteTime": {
     "end_time": "2025-01-13T12:04:48.389963Z",
     "start_time": "2025-01-13T12:04:47.059942Z"
    }
   },
   "source": [
    "# Part 6\n",
    "\n",
    "cost_opt_t = [cost(model, optimal_threshold, X_test[i:i+1], Y_test[i:i+1]) for i in range(len(X_test))]\n",
    "\n",
    "\n",
    "def hoeffdings_range_based(X, alpha):\n",
    "\n",
    "    log_term = np.log(2 / (1 - alpha))\n",
    "    range_term = (np.max(X) - np.min(X)) ** 2\n",
    "    denominator = 2 * len(X)\n",
    "\n",
    "    epsilon = np.sqrt((log_term * range_term) / denominator)\n",
    "    sample_mean = np.mean(X)\n",
    "    \n",
    "    return sample_mean - epsilon, sample_mean + epsilon\n",
    "\n",
    "hoeffdings_range_based(cost_opt_t, alpha=0.01)\n",
    "\n",
    "\n",
    "\n"
   ],
   "outputs": [
    {
     "data": {
      "text/plain": [
       "(np.float64(0.23086576110458354), np.float64(0.31458878434996185))"
      ]
     },
     "execution_count": 9,
     "metadata": {},
     "output_type": "execute_result"
    }
   ],
   "execution_count": 9
  },
  {
   "cell_type": "code",
   "id": "e3bc0760",
   "metadata": {
    "deletable": false,
    "lx_assignment_number": "4",
    "lx_assignment_type": "ASSIGNMENT",
    "lx_assignment_type2print": "Assignment",
    "lx_problem_cell_type": "PROBLEM",
    "lx_problem_number": "1",
    "lx_problem_points": "24",
    "ExecuteTime": {
     "end_time": "2025-01-13T11:59:34.639985Z",
     "start_time": "2025-01-13T11:59:34.450243Z"
    }
   },
   "source": [
    "\n",
    "# Part 7\n",
    "\n",
    "variance_of_C = XXX\n",
    "interval_of_C = XXX\n",
    "\n",
    "assert (type(interval_of_C) == tuple)\n",
    "assert (len(interval_of_C) == 2)"
   ],
   "outputs": [
    {
     "ename": "NameError",
     "evalue": "name 'XXX' is not defined",
     "output_type": "error",
     "traceback": [
      "\u001B[0;31m---------------------------------------------------------------------------\u001B[0m",
      "\u001B[0;31mNameError\u001B[0m                                 Traceback (most recent call last)",
      "Cell \u001B[0;32mIn[7], line 3\u001B[0m\n\u001B[1;32m      1\u001B[0m \u001B[38;5;66;03m# Part 7\u001B[39;00m\n\u001B[0;32m----> 3\u001B[0m variance_of_C \u001B[38;5;241m=\u001B[39m \u001B[43mXXX\u001B[49m\n\u001B[1;32m      4\u001B[0m interval_of_C \u001B[38;5;241m=\u001B[39m XXX\n\u001B[1;32m      6\u001B[0m \u001B[38;5;28;01massert\u001B[39;00m (\u001B[38;5;28mtype\u001B[39m(interval_of_C) \u001B[38;5;241m==\u001B[39m \u001B[38;5;28mtuple\u001B[39m)\n",
      "\u001B[0;31mNameError\u001B[0m: name 'XXX' is not defined"
     ]
    }
   ],
   "execution_count": 7
  }
 ],
 "metadata": {
  "kernelspec": {
   "display_name": "Python 3 (ipykernel)",
   "language": "python",
   "name": "python3"
  },
  "language_info": {
   "codemirror_mode": {
    "name": "ipython",
    "version": 3
   },
   "file_extension": ".py",
   "mimetype": "text/x-python",
   "name": "python",
   "nbconvert_exporter": "python",
   "pygments_lexer": "ipython3",
   "version": "3.11.7"
  },
  "lx_assignment_number": 4,
  "lx_course_instance": "2024",
  "lx_course_name": "Introduction to Data Science",
  "lx_course_number": "1MS041"
 },
 "nbformat": 4,
 "nbformat_minor": 5
}
