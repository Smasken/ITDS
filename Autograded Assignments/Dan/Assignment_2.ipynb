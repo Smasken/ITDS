{
 "cells": [
  {
   "cell_type": "markdown",
   "id": "bb5f5811",
   "metadata": {
    "deletable": false
   },
   "source": [
    "\n",
    "# Assignment 2 for Course 1MS041\n",
    "Make sure you pass the `# ... Test` cells and\n",
    " submit your solution notebook in the corresponding assignment on the course website. You can submit multiple times before the deadline and your highest score will be used."
   ]
  },
  {
   "cell_type": "markdown",
   "id": "7fbf36f2",
   "metadata": {
    "deletable": false,
    "lx_assignment_number": "2",
    "lx_assignment_type": "ASSIGNMENT",
    "lx_assignment_type2print": "Assignment",
    "lx_problem_cell_type": "PROBLEM",
    "lx_problem_number": "1",
    "lx_problem_points": "8"
   },
   "source": [
    "---\n",
    "## Assignment 2, PROBLEM 1\n",
    "Maximum Points = 8"
   ]
  },
  {
   "cell_type": "markdown",
   "id": "db58f10b",
   "metadata": {
    "deletable": false,
    "lx_assignment_number": "2",
    "lx_assignment_type": "ASSIGNMENT",
    "lx_assignment_type2print": "Assignment",
    "lx_problem_cell_type": "PROBLEM",
    "lx_problem_number": "1",
    "lx_problem_points": "8"
   },
   "source": [
    "\n",
    "A courier company operates a fleet of delivery trucks that make deliveries to different parts of the city. The trucks are equipped with GPS tracking devices that record the location of each truck at regular intervals. The locations are divided into three regions: downtown, the suburbs, and the countryside. The following table shows the probabilities of a truck transitioning between these regions at each time step:\n",
    "\n",
    "| Current region | Probability of transitioning to downtown | Probability of transitioning to the suburbs | Probability of transitioning to the countryside |\n",
    "|----------------|--------------------------------------------|-----------------------------------------------|------------------------------------------------|\n",
    "| Downtown       | 0.3                                      | 0.4                                           | 0.3                                            |\n",
    "| Suburbs        | 0.2                                      | 0.5                                           | 0.3                                            |\n",
    "| Countryside    | 0.4                                      | 0.3                                           | 0.3                                            |\n",
    "\n",
    "1. If a truck is currently in the suburbs, what is the probability that it will be in the downtown region after two time steps? [1.5p]\n",
    "2. If a truck is currently in the suburbs, what is the probability that it will be in the downtown region **the first time** after two time steps? [1.5p]\n",
    "3. Is this Markov chain irreducible? [1.5p]\n",
    "4. What is the stationary distribution? [1.5p]\n",
    "5. Advanced question: What is the expected number of steps until the first time one enters the downtown region having started in the suburbs region. Hint: to get within 1 decimal point, it is enough to compute the probabilities for hitting times below 30. [2p]\n",
    "\n"
   ]
  },
  {
   "cell_type": "code",
   "execution_count": 20,
   "id": "2c601f0f",
   "metadata": {
    "deletable": false,
    "lx_assignment_number": "2",
    "lx_assignment_type": "ASSIGNMENT",
    "lx_assignment_type2print": "Assignment",
    "lx_problem_cell_type": "PROBLEM",
    "lx_problem_number": "1",
    "lx_problem_points": "8"
   },
   "outputs": [],
   "source": [
    "# Part 1\n",
    "import numpy as np\n",
    "\n",
    "P = np.array([\n",
    "    [0.3, 0.4, 0.3],\n",
    "    [0.2, 0.5, 0.3],\n",
    "    [0.4, 0.3, 0.3]\n",
    "])\n",
    "P_squared = np.linalg.matrix_power(P, 2)\n",
    "\n",
    "# Fill in the answer to part 1 below as a decimal number\n",
    "problem1_p1 = P_squared[1,0]"
   ]
  },
  {
   "cell_type": "code",
   "execution_count": 5,
   "id": "52a172dc",
   "metadata": {
    "deletable": false,
    "lx_assignment_number": "2",
    "lx_assignment_type": "ASSIGNMENT",
    "lx_assignment_type2print": "Assignment",
    "lx_problem_cell_type": "PROBLEM",
    "lx_problem_number": "1",
    "lx_problem_points": "8"
   },
   "outputs": [],
   "source": [
    "# Part 2\n",
    "\n",
    "# Fill in the answer to part 2 below as a decimal number\n",
    "problem1_p2 = 0.22"
   ]
  },
  {
   "cell_type": "code",
   "execution_count": 6,
   "id": "a3b3872d",
   "metadata": {
    "deletable": false,
    "lx_assignment_number": "2",
    "lx_assignment_type": "ASSIGNMENT",
    "lx_assignment_type2print": "Assignment",
    "lx_problem_cell_type": "PROBLEM",
    "lx_problem_number": "1",
    "lx_problem_points": "8"
   },
   "outputs": [],
   "source": [
    "# Part 3\n",
    "\n",
    "# Fill in the answer to part 3 below as a boolean\n",
    "problem1_irreducible = True"
   ]
  },
  {
   "cell_type": "code",
   "execution_count": 11,
   "id": "1b9d0a00",
   "metadata": {
    "deletable": false,
    "lx_assignment_number": "2",
    "lx_assignment_type": "ASSIGNMENT",
    "lx_assignment_type2print": "Assignment",
    "lx_problem_cell_type": "PROBLEM",
    "lx_problem_number": "1",
    "lx_problem_points": "8"
   },
   "outputs": [
    {
     "data": {
      "text/plain": [
       "array([0.28888889, 0.41111111, 0.3       ])"
      ]
     },
     "execution_count": 11,
     "metadata": {},
     "output_type": "execute_result"
    }
   ],
   "source": [
    "# Part 4\n",
    "\n",
    "# Fill in the answer to part 4 below\n",
    "# the answer should be a numpy array of length 3\n",
    "# make sure that the entries sums to 1!\n",
    "# Finding eigenvector corresponding to lambda=1\n",
    "\n",
    "from scipy.linalg import solve\n",
    "A = np.array([\n",
    "    [0.3 - 1, 0.2, 0.4],\n",
    "    [0.4, 0.5 - 1, 0.3],\n",
    "    [0.3, 0.3, 0.3 - 1]\n",
    "])\n",
    "\n",
    "# Since we have the constraint that the sum of probabilities is 1, we add that row\n",
    "A = np.vstack([A, [1, 1, 1]])\n",
    "b = np.array([0, 0, 0, 1])  # Right side of the equations\n",
    "\n",
    "# Solve the linear system\n",
    "pi = solve(A.T @ A, A.T @ b)  # Use least squares to handle any redundancy\n",
    "problem1_stationary = pi\n",
    "pi"
   ]
  },
  {
   "cell_type": "code",
   "execution_count": 139,
   "id": "481625e3",
   "metadata": {
    "deletable": false,
    "lx_assignment_number": "2",
    "lx_assignment_type": "ASSIGNMENT",
    "lx_assignment_type2print": "Assignment",
    "lx_problem_cell_type": "PROBLEM",
    "lx_problem_number": "1",
    "lx_problem_points": "8"
   },
   "outputs": [],
   "source": [
    "# Part 5\n",
    "\n",
    "# Fill in the answer to part 5 below\n",
    "# That is, the expected number of steps as a decimal number\n",
    "# Initialize the hitting probabilities for each step\n",
    "max_steps = 30\n",
    "# Start in the suburbs state (index 1), looking to reach downtown state (index 0)\n",
    "initial_state = np.array([0, 1, 0])  # start from the suburbs\n",
    "target_index = 0  # downtown index\n",
    "\n",
    "# Array to store the probability of first hitting downtown at each step\n",
    "hitting_probabilities = []\n",
    "\n",
    "current_state = initial_state.copy()\n",
    "for step in range(1, max_steps + 1):\n",
    "    # Multiply by P to move one step forward in the Markov process\n",
    "    next_state = current_state @ P\n",
    "    # Probability of first hitting downtown at this step is the probability of being downtown now\n",
    "    # minus the probability of already having been downtown in prior steps\n",
    "    hitting_probability = next_state[target_index] - (hitting_probabilities[-1] if hitting_probabilities else 0)\n",
    "    hitting_probabilities.append(hitting_probability)\n",
    "    # Move forward in the process for next iteration\n",
    "    current_state = next_state\n",
    "\n",
    "# Expected hitting time: sum of (step * probability of first hitting at that step)\n",
    "expected_hitting_time = sum(step * hitting_probabilities[step - 1] for step in range(1, max_steps + 1))\n",
    "expected_hitting_time\n",
    "\n",
    "problem1_ET = 3.8"
   ]
  },
  {
   "cell_type": "markdown",
   "id": "4389563e",
   "metadata": {
    "deletable": false,
    "lx_assignment_number": "2",
    "lx_assignment_type": "ASSIGNMENT",
    "lx_assignment_type2print": "Assignment",
    "lx_problem_cell_type": "PROBLEM",
    "lx_problem_number": "2",
    "lx_problem_points": "4"
   },
   "source": [
    "---\n",
    "## Assignment 2, PROBLEM 2\n",
    "Maximum Points = 4"
   ]
  },
  {
   "cell_type": "markdown",
   "id": "d9a825d1",
   "metadata": {
    "deletable": false,
    "lx_assignment_number": "2",
    "lx_assignment_type": "ASSIGNMENT",
    "lx_assignment_type2print": "Assignment",
    "lx_problem_cell_type": "PROBLEM",
    "lx_problem_number": "2",
    "lx_problem_points": "4"
   },
   "source": [
    "\n",
    "Use the **Multi-dimensional Constrained Optimisation** example (in `07-Optimization.ipynb`) to numerically find the MLe for the mean and variance parameter based on `normallySimulatedDataSamples`, an array obtained by a specific simulation of $30$ IID samples from the $Normal(10,2)$ random variable.\n",
    "\n",
    "Recall that $Normal(\\mu, \\sigma^2)$ RV has the probability density function given by:\n",
    "\n",
    "$$\n",
    "f(x ;\\mu, \\sigma) = \\displaystyle\\frac{1}{\\sigma\\sqrt{2\\pi}}\\exp\\left(\\frac{-1}{2\\sigma^2}(x-\\mu)^2\\right)\n",
    "$$\n",
    "\n",
    "The two parameters, $\\mu \\in \\mathbb{R} := (-\\infty,\\infty)$ and $\\sigma \\in (0,\\infty)$, are sometimes referred to as the location and scale parameters.\n",
    "\n",
    "You know that the log likelihood function for $n$ IID samples from a Normal RV with parameters $\\mu$ and $\\sigma$ simply follows from $\\sum_{i=1}^n \\log(f(x_i; \\mu,\\sigma))$, based on the IID assumption. \n",
    "\n",
    "NOTE: When setting bounding boxes for $\\mu$ and $\\sigma$ try to start with some guesses like $[-20,20]$ and $[0.1,5.0]$ and make it larger if the solution is at the boundary. Making the left bounding-point for $\\sigma$ too close to $0.0$ will cause division by zero Warnings. Other numerical instabilities can happen in such iterative numerical solutions to the MLe. You need to be patient and learn by trial-and-error. You will see the mathematical theory in more details in a future course in scientific computing/optimisation. So don't worry too much now except learning to use it for our problems.  "
   ]
  },
  {
   "cell_type": "code",
   "execution_count": 17,
   "id": "699b52ca",
   "metadata": {
    "deletable": false,
    "lx_assignment_number": "2",
    "lx_assignment_type": "ASSIGNMENT",
    "lx_assignment_type2print": "Assignment",
    "lx_problem_cell_type": "PROBLEM",
    "lx_problem_number": "2",
    "lx_problem_points": "4"
   },
   "outputs": [
    {
     "data": {
      "text/plain": [
       "  message: CONVERGENCE: REL_REDUCTION_OF_F_<=_FACTR*EPSMCH\n",
       "  success: True\n",
       "   status: 0\n",
       "      fun: 58.631387282479764\n",
       "        x: [ 9.269e+00  1.708e+00]\n",
       "      nit: 5\n",
       "      jac: [ 9.237e-06 -6.750e-05]\n",
       "     nfev: 27\n",
       "     njev: 9\n",
       " hess_inv: <2x2 LbfgsInvHessProduct with dtype=float64>"
      ]
     },
     "execution_count": 17,
     "metadata": {},
     "output_type": "execute_result"
    }
   ],
   "source": [
    "import numpy as np\n",
    "from scipy import optimize\n",
    "# do NOT change the next three lines\n",
    "np.random.seed(123456) # set seed\n",
    "# simulate 30 IID samples drawn from Normal(10,2)RV\n",
    "normallySimulatedDataSamples = np.random.normal(10,2,30) \n",
    "\n",
    "# define the negative log likelihood function you want to minimise by editing XXX\n",
    "def negLogLklOfIIDNormalSamples(parameters):\n",
    "    '''return the -log(likelihood) of normallySimulatedDataSamples with mean and var parameters'''\n",
    "    mu_param=parameters[0]\n",
    "    sigma_param=parameters[1]\n",
    "    n=len(normallySimulatedDataSamples)\n",
    "    neg_log_likelihood = (n/2)*np.log(2*np.pi)+(n/2)*np.log(sigma_param**2)+(1/(2*sigma_param**2))*np.sum((normallySimulatedDataSamples-mu_param)**2)\n",
    "    return neg_log_likelihood\n",
    "\n",
    "# you should only change XXX below and not anything else\n",
    "parameter_bounding_box=((-10, 10), (0.1, 5)) # specify the constraints for each parameter - some guess work...\n",
    "initial_arguments = np.array([10, 2]) # point in 2D to initialise the minimize algorithm\n",
    "result_problem2_opt = optimize.minimize(negLogLklOfIIDNormalSamples, initial_arguments, bounds=parameter_bounding_box) \n",
    "# call the minimize method above finally! you need to play a bit to get initial conditions and bounding box ok\n",
    "result_problem2_opt\n"
   ]
  },
  {
   "cell_type": "markdown",
   "id": "948157f2",
   "metadata": {
    "deletable": false,
    "lx_assignment_number": "2",
    "lx_assignment_type": "ASSIGNMENT",
    "lx_assignment_type2print": "Assignment",
    "lx_problem_cell_type": "PROBLEM",
    "lx_problem_number": "3",
    "lx_problem_points": "4"
   },
   "source": [
    "---\n",
    "## Assignment 2, PROBLEM 3\n",
    "Maximum Points = 4"
   ]
  },
  {
   "cell_type": "markdown",
   "id": "0b9c787c",
   "metadata": {
    "deletable": false,
    "lx_assignment_number": "2",
    "lx_assignment_type": "ASSIGNMENT",
    "lx_assignment_type2print": "Assignment",
    "lx_problem_cell_type": "PROBLEM",
    "lx_problem_number": "3",
    "lx_problem_points": "4"
   },
   "source": [
    "\n",
    "\n",
    "Derive the maximum likelihood estimate for $n$ IID samples from a random variable with the following probability density function:\n",
    "$$\n",
    "f(x; \\lambda) = \\frac{1}{24} \\lambda^5 x^4 \\exp(-\\lambda x), \\qquad \\text{ where, } \\lambda>0, x > 0\n",
    "$$\n",
    "\n",
    "You can solve the MLe by hand (using pencil paper or using key-strokes). Present your solution as the return value of a function called `def MLeForAssignment2Problem3(x)`, where `x` is a list of $n$ input data points."
   ]
  },
  {
   "cell_type": "code",
   "execution_count": 140,
   "id": "41720f28",
   "metadata": {
    "deletable": false,
    "lx_assignment_number": "2",
    "lx_assignment_type": "ASSIGNMENT",
    "lx_assignment_type2print": "Assignment",
    "lx_problem_cell_type": "PROBLEM",
    "lx_problem_number": "3",
    "lx_problem_points": "4"
   },
   "outputs": [],
   "source": [
    "import numpy as np\n",
    "# do not change the name of the function, just replace XXX with the appropriate expressions for the MLe\n",
    "def MLeForAssignment2Problem3(x):\n",
    "    '''write comment of what this function does'''\n",
    "    n=len(x)\n",
    "    return 5*n / np.sum(x)"
   ]
  },
  {
   "cell_type": "markdown",
   "id": "84e51e44",
   "metadata": {
    "deletable": false,
    "lx_assignment_number": "2",
    "lx_assignment_type": "ASSIGNMENT",
    "lx_assignment_type2print": "Assignment",
    "lx_problem_cell_type": "PROBLEM",
    "lx_problem_number": "4",
    "lx_problem_points": "8"
   },
   "source": [
    "---\n",
    "## Assignment 2, PROBLEM 4\n",
    "Maximum Points = 8"
   ]
  },
  {
   "cell_type": "markdown",
   "id": "2e67892b",
   "metadata": {
    "deletable": false,
    "lx_assignment_number": "2",
    "lx_assignment_type": "ASSIGNMENT",
    "lx_assignment_type2print": "Assignment",
    "lx_problem_cell_type": "PROBLEM",
    "lx_problem_number": "4",
    "lx_problem_points": "8"
   },
   "source": [
    "\n",
    "## Random variable generation and transformation\n",
    "\n",
    "The purpose of this problem is to show that you can implement your own sampler, this will be built in the following three steps:\n",
    "\n",
    "1. [2p] Implement a Linear Congruential Generator where you tested out a good combination (a large $M$ with $a,b$ satisfying the Hull-Dobell (Thm 6.8)) of parameters. Follow the instructions in the code block.\n",
    "2. [2p] Using a generator construct random numbers from the uniform $[0,1]$ distribution.\n",
    "3. [4p] Using a uniform $[0,1]$ random generator, generate samples from \n",
    "\n",
    "$$p_0(x) = \\frac{\\pi}{2}|\\sin(2\\pi x)|, \\quad x \\in [0,1] \\enspace .$$\n",
    "\n",
    "Using the **Accept-Reject** sampler (**Algorithm 1** in TFDS notes) with sampling density given by the uniform $[0,1]$ distribution."
   ]
  },
  {
   "cell_type": "code",
   "execution_count": 154,
   "id": "530446bc",
   "metadata": {
    "deletable": false,
    "lx_assignment_number": "2",
    "lx_assignment_type": "ASSIGNMENT",
    "lx_assignment_type2print": "Assignment",
    "lx_problem_cell_type": "PROBLEM",
    "lx_problem_number": "4",
    "lx_problem_points": "8"
   },
   "outputs": [
    {
     "data": {
      "text/plain": [
       "41019"
      ]
     },
     "execution_count": 154,
     "metadata": {},
     "output_type": "execute_result"
    }
   ],
   "source": [
    "from math import gcd\n",
    "from sympy.ntheory import primefactors as prime_factors\n",
    "\n",
    "def problem4_LCG(size=None, seed=0):\n",
    "    m = 123123\n",
    "    a = 3*7*11*13*41+1\n",
    "    b = 202\n",
    "    x=seed\n",
    "    retValue = [x % m]\n",
    "    for i in range(0, b+1, 1):\n",
    "        x = (a * x + b) % m\n",
    "        retValue.append(x)\n",
    "    return retValue\n",
    "\n",
    "array = problem4_LCG(seed=13)\n",
    "max(array)"
   ]
  },
  {
   "cell_type": "code",
   "execution_count": 174,
   "id": "8d215c5a",
   "metadata": {
    "deletable": false,
    "lx_assignment_number": "2",
    "lx_assignment_type": "ASSIGNMENT",
    "lx_assignment_type2print": "Assignment",
    "lx_problem_cell_type": "PROBLEM",
    "lx_problem_number": "4",
    "lx_problem_points": "8"
   },
   "outputs": [
    {
     "data": {
      "text/plain": [
       "(array([6., 5., 5., 5., 5., 5., 5., 5., 5., 5., 5., 5., 5., 6., 5., 5., 5.,\n",
       "        5., 5., 5., 5., 5., 5., 5., 5., 5., 6., 5., 5., 5., 5., 5., 5., 5.,\n",
       "        5., 5., 5., 5., 5., 6.]),\n",
       " array([0.        , 0.02499147, 0.04998294, 0.0749744 , 0.09996587,\n",
       "        0.12495734, 0.14994881, 0.17494027, 0.19993174, 0.22492321,\n",
       "        0.24991468, 0.27490614, 0.29989761, 0.32488908, 0.34988055,\n",
       "        0.37487201, 0.39986348, 0.42485495, 0.44984642, 0.47483788,\n",
       "        0.49982935, 0.52482082, 0.54981229, 0.57480375, 0.59979522,\n",
       "        0.62478669, 0.64977816, 0.67476962, 0.69976109, 0.72475256,\n",
       "        0.74974403, 0.77473549, 0.79972696, 0.82471843, 0.8497099 ,\n",
       "        0.87470137, 0.89969283, 0.9246843 , 0.94967577, 0.97466724,\n",
       "        0.9996587 ]),\n",
       " <BarContainer object of 40 artists>)"
      ]
     },
     "execution_count": 174,
     "metadata": {},
     "output_type": "execute_result"
    },
    {
     "data": {
      "image/png": "[encoded data removed]",
      "text/plain": [
       "<Figure size 640x480 with 1 Axes>"
      ]
     },
     "metadata": {},
     "output_type": "display_data"
    }
   ],
   "source": [
    "from matplotlib import pyplot as plt\n",
    "def problem4_uniform(generator=problem4_LCG(seed=0), period = 2147483648, size=None, seed=0):\n",
    "    \"\"\"\n",
    "    Takes a generator and produces samples from the uniform [0,1] distribution according\n",
    "    to size.\n",
    "    \n",
    "    Parameters\n",
    "    -------------\n",
    "    generator : a function of type generator(size,seed) and produces the same result as problem1_LCG, i.e. pseudo random numbers in the range {0,1,...,period-1}\n",
    "    period : the period of the generator\n",
    "    seed : the seed to be used in the generator provided\n",
    "    size : an integer denoting how many samples should be produced\n",
    "    \n",
    "    Returns\n",
    "    --------------\n",
    "    out : a list of the uniform pseudo random numbers\n",
    "    \"\"\"\n",
    "    LCG = problem4_LCG(seed=seed)\n",
    "    scaledLCG = [x/41020 for x in LCG]\n",
    "    \n",
    "    return scaledLCG\n",
    "\n",
    "ScaledLCG = problem4_uniform(generator=problem4_LCG, period=256)\n",
    "\n",
    "plt.hist(ScaledLCG,bins=40)"
   ]
  },
  {
   "cell_type": "code",
   "execution_count": 185,
   "id": "15832284",
   "metadata": {
    "deletable": false,
    "lx_assignment_number": "2",
    "lx_assignment_type": "ASSIGNMENT",
    "lx_assignment_type2print": "Assignment",
    "lx_problem_cell_type": "PROBLEM",
    "lx_problem_number": "4",
    "lx_problem_points": "8"
   },
   "outputs": [
    {
     "data": {
      "text/plain": [
       "(array([0.23220055, 0.65306406, 0.86107705, 1.18035281, 1.28677807,\n",
       "        1.40287834, 1.42222839, 1.5093036 , 1.64959143, 1.33515318,\n",
       "        1.18519032, 0.97233982, 0.90461466, 0.47407613, 0.14512535,\n",
       "        0.15480037, 0.55147631, 0.75948931, 1.08844009, 1.16100277,\n",
       "        1.41739088, 1.45125346, 1.52865364, 1.50446609, 1.40771585,\n",
       "        1.26742802, 1.08844009, 0.93847724, 0.59017641, 0.3337883 ]),\n",
       " array([0.00531005, 0.03814325, 0.07097646, 0.10380966, 0.13664286,\n",
       "        0.16947607, 0.20230927, 0.23514248, 0.26797568, 0.30080889,\n",
       "        0.33364209, 0.36647529, 0.3993085 , 0.4321417 , 0.46497491,\n",
       "        0.49780811, 0.53064131, 0.56347452, 0.59630772, 0.62914093,\n",
       "        0.66197413, 0.69480734, 0.72764054, 0.76047374, 0.79330695,\n",
       "        0.82614015, 0.85897336, 0.89180656, 0.92463976, 0.95747297,\n",
       "        0.99030617]),\n",
       " <BarContainer object of 30 artists>)"
      ]
     },
     "execution_count": 185,
     "metadata": {},
     "output_type": "execute_result"
    },
    {
     "data": {
      "image/png": "[encoded data removed]",
      "text/plain": [
       "<Figure size 640x480 with 1 Axes>"
      ]
     },
     "metadata": {},
     "output_type": "display_data"
    }
   ],
   "source": [
    "\n",
    "import numpy as np\n",
    "import matplotlib.pyplot as plt\n",
    "\n",
    "def problem4_accept_reject(uniformGenerator=problem4_uniform, n_iterations=10000, seed=0):\n",
    "\n",
    "    accepted_samples = []  # List to store accepted samples\n",
    "    for _ in range(n_iterations):\n",
    "        x = uniformGenerator()  # Candidate sample from U[0,1]\n",
    "        u = uniformGenerator()  # Uniform random for acceptance criterion\n",
    "\n",
    "        # Acceptance check: u <= target density / (M * proposal density)\n",
    "        if u <= (np.abs(np.sin(2 * np.pi * x))):\n",
    "            accepted_samples.append(x)  # Accept x\n",
    "\n",
    "        # Stop if we have collected enough samples\n",
    "        if len(accepted_samples) >= n_iterations:\n",
    "            break\n",
    "\n",
    "    return np.array(accepted_samples)\n",
    "\n",
    "# Example usage with matplotlib for plotting\n",
    "plot = problem4_accept_reject(np.random.uniform, n_iterations=10000)\n",
    "plt.hist(plot, bins=30, density=True)\n"
   ]
  },
  {
   "cell_type": "markdown",
   "id": "9a298b4e",
   "metadata": {
    "deletable": false,
    "lx_assignment_number": "2",
    "lx_assignment_type": "ASSIGNMENT",
    "lx_assignment_type2print": "Assignment",
    "lx_problem_cell_type": "Test",
    "lx_problem_number": "4",
    "lx_problem_points": "8"
   },
   "source": [
    "---\n",
    "#### Local Test for Assignment 2, PROBLEM 4\n",
    "Evaluate cell below to make sure your answer is valid.                             You **should not** modify anything in the cell below when evaluating it to do a local test of                             your solution.\n",
    "You may need to include and evaluate code snippets from lecture notebooks in cells above to make the local test work correctly sometimes (see error messages for clues). This is meant to help you become efficient at recalling materials covered in lectures that relate to this problem. Such local tests will generally not be available in the exam."
   ]
  },
  {
   "cell_type": "code",
   "execution_count": 134,
   "id": "26cd1592",
   "metadata": {
    "deletable": false,
    "lx_assignment_number": "2",
    "lx_assignment_type": "ASSIGNMENT",
    "lx_assignment_type2print": "Assignment",
    "lx_problem_cell_type": "Test",
    "lx_problem_number": "4",
    "lx_problem_points": "8"
   },
   "outputs": [
    {
     "name": "stdout",
     "output_type": "stream",
     "text": [
      "LCG output: [1, 66774, 81335125, 568344274, 611500361, 782321838, 1418845917, 1553113450, 924969233, 242663430, 1802126565, 119788418]\n",
      "Uniform sampler [4.656612873077393e-10, 3.109406679868698e-05, 0.037874619010835886, 0.2646559262648225, 0.2847520452924073, 0.36429699417203665, 0.6607016162015498, 0.7232248084619641, 0.4307223637588322, 0.11299896519631147, 0.8391805761493742, 0.055780828930437565, 0.8197478470392525, 0.4541476806625724, 0.384843519423157, 0.25942004937678576, 0.1306166802532971, 0.4866076959297061, 0.7817841120995581, 0.34892346803098917, 0.09517185809090734, 0.46840799506753683, 0.9915893063880503, 0.7715519415214658, 0.7426959504373372, 0.5498962877318263, 0.6528022312559187, 0.005434856750071049, 0.19507711799815297, 0.15923705603927374, 0.23741633305326104, 0.02905255276709795, 0.07525637792423368, 0.22775335144251585, 0.7269007661379874, 0.34931249264627695, 0.5914561194367707, 0.44261234160512686, 0.3702570335008204, 0.275719185359776, 0.3596898694522679, 0.7143546072766185, 0.08660687739029527, 0.12813785765320063, 0.027053308207541704, 0.04676718916743994, 0.07481141993775964, 0.06565187592059374, 0.758296534884721, 0.996600384823978, 0.19262155378237367, 0.22401391807943583, 0.6481775832362473, 0.9106282955035567, 0.66785958269611, 0.8491908954456449, 0.12209718720987439, 0.127553123049438, 0.7041321122087538, 0.1145026246085763, 0.3875147965736687, 0.332253216765821, 0.5435741902329028, 0.3088542493060231, 0.9986458425410092, 0.2498748702928424, 0.549124697688967, 0.0835624122992158, 0.5969402533955872, 0.8672678684815764, 0.8688329891301692, 0.4452751772478223, 0.8898422201164067, 0.36926478426903486, 0.2446967833675444, 0.18248570058494806, 0.930331212002784, 0.9773040255531669, 0.5285313040949404, 0.4131396533921361, 0.7597442422993481, 0.8778966320678592, 0.46736967051401734, 0.9408363932743669, 0.4763793838210404, 0.428436822257936, 0.3208945379592478, 0.10712388623505831, 0.7923805345781147, 0.8278562901541591, 0.873400988522917, 0.8273873785510659, 0.1414034334011376, 0.4396222522482276, 0.4027906716801226, 0.49783181864768267, 0.3995629255659878, 0.9545792443677783, 0.16909719491377473, 0.461058028973639, 0.28216147841885686, 0.5811346685513854, 0.985042764339596, 0.7177326278761029, 0.4786989470012486, 0.4502880899235606, 0.4311260753311217, 0.5718517014756799, 0.5886635896749794, 0.42300428356975317, 0.27774145314469934, 0.8970982255414128, 0.9206043337471783, 0.4874300314113498, 0.6768292435444891, 0.7117932373657823, 0.2169842910952866, 0.9334546690806746, 0.6855574534274638, 0.7499407576397061, 0.36731552379205823, 0.4921143827959895, 0.6845346414484084, 0.7158664623275399, 0.1720750597305596, 0.6273402562364936, 0.2530540586449206, 0.9099501045420766, 0.2199021582491696, 0.1675500674173236, 0.06386903906241059, 0.9129516864195466, 0.9405768257565796, 0.46458383556455374, 0.35999964037910104, 0.01643138099461794, 0.8962795813567936, 0.26748311799019575, 0.5760705345310271, 0.08676320407539606, 0.373632472474128, 0.49861405696719885, 0.6666801483370364, 0.5502424361184239, 0.33902134047821164, 0.11963417660444975, 0.7043010541237891, 0.18678679410368204, 0.819699336308986, 0.27480292972177267, 0.30921161035075784, 0.41973135340958834, 0.7731716861017048, 0.8991359947249293, 0.4739588522352278, 0.7892172196879983, 0.5073617068119347, 0.978903322480619, 0.3448526323772967, 0.2966739507392049, 0.7140580718405545, 0.6519709331914783, 0.5229910113848746, 0.30789572838693857, 0.17814332665875554, 0.33548646327108145, 0.44731689849868417, 0.7022112803533673, 0.2251036544330418, 0.06840846221894026, 0.4222059422172606, 0.9552475521340966, 0.9693198916502297, 0.2563794394955039, 0.8520856709219515, 0.8427871288731694, 0.4256397937424481, 0.0064426613971591, 0.24558588350191712, 0.4532194072380662, 0.5467315507121384, 0.23910269793123007, 0.55172028997913, 0.19608551729470491, 0.24871855275705457, 0.7652297196909785, 0.3905994021333754, 0.49421699438244104, 0.48759540589526296, 0.5153075447306037, 0.7411746741272509, 0.8469682009890676, 0.4489251975901425, 0.10852543544024229, 0.6485138931311667, 0.9520424986258149, 0.9133180123753846, 0.9492136454209685, 0.5131078199483454, 0.5734121697023511, 0.8601906974799931, 0.03812271635979414, 0.5247080796398222, 0.8428320894017816, 0.3723078784532845, 0.6860465249046683, 0.8031963021494448, 0.6824471475556493, 0.9036042247898877, 0.3172890795394778, 0.8089845129288733, 0.03599342051893473, 0.972787965554744, 0.5504750674590468, 0.5854467735625803, 0.5960930930450559, 0.3452256550081074, 0.7442041514441371, 0.3958820723928511, 0.7151431301608682, 0.7656081882305443, 0.1950490167364478, 0.31750846514478326, 0.1872976990416646, 0.3038980667479336, 0.1753971679136157, 0.35498846555128694, 0.5890443408861756, 0.3770579141564667, 0.998636475764215, 0.6359856859780848, 0.8658738927915692, 0.5090602417476475, 0.2991844741627574, 0.251252728048712, 0.8525441596284509, 0.8916784641332924, 0.7148614069446921, 0.30175032326951623, 0.4144373359158635, 0.8085591648705304, 0.15910702478140593, 0.7152977236546576, 0.8975111776962876, 0.9850756120868027, 0.870541132055223, 0.3952543423511088, 0.5743439244106412, 0.9264625241048634, 0.42736788373440504, 0.26373264426365495, 0.7737729707732797, 0.3067320850677788, 0.9141238322481513, 0.7618422866798937, 0.381627288646996, 0.4708712105639279, 0.4282697243615985, 0.3694655098952353]\n",
      "Accept-Reject sampler [0.28475205 0.66070162 0.43072236 0.83918058 0.81974785 0.38484352\n",
      " 0.13061668 0.78178411 0.09517186 0.74269595 0.65280223 0.19507712\n",
      " 0.23741633 0.07525638 0.72690077 0.59145612 0.37025703 0.35968987\n",
      " 0.08660688 0.02705331 0.07481142 0.75829653 0.19262155 0.66785958\n",
      " 0.12209719 0.70413211 0.3875148  0.5491247  0.86883299 0.88984222\n",
      " 0.24469678 0.75974424 0.32089454 0.79238053 0.14140343 0.40279067\n",
      " 0.16909719 0.28216148 0.58866359 0.27774145 0.67682924 0.21698429\n",
      " 0.68555745 0.36731552 0.68453464 0.17207506 0.25305406 0.21990216\n",
      " 0.35999964 0.89627958 0.57607053 0.37363247 0.66668015 0.33902134\n",
      " 0.70430105 0.81969934 0.30921161 0.77317169 0.34485263 0.71405807\n",
      " 0.17814333 0.22510365 0.42563979 0.24558588 0.54673155 0.55172029\n",
      " 0.24871855 0.3905994  0.74117467 0.4489252  0.8601907  0.37230788\n",
      " 0.8031963  0.90360422 0.80898451 0.34522566 0.76560819 0.31750847\n",
      " 0.30389807 0.35498847 0.25125273 0.30175032 0.80855916 0.71529772\n",
      " 0.39525434 0.92646252 0.26373264 0.30673209 0.76184229]\n"
     ]
    }
   ],
   "source": [
    "\n",
    "# If you managed to solve all three parts you can test the following code to see if it runs\n",
    "# you have to change the period to match your LCG though, this is marked as XXX.\n",
    "# It is a very good idea to check these things using the histogram function in sagemath\n",
    "# try with a larger number of samples, up to 10000 should run\n",
    "\n",
    "print(\"LCG output: %s\" % problem4_LCG(size=10, seed = 1))\n",
    "\n",
    "period = 256\n",
    "\n",
    "print(\"Uniform sampler %s\" % problem4_uniform(generator=problem4_LCG, period = period, size=10, seed=1))\n",
    "\n",
    "uniform_sampler = lambda size,seed: problem4_uniform(generator=problem4_LCG, period = period, size=size, seed=seed)\n",
    "\n",
    "print(\"Accept-Reject sampler %s\" % problem4_accept_reject(uniformGenerator = uniform_sampler,n_iterations=20,seed=1))"
   ]
  },
  {
   "cell_type": "code",
   "execution_count": 135,
   "id": "5318f370",
   "metadata": {
    "deletable": false,
    "lx_assignment_number": "2",
    "lx_assignment_type": "ASSIGNMENT",
    "lx_assignment_type2print": "Assignment",
    "lx_problem_cell_type": "Test",
    "lx_problem_number": "4",
    "lx_problem_points": "8"
   },
   "outputs": [
    {
     "name": "stdout",
     "output_type": "stream",
     "text": [
      "Accept-Reject sampler [0.28475205 0.66070162 0.43072236 0.83918058 0.81974785 0.38484352\n",
      " 0.13061668 0.78178411 0.09517186 0.74269595 0.65280223 0.19507712\n",
      " 0.23741633 0.07525638 0.72690077 0.59145612 0.37025703 0.35968987\n",
      " 0.08660688 0.02705331 0.07481142 0.75829653 0.19262155 0.66785958\n",
      " 0.12209719 0.70413211 0.3875148  0.5491247  0.86883299 0.88984222\n",
      " 0.24469678 0.75974424 0.32089454 0.79238053 0.14140343 0.40279067\n",
      " 0.16909719 0.28216148 0.58866359 0.27774145 0.67682924 0.21698429\n",
      " 0.68555745 0.36731552 0.68453464 0.17207506 0.25305406 0.21990216\n",
      " 0.35999964 0.89627958 0.57607053 0.37363247 0.66668015 0.33902134\n",
      " 0.70430105 0.81969934 0.30921161 0.77317169 0.34485263 0.71405807\n",
      " 0.17814333 0.22510365 0.42563979 0.24558588 0.54673155 0.55172029\n",
      " 0.24871855 0.3905994  0.74117467 0.4489252  0.8601907  0.37230788\n",
      " 0.8031963  0.90360422 0.80898451 0.34522566 0.76560819 0.31750847\n",
      " 0.30389807 0.35498847 0.25125273 0.30175032 0.80855916 0.71529772\n",
      " 0.39525434 0.92646252 0.26373264 0.30673209 0.76184229]\n"
     ]
    }
   ],
   "source": [
    "\n",
    "# If however you did not manage to implement either part 1 or part 2 but still want to check part 3, you can run the code below\n",
    "\n",
    "def testUniformGenerator(size,seed):\n",
    "    import random\n",
    "    random.seed(seed)\n",
    "    \n",
    "    return [random.uniform(0,1) for s in range(size)]\n",
    "\n",
    "print(\"Accept-Reject sampler %s\" % problem4_accept_reject(uniformGenerator=testUniformGenerator, n_iterations=20, seed=1))"
   ]
  }
 ],
 "metadata": {
  "kernelspec": {
   "display_name": "base",
   "language": "python",
   "name": "python3"
  },
  "language_info": {
   "codemirror_mode": {
    "name": "ipython",
    "version": 3
   },
   "file_extension": ".py",
   "mimetype": "text/x-python",
   "name": "python",
   "nbconvert_exporter": "python",
   "pygments_lexer": "ipython3",
   "version": "3.11.7"
  },
  "lx_assignment_number": 2,
  "lx_course_instance": "2024",
  "lx_course_name": "Introduction to Data Science",
  "lx_course_number": "1MS041"
 },
 "nbformat": 4,
 "nbformat_minor": 5
}
