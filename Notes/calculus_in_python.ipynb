{
 "cells": [
  {
   "metadata": {
    "ExecuteTime": {
     "end_time": "2025-01-16T12:05:55.322635Z",
     "start_time": "2025-01-16T12:05:55.319235Z"
    }
   },
   "cell_type": "code",
   "source": [
    "#EXAMPLE FUNC\n",
    "def f(x):\n",
    "    return x ** 2"
   ],
   "id": "16b3b55906f0747a",
   "outputs": [],
   "execution_count": 12
  },
  {
   "metadata": {
    "ExecuteTime": {
     "end_time": "2025-01-16T12:05:55.332738Z",
     "start_time": "2025-01-16T12:05:55.329277Z"
    }
   },
   "cell_type": "code",
   "source": [
    "#DERIVATIVE (Symbolic)\n",
    "from sympy import symbols, diff\n",
    "from sympy.abc import lamda\n",
    "import numpy as np\n",
    "\n",
    "# Define a variable and a function\n",
    "x = symbols('x')\n",
    "f_sym = x ** 2\n",
    "\n",
    "print(f\"The derivative of the function is: {diff(f_sym, x)}\")"
   ],
   "id": "dabe57fe9df609d1",
   "outputs": [
    {
     "name": "stdout",
     "output_type": "stream",
     "text": [
      "The derivative of the function is: 2*x\n"
     ]
    }
   ],
   "execution_count": 13
  },
  {
   "metadata": {
    "ExecuteTime": {
     "end_time": "2025-01-16T12:09:08.538675Z",
     "start_time": "2025-01-16T12:09:08.535859Z"
    }
   },
   "cell_type": "code",
   "source": [
    "#DERIVATIVE of function at x (numerical)\n",
    "def df(func, x, dx=1e-10):\n",
    "    return (func(x + dx) - func(x - dx)) / (2 * dx)\n",
    "\n",
    "\n",
    "print(f\"The derivative of the function at x=0 is: {df(f, 0)}\")"
   ],
   "id": "433d190b957380fc",
   "outputs": [
    {
     "name": "stdout",
     "output_type": "stream",
     "text": [
      "The derivative of the function at x=0 is: 0.0\n"
     ]
    }
   ],
   "execution_count": 18
  },
  {
   "metadata": {
    "ExecuteTime": {
     "end_time": "2025-01-16T12:05:55.430399Z",
     "start_time": "2025-01-16T12:05:55.426947Z"
    }
   },
   "cell_type": "code",
   "source": [
    "#INTEGRATE function over [0, 1]\n",
    "def I(func, n=100000):\n",
    "    # Monte Carlo Integration\n",
    "    return np.mean(func(np.random.uniform(0, 1, n)))\n",
    "\n",
    "\n",
    "print(f\"The integral of the function over [0, 1] is: {I(f)}\")"
   ],
   "id": "75a0b54704f17053",
   "outputs": [
    {
     "name": "stdout",
     "output_type": "stream",
     "text": [
      "The integral of the function over [0, 1] is: 0.33389380381156303\n"
     ]
    }
   ],
   "execution_count": 15
  },
  {
   "metadata": {
    "ExecuteTime": {
     "end_time": "2025-01-16T12:05:55.505741Z",
     "start_time": "2025-01-16T12:05:55.502638Z"
    }
   },
   "cell_type": "code",
   "source": [
    "def get_normalized_function(fun):\n",
    "    return lambda x: fun(x) / I(fun)\n",
    "\n",
    "# Test the normalized function with a specific value of x (e.g., x = 0.5)\n",
    "print(f\"The normalized f(x) at x={0.5} is: {get_normalized_function(f)(0.5)}\")"
   ],
   "id": "230a782bd8910972",
   "outputs": [
    {
     "name": "stdout",
     "output_type": "stream",
     "text": [
      "The normalized f(x) at x=0.5 is: 0.7531277989929623\n"
     ]
    }
   ],
   "execution_count": 16
  }
 ],
 "metadata": {
  "kernelspec": {
   "display_name": "Python 3",
   "language": "python",
   "name": "python3"
  },
  "language_info": {
   "codemirror_mode": {
    "name": "ipython",
    "version": 2
   },
   "file_extension": ".py",
   "mimetype": "text/x-python",
   "name": "python",
   "nbconvert_exporter": "python",
   "pygments_lexer": "ipython2",
   "version": "2.7.6"
  }
 },
 "nbformat": 4,
 "nbformat_minor": 5
}
