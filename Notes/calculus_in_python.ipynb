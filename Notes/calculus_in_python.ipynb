{
 "cells": [
  {
   "metadata": {
    "ExecuteTime": {
     "end_time": "2025-01-15T17:25:57.182257Z",
     "start_time": "2025-01-15T17:25:57.174312Z"
    }
   },
   "cell_type": "code",
   "source": [
    "from sympy import symbols, diff\n",
    "from sympy.abc import lamda\n",
    "import numpy as np\n",
    "\n",
    "\n",
    "#EXAMPLE FUNC\n",
    "def f(x):\n",
    "    return x ** 2"
   ],
   "id": "8fa26c220a5a3c85",
   "outputs": [],
   "execution_count": 85
  },
  {
   "cell_type": "code",
   "id": "initial_id",
   "metadata": {
    "collapsed": true,
    "ExecuteTime": {
     "end_time": "2025-01-15T17:25:57.198206Z",
     "start_time": "2025-01-15T17:25:57.191648Z"
    }
   },
   "source": [
    "#DERIVATIVE (Symbolic)\n",
    "from sympy import symbols, diff\n",
    "from sympy.abc import lamda\n",
    "\n",
    "# Define a variable and a function\n",
    "x = symbols('x')\n",
    "f_sym = x ** 2\n",
    "\n",
    "print(f\"The derivative of the function is: {diff(f_sym, x)}\")"
   ],
   "outputs": [
    {
     "name": "stdout",
     "output_type": "stream",
     "text": [
      "The derivative of the function is: 2*x\n"
     ]
    }
   ],
   "execution_count": 86
  },
  {
   "metadata": {
    "ExecuteTime": {
     "end_time": "2025-01-15T17:25:57.212869Z",
     "start_time": "2025-01-15T17:25:57.209863Z"
    }
   },
   "cell_type": "code",
   "source": [
    "#DERIVATIVE of function at x (numerical)\n",
    "def df(func, x, dx=1e-10):\n",
    "    return (func(x + dx) - func(x - dx)) / (2 * dx)\n",
    "\n",
    "\n",
    "print(f\"The derivative of the function at x=1 is: {df(f, 0)}\")"
   ],
   "id": "f7463ab063f133f0",
   "outputs": [
    {
     "name": "stdout",
     "output_type": "stream",
     "text": [
      "The derivative of the function at x=1 is: 0.0\n"
     ]
    }
   ],
   "execution_count": 87
  },
  {
   "metadata": {
    "ExecuteTime": {
     "end_time": "2025-01-15T17:25:57.230553Z",
     "start_time": "2025-01-15T17:25:57.226880Z"
    }
   },
   "cell_type": "code",
   "source": [
    "#INTEGRATE function over [0, 1]\n",
    "def I(func, n=100000):\n",
    "    # Monte Carlo Integration\n",
    "    return np.mean(func(np.random.uniform(0, 1, n)))\n",
    "\n",
    "\n",
    "print(f\"The integral of the function over [0, 1] is: {I(f)}\")"
   ],
   "id": "75a0b54704f17053",
   "outputs": [
    {
     "name": "stdout",
     "output_type": "stream",
     "text": [
      "The integral of the function over [0, 1] is: 0.3332400537685754\n"
     ]
    }
   ],
   "execution_count": 88
  },
  {
   "metadata": {
    "ExecuteTime": {
     "end_time": "2025-01-15T17:25:57.305888Z",
     "start_time": "2025-01-15T17:25:57.302987Z"
    }
   },
   "cell_type": "code",
   "source": [
    "from scipy.integrate import quad\n",
    "\n",
    "# Define the normalization functn\n",
    "def get_normalized_function(fun):\n",
    "    integral = quad(fun, 0, 1)[0]  # Compute integral over [0, 1]\n",
    "    normalization_constant = 1 / integral\n",
    "\n",
    "    # Return the normalized function\n",
    "    def normalized_fun(x):\n",
    "        return normalization_constant * fun(x)\n",
    "\n",
    "    return normalized_fun"
   ],
   "id": "230a782bd8910972",
   "outputs": [],
   "execution_count": 89
  }
 ],
 "metadata": {
  "kernelspec": {
   "display_name": "Python 3",
   "language": "python",
   "name": "python3"
  },
  "language_info": {
   "codemirror_mode": {
    "name": "ipython",
    "version": 2
   },
   "file_extension": ".py",
   "mimetype": "text/x-python",
   "name": "python",
   "nbconvert_exporter": "python",
   "pygments_lexer": "ipython2",
   "version": "2.7.6"
  }
 },
 "nbformat": 4,
 "nbformat_minor": 5
}
