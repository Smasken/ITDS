{
 "cells": [
  {
   "cell_type": "markdown",
   "metadata": {},
   "source": [
    "Problem 1\n",
    "\n",
    "This is essentially the same as problem 4 in assignment 1\n",
    "\n",
    "Let’s say we have an exam question which consists of 20 yes/no questions. From past performance of\n",
    "similar students, a randomly chosen student will know the correct answer to 𝑁 ∼ binom(20, 11/20)\n",
    "questions. Furthermore, we assume that the student will guess the answer with equal probability\n",
    "to each question they don’t know the answer to, i.e. given 𝑁 we define 𝑍 ∼ binom(20 − 𝑁 , 1/2) as\n",
    "the number of correctly guessed answers. Define 𝑌 = 𝑁 + 𝑍, i.e., 𝑌 represents the number of total\n",
    "correct answers.\n",
    "We are interested in setting a deterministic threshold 𝑇 , i.e., we would pass a student at threshold\n",
    "𝑇 if 𝑌 ≥ 𝑇 . Here 𝑇 ∈ {0, 1, 2, ... , 20}.\n",
    "1. [5p] For each threshold 𝑇 , compute the probability that the student knows less than\n",
    "10 correct answers given that the student passed, i.e., 𝑁 < 10. Put the answer in\n",
    "problem11_probabilities as a list.\n",
    "2. [3p] What is the smallest value of 𝑇 such that if 𝑌 ≥ 𝑇 then we are 90% certain that 𝑁 ≥ 10?"
   ]
  },
  {
   "cell_type": "code",
   "execution_count": 5,
   "metadata": {},
   "outputs": [],
   "source": [
    "# We want to find P(N<10|Y>=T) (A|B)"
   ]
  },
  {
   "cell_type": "code",
   "execution_count": 7,
   "metadata": {},
   "outputs": [
    {
     "data": {
      "text/plain": [
       "[0.0015307441509554297,\n",
       " 0.0015307441508450256,\n",
       " 0.0015307441432394124,\n",
       " 0.0015307438943668445,\n",
       " 0.0015307387510004125,\n",
       " 0.0015306634578246328,\n",
       " 0.0015299831809291856,\n",
       " 0.001525995482238295,\n",
       " 0.0015097453994162818,\n",
       " 0.0014613233766861324,\n",
       " 0.001352242121684195,\n",
       " 0.0011625255705667336,\n",
       " 0.0009042671762339275,\n",
       " 0.0006257545746121421,\n",
       " 0.0003838760049282565,\n",
       " 0.00021057755764174177,\n",
       " 0.00010495959267083927,\n",
       " 4.8399893298043265e-05,\n",
       " 2.0989815106644922e-05,\n",
       " 8.67606623052575e-06,\n",
       " 3.4534154491733502e-06]"
      ]
     },
     "execution_count": 7,
     "metadata": {},
     "output_type": "execute_result"
    }
   ],
   "source": [
    "from scipy.special import binom as binomial\n",
    "from scipy.stats import binom as binomial_pmf\n",
    "\n",
    "n_questions = 20\n",
    "p_know = 11/20\n",
    "p_guess = 1/2\n",
    "p_N = lambda k: binomial(n_questions,k)*((1-p_know)**(n_questions-k))*((p_know)**k) # the PMF of N is p_N(k) where p_N is\n",
    "\n",
    "def prob_Y_given_N(y,k):\n",
    "    return binomial_pmf.pmf(y - k, n_questions - k, p_guess)\n",
    "\n",
    "def prob_Y(y):\n",
    "    return sum(p_N(k) * prob_Y_given_N(y,k) for k in range(n_questions+1))\n",
    "\n",
    "def prob_Y_geq_T(T):\n",
    "    return sum(prob_Y(y) for y in range(T, n_questions+1))\n",
    "\n",
    "def prob_N_given_Y(T):\n",
    "    prob = 0\n",
    "    for k in range(5):\n",
    "        for y in range(T, n_questions+1):\n",
    "            prob += p_N(k) * prob_Y_given_N(y,k)\n",
    "    return prob\n",
    "\n",
    "problem11_probabilities = []\n",
    "\n",
    "for T in range(n_questions+1):\n",
    "    p_N_given_Y = prob_N_given_Y(T)\n",
    "    p_Y_geq_T = prob_Y_geq_T(T)\n",
    "    if p_Y_geq_T > 0:\n",
    "        cond_prob = p_N_given_Y / p_Y_geq_T\n",
    "    else:\n",
    "        cond_prob = 0\n",
    "    problem11_probabilities.append(cond_prob)\n",
    "\n",
    "problem11_probabilities"
   ]
  },
  {
   "cell_type": "markdown",
   "metadata": {},
   "source": [
    "Problem 4"
   ]
  },
  {
   "cell_type": "code",
   "execution_count": null,
   "metadata": {},
   "outputs": [],
   "source": []
  }
 ],
 "metadata": {
  "kernelspec": {
   "display_name": "base",
   "language": "python",
   "name": "python3"
  },
  "language_info": {
   "codemirror_mode": {
    "name": "ipython",
    "version": 3
   },
   "file_extension": ".py",
   "mimetype": "text/x-python",
   "name": "python",
   "nbconvert_exporter": "python",
   "pygments_lexer": "ipython3",
   "version": "3.11.7"
  }
 },
 "nbformat": 4,
 "nbformat_minor": 2
}
