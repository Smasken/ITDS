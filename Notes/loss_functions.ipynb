{
 "cells": [
  {
   "cell_type": "code",
   "execution_count": null,
   "id": "initial_id",
   "metadata": {
    "collapsed": true
   },
   "outputs": [],
   "source": "import numpy as np"
  },
  {
   "metadata": {},
   "cell_type": "markdown",
   "source": "The loss function of logistic regression is the log loss, also known as the binary cross-entropy loss for binary classification problems. It measures the difference between the predicted probabilities and the actual labels, quantifying how well the logistic regression model’s predictions match the true outcomes.",
   "id": "1d61f062f14bf494"
  },
  {
   "metadata": {},
   "cell_type": "code",
   "outputs": [],
   "execution_count": null,
   "source": "",
   "id": "4e1dff979ede6ee7"
  },
  {
   "metadata": {},
   "cell_type": "markdown",
   "source": "",
   "id": "4537a107684d4dad"
  }
 ],
 "metadata": {
  "kernelspec": {
   "display_name": "Python 3",
   "language": "python",
   "name": "python3"
  },
  "language_info": {
   "codemirror_mode": {
    "name": "ipython",
    "version": 2
   },
   "file_extension": ".py",
   "mimetype": "text/x-python",
   "name": "python",
   "nbconvert_exporter": "python",
   "pygments_lexer": "ipython2",
   "version": "2.7.6"
  }
 },
 "nbformat": 4,
 "nbformat_minor": 5
}
