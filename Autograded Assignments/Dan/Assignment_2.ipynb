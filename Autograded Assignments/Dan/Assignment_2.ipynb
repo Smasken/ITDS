{
 "cells": [
  {
   "cell_type": "markdown",
   "id": "bb5f5811",
   "metadata": {
    "deletable": false
   },
   "source": [
    "\n",
    "# Assignment 2 for Course 1MS041\n",
    "Make sure you pass the `# ... Test` cells and\n",
    " submit your solution notebook in the corresponding assignment on the course website. You can submit multiple times before the deadline and your highest score will be used."
   ]
  },
  {
   "cell_type": "markdown",
   "id": "7fbf36f2",
   "metadata": {
    "deletable": false,
    "lx_assignment_number": "2",
    "lx_assignment_type": "ASSIGNMENT",
    "lx_assignment_type2print": "Assignment",
    "lx_problem_cell_type": "PROBLEM",
    "lx_problem_number": "1",
    "lx_problem_points": "8"
   },
   "source": [
    "---\n",
    "## Assignment 2, PROBLEM 1\n",
    "Maximum Points = 8"
   ]
  },
  {
   "cell_type": "markdown",
   "id": "db58f10b",
   "metadata": {
    "deletable": false,
    "lx_assignment_number": "2",
    "lx_assignment_type": "ASSIGNMENT",
    "lx_assignment_type2print": "Assignment",
    "lx_problem_cell_type": "PROBLEM",
    "lx_problem_number": "1",
    "lx_problem_points": "8"
   },
   "source": [
    "\n",
    "A courier company operates a fleet of delivery trucks that make deliveries to different parts of the city. The trucks are equipped with GPS tracking devices that record the location of each truck at regular intervals. The locations are divided into three regions: downtown, the suburbs, and the countryside. The following table shows the probabilities of a truck transitioning between these regions at each time step:\n",
    "\n",
    "| Current region | Probability of transitioning to downtown | Probability of transitioning to the suburbs | Probability of transitioning to the countryside |\n",
    "|----------------|--------------------------------------------|-----------------------------------------------|------------------------------------------------|\n",
    "| Downtown       | 0.3                                      | 0.4                                           | 0.3                                            |\n",
    "| Suburbs        | 0.2                                      | 0.5                                           | 0.3                                            |\n",
    "| Countryside    | 0.4                                      | 0.3                                           | 0.3                                            |\n",
    "\n",
    "1. If a truck is currently in the suburbs, what is the probability that it will be in the downtown region after two time steps? [1.5p]\n",
    "2. If a truck is currently in the suburbs, what is the probability that it will be in the downtown region **the first time** after two time steps? [1.5p]\n",
    "3. Is this Markov chain irreducible? [1.5p]\n",
    "4. What is the stationary distribution? [1.5p]\n",
    "5. Advanced question: What is the expected number of steps until the first time one enters the downtown region having started in the suburbs region. Hint: to get within 1 decimal point, it is enough to compute the probabilities for hitting times below 30. [2p]\n",
    "\n"
   ]
  },
  {
   "cell_type": "code",
   "id": "2c601f0f",
   "metadata": {
    "deletable": false,
    "lx_assignment_number": "2",
    "lx_assignment_type": "ASSIGNMENT",
    "lx_assignment_type2print": "Assignment",
    "lx_problem_cell_type": "PROBLEM",
    "lx_problem_number": "1",
    "lx_problem_points": "8",
    "ExecuteTime": {
     "end_time": "2025-01-11T15:37:58.256263Z",
     "start_time": "2025-01-11T15:37:58.207997Z"
    }
   },
   "source": [
    "# Part 1\n",
    "import numpy as np\n",
    "\n",
    "P = np.array([\n",
    "    [0.3, 0.4, 0.3],\n",
    "    [0.2, 0.5, 0.3],\n",
    "    [0.4, 0.3, 0.3]\n",
    "])\n",
    "P_squared = np.linalg.matrix_power(P, 2)\n",
    "\n",
    "# Fill in the answer to part 1 below as a decimal number\n",
    "problem1_p1 = P_squared[1,0]"
   ],
   "outputs": [],
   "execution_count": 1
  },
  {
   "cell_type": "code",
   "id": "52a172dc",
   "metadata": {
    "deletable": false,
    "lx_assignment_number": "2",
    "lx_assignment_type": "ASSIGNMENT",
    "lx_assignment_type2print": "Assignment",
    "lx_problem_cell_type": "PROBLEM",
    "lx_problem_number": "1",
    "lx_problem_points": "8",
    "ExecuteTime": {
     "end_time": "2025-01-11T15:37:58.265362Z",
     "start_time": "2025-01-11T15:37:58.263410Z"
    }
   },
   "source": [
    "# Part 2\n",
    "\n",
    "# Fill in the answer to part 2 below as a decimal number\n",
    "problem1_p2 = 0.22"
   ],
   "outputs": [],
   "execution_count": 2
  },
  {
   "cell_type": "code",
   "id": "a3b3872d",
   "metadata": {
    "deletable": false,
    "lx_assignment_number": "2",
    "lx_assignment_type": "ASSIGNMENT",
    "lx_assignment_type2print": "Assignment",
    "lx_problem_cell_type": "PROBLEM",
    "lx_problem_number": "1",
    "lx_problem_points": "8",
    "ExecuteTime": {
     "end_time": "2025-01-11T15:37:58.362255Z",
     "start_time": "2025-01-11T15:37:58.360600Z"
    }
   },
   "source": [
    "# Part 3\n",
    "\n",
    "# Fill in the answer to part 3 below as a boolean\n",
    "problem1_irreducible = True"
   ],
   "outputs": [],
   "execution_count": 3
  },
  {
   "cell_type": "code",
   "id": "1b9d0a00",
   "metadata": {
    "deletable": false,
    "lx_assignment_number": "2",
    "lx_assignment_type": "ASSIGNMENT",
    "lx_assignment_type2print": "Assignment",
    "lx_problem_cell_type": "PROBLEM",
    "lx_problem_number": "1",
    "lx_problem_points": "8",
    "ExecuteTime": {
     "end_time": "2025-01-11T15:37:58.537452Z",
     "start_time": "2025-01-11T15:37:58.372641Z"
    }
   },
   "source": [
    "# Part 4\n",
    "\n",
    "# Fill in the answer to part 4 below\n",
    "# the answer should be a numpy array of length 3\n",
    "# make sure that the entries sums to 1!\n",
    "# Finding eigenvector corresponding to lambda=1\n",
    "\n",
    "from scipy.linalg import solve\n",
    "A = np.array([\n",
    "    [0.3 - 1, 0.2, 0.4],\n",
    "    [0.4, 0.5 - 1, 0.3],\n",
    "    [0.3, 0.3, 0.3 - 1]\n",
    "])\n",
    "\n",
    "# Since we have the constraint that the sum of probabilities is 1, we add that row\n",
    "A = np.vstack([A, [1, 1, 1]])\n",
    "b = np.array([0, 0, 0, 1])  # Right side of the equations\n",
    "\n",
    "# Solve the linear system\n",
    "pi = solve(A.T @ A, A.T @ b)  # Use least squares to handle any redundancy\n",
    "problem1_stationary = pi\n",
    "pi"
   ],
   "outputs": [
    {
     "data": {
      "text/plain": [
       "array([0.28888889, 0.41111111, 0.3       ])"
      ]
     },
     "execution_count": 4,
     "metadata": {},
     "output_type": "execute_result"
    }
   ],
   "execution_count": 4
  },
  {
   "cell_type": "code",
   "id": "481625e3",
   "metadata": {
    "deletable": false,
    "lx_assignment_number": "2",
    "lx_assignment_type": "ASSIGNMENT",
    "lx_assignment_type2print": "Assignment",
    "lx_problem_cell_type": "PROBLEM",
    "lx_problem_number": "1",
    "lx_problem_points": "8",
    "ExecuteTime": {
     "end_time": "2025-01-11T15:37:58.547417Z",
     "start_time": "2025-01-11T15:37:58.544067Z"
    }
   },
   "source": [
    "# Part 5\n",
    "\n",
    "# Fill in the answer to part 5 below\n",
    "# That is, the expected number of steps as a decimal number\n",
    "# Initialize the hitting probabilities for each step\n",
    "max_steps = 30\n",
    "# Start in the suburbs state (index 1), looking to reach downtown state (index 0)\n",
    "initial_state = np.array([0, 1, 0])  # start from the suburbs\n",
    "target_index = 0  # downtown index\n",
    "\n",
    "# Array to store the probability of first hitting downtown at each step\n",
    "hitting_probabilities = []\n",
    "\n",
    "current_state = initial_state.copy()\n",
    "for step in range(1, max_steps + 1):\n",
    "    # Multiply by P to move one step forward in the Markov process\n",
    "    next_state = current_state @ P\n",
    "    # Probability of first hitting downtown at this step is the probability of being downtown now\n",
    "    # minus the probability of already having been downtown in prior steps\n",
    "    hitting_probability = next_state[target_index] - (hitting_probabilities[-1] if hitting_probabilities else 0)\n",
    "    hitting_probabilities.append(hitting_probability)\n",
    "    # Move forward in the process for next iteration\n",
    "    current_state = next_state\n",
    "\n",
    "# Expected hitting time: sum of (step * probability of first hitting at that step)\n",
    "expected_hitting_time = sum(step * hitting_probabilities[step - 1] for step in range(1, max_steps + 1))\n",
    "expected_hitting_time\n",
    "\n",
    "problem1_ET = 3.8"
   ],
   "outputs": [],
   "execution_count": 5
  },
  {
   "cell_type": "markdown",
   "id": "4389563e",
   "metadata": {
    "deletable": false,
    "lx_assignment_number": "2",
    "lx_assignment_type": "ASSIGNMENT",
    "lx_assignment_type2print": "Assignment",
    "lx_problem_cell_type": "PROBLEM",
    "lx_problem_number": "2",
    "lx_problem_points": "4"
   },
   "source": [
    "---\n",
    "## Assignment 2, PROBLEM 2\n",
    "Maximum Points = 4"
   ]
  },
  {
   "cell_type": "markdown",
   "id": "d9a825d1",
   "metadata": {
    "deletable": false,
    "lx_assignment_number": "2",
    "lx_assignment_type": "ASSIGNMENT",
    "lx_assignment_type2print": "Assignment",
    "lx_problem_cell_type": "PROBLEM",
    "lx_problem_number": "2",
    "lx_problem_points": "4"
   },
   "source": [
    "\n",
    "Use the **Multi-dimensional Constrained Optimisation** example (in `07-Optimization.ipynb`) to numerically find the MLe for the mean and variance parameter based on `normallySimulatedDataSamples`, an array obtained by a specific simulation of $30$ IID samples from the $Normal(10,2)$ random variable.\n",
    "\n",
    "Recall that $Normal(\\mu, \\sigma^2)$ RV has the probability density function given by:\n",
    "\n",
    "$$\n",
    "f(x ;\\mu, \\sigma) = \\displaystyle\\frac{1}{\\sigma\\sqrt{2\\pi}}\\exp\\left(\\frac{-1}{2\\sigma^2}(x-\\mu)^2\\right)\n",
    "$$\n",
    "\n",
    "The two parameters, $\\mu \\in \\mathbb{R} := (-\\infty,\\infty)$ and $\\sigma \\in (0,\\infty)$, are sometimes referred to as the location and scale parameters.\n",
    "\n",
    "You know that the log likelihood function for $n$ IID samples from a Normal RV with parameters $\\mu$ and $\\sigma$ simply follows from $\\sum_{i=1}^n \\log(f(x_i; \\mu,\\sigma))$, based on the IID assumption. \n",
    "\n",
    "NOTE: When setting bounding boxes for $\\mu$ and $\\sigma$ try to start with some guesses like $[-20,20]$ and $[0.1,5.0]$ and make it larger if the solution is at the boundary. Making the left bounding-point for $\\sigma$ too close to $0.0$ will cause division by zero Warnings. Other numerical instabilities can happen in such iterative numerical solutions to the MLe. You need to be patient and learn by trial-and-error. You will see the mathematical theory in more details in a future course in scientific computing/optimisation. So don't worry too much now except learning to use it for our problems.  "
   ]
  },
  {
   "cell_type": "code",
   "id": "699b52ca",
   "metadata": {
    "deletable": false,
    "lx_assignment_number": "2",
    "lx_assignment_type": "ASSIGNMENT",
    "lx_assignment_type2print": "Assignment",
    "lx_problem_cell_type": "PROBLEM",
    "lx_problem_number": "2",
    "lx_problem_points": "4",
    "ExecuteTime": {
     "end_time": "2025-01-11T15:37:58.637362Z",
     "start_time": "2025-01-11T15:37:58.559669Z"
    }
   },
   "source": [
    "import numpy as np\n",
    "from scipy import optimize\n",
    "# do NOT change the next three lines\n",
    "np.random.seed(123456) # set seed\n",
    "# simulate 30 IID samples drawn from Normal(10,2)RV\n",
    "normallySimulatedDataSamples = np.random.normal(10,2,30) \n",
    "\n",
    "# define the negative log likelihood function you want to minimise by editing XXX\n",
    "def negLogLklOfIIDNormalSamples(parameters):\n",
    "    '''return the -log(likelihood) of normallySimulatedDataSamples with mean and var parameters'''\n",
    "    mu_param=parameters[0]\n",
    "    sigma_param=parameters[1]\n",
    "    n=len(normallySimulatedDataSamples)\n",
    "    neg_log_likelihood = (n/2)*np.log(2*np.pi)+(n/2)*np.log(sigma_param**2)+(1/(2*sigma_param**2))*np.sum((normallySimulatedDataSamples-mu_param)**2)\n",
    "    return neg_log_likelihood\n",
    "\n",
    "# you should only change XXX below and not anything else\n",
    "parameter_bounding_box=((-10, 10), (0.1, 5)) # specify the constraints for each parameter - some guess work...\n",
    "initial_arguments = np.array([10, 2]) # point in 2D to initialise the minimize algorithm\n",
    "result_problem2_opt = optimize.minimize(negLogLklOfIIDNormalSamples, initial_arguments, bounds=parameter_bounding_box) \n",
    "# call the minimize method above finally! you need to play a bit to get initial conditions and bounding box ok\n",
    "result_problem2_opt\n"
   ],
   "outputs": [
    {
     "data": {
      "text/plain": [
       "  message: CONVERGENCE: REL_REDUCTION_OF_F_<=_FACTR*EPSMCH\n",
       "  success: True\n",
       "   status: 0\n",
       "      fun: 58.631387282479764\n",
       "        x: [ 9.269e+00  1.708e+00]\n",
       "      nit: 5\n",
       "      jac: [ 9.237e-06 -6.750e-05]\n",
       "     nfev: 27\n",
       "     njev: 9\n",
       " hess_inv: <2x2 LbfgsInvHessProduct with dtype=float64>"
      ]
     },
     "execution_count": 6,
     "metadata": {},
     "output_type": "execute_result"
    }
   ],
   "execution_count": 6
  },
  {
   "cell_type": "markdown",
   "id": "948157f2",
   "metadata": {
    "deletable": false,
    "lx_assignment_number": "2",
    "lx_assignment_type": "ASSIGNMENT",
    "lx_assignment_type2print": "Assignment",
    "lx_problem_cell_type": "PROBLEM",
    "lx_problem_number": "3",
    "lx_problem_points": "4"
   },
   "source": [
    "---\n",
    "## Assignment 2, PROBLEM 3\n",
    "Maximum Points = 4"
   ]
  },
  {
   "cell_type": "markdown",
   "id": "0b9c787c",
   "metadata": {
    "deletable": false,
    "lx_assignment_number": "2",
    "lx_assignment_type": "ASSIGNMENT",
    "lx_assignment_type2print": "Assignment",
    "lx_problem_cell_type": "PROBLEM",
    "lx_problem_number": "3",
    "lx_problem_points": "4"
   },
   "source": [
    "\n",
    "\n",
    "Derive the maximum likelihood estimate for $n$ IID samples from a random variable with the following probability density function:\n",
    "$$\n",
    "f(x; \\lambda) = \\frac{1}{24} \\lambda^5 x^4 \\exp(-\\lambda x), \\qquad \\text{ where, } \\lambda>0, x > 0\n",
    "$$\n",
    "\n",
    "You can solve the MLe by hand (using pencil paper or using key-strokes). Present your solution as the return value of a function called `def MLeForAssignment2Problem3(x)`, where `x` is a list of $n$ input data points."
   ]
  },
  {
   "cell_type": "code",
   "id": "41720f28",
   "metadata": {
    "deletable": false,
    "lx_assignment_number": "2",
    "lx_assignment_type": "ASSIGNMENT",
    "lx_assignment_type2print": "Assignment",
    "lx_problem_cell_type": "PROBLEM",
    "lx_problem_number": "3",
    "lx_problem_points": "4",
    "ExecuteTime": {
     "end_time": "2025-01-11T15:37:58.647405Z",
     "start_time": "2025-01-11T15:37:58.645053Z"
    }
   },
   "source": [
    "import numpy as np\n",
    "# do not change the name of the function, just replace XXX with the appropriate expressions for the MLe\n",
    "def MLeForAssignment2Problem3(x):\n",
    "    '''write comment of what this function does'''\n",
    "    n=len(x)\n",
    "    return 5*n / np.sum(x)"
   ],
   "outputs": [],
   "execution_count": 7
  },
  {
   "cell_type": "markdown",
   "id": "84e51e44",
   "metadata": {
    "deletable": false,
    "lx_assignment_number": "2",
    "lx_assignment_type": "ASSIGNMENT",
    "lx_assignment_type2print": "Assignment",
    "lx_problem_cell_type": "PROBLEM",
    "lx_problem_number": "4",
    "lx_problem_points": "8"
   },
   "source": [
    "---\n",
    "## Assignment 2, PROBLEM 4\n",
    "Maximum Points = 8"
   ]
  },
  {
   "cell_type": "markdown",
   "id": "2e67892b",
   "metadata": {
    "deletable": false,
    "lx_assignment_number": "2",
    "lx_assignment_type": "ASSIGNMENT",
    "lx_assignment_type2print": "Assignment",
    "lx_problem_cell_type": "PROBLEM",
    "lx_problem_number": "4",
    "lx_problem_points": "8"
   },
   "source": [
    "\n",
    "## Random variable generation and transformation\n",
    "\n",
    "The purpose of this problem is to show that you can implement your own sampler, this will be built in the following three steps:\n",
    "\n",
    "1. [2p] Implement a Linear Congruential Generator where you tested out a good combination (a large $M$ with $a,b$ satisfying the Hull-Dobell (Thm 6.8)) of parameters. Follow the instructions in the code block.\n",
    "2. [2p] Using a generator construct random numbers from the uniform $[0,1]$ distribution.\n",
    "3. [4p] Using a uniform $[0,1]$ random generator, generate samples from \n",
    "\n",
    "$$p_0(x) = \\frac{\\pi}{2}|\\sin(2\\pi x)|, \\quad x \\in [0,1] \\enspace .$$\n",
    "\n",
    "Using the **Accept-Reject** sampler (**Algorithm 1** in TFDS notes) with sampling density given by the uniform $[0,1]$ distribution."
   ]
  },
  {
   "cell_type": "code",
   "id": "530446bc",
   "metadata": {
    "deletable": false,
    "lx_assignment_number": "2",
    "lx_assignment_type": "ASSIGNMENT",
    "lx_assignment_type2print": "Assignment",
    "lx_problem_cell_type": "PROBLEM",
    "lx_problem_number": "4",
    "lx_problem_points": "8",
    "ExecuteTime": {
     "end_time": "2025-01-11T15:37:58.914790Z",
     "start_time": "2025-01-11T15:37:58.661865Z"
    }
   },
   "source": [
    "from math import gcd\n",
    "from sympy.ntheory import primefactors as prime_factors\n",
    "\n",
    "def problem4_LCG(size=None, seed=0):\n",
    "    m = 123123\n",
    "    a = 3*7*11*13*41+1\n",
    "    b = 202\n",
    "    x=seed\n",
    "    retValue = [x % m]\n",
    "    for i in range(0, b+1, 1):\n",
    "        x = (a * x + b) % m\n",
    "        retValue.append(x)\n",
    "    return retValue\n",
    "\n",
    "array = problem4_LCG(seed=13)\n",
    "max(array)"
   ],
   "outputs": [
    {
     "data": {
      "text/plain": [
       "41019"
      ]
     },
     "execution_count": 8,
     "metadata": {},
     "output_type": "execute_result"
    }
   ],
   "execution_count": 8
  },
  {
   "cell_type": "code",
   "id": "8d215c5a",
   "metadata": {
    "deletable": false,
    "lx_assignment_number": "2",
    "lx_assignment_type": "ASSIGNMENT",
    "lx_assignment_type2print": "Assignment",
    "lx_problem_cell_type": "PROBLEM",
    "lx_problem_number": "4",
    "lx_problem_points": "8",
    "ExecuteTime": {
     "end_time": "2025-01-11T15:37:59.214429Z",
     "start_time": "2025-01-11T15:37:58.919293Z"
    }
   },
   "source": [
    "from matplotlib import pyplot as plt\n",
    "def problem4_uniform(generator=problem4_LCG(seed=0), period = 2147483648, size=None, seed=0):\n",
    "    \"\"\"\n",
    "    Takes a generator and produces samples from the uniform [0,1] distribution according\n",
    "    to size.\n",
    "    \n",
    "    Parameters\n",
    "    -------------\n",
    "    generator : a function of type generator(size,seed) and produces the same result as problem1_LCG, i.e. pseudo random numbers in the range {0,1,...,period-1}\n",
    "    period : the period of the generator\n",
    "    seed : the seed to be used in the generator provided\n",
    "    size : an integer denoting how many samples should be produced\n",
    "    \n",
    "    Returns\n",
    "    --------------\n",
    "    out : a list of the uniform pseudo random numbers\n",
    "    \"\"\"\n",
    "    LCG = problem4_LCG(seed=seed)\n",
    "    scaledLCG = [x/41020 for x in LCG]\n",
    "    \n",
    "    return scaledLCG\n",
    "\n",
    "ScaledLCG = problem4_uniform(generator=problem4_LCG, period=256)\n",
    "\n",
    "plt.hist(ScaledLCG,bins=40)"
   ],
   "outputs": [
    {
     "data": {
      "text/plain": [
       "(array([6., 5., 5., 5., 5., 5., 5., 5., 5., 5., 5., 5., 5., 6., 5., 5., 5.,\n",
       "        5., 5., 5., 5., 5., 5., 5., 5., 5., 6., 5., 5., 5., 5., 5., 5., 5.,\n",
       "        5., 5., 5., 5., 5., 6.]),\n",
       " array([0.        , 0.02499147, 0.04998294, 0.0749744 , 0.09996587,\n",
       "        0.12495734, 0.14994881, 0.17494027, 0.19993174, 0.22492321,\n",
       "        0.24991468, 0.27490614, 0.29989761, 0.32488908, 0.34988055,\n",
       "        0.37487201, 0.39986348, 0.42485495, 0.44984642, 0.47483788,\n",
       "        0.49982935, 0.52482082, 0.54981229, 0.57480375, 0.59979522,\n",
       "        0.62478669, 0.64977816, 0.67476962, 0.69976109, 0.72475256,\n",
       "        0.74974403, 0.77473549, 0.79972696, 0.82471843, 0.8497099 ,\n",
       "        0.87470137, 0.89969283, 0.9246843 , 0.94967577, 0.97466724,\n",
       "        0.9996587 ]),\n",
       " <BarContainer object of 40 artists>)"
      ]
     },
     "execution_count": 9,
     "metadata": {},
     "output_type": "execute_result"
    },
    {
     "data": {
      "text/plain": [
       "<Figure size 640x480 with 1 Axes>"
      ],
      "image/png": "[encoded data removed]"
     },
     "metadata": {},
     "output_type": "display_data"
    }
   ],
   "execution_count": 9
  },
  {
   "cell_type": "code",
   "id": "15832284",
   "metadata": {
    "deletable": false,
    "lx_assignment_number": "2",
    "lx_assignment_type": "ASSIGNMENT",
    "lx_assignment_type2print": "Assignment",
    "lx_problem_cell_type": "PROBLEM",
    "lx_problem_number": "4",
    "lx_problem_points": "8",
    "ExecuteTime": {
     "end_time": "2025-01-11T15:37:59.332170Z",
     "start_time": "2025-01-11T15:37:59.233464Z"
    }
   },
   "source": [
    "\n",
    "import numpy as np\n",
    "import matplotlib.pyplot as plt\n",
    "\n",
    "def problem4_accept_reject(uniformGenerator=problem4_uniform, n_iterations=10000, seed=0):\n",
    "\n",
    "    accepted_samples = []  # List to store accepted samples\n",
    "    for _ in range(n_iterations):\n",
    "        x = uniformGenerator()  # Candidate sample from U[0,1]\n",
    "        u = uniformGenerator()  # Uniform random for acceptance criterion\n",
    "\n",
    "        # Acceptance check: u <= target density / (M * proposal density)\n",
    "        if u <= (np.abs(np.sin(2 * np.pi * x))):\n",
    "            accepted_samples.append(x)  # Accept x\n",
    "\n",
    "        # Stop if we have collected enough samples\n",
    "        if len(accepted_samples) >= n_iterations:\n",
    "            break\n",
    "\n",
    "    return np.array(accepted_samples)\n",
    "\n",
    "# Example usage with matplotlib for plotting\n",
    "plot = problem4_accept_reject(np.random.uniform, n_iterations=10000)\n",
    "plt.hist(plot, bins=30, density=True)\n"
   ],
   "outputs": [
    {
     "data": {
      "text/plain": [
       "(array([0.2051572 , 0.57253173, 0.77291784, 1.16414786, 1.14029237,\n",
       "        1.26911201, 1.52198019, 1.58400446, 1.63171544, 1.4981247 ,\n",
       "        1.19277444, 1.02101492, 0.81108662, 0.38645892, 0.12404854,\n",
       "        0.15267513, 0.49619417, 0.73474906, 1.13552127, 1.45518482,\n",
       "        1.52675129, 1.53629348, 1.63171544, 1.39316055, 1.39793165,\n",
       "        1.36453396, 1.01147273, 0.74429125, 0.61547161, 0.25286818]),\n",
       " array([0.0080593 , 0.04101455, 0.0739698 , 0.10692505, 0.13988029,\n",
       "        0.17283554, 0.20579079, 0.23874603, 0.27170128, 0.30465653,\n",
       "        0.33761177, 0.37056702, 0.40352227, 0.43647751, 0.46943276,\n",
       "        0.50238801, 0.53534325, 0.5682985 , 0.60125375, 0.63420899,\n",
       "        0.66716424, 0.70011949, 0.73307473, 0.76602998, 0.79898523,\n",
       "        0.83194047, 0.86489572, 0.89785097, 0.93080621, 0.96376146,\n",
       "        0.99671671]),\n",
       " <BarContainer object of 30 artists>)"
      ]
     },
     "execution_count": 10,
     "metadata": {},
     "output_type": "execute_result"
    },
    {
     "data": {
      "text/plain": [
       "<Figure size 640x480 with 1 Axes>"
      ],
      "image/png": "[encoded data removed]"
     },
     "metadata": {},
     "output_type": "display_data"
    }
   ],
   "execution_count": 10
  },
  {
   "cell_type": "markdown",
   "id": "9a298b4e",
   "metadata": {
    "deletable": false,
    "lx_assignment_number": "2",
    "lx_assignment_type": "ASSIGNMENT",
    "lx_assignment_type2print": "Assignment",
    "lx_problem_cell_type": "Test",
    "lx_problem_number": "4",
    "lx_problem_points": "8"
   },
   "source": [
    "---\n",
    "#### Local Test for Assignment 2, PROBLEM 4\n",
    "Evaluate cell below to make sure your answer is valid.                             You **should not** modify anything in the cell below when evaluating it to do a local test of                             your solution.\n",
    "You may need to include and evaluate code snippets from lecture notebooks in cells above to make the local test work correctly sometimes (see error messages for clues). This is meant to help you become efficient at recalling materials covered in lectures that relate to this problem. Such local tests will generally not be available in the exam."
   ]
  },
  {
   "cell_type": "code",
   "id": "26cd1592",
   "metadata": {
    "deletable": false,
    "lx_assignment_number": "2",
    "lx_assignment_type": "ASSIGNMENT",
    "lx_assignment_type2print": "Assignment",
    "lx_problem_cell_type": "Test",
    "lx_problem_number": "4",
    "lx_problem_points": "8",
    "ExecuteTime": {
     "end_time": "2025-01-11T15:37:59.570042Z",
     "start_time": "2025-01-11T15:37:59.348856Z"
    }
   },
   "source": [
    "\n",
    "# If you managed to solve all three parts you can test the following code to see if it runs\n",
    "# you have to change the period to match your LCG though, this is marked as XXX.\n",
    "# It is a very good idea to check these things using the histogram function in sagemath\n",
    "# try with a larger number of samples, up to 10000 should run\n",
    "\n",
    "print(\"LCG output: %s\" % problem4_LCG(size=10, seed = 1))\n",
    "\n",
    "period = 256\n",
    "\n",
    "print(\"Uniform sampler %s\" % problem4_uniform(generator=problem4_LCG, period = period, size=10, seed=1))\n",
    "\n",
    "uniform_sampler = lambda size,seed: problem4_uniform(generator=problem4_LCG, period = period, size=size, seed=seed)\n",
    "\n",
    "print(\"Accept-Reject sampler %s\" % problem4_accept_reject(uniformGenerator = uniform_sampler,n_iterations=20,seed=1))"
   ],
   "outputs": [
    {
     "name": "stdout",
     "output_type": "stream",
     "text": [
      "LCG output: [1, 203, 405, 607, 809, 1011, 1213, 1415, 1617, 1819, 2021, 2223, 2425, 2627, 2829, 3031, 3233, 3435, 3637, 3839, 4041, 4243, 4445, 4647, 4849, 5051, 5253, 5455, 5657, 5859, 6061, 6263, 6465, 6667, 6869, 7071, 7273, 7475, 7677, 7879, 8081, 8283, 8485, 8687, 8889, 9091, 9293, 9495, 9697, 9899, 10101, 10303, 10505, 10707, 10909, 11111, 11313, 11515, 11717, 11919, 12121, 12323, 12525, 12727, 12929, 13131, 13333, 13535, 13737, 13939, 14141, 14343, 14545, 14747, 14949, 15151, 15353, 15555, 15757, 15959, 16161, 16363, 16565, 16767, 16969, 17171, 17373, 17575, 17777, 17979, 18181, 18383, 18585, 18787, 18989, 19191, 19393, 19595, 19797, 19999, 20201, 20403, 20605, 20807, 21009, 21211, 21413, 21615, 21817, 22019, 22221, 22423, 22625, 22827, 23029, 23231, 23433, 23635, 23837, 24039, 24241, 24443, 24645, 24847, 25049, 25251, 25453, 25655, 25857, 26059, 26261, 26463, 26665, 26867, 27069, 27271, 27473, 27675, 27877, 28079, 28281, 28483, 28685, 28887, 29089, 29291, 29493, 29695, 29897, 30099, 30301, 30503, 30705, 30907, 31109, 31311, 31513, 31715, 31917, 32119, 32321, 32523, 32725, 32927, 33129, 33331, 33533, 33735, 33937, 34139, 34341, 34543, 34745, 34947, 35149, 35351, 35553, 35755, 35957, 36159, 36361, 36563, 36765, 36967, 37169, 37371, 37573, 37775, 37977, 38179, 38381, 38583, 38785, 38987, 39189, 39391, 39593, 39795, 39997, 40199, 40401, 40603, 40805, 41007]\n",
      "Uniform sampler [2.4378352023403218e-05, 0.004948805460750853, 0.009873232569478304, 0.014797659678205753, 0.019722086786933202, 0.02464651389566065, 0.029570941004388104, 0.03449536811311555, 0.039419795221843, 0.044344222330570456, 0.0492686494392979, 0.054193076548025354, 0.05911750365675281, 0.06404193076548026, 0.0689663578742077, 0.07389078498293515, 0.0788152120916626, 0.08373963920039006, 0.08866406630911751, 0.09358849341784495, 0.0985129205265724, 0.10343734763529985, 0.1083617747440273, 0.11328620185275476, 0.1182106289614822, 0.12313505607020965, 0.12805948317893712, 0.13298391028766454, 0.137908337396392, 0.14283276450511945, 0.1477571916138469, 0.15268161872257435, 0.1576060458313018, 0.16253047294002926, 0.1674549000487567, 0.17237932715748416, 0.17730375426621162, 0.18222818137493904, 0.1871526084836665, 0.19207703559239395, 0.1970014627011214, 0.20192588980984885, 0.2068503169185763, 0.21177474402730376, 0.2166991711360312, 0.22162359824475866, 0.22654802535348612, 0.23147245246221357, 0.236396879570941, 0.24132130667966845, 0.2462457337883959, 0.25117016089712335, 0.25609458800585083, 0.26101901511457826, 0.2659434422233057, 0.27086786933203316, 0.2757922964407606, 0.28071672354948807, 0.2856411506582155, 0.290565577766943, 0.2954900048756704, 0.3004144319843979, 0.3053388590931253, 0.31026328620185273, 0.3151877133105802, 0.32011214041930763, 0.3250365675280351, 0.32996099463676254, 0.33488542174549, 0.33980984885421744, 0.3447342759629449, 0.34965870307167235, 0.35458313018039983, 0.35950755728912726, 0.3644319843978547, 0.36935641150658216, 0.3742808386153096, 0.37920526572403707, 0.3841296928327645, 0.38905411994149197, 0.3939785470502194, 0.3989029741589469, 0.4038274012676743, 0.4087518283764018, 0.4136762554851292, 0.41860068259385663, 0.4235251097025841, 0.42844953681131154, 0.433373963920039, 0.43829839102876644, 0.4432228181374939, 0.44814724524622135, 0.45307167235494883, 0.45799609946367625, 0.4629205265724037, 0.46784495368113116, 0.4727693807898586, 0.47769380789858606, 0.4826182350073135, 0.48754266211604097, 0.4924670892247684, 0.4973915163334959, 0.5023159434422233, 0.5072403705509507, 0.5121647976596782, 0.5170892247684057, 0.5220136518771331, 0.5269380789858605, 0.531862506094588, 0.5367869332033155, 0.5417113603120429, 0.5466357874207703, 0.5515602145294978, 0.5564846416382253, 0.5614090687469527, 0.5663334958556802, 0.5712579229644076, 0.576182350073135, 0.5811067771818625, 0.58603120429059, 0.5909556313993174, 0.5958800585080448, 0.6008044856167724, 0.6057289127254998, 0.6106533398342272, 0.6155777669429546, 0.620502194051682, 0.6254266211604096, 0.630351048269137, 0.6352754753778644, 0.6401999024865919, 0.6451243295953194, 0.6500487567040468, 0.6549731838127743, 0.6598976109215017, 0.6648220380302291, 0.6697464651389566, 0.6746708922476841, 0.6795953193564115, 0.6845197464651389, 0.6894441735738664, 0.6943686006825939, 0.6992930277913213, 0.7042174549000487, 0.7091418820087763, 0.7140663091175037, 0.7189907362262311, 0.7239151633349585, 0.728839590443686, 0.7337640175524135, 0.7386884446611409, 0.7436128717698683, 0.7485372988785958, 0.7534617259873233, 0.7583861530960507, 0.7633105802047782, 0.7682350073135056, 0.773159434422233, 0.7780838615309605, 0.783008288639688, 0.7879327157484154, 0.7928571428571428, 0.7977815699658704, 0.8027059970745978, 0.8076304241833252, 0.8125548512920526, 0.8174792784007802, 0.8224037055095076, 0.827328132618235, 0.8322525597269624, 0.8371769868356899, 0.8421014139444174, 0.8470258410531448, 0.8519502681618722, 0.8568746952705997, 0.8617991223793272, 0.8667235494880546, 0.8716479765967821, 0.8765724037055095, 0.8814968308142369, 0.8864212579229644, 0.8913456850316919, 0.8962701121404193, 0.9011945392491467, 0.9061189663578743, 0.9110433934666017, 0.9159678205753291, 0.9208922476840565, 0.925816674792784, 0.9307411019015115, 0.9356655290102389, 0.9405899561189663, 0.9455143832276938, 0.9504388103364213, 0.9553632374451487, 0.9602876645538762, 0.9652120916626036, 0.9701365187713311, 0.9750609458800585, 0.979985372988786, 0.9849098000975134, 0.9898342272062408, 0.9947586543149683, 0.9996830814236958]\n"
     ]
    },
    {
     "ename": "TypeError",
     "evalue": "<lambda>() missing 2 required positional arguments: 'size' and 'seed'",
     "output_type": "error",
     "traceback": [
      "\u001B[0;31m---------------------------------------------------------------------------\u001B[0m",
      "\u001B[0;31mTypeError\u001B[0m                                 Traceback (most recent call last)",
      "Cell \u001B[0;32mIn[11], line 14\u001B[0m\n\u001B[1;32m     10\u001B[0m \u001B[38;5;28mprint\u001B[39m(\u001B[38;5;124m\"\u001B[39m\u001B[38;5;124mUniform sampler \u001B[39m\u001B[38;5;132;01m%s\u001B[39;00m\u001B[38;5;124m\"\u001B[39m \u001B[38;5;241m%\u001B[39m problem4_uniform(generator\u001B[38;5;241m=\u001B[39mproblem4_LCG, period \u001B[38;5;241m=\u001B[39m period, size\u001B[38;5;241m=\u001B[39m\u001B[38;5;241m10\u001B[39m, seed\u001B[38;5;241m=\u001B[39m\u001B[38;5;241m1\u001B[39m))\n\u001B[1;32m     12\u001B[0m uniform_sampler \u001B[38;5;241m=\u001B[39m \u001B[38;5;28;01mlambda\u001B[39;00m size,seed: problem4_uniform(generator\u001B[38;5;241m=\u001B[39mproblem4_LCG, period \u001B[38;5;241m=\u001B[39m period, size\u001B[38;5;241m=\u001B[39msize, seed\u001B[38;5;241m=\u001B[39mseed)\n\u001B[0;32m---> 14\u001B[0m \u001B[38;5;28mprint\u001B[39m(\u001B[38;5;124m\"\u001B[39m\u001B[38;5;124mAccept-Reject sampler \u001B[39m\u001B[38;5;132;01m%s\u001B[39;00m\u001B[38;5;124m\"\u001B[39m \u001B[38;5;241m%\u001B[39m \u001B[43mproblem4_accept_reject\u001B[49m\u001B[43m(\u001B[49m\u001B[43muniformGenerator\u001B[49m\u001B[43m \u001B[49m\u001B[38;5;241;43m=\u001B[39;49m\u001B[43m \u001B[49m\u001B[43muniform_sampler\u001B[49m\u001B[43m,\u001B[49m\u001B[43mn_iterations\u001B[49m\u001B[38;5;241;43m=\u001B[39;49m\u001B[38;5;241;43m20\u001B[39;49m\u001B[43m,\u001B[49m\u001B[43mseed\u001B[49m\u001B[38;5;241;43m=\u001B[39;49m\u001B[38;5;241;43m1\u001B[39;49m\u001B[43m)\u001B[49m)\n",
      "Cell \u001B[0;32mIn[10], line 8\u001B[0m, in \u001B[0;36mproblem4_accept_reject\u001B[0;34m(uniformGenerator, n_iterations, seed)\u001B[0m\n\u001B[1;32m      6\u001B[0m accepted_samples \u001B[38;5;241m=\u001B[39m []  \u001B[38;5;66;03m# List to store accepted samples\u001B[39;00m\n\u001B[1;32m      7\u001B[0m \u001B[38;5;28;01mfor\u001B[39;00m _ \u001B[38;5;129;01min\u001B[39;00m \u001B[38;5;28mrange\u001B[39m(n_iterations):\n\u001B[0;32m----> 8\u001B[0m     x \u001B[38;5;241m=\u001B[39m \u001B[43muniformGenerator\u001B[49m\u001B[43m(\u001B[49m\u001B[43m)\u001B[49m  \u001B[38;5;66;03m# Candidate sample from U[0,1]\u001B[39;00m\n\u001B[1;32m      9\u001B[0m     u \u001B[38;5;241m=\u001B[39m uniformGenerator()  \u001B[38;5;66;03m# Uniform random for acceptance criterion\u001B[39;00m\n\u001B[1;32m     11\u001B[0m     \u001B[38;5;66;03m# Acceptance check: u <= target density / (M * proposal density)\u001B[39;00m\n",
      "\u001B[0;31mTypeError\u001B[0m: <lambda>() missing 2 required positional arguments: 'size' and 'seed'"
     ]
    }
   ],
   "execution_count": 11
  },
  {
   "cell_type": "code",
   "execution_count": 135,
   "id": "5318f370",
   "metadata": {
    "deletable": false,
    "lx_assignment_number": "2",
    "lx_assignment_type": "ASSIGNMENT",
    "lx_assignment_type2print": "Assignment",
    "lx_problem_cell_type": "Test",
    "lx_problem_number": "4",
    "lx_problem_points": "8"
   },
   "outputs": [
    {
     "name": "stdout",
     "output_type": "stream",
     "text": [
      "Accept-Reject sampler [0.28475205 0.66070162 0.43072236 0.83918058 0.81974785 0.38484352\n",
      " 0.13061668 0.78178411 0.09517186 0.74269595 0.65280223 0.19507712\n",
      " 0.23741633 0.07525638 0.72690077 0.59145612 0.37025703 0.35968987\n",
      " 0.08660688 0.02705331 0.07481142 0.75829653 0.19262155 0.66785958\n",
      " 0.12209719 0.70413211 0.3875148  0.5491247  0.86883299 0.88984222\n",
      " 0.24469678 0.75974424 0.32089454 0.79238053 0.14140343 0.40279067\n",
      " 0.16909719 0.28216148 0.58866359 0.27774145 0.67682924 0.21698429\n",
      " 0.68555745 0.36731552 0.68453464 0.17207506 0.25305406 0.21990216\n",
      " 0.35999964 0.89627958 0.57607053 0.37363247 0.66668015 0.33902134\n",
      " 0.70430105 0.81969934 0.30921161 0.77317169 0.34485263 0.71405807\n",
      " 0.17814333 0.22510365 0.42563979 0.24558588 0.54673155 0.55172029\n",
      " 0.24871855 0.3905994  0.74117467 0.4489252  0.8601907  0.37230788\n",
      " 0.8031963  0.90360422 0.80898451 0.34522566 0.76560819 0.31750847\n",
      " 0.30389807 0.35498847 0.25125273 0.30175032 0.80855916 0.71529772\n",
      " 0.39525434 0.92646252 0.26373264 0.30673209 0.76184229]\n"
     ]
    }
   ],
   "source": [
    "\n",
    "# If however you did not manage to implement either part 1 or part 2 but still want to check part 3, you can run the code below\n",
    "\n",
    "def testUniformGenerator(size,seed):\n",
    "    import random\n",
    "    random.seed(seed)\n",
    "    \n",
    "    return [random.uniform(0,1) for s in range(size)]\n",
    "\n",
    "print(\"Accept-Reject sampler %s\" % problem4_accept_reject(uniformGenerator=testUniformGenerator, n_iterations=20, seed=1))"
   ]
  }
 ],
 "metadata": {
  "kernelspec": {
   "display_name": "base",
   "language": "python",
   "name": "python3"
  },
  "language_info": {
   "codemirror_mode": {
    "name": "ipython",
    "version": 3
   },
   "file_extension": ".py",
   "mimetype": "text/x-python",
   "name": "python",
   "nbconvert_exporter": "python",
   "pygments_lexer": "ipython3",
   "version": "3.11.7"
  },
  "lx_assignment_number": 2,
  "lx_course_instance": "2024",
  "lx_course_name": "Introduction to Data Science",
  "lx_course_number": "1MS041"
 },
 "nbformat": 4,
 "nbformat_minor": 5
}
