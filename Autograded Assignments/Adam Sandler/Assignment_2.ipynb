{
 "cells": [
  {
   "cell_type": "markdown",
   "id": "8bf52b8a",
   "metadata": {
    "deletable": false
   },
   "source": [
    "\n",
    "# Assignment 2 for Course 1MS041\n",
    "Make sure you pass the `# ... Test` cells and\n",
    " submit your solution notebook in the corresponding assignment on the course website. You can submit multiple times before the deadline and your highest score will be used."
   ]
  },
  {
   "cell_type": "markdown",
   "id": "5aec0bfa",
   "metadata": {
    "deletable": false,
    "lx_assignment_number": "2",
    "lx_assignment_type": "ASSIGNMENT",
    "lx_assignment_type2print": "Assignment",
    "lx_problem_cell_type": "PROBLEM",
    "lx_problem_number": "1",
    "lx_problem_points": "8"
   },
   "source": [
    "---\n",
    "## Assignment 2, PROBLEM 1\n",
    "Maximum Points = 8"
   ]
  },
  {
   "cell_type": "markdown",
   "id": "db58f10b",
   "metadata": {
    "deletable": false,
    "lx_assignment_number": "2",
    "lx_assignment_type": "ASSIGNMENT",
    "lx_assignment_type2print": "Assignment",
    "lx_problem_cell_type": "PROBLEM",
    "lx_problem_number": "1",
    "lx_problem_points": "8"
   },
   "source": [
    "\n",
    "A courier company operates a fleet of delivery trucks that make deliveries to different parts of the city. The trucks are equipped with GPS tracking devices that record the location of each truck at regular intervals. The locations are divided into three regions: downtown, the suburbs, and the countryside. The following table shows the probabilities of a truck transitioning between these regions at each time step:\n",
    "\n",
    "| Current region | Probability of transitioning to downtown | Probability of transitioning to the suburbs | Probability of transitioning to the countryside |\n",
    "|----------------|--------------------------------------------|-----------------------------------------------|------------------------------------------------|\n",
    "| Downtown       | 0.3                                      | 0.4                                           | 0.3                                            |\n",
    "| Suburbs        | 0.2                                      | 0.5                                           | 0.3                                            |\n",
    "| Countryside    | 0.4                                      | 0.3                                           | 0.3                                            |\n",
    "\n",
    "1. If a truck is currently in the suburbs, what is the probability that it will be in the downtown region after two time steps? [1.5p]\n",
    "2. If a truck is currently in the suburbs, what is the probability that it will be in the downtown region **the first time** after two time steps? [1.5p]\n",
    "3. Is this Markov chain irreducible? [1.5p]\n",
    "4. What is the stationary distribution? [1.5p]\n",
    "5. Advanced question: What is the expected number of steps until the first time one enters the downtown region having started in the suburbs region. Hint: to get within 1 decimal point, it is enough to compute the probabilities for hitting times below 30. [2p]\n",
    "\n"
   ]
  },
  {
   "cell_type": "code",
   "execution_count": 1,
   "id": "2c601f0f",
   "metadata": {
    "deletable": false,
    "lx_assignment_number": "2",
    "lx_assignment_type": "ASSIGNMENT",
    "lx_assignment_type2print": "Assignment",
    "lx_problem_cell_type": "PROBLEM",
    "lx_problem_number": "1",
    "lx_problem_points": "8"
   },
   "outputs": [
    {
     "name": "stdout",
     "output_type": "stream",
     "text": [
      "[[0.29 0.41 0.3 ]\n",
      " [0.28 0.42 0.3 ]\n",
      " [0.3  0.4  0.3 ]]\n",
      "0.28\n"
     ]
    }
   ],
   "source": [
    "# Part 1\n",
    "import numpy as np\n",
    "P = np.array([[0.3, 0.4, 0.3],\n",
    "              [0.2, 0.5, 0.3],\n",
    "              [0.4, 0.3, 0.3]])\n",
    "P_squared =P@P\n",
    "print(P_squared)\n",
    "print(P_squared[1,0])\n",
    "\n",
    "\n",
    "# Fill in the answer to part 1 below as a decimal number\n",
    "problem1_p1 = 0.28"
   ]
  },
  {
   "cell_type": "code",
   "execution_count": 2,
   "id": "52a172dc",
   "metadata": {
    "deletable": false,
    "lx_assignment_number": "2",
    "lx_assignment_type": "ASSIGNMENT",
    "lx_assignment_type2print": "Assignment",
    "lx_problem_cell_type": "PROBLEM",
    "lx_problem_number": "1",
    "lx_problem_points": "8"
   },
   "outputs": [],
   "source": [
    "# Part 2\n",
    "#start: suburbs\n",
    "#probability that we are in Downtown after 2 steps\n",
    "\n",
    "# Fill in the answer to part 2 below as a decimal number\n",
    "problem1_p2 = 0.22"
   ]
  },
  {
   "cell_type": "code",
   "execution_count": 3,
   "id": "a3b3872d",
   "metadata": {
    "deletable": false,
    "lx_assignment_number": "2",
    "lx_assignment_type": "ASSIGNMENT",
    "lx_assignment_type2print": "Assignment",
    "lx_problem_cell_type": "PROBLEM",
    "lx_problem_number": "1",
    "lx_problem_points": "8"
   },
   "outputs": [],
   "source": [
    "# Part 3\n",
    "\n",
    "# Fill in the answer to part 3 below as a boolean\n",
    "problem1_irreducible = True"
   ]
  },
  {
   "cell_type": "code",
   "execution_count": 4,
   "id": "30193da6",
   "metadata": {},
   "outputs": [
    {
     "name": "stdout",
     "output_type": "stream",
     "text": [
      "Raw stationary vector: [-0.49365111 -0.70250351 -0.51263769]\n",
      "Stationary distribution: [0.28888889 0.41111111 0.3       ]\n"
     ]
    }
   ],
   "source": [
    "# Part 4 - Stationary Distribution APPROACH 1 (eigenvalues and eigenvectors)\n",
    "\n",
    "# Define the transition matrix as given in the table\n",
    "P = np.array([\n",
    "    [0.3, 0.4, 0.3],  # Transition probabilities from Downtown\n",
    "    [0.2, 0.5, 0.3],  # Transition probabilities from Suburbs\n",
    "    [0.4, 0.3, 0.3]   # Transition probabilities from Countryside\n",
    "])\n",
    "#stationary distribution satisfies P*π=π:\n",
    "P_T = P.T\n",
    "eigenvalues, eigenvectors = np.linalg.eig(P_T)\n",
    "\n",
    "# Find the eigenvector corresponding to eigenvalue 1\n",
    "index = np.where(np.isclose(eigenvalues, 1))[0][0]\n",
    "stationary_vector = eigenvectors[:, index]\n",
    "print(\"Raw stationary vector:\", stationary_vector)\n",
    "\n",
    "#Normalizing the eignenvector (so that its elements sum to one to enforce that the stationary distribution is probablistic and itse elements therefore sum to one)\n",
    "stationary_distribution = stationary_vector / np.sum(stationary_vector)\n",
    "print(\"Stationary distribution:\", stationary_distribution)\n",
    "\n",
    "\n"
   ]
  },
  {
   "cell_type": "code",
   "execution_count": 5,
   "id": "683b03cb",
   "metadata": {},
   "outputs": [
    {
     "name": "stdout",
     "output_type": "stream",
     "text": [
      "[[-0.7  0.2  0.4]\n",
      " [ 0.4 -0.5  0.3]\n",
      " [ 0.3  0.3 -0.7]]\n",
      "Stationary distribution: [0.28888889 0.41111111 0.3       ]\n"
     ]
    },
    {
     "name": "stderr",
     "output_type": "stream",
     "text": [
      "/var/folders/j6/g2vxpv8s0mj4vtflmv34fx980000gn/T/ipykernel_55698/1320587220.py:36: FutureWarning: `rcond` parameter will change to the default of machine precision times ``max(M, N)`` where M and N are the input matrix dimensions.\n",
      "To use the future default and silence this warning we advise to pass `rcond=None`, to keep using the old, explicitly pass `rcond=-1`.\n",
      "  stationary_distribution = np.linalg.lstsq(A, b)[0]\n"
     ]
    }
   ],
   "source": [
    "# Part 4 (approach 2 -- linear system)\n",
    "\n",
    "# Fill in the answer to part 4 below\n",
    "# the answer should be a numpy array of length 3\n",
    "# make sure that the entries sums to 1!\n",
    "\"\"\"\n",
    "eigenvalues, eigenvectors = np.linalg.eig(P.T)\n",
    "print(eigenvalues)\n",
    "print(eigenvectors)\n",
    "#normalize eigenvector corresponding to eigenvalue 1\n",
    "problem1_stationary=eigenvectors[:,0]/np.linalg.norm(eigenvectors[:,0])\n",
    "print(problem1_stationary)\n",
    "\"\"\"\n",
    "import numpy as np\n",
    "\n",
    "# Define the transition matrix as given in the table\n",
    "P = np.array([\n",
    "    [0.3, 0.4, 0.3],  # Transition probabilities from Downtown\n",
    "    [0.2, 0.5, 0.3],  # Transition probabilities from Suburbs\n",
    "    [0.4, 0.3, 0.3]   # Transition probabilities from Countryside\n",
    "])\n",
    "\n",
    "# To find the stationary distribution, we set up the equation πP = π,\n",
    "# which is equivalent to solving (P.T - I) * π = 0 with the constraint sum(π) = 1.\n",
    "\n",
    "# Step 1: Subtract the identity matrix from the transpose of P\n",
    "A = P.T - np.eye(3)\n",
    "print(A)\n",
    "\n",
    "# Step 2: Add the normalization condition that the probabilities sum to 1\n",
    "A = np.vstack([A, np.ones(3)])\n",
    "b = np.array([0, 0, 0, 1])\n",
    "\n",
    "# Step 3: Solve for the stationary distribution using numpy's least squares solver\n",
    "\n",
    "stationary_distribution = np.linalg.lstsq(A, b)[0]\n",
    "\n",
    "# Print the results\n",
    "print(\"Stationary distribution:\", stationary_distribution)\n",
    "\n",
    "\n",
    "problem1_stationary = np.array([0.288,0.411,0.3])"
   ]
  },
  {
   "cell_type": "code",
   "execution_count": 6,
   "id": "481625e3",
   "metadata": {
    "deletable": false,
    "lx_assignment_number": "2",
    "lx_assignment_type": "ASSIGNMENT",
    "lx_assignment_type2print": "Assignment",
    "lx_problem_cell_type": "PROBLEM",
    "lx_problem_number": "1",
    "lx_problem_points": "8"
   },
   "outputs": [
    {
     "name": "stdout",
     "output_type": "stream",
     "text": [
      "[3.84615385 3.07692308]\n",
      "Expected number of steps to reach downtown from suburbs: 3.8461538461538463\n"
     ]
    }
   ],
   "source": [
    "# Part 5\n",
    "\n",
    "# Fill in the answer to part 5 below\n",
    "# That is, the expected number of steps as a decimal number\n",
    "import numpy as np\n",
    "\n",
    "# Coefficient matrix A and RHS vector b based on our equations\n",
    "A = np.array([\n",
    "    [0.5, -0.3],\n",
    "    [-0.3, 0.7]\n",
    "])\n",
    "\n",
    "b = np.array([1.0, 1.0])\n",
    "\n",
    "# Solve for h_SD and h_CD\n",
    "hitting_times = np.linalg.solve(A, b)\n",
    "print(hitting_times)\n",
    "\n",
    "# Output the expected hitting time from suburbs to downtown\n",
    "h_SD = hitting_times[0]\n",
    "print(\"Expected number of steps to reach downtown from suburbs:\", h_SD)\n",
    "\n",
    "problem1_ET = 3.8461"
   ]
  },
  {
   "cell_type": "markdown",
   "id": "215a4c8b",
   "metadata": {
    "deletable": false,
    "lx_assignment_number": "2",
    "lx_assignment_type": "ASSIGNMENT",
    "lx_assignment_type2print": "Assignment",
    "lx_problem_cell_type": "PROBLEM",
    "lx_problem_number": "2",
    "lx_problem_points": "4"
   },
   "source": [
    "---\n",
    "## Assignment 2, PROBLEM 2\n",
    "Maximum Points = 4"
   ]
  },
  {
   "cell_type": "markdown",
   "id": "d9a825d1",
   "metadata": {
    "deletable": false,
    "lx_assignment_number": "2",
    "lx_assignment_type": "ASSIGNMENT",
    "lx_assignment_type2print": "Assignment",
    "lx_problem_cell_type": "PROBLEM",
    "lx_problem_number": "2",
    "lx_problem_points": "4"
   },
   "source": [
    "\n",
    "Use the **Multi-dimensional Constrained Optimisation** example (in `07-Optimization.ipynb`) to numerically find the MLe for the mean and variance parameter based on `normallySimulatedDataSamples`, an array obtained by a specific simulation of $30$ IID samples from the $Normal(10,2)$ random variable.\n",
    "\n",
    "Recall that $Normal(\\mu, \\sigma^2)$ RV has the probability density function given by:\n",
    "\n",
    "$$\n",
    "f(x ;\\mu, \\sigma) = \\displaystyle\\frac{1}{\\sigma\\sqrt{2\\pi}}\\exp\\left(\\frac{-1}{2\\sigma^2}(x-\\mu)^2\\right)\n",
    "$$\n",
    "\n",
    "The two parameters, $\\mu \\in \\mathbb{R} := (-\\infty,\\infty)$ and $\\sigma \\in (0,\\infty)$, are sometimes referred to as the location and scale parameters.\n",
    "\n",
    "You know that the log likelihood function for $n$ IID samples from a Normal RV with parameters $\\mu$ and $\\sigma$ simply follows from $\\sum_{i=1}^n \\log(f(x_i; \\mu,\\sigma))$, based on the IID assumption. \n",
    "\n",
    "NOTE: When setting bounding boxes for $\\mu$ and $\\sigma$ try to start with some guesses like $[-20,20]$ and $[0.1,5.0]$ and make it larger if the solution is at the boundary. Making the left bounding-point for $\\sigma$ too close to $0.0$ will cause division by zero Warnings. Other numerical instabilities can happen in such iterative numerical solutions to the MLe. You need to be patient and learn by trial-and-error. You will see the mathematical theory in more details in a future course in scientific computing/optimisation. So don't worry too much now except learning to use it for our problems.  "
   ]
  },
  {
   "cell_type": "code",
   "execution_count": 7,
   "id": "699b52ca",
   "metadata": {
    "deletable": false,
    "lx_assignment_number": "2",
    "lx_assignment_type": "ASSIGNMENT",
    "lx_assignment_type2print": "Assignment",
    "lx_problem_cell_type": "PROBLEM",
    "lx_problem_number": "2",
    "lx_problem_points": "4"
   },
   "outputs": [
    {
     "data": {
      "text/plain": [
       "  message: CONVERGENCE: REL_REDUCTION_OF_F_<=_FACTR*EPSMCH\n",
       "  success: True\n",
       "   status: 0\n",
       "      fun: 58.63138728292537\n",
       "        x: [ 9.269e+00  1.708e+00]\n",
       "      nit: 9\n",
       "      jac: [-2.984e-05  1.457e-04]\n",
       "     nfev: 36\n",
       "     njev: 12\n",
       " hess_inv: <2x2 LbfgsInvHessProduct with dtype=float64>"
      ]
     },
     "execution_count": 7,
     "metadata": {},
     "output_type": "execute_result"
    }
   ],
   "source": [
    "\n",
    "import numpy as np\n",
    "from scipy import optimize\n",
    "# do NOT change the next three lines\n",
    "np.random.seed(123456) # set seed\n",
    "# simulate 30 IID samples drawn from Normal(10,2)RV\n",
    "normallySimulatedDataSamples = np.random.normal(10,2,30) \n",
    "\n",
    "# define the negative log likelihood function you want to minimise by editing \n",
    "def negLogLklOfIIDNormalSamples(parameters):\n",
    "    '''return the -log(likelihood) of normallySimulatedDataSamples with mean and var parameters'''\n",
    "    mu_param=parameters[0]\n",
    "    sigma_param=parameters[1]\n",
    "    # Compute the negative log-likelihood\n",
    "    n = len(normallySimulatedDataSamples)\n",
    "    log_likelihood = -np.sum(\n",
    "        -0.5 * np.log(2 * np.pi * sigma_param**2)\n",
    "        - ((normallySimulatedDataSamples - mu_param) ** 2) / (2 * sigma_param**2)\n",
    "    )\n",
    "    return log_likelihood\n",
    "\n",
    "\n",
    "\n",
    "# you should only change XXX below and not anything else\n",
    "parameter_bounding_box=((-20, 20), (0.1, 5)) # specify the constraints (search space) for each parameter - some guess work...\n",
    "initial_arguments = np.array([10, 1]) # point in 2D to initialise the minimize algorithm\n",
    "result_problem2_opt = optimize.minimize(negLogLklOfIIDNormalSamples, initial_arguments, bounds=parameter_bounding_box) \n",
    "# call the minimize method above finally! you need to play a bit to get initial conditions and bounding box ok\n",
    "result_problem2_opt\n"
   ]
  },
  {
   "cell_type": "markdown",
   "id": "f722d247",
   "metadata": {
    "deletable": false,
    "lx_assignment_number": "2",
    "lx_assignment_type": "ASSIGNMENT",
    "lx_assignment_type2print": "Assignment",
    "lx_problem_cell_type": "PROBLEM",
    "lx_problem_number": "3",
    "lx_problem_points": "4"
   },
   "source": [
    "---\n",
    "## Assignment 2, PROBLEM 3\n",
    "Maximum Points = 4"
   ]
  },
  {
   "cell_type": "markdown",
   "id": "0b9c787c",
   "metadata": {
    "deletable": false,
    "lx_assignment_number": "2",
    "lx_assignment_type": "ASSIGNMENT",
    "lx_assignment_type2print": "Assignment",
    "lx_problem_cell_type": "PROBLEM",
    "lx_problem_number": "3",
    "lx_problem_points": "4"
   },
   "source": [
    "\n",
    "\n",
    "Derive the maximum likelihood estimate for $n$ IID samples from a random variable with the following probability density function:\n",
    "$$\n",
    "f(x; \\lambda) = \\frac{1}{24} \\lambda^5 x^4 \\exp(-\\lambda x), \\qquad \\text{ where, } \\lambda>0, x > 0\n",
    "$$\n",
    "\n",
    "You can solve the MLe by hand (using pencil paper or using key-strokes). Present your solution as the return value of a function called `def MLeForAssignment2Problem3(x)`, where `x` is a list of $n$ input data points."
   ]
  },
  {
   "cell_type": "code",
   "execution_count": 8,
   "id": "41720f28",
   "metadata": {
    "deletable": false,
    "lx_assignment_number": "2",
    "lx_assignment_type": "ASSIGNMENT",
    "lx_assignment_type2print": "Assignment",
    "lx_problem_cell_type": "PROBLEM",
    "lx_problem_number": "3",
    "lx_problem_points": "4"
   },
   "outputs": [],
   "source": [
    "\n",
    "# do not change the name of the function, just replace XXX with the appropriate expressions for the MLe\n",
    "def MLeForAssignment2Problem3(x):\n",
    "    '''write comment of what this function does'''\n",
    "    n=len(x)\n",
    "    return 5*n/np.sum(x)"
   ]
  },
  {
   "cell_type": "markdown",
   "id": "85367892",
   "metadata": {
    "deletable": false,
    "lx_assignment_number": "2",
    "lx_assignment_type": "ASSIGNMENT",
    "lx_assignment_type2print": "Assignment",
    "lx_problem_cell_type": "PROBLEM",
    "lx_problem_number": "4",
    "lx_problem_points": "8"
   },
   "source": [
    "---\n",
    "## Assignment 2, PROBLEM 4\n",
    "Maximum Points = 8"
   ]
  },
  {
   "cell_type": "markdown",
   "id": "2e67892b",
   "metadata": {
    "deletable": false,
    "lx_assignment_number": "2",
    "lx_assignment_type": "ASSIGNMENT",
    "lx_assignment_type2print": "Assignment",
    "lx_problem_cell_type": "PROBLEM",
    "lx_problem_number": "4",
    "lx_problem_points": "8"
   },
   "source": [
    "\n",
    "## Random variable generation and transformation\n",
    "\n",
    "The purpose of this problem is to show that you can implement your own sampler, this will be built in the following three steps:\n",
    "\n",
    "1. [2p] Implement a Linear Congruential Generator where you tested out a good combination (a large $M$ with $a,b$ satisfying the Hull-Dobell (Thm 6.8)) of parameters. Follow the instructions in the code block.\n",
    "2. [2p] Using a generator construct random numbers from the uniform $[0,1]$ distribution.\n",
    "3. [4p] Using a uniform $[0,1]$ random generator, generate samples from \n",
    "\n",
    "$$p_0(x) = \\frac{\\pi}{2}|\\sin(2\\pi x)|, \\quad x \\in [0,1] \\enspace .$$\n",
    "\n",
    "Using the **Accept-Reject** sampler (**Algorithm 1** in TFDS notes) with sampling density given by the uniform $[0,1]$ distribution."
   ]
  },
  {
   "cell_type": "code",
   "execution_count": 9,
   "id": "b32b9a47",
   "metadata": {},
   "outputs": [
    {
     "name": "stdout",
     "output_type": "stream",
     "text": [
      "[12345, 1406938949, 178066070, 1543701248, 427461576, 562845833, 1609490218, 377220791, 2040027864, 186150528, 667276653, 167860840, 95653539, 1525258573, 795960552, 1272442040, 173617473, 865290808, 270830898, 1905073316, 1560342131, 835276979, 5600085, 1987058269, 1401826095, 1694140998, 1087770539, 2122194134, 754953873, 2085830575]\n",
      "[0.0, 0.66, 0.08, 0.72, 0.2, 0.26, 0.75, 0.18, 0.95, 0.09, 0.31, 0.08, 0.04, 0.71, 0.37, 0.59, 0.08, 0.4, 0.13, 0.89, 0.73, 0.39, 0.0, 0.93, 0.65, 0.79, 0.51, 0.99, 0.35, 0.97]\n"
     ]
    }
   ],
   "source": [
    "def LCG(size=None, seed=0):\n",
    "    # Parameters for maximal period\n",
    "    m = 2**31 - 1  # Large prime modulus\n",
    "    a = 1103515245  # Multiplier (common choice)\n",
    "    b = 12345  # Increment (common choice)\n",
    "    \n",
    "    x = seed   # seed is the starting position\n",
    "    retValue = []\n",
    "    for _ in range(size):\n",
    "        x = (a * x + b) % m\n",
    "        retValue.append(x)\n",
    "    return retValue\n",
    "\n",
    "## To generate uniform random numbers, we divide by the period (m)\n",
    "def LCG_uniform(size=None, seed=0, decimals=None):\n",
    "    # Parameters for maximal period\n",
    "    m = 2**31 - 1  # Large prime modulus\n",
    "    a = 1103515245  # Multiplier (common choice)\n",
    "    b = 12345  # Increment (common choice)\n",
    "    \n",
    "    x = seed   # seed is the starting position\n",
    "    retValue = []\n",
    "    for _ in range(size):\n",
    "        x = (a * x + b) % m\n",
    "        retValue.append(np.round(x/m, decimals))\n",
    "    return retValue\n",
    "\n",
    "random_list= LCG(size=30, seed=0)\n",
    "uniformlist = LCG_uniform(size=30, seed=0, decimals=2)\n",
    "print(random_list)\n",
    "print(uniformlist)"
   ]
  },
  {
   "cell_type": "code",
   "execution_count": 12,
   "id": "bfd5ef33",
   "metadata": {},
   "outputs": [
    {
     "data": {
      "image/png": "[encoded data removed]",
      "text/plain": [
       "<Figure size 800x600 with 1 Axes>"
      ]
     },
     "metadata": {},
     "output_type": "display_data"
    }
   ],
   "source": [
    "\n",
    "\n",
    "def accept_reject_sampler(n_samples, M, target_density, proposal_sampler, proposal_density):\n",
    "    \"\"\"\n",
    "    Accept-Reject Sampling Algorithm\n",
    "    \n",
    "    Parameters:\n",
    "        n_samples (int): Number of samples to generate.\n",
    "        M (float): Scaling constant such that M * proposal_density(x) >= target(x) for all x.\n",
    "        target (function): The target density function.\n",
    "        proposal_sampler (function): Function to sample from the proposal distribution.\n",
    "        proposal_density (function): The density of the proposal distribution.\n",
    "    \n",
    "    Returns:\n",
    "        np.array: Accepted samples from the target distribution.\n",
    "    \"\"\"\n",
    "    accepted_samples = []\n",
    "    \n",
    "    while len(accepted_samples) < n_samples:\n",
    "        # Generate a candidate sample from the proposal distribution\n",
    "        x = proposal_sampler()\n",
    "        \n",
    "        # Generate a uniform random number for acceptance criterion\n",
    "        u = np.random.uniform(0, 1)\n",
    "        \n",
    "        # Acceptance condition\n",
    "        if u <= target_density(x) / (M * proposal_density(x)):\n",
    "            accepted_samples.append(x)\n",
    "    \n",
    "    return np.array(accepted_samples)\n",
    "\n",
    "\n",
    "\n",
    "#################################################################\n",
    "# Target density: f(x) = pi/2 * |sin(2*pi*x)|\n",
    "def target_density(x):\n",
    "    return (np.pi / 2) * np.abs(np.sin(2 * np.pi * x))\n",
    "\n",
    "# Proposal sampler: samples from U(0, 1)\n",
    "#x = np.random.normal(mu, sigma)\n",
    "def proposal_sampler():\n",
    "    return np.random.uniform(0, 1)\n",
    "\n",
    "# Proposal density: q(x) = 1 for U(0, 1)\n",
    "#proposal_density = norm.pdf(x, loc=0.5, scale=0.1) #scipy.stats.norm\n",
    "def proposal_density(x):\n",
    "    return 1 if 0 <= x <= 1 else 0\n",
    "\n",
    "# M: maximum value of target_density(x) / proposal_density(x)\n",
    "M = (np.pi / 2)  # Maximum value of |sin(2*pi*x)| is 1, so M = pi/2 * 1\n",
    "\n",
    "# Generate 1000 samples\n",
    "samples = accept_reject_sampler(n_samples=1000, M=M, target_density=target_density, \n",
    "                                 proposal_sampler=proposal_sampler, \n",
    "                                 proposal_density=proposal_density)\n",
    "\n",
    "import matplotlib.pyplot as plt\n",
    "x = np.linspace(0, 1, 1000)  # High resolution for smooth plotting\n",
    "plt.figure(figsize=(8, 6))\n",
    "\n",
    "# Plot the histogram of samples\n",
    "plt.hist(samples, bins=30, density=True, alpha=0.6, color='skyblue', edgecolor='black', label='Samples Histogram')\n",
    "\n",
    "# Plot the target density\n",
    "plt.plot(x, target_density(x), color='red', linewidth=2, label=r'Target Density: $f(x) = \\frac{\\pi}{2} |\\sin(2\\pi x)|$')\n",
    "\n",
    "# Add labels, legend, and title\n",
    "plt.xlabel('x')\n",
    "plt.ylabel('Density')\n",
    "plt.title('Histogram of Samples and Target Density')\n",
    "plt.legend()\n",
    "\n",
    "# Show the plot\n",
    "plt.grid(alpha=0.3)\n",
    "plt.show()\n",
    "\n",
    "\n",
    "\n",
    "\n",
    "\n"
   ]
  },
  {
   "cell_type": "code",
   "execution_count": 14,
   "id": "5553bee6",
   "metadata": {},
   "outputs": [
    {
     "data": {
      "image/png": "[encoded data removed]",
      "text/plain": [
       "<Figure size 800x600 with 1 Axes>"
      ]
     },
     "metadata": {},
     "output_type": "display_data"
    }
   ],
   "source": [
    "def target_density(x):\n",
    "    return 2*x*np.exp(x**2)/(np.exp(1)-1)\n",
    "\n",
    "# Proposal sampler: samples from U(0, 1)\n",
    "def proposal_sampler():\n",
    "    return np.random.uniform(0, 1)\n",
    "\n",
    "# Proposal density: q(x) = 1 for U(0, 1)\n",
    "#proposal_density = norm.pdf(x, loc=0.5, scale=0.1) #scipy.stats.norm\n",
    "def proposal_density(x):\n",
    "    return 1 if 0 <= x <= 1 else 0\n",
    "\n",
    "M=10\n",
    "\n",
    "\n",
    "# Generate 1000 samples\n",
    "samples = accept_reject_sampler(n_samples=1000, M=M, target_density=target_density, \n",
    "                                 proposal_sampler=proposal_sampler, \n",
    "                                 proposal_density=proposal_density)\n",
    "\n",
    "x = np.linspace(0, 1, 1000)  # High resolution for smooth plotting\n",
    "plt.figure(figsize=(8, 6))\n",
    "\n",
    "# Plot the histogram of samples\n",
    "plt.hist(samples, bins=30, density=True, alpha=0.6, color='skyblue', edgecolor='black', label='Samples Histogram')\n",
    "\n",
    "# Plot the target density\n",
    "plt.plot(x, target_density(x), color='red', linewidth=2, label=r'Target Density: $f(x) = \\frac{\\pi}{2} |\\sin(2\\pi x)|$')\n",
    "\n",
    "# Add labels, legend, and title\n",
    "plt.xlabel('x')\n",
    "plt.ylabel('Density')\n",
    "plt.title('Histogram of Samples and Target Density')\n",
    "plt.legend()\n",
    "\n",
    "# Show the plot\n",
    "plt.grid(alpha=0.3)\n",
    "plt.show()\n",
    "\n"
   ]
  },
  {
   "cell_type": "markdown",
   "id": "8dbf40a0",
   "metadata": {
    "deletable": false,
    "lx_assignment_number": "2",
    "lx_assignment_type": "ASSIGNMENT",
    "lx_assignment_type2print": "Assignment",
    "lx_problem_cell_type": "Test",
    "lx_problem_number": "4",
    "lx_problem_points": "8"
   },
   "source": [
    "---\n",
    "#### Local Test for Assignment 2, PROBLEM 4\n",
    "Evaluate cell below to make sure your answer is valid.                             You **should not** modify anything in the cell below when evaluating it to do a local test of                             your solution.\n",
    "You may need to include and evaluate code snippets from lecture notebooks in cells above to make the local test work correctly sometimes (see error messages for clues). This is meant to help you become efficient at recalling materials covered in lectures that relate to this problem. Such local tests will generally not be available in the exam."
   ]
  },
  {
   "cell_type": "code",
   "execution_count": null,
   "id": "26cd1592",
   "metadata": {
    "deletable": false,
    "lx_assignment_number": "2",
    "lx_assignment_type": "ASSIGNMENT",
    "lx_assignment_type2print": "Assignment",
    "lx_problem_cell_type": "Test",
    "lx_problem_number": "4",
    "lx_problem_points": "8"
   },
   "outputs": [],
   "source": [
    "\n",
    "# If you managed to solve all three parts you can test the following code to see if it runs\n",
    "# you have to change the period to match your LCG though, this is marked as XXX.\n",
    "# It is a very good idea to check these things using the histogram function in sagemath\n",
    "# try with a larger number of samples, up to 10000 should run\n",
    "\n",
    "print(\"LCG output: %s\" % problem4_LCG(size=10, seed = 1))\n",
    "\n",
    "period = XXX\n",
    "\n",
    "print(\"Uniform sampler %s\" % problem4_uniform(generator=problem4_LCG, period = period, size=10, seed=1))\n",
    "\n",
    "uniform_sampler = lambda size,seed: problem4_uniform(generator=problem4_LCG, period = period, size=size, seed=seed)\n",
    "\n",
    "print(\"Accept-Reject sampler %s\" % problem4_accept_reject(uniformGenerator = uniform_sampler,n_iterations=20,seed=1))"
   ]
  },
  {
   "cell_type": "code",
   "execution_count": null,
   "id": "5318f370",
   "metadata": {
    "deletable": false,
    "lx_assignment_number": "2",
    "lx_assignment_type": "ASSIGNMENT",
    "lx_assignment_type2print": "Assignment",
    "lx_problem_cell_type": "Test",
    "lx_problem_number": "4",
    "lx_problem_points": "8"
   },
   "outputs": [],
   "source": [
    "\n",
    "# If however you did not manage to implement either part 1 or part 2 but still want to check part 3, you can run the code below\n",
    "\n",
    "def testUniformGenerator(size,seed):\n",
    "    import random\n",
    "    random.seed(seed)\n",
    "    \n",
    "    return [random.uniform(0,1) for s in range(size)]\n",
    "\n",
    "print(\"Accept-Reject sampler %s\" % problem4_accept_reject(uniformGenerator=testUniformGenerator, n_iterations=20, seed=1))"
   ]
  }
 ],
 "metadata": {
  "kernelspec": {
   "display_name": "Python 3",
   "language": "python",
   "name": "python3"
  },
  "language_info": {
   "codemirror_mode": {
    "name": "ipython",
    "version": 3
   },
   "file_extension": ".py",
   "mimetype": "text/x-python",
   "name": "python",
   "nbconvert_exporter": "python",
   "pygments_lexer": "ipython3",
   "version": "3.12.0"
  },
  "lx_assignment_number": 2,
  "lx_course_instance": "2024",
  "lx_course_name": "Introduction to Data Science",
  "lx_course_number": "1MS041"
 },
 "nbformat": 4,
 "nbformat_minor": 5
}
