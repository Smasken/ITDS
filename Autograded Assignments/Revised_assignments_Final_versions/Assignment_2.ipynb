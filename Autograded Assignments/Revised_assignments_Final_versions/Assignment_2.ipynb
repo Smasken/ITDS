{
 "cells": [
  {
   "cell_type": "markdown",
   "id": "daa981f6",
   "metadata": {
    "deletable": false
   },
   "source": [
    "\n",
    "# Assignment 2 for Course 1MS041\n",
    "Make sure you pass the `# ... Test` cells and\n",
    " submit your solution notebook in the corresponding assignment on the course website. You can submit multiple times before the deadline and your highest score will be used."
   ]
  },
  {
   "cell_type": "markdown",
   "id": "5184e036",
   "metadata": {
    "deletable": false,
    "lx_assignment_number": "2",
    "lx_assignment_type": "ASSIGNMENT",
    "lx_assignment_type2print": "Assignment",
    "lx_problem_cell_type": "PROBLEM",
    "lx_problem_number": "1",
    "lx_problem_points": "8"
   },
   "source": [
    "---\n",
    "## Assignment 2, PROBLEM 1\n",
    "Maximum Points = 8"
   ]
  },
  {
   "cell_type": "markdown",
   "id": "db58f10b",
   "metadata": {
    "deletable": false,
    "lx_assignment_number": "2",
    "lx_assignment_type": "ASSIGNMENT",
    "lx_assignment_type2print": "Assignment",
    "lx_problem_cell_type": "PROBLEM",
    "lx_problem_number": "1",
    "lx_problem_points": "8"
   },
   "source": [
    "\n",
    "A courier company operates a fleet of delivery trucks that make deliveries to different parts of the city. The trucks are equipped with GPS tracking devices that record the location of each truck at regular intervals. The locations are divided into three regions: downtown, the suburbs, and the countryside. The following table shows the probabilities of a truck transitioning between these regions at each time step:\n",
    "\n",
    "| Current region | Probability of transitioning to downtown | Probability of transitioning to the suburbs | Probability of transitioning to the countryside |\n",
    "|----------------|--------------------------------------------|-----------------------------------------------|------------------------------------------------|\n",
    "| Downtown       | 0.3                                      | 0.4                                           | 0.3                                            |\n",
    "| Suburbs        | 0.2                                      | 0.5                                           | 0.3                                            |\n",
    "| Countryside    | 0.4                                      | 0.3                                           | 0.3                                            |\n",
    "\n",
    "1. If a truck is currently in the suburbs, what is the probability that it will be in the downtown region after two time steps? [1.5p]\n",
    "2. If a truck is currently in the suburbs, what is the probability that it will be in the downtown region **the first time** after two time steps? [1.5p]\n",
    "3. Is this Markov chain irreducible? [1.5p]\n",
    "4. What is the stationary distribution? [1.5p]\n",
    "5. Advanced question: What is the expected number of steps until the first time one enters the downtown region having started in the suburbs region. Hint: to get within 1 decimal point, it is enough to compute the probabilities for hitting times below 30. [2p]\n",
    "\n"
   ]
  },
  {
   "cell_type": "code",
   "id": "2c601f0f",
   "metadata": {
    "deletable": false,
    "lx_assignment_number": "2",
    "lx_assignment_type": "ASSIGNMENT",
    "lx_assignment_type2print": "Assignment",
    "lx_problem_cell_type": "PROBLEM",
    "lx_problem_number": "1",
    "lx_problem_points": "8",
    "ExecuteTime": {
     "end_time": "2025-01-11T15:44:59.969676Z",
     "start_time": "2025-01-11T15:44:59.965405Z"
    }
   },
   "source": [
    "import numpy as np\n",
    "\n",
    "# Part 1\n",
    "\n",
    "# Stochastic matrix / Probability matrix\n",
    "matrix = np.array([\n",
    "    [0.3, 0.4, 0.3],\n",
    "    [0.2, 0.5, 0.3],\n",
    "    [0.4, 0.3, 0.3]\n",
    "])\n",
    "\n",
    "two_steps = matrix @ matrix\n",
    "\n",
    "start_pos = [0, 1, 0]\n",
    "\n",
    "final_pos = (start_pos @ two_steps)[0]\n",
    "\n",
    "# Fill in the answer to part 1 below as a decimal number\n",
    "problem1_p1 = final_pos"
   ],
   "outputs": [],
   "execution_count": 85
  },
  {
   "cell_type": "code",
   "id": "52a172dc",
   "metadata": {
    "deletable": false,
    "lx_assignment_number": "2",
    "lx_assignment_type": "ASSIGNMENT",
    "lx_assignment_type2print": "Assignment",
    "lx_problem_cell_type": "PROBLEM",
    "lx_problem_number": "1",
    "lx_problem_points": "8",
    "ExecuteTime": {
     "end_time": "2025-01-11T15:44:59.985672Z",
     "start_time": "2025-01-11T15:44:59.982763Z"
    }
   },
   "source": [
    "# Part 2\n",
    "\n",
    "'''\n",
    "There exist two ways:\n",
    "\n",
    "a = suburb -> suburb -> downtown\n",
    "b = suburb -> countryside -> downtown\n",
    "'''\n",
    "a = 1 * 0.5 * 0.2\n",
    "b = 1 * 0.3 * 0.4\n",
    "\n",
    "# Fill in the answer to part 2 below as a decimal number\n",
    "problem1_p2 = a + b\n",
    "print(problem1_p2)"
   ],
   "outputs": [
    {
     "name": "stdout",
     "output_type": "stream",
     "text": [
      "0.22\n"
     ]
    }
   ],
   "execution_count": 86
  },
  {
   "cell_type": "code",
   "id": "a3b3872d",
   "metadata": {
    "deletable": false,
    "lx_assignment_number": "2",
    "lx_assignment_type": "ASSIGNMENT",
    "lx_assignment_type2print": "Assignment",
    "lx_problem_cell_type": "PROBLEM",
    "lx_problem_number": "1",
    "lx_problem_points": "8",
    "ExecuteTime": {
     "end_time": "2025-01-11T15:45:00.006216Z",
     "start_time": "2025-01-11T15:45:00.003096Z"
    }
   },
   "source": [
    "# Part 3\n",
    "'''\n",
    "To check for irreducibility, raise the matrix to a high power\n",
    "and check for convergence. No elements should approach 0.\n",
    "'''\n",
    "\n",
    "matrix_inf = np.linalg.matrix_power(matrix, 100)\n",
    "\n",
    "mama = matrix = np.array([\n",
    "    [0.3, 0.4, 0.3],\n",
    "    [0.2, 0.5, 0.3],\n",
    "    [0.4, 0.3, 0.3]\n",
    "])\n",
    "\n",
    "swd = np.linalg.matrix_power(mama, 30)\n",
    "\n",
    "print(swd)\n",
    "\n",
    "# Fill in the answer to part 3 below as a boolean\n",
    "problem1_irreducible = True"
   ],
   "outputs": [
    {
     "name": "stdout",
     "output_type": "stream",
     "text": [
      "[[0.28888889 0.41111111 0.3       ]\n",
      " [0.28888889 0.41111111 0.3       ]\n",
      " [0.28888889 0.41111111 0.3       ]]\n"
     ]
    }
   ],
   "execution_count": 87
  },
  {
   "cell_type": "code",
   "id": "1b9d0a00",
   "metadata": {
    "deletable": false,
    "lx_assignment_number": "2",
    "lx_assignment_type": "ASSIGNMENT",
    "lx_assignment_type2print": "Assignment",
    "lx_problem_cell_type": "PROBLEM",
    "lx_problem_number": "1",
    "lx_problem_points": "8",
    "ExecuteTime": {
     "end_time": "2025-01-11T15:45:00.020923Z",
     "start_time": "2025-01-11T15:45:00.018022Z"
    }
   },
   "source": [
    "# Part 4\n",
    "\n",
    "# Fill in the answer to part 4 below\n",
    "# the answer should be a numpy array of length 3\n",
    "# make sure that the entries sums to 1!\n",
    "\n",
    "def stat_distr(p):\n",
    "    A = p.T - np.eye(p.shape[0])\n",
    "    b = np.zeros(p.shape[0])\n",
    "\n",
    "    A[-1] = 1\n",
    "    b[-1] = 1\n",
    "\n",
    "    return np.linalg.solve(A, b)\n",
    "\n",
    "\n",
    "problem1_stationary = stat_distr(matrix)"
   ],
   "outputs": [],
   "execution_count": 88
  },
  {
   "cell_type": "code",
   "id": "481625e3",
   "metadata": {
    "deletable": false,
    "lx_assignment_number": "2",
    "lx_assignment_type": "ASSIGNMENT",
    "lx_assignment_type2print": "Assignment",
    "lx_problem_cell_type": "PROBLEM",
    "lx_problem_number": "1",
    "lx_problem_points": "8",
    "ExecuteTime": {
     "end_time": "2025-01-11T15:45:00.037849Z",
     "start_time": "2025-01-11T15:45:00.033313Z"
    }
   },
   "source": [
    "# Part 5\n",
    "\n",
    "import numpy as np\n",
    "\n",
    "# Transition matrix with downtown as an absorbing state\n",
    "P = np.array([\n",
    "    [1.0, 0.0, 0.0],  # Downtown is absorbing\n",
    "    [0.2, 0.5, 0.3],  # Suburbs\n",
    "    [0.4, 0.3, 0.3]  # Countryside\n",
    "])\n",
    "\n",
    "max_steps = 30\n",
    "initial_state = np.array([0, 1, 0])  # Start in the suburbs\n",
    "target_index = 0  # Downtown index\n",
    "\n",
    "hitting_probabilities = []\n",
    "cumulative_probability = 0  # Tracks total probability of hitting downtown\n",
    "\n",
    "current_state = initial_state.copy()\n",
    "for step in range(1, max_steps + 1):\n",
    "    # Advance the Markov chain one step\n",
    "    next_state = current_state @ P\n",
    "    # Calculate hitting probability at this step\n",
    "    hitting_probability = next_state[target_index] - cumulative_probability\n",
    "    hitting_probabilities.append(hitting_probability)\n",
    "    # Update cumulative probability\n",
    "    cumulative_probability += hitting_probability\n",
    "    # Update the current state\n",
    "    current_state = next_state\n",
    "\n",
    "    print(hitting_probability)\n",
    "\n",
    "# Check if total hitting probabilities sum to 1\n",
    "total_probability = sum(hitting_probabilities)\n",
    "if not np.isclose(total_probability, 1.0):\n",
    "    print(f\"Warning: Total hitting probability is {total_probability}, not 1.0\")\n",
    "\n",
    "# Compute expected hitting time\n",
    "expected_hitting_time = sum(step * hitting_probabilities[step - 1] for step in range(1, max_steps + 1))\n",
    "print(f\"Expected hitting time: {expected_hitting_time}\")\n",
    "\n",
    "# Fill in the answer to part 5 below\n",
    "# That is, the expected number of steps as a decimal number\n",
    "problem1_ET = 3.8"
   ],
   "outputs": [
    {
     "name": "stdout",
     "output_type": "stream",
     "text": [
      "0.2\n",
      "0.22000000000000003\n",
      "0.16399999999999992\n",
      "0.118\n",
      "0.08455999999999997\n",
      "0.060567999999999955\n",
      "0.0433808\n",
      "0.03107055999999997\n",
      "0.022253600000000096\n",
      "0.01593864639999998\n",
      "0.01141570112000001\n",
      "0.008176242112000076\n",
      "0.005856051622399994\n",
      "0.00419426677120005\n",
      "0.003004050319616036\n",
      "0.002151584249420857\n",
      "0.0015410243803597456\n",
      "0.0011037244493224962\n",
      "0.0007905180966364389\n",
      "0.0005661910103497148\n",
      "0.00040552172248153884\n",
      "0.0002904459173643792\n",
      "0.00020802543054254663\n",
      "0.00014899358939213236\n",
      "0.00010671334568113089\n",
      "7.643106118138121e-05\n",
      "5.474204820421491e-05\n",
      "3.920777489252458e-05\n",
      "2.8081697021731244e-05\n",
      "2.0112891123802434e-05\n",
      "Warning: Total hitting probability is 0.9999492360091907, not 1.0\n",
      "Expected hitting time: 3.8444520365145927\n"
     ]
    }
   ],
   "execution_count": 89
  },
  {
   "cell_type": "markdown",
   "id": "e78a4dee",
   "metadata": {
    "deletable": false,
    "lx_assignment_number": "2",
    "lx_assignment_type": "ASSIGNMENT",
    "lx_assignment_type2print": "Assignment",
    "lx_problem_cell_type": "PROBLEM",
    "lx_problem_number": "2",
    "lx_problem_points": "4"
   },
   "source": [
    "---\n",
    "## Assignment 2, PROBLEM 2\n",
    "Maximum Points = 4"
   ]
  },
  {
   "cell_type": "markdown",
   "id": "d9a825d1",
   "metadata": {
    "deletable": false,
    "lx_assignment_number": "2",
    "lx_assignment_type": "ASSIGNMENT",
    "lx_assignment_type2print": "Assignment",
    "lx_problem_cell_type": "PROBLEM",
    "lx_problem_number": "2",
    "lx_problem_points": "4"
   },
   "source": [
    "\n",
    "Use the **Multi-dimensional Constrained Optimisation** example (in `07-Optimization.ipynb`) to numerically find the MLe for the mean and variance parameter based on `normallySimulatedDataSamples`, an array obtained by a specific simulation of $30$ IID samples from the $Normal(10,2)$ random variable.\n",
    "\n",
    "Recall that $Normal(\\mu, \\sigma^2)$ RV has the probability density function given by:\n",
    "\n",
    "$$\n",
    "f(x ;\\mu, \\sigma) = \\displaystyle\\frac{1}{\\sigma\\sqrt{2\\pi}}\\exp\\left(\\frac{-1}{2\\sigma^2}(x-\\mu)^2\\right)\n",
    "$$\n",
    "\n",
    "The two parameters, $\\mu \\in \\mathbb{R} := (-\\infty,\\infty)$ and $\\sigma \\in (0,\\infty)$, are sometimes referred to as the location and scale parameters.\n",
    "\n",
    "You know that the log likelihood function for $n$ IID samples from a Normal RV with parameters $\\mu$ and $\\sigma$ simply follows from $\\sum_{i=1}^n \\log(f(x_i; \\mu,\\sigma))$, based on the IID assumption. \n",
    "\n",
    "NOTE: When setting bounding boxes for $\\mu$ and $\\sigma$ try to start with some guesses like $[-20,20]$ and $[0.1,5.0]$ and make it larger if the solution is at the boundary. Making the left bounding-point for $\\sigma$ too close to $0.0$ will cause division by zero Warnings. Other numerical instabilities can happen in such iterative numerical solutions to the MLe. You need to be patient and learn by trial-and-error. You will see the mathematical theory in more details in a future course in scientific computing/optimisation. So don't worry too much now except learning to use it for our problems.  "
   ]
  },
  {
   "cell_type": "code",
   "id": "699b52ca",
   "metadata": {
    "deletable": false,
    "lx_assignment_number": "2",
    "lx_assignment_type": "ASSIGNMENT",
    "lx_assignment_type2print": "Assignment",
    "lx_problem_cell_type": "PROBLEM",
    "lx_problem_number": "2",
    "lx_problem_points": "4",
    "ExecuteTime": {
     "end_time": "2025-01-11T15:45:00.056718Z",
     "start_time": "2025-01-11T15:45:00.050255Z"
    }
   },
   "source": [
    "\n",
    "import numpy as np\n",
    "from scipy import optimize\n",
    "\n",
    "# do NOT change the next three lines\n",
    "np.random.seed(123456)  # set seed\n",
    "# simulate 30 IID samples drawn from Normal(10,2)RV\n",
    "normallySimulatedDataSamples = np.random.normal(10, 2, 30)\n",
    "\n",
    "\n",
    "def f(x, mu, sigma):\n",
    "    return (1 / (sigma * np.sqrt(2 * np.pi))) * np.exp(-((x - mu) ** 2) / (2 * sigma ** 2))\n",
    "\n",
    "\n",
    "# define the negative log likelihood function you want to minimise by editing XXX\n",
    "def negLogLklOfIIDNormalSamples(parameters):\n",
    "    # Return the -log(likelihood) of normallySimulatedDataSamples with mean and variance parameters\n",
    "    mu_param = parameters[0]\n",
    "    sigma_param = parameters[1]\n",
    "\n",
    "    likelihoods = f(normallySimulatedDataSamples, mu_param, sigma_param)\n",
    "    positive_likelihoods = likelihoods[likelihoods > 0]  #filter zeros\n",
    "\n",
    "    negative_log_likelihood = -np.sum(np.log(positive_likelihoods))\n",
    "    return negative_log_likelihood\n",
    "\n",
    "\n",
    "# you should only change XXX below and not anything else\n",
    "parameter_bounding_box = ((-20, 20), (0.1, 5.0))  # specify the constraints for each parameter - some guess work...\n",
    "initial_arguments = np.array([10, 2])  # point in 2D to initialise the minimize algorithm\n",
    "result_problem2_opt = optimize.minimize(negLogLklOfIIDNormalSamples, initial_arguments, bounds=parameter_bounding_box,\n",
    "                                        method='L-BFGS-B')\n",
    "# call the minimize method above finally! you need to play a bit to get initial conditions and bounding box ok\n",
    "result_problem2_opt\n"
   ],
   "outputs": [
    {
     "data": {
      "text/plain": [
       "  message: CONVERGENCE: REL_REDUCTION_OF_F_<=_FACTR*EPSMCH\n",
       "  success: True\n",
       "   status: 0\n",
       "      fun: 58.63138728248559\n",
       "        x: [ 9.269e+00  1.708e+00]\n",
       "      nit: 5\n",
       "      jac: [ 1.066e-05 -6.892e-05]\n",
       "     nfev: 27\n",
       "     njev: 9\n",
       " hess_inv: <2x2 LbfgsInvHessProduct with dtype=float64>"
      ]
     },
     "execution_count": 90,
     "metadata": {},
     "output_type": "execute_result"
    }
   ],
   "execution_count": 90
  },
  {
   "cell_type": "markdown",
   "id": "d64a351c",
   "metadata": {
    "deletable": false,
    "lx_assignment_number": "2",
    "lx_assignment_type": "ASSIGNMENT",
    "lx_assignment_type2print": "Assignment",
    "lx_problem_cell_type": "PROBLEM",
    "lx_problem_number": "3",
    "lx_problem_points": "4"
   },
   "source": [
    "---\n",
    "## Assignment 2, PROBLEM 3\n",
    "Maximum Points = 4"
   ]
  },
  {
   "cell_type": "markdown",
   "id": "0b9c787c",
   "metadata": {
    "deletable": false,
    "lx_assignment_number": "2",
    "lx_assignment_type": "ASSIGNMENT",
    "lx_assignment_type2print": "Assignment",
    "lx_problem_cell_type": "PROBLEM",
    "lx_problem_number": "3",
    "lx_problem_points": "4"
   },
   "source": [
    "\n",
    "\n",
    "Derive the maximum likelihood estimate for $n$ IID samples from a random variable with the following probability density function:\n",
    "$$\n",
    "f(x; \\lambda) = \\frac{1}{24} \\lambda^5 x^4 \\exp(-\\lambda x), \\qquad \\text{ where, } \\lambda>0, x > 0\n",
    "$$\n",
    "\n",
    "You can solve the MLe by hand (using pencil paper or using key-strokes). Present your solution as the return value of a function called `def MLeForAssignment2Problem3(x)`, where `x` is a list of $n$ input data points."
   ]
  },
  {
   "cell_type": "code",
   "id": "41720f28",
   "metadata": {
    "deletable": false,
    "lx_assignment_number": "2",
    "lx_assignment_type": "ASSIGNMENT",
    "lx_assignment_type2print": "Assignment",
    "lx_problem_cell_type": "PROBLEM",
    "lx_problem_number": "3",
    "lx_problem_points": "4",
    "ExecuteTime": {
     "end_time": "2025-01-11T15:45:00.074431Z",
     "start_time": "2025-01-11T15:45:00.072411Z"
    }
   },
   "source": [
    "# do not change the name of the function, just replace XXX with the appropriate expressions for the MLe\n",
    "def MLeForAssignment2Problem3(x):\n",
    "    # Derivation of Log-Likelihood Function set to equal 0\n",
    "    n = len(x)\n",
    "    return 5 * n / sum(x)"
   ],
   "outputs": [],
   "execution_count": 91
  },
  {
   "cell_type": "markdown",
   "id": "2de9360d",
   "metadata": {
    "deletable": false,
    "lx_assignment_number": "2",
    "lx_assignment_type": "ASSIGNMENT",
    "lx_assignment_type2print": "Assignment",
    "lx_problem_cell_type": "PROBLEM",
    "lx_problem_number": "4",
    "lx_problem_points": "8"
   },
   "source": [
    "---\n",
    "## Assignment 2, PROBLEM 4\n",
    "Maximum Points = 8"
   ]
  },
  {
   "cell_type": "markdown",
   "id": "2e67892b",
   "metadata": {
    "deletable": false,
    "lx_assignment_number": "2",
    "lx_assignment_type": "ASSIGNMENT",
    "lx_assignment_type2print": "Assignment",
    "lx_problem_cell_type": "PROBLEM",
    "lx_problem_number": "4",
    "lx_problem_points": "8"
   },
   "source": [
    "\n",
    "## Random variable generation and transformation\n",
    "\n",
    "The purpose of this problem is to show that you can implement your own sampler, this will be built in the following three steps:\n",
    "\n",
    "1. [2p] Implement a Linear Congruential Generator where you tested out a good combination (a large $M$ with $a,b$ satisfying the Hull-Dobell (Thm 6.8)) of parameters. Follow the instructions in the code block.\n",
    "2. [2p] Using a generator construct random numbers from the uniform $[0,1]$ distribution.\n",
    "3. [4p] Using a uniform $[0,1]$ random generator, generate samples from \n",
    "\n",
    "$$p_0(x) = \\frac{\\pi}{2}|\\sin(2\\pi x)|, \\quad x \\in [0,1] \\enspace .$$\n",
    "\n",
    "Using the **Accept-Reject** sampler (**Algorithm 1** in TFDS notes) with sampling density given by the uniform $[0,1]$ distribution."
   ]
  },
  {
   "cell_type": "code",
   "id": "530446bc",
   "metadata": {
    "deletable": false,
    "lx_assignment_number": "2",
    "lx_assignment_type": "ASSIGNMENT",
    "lx_assignment_type2print": "Assignment",
    "lx_problem_cell_type": "PROBLEM",
    "lx_problem_number": "4",
    "lx_problem_points": "8",
    "ExecuteTime": {
     "end_time": "2025-01-11T15:45:00.084663Z",
     "start_time": "2025-01-11T15:45:00.081760Z"
    }
   },
   "source": [
    "\n",
    "def problem4_LCG(size=None, seed=0):\n",
    "    \"\"\"\n",
    "    A linear congruential generator that generates pseudo random numbers according to size.\n",
    "    \n",
    "    Parameters\n",
    "    -------------\n",
    "    size : an integer denoting how many samples should be produced\n",
    "    seed : the starting point of the LCG, i.e. u0 in the notes.\n",
    "    \n",
    "    Returns\n",
    "    -------------\n",
    "    out : a list of the pseudo random numbers\n",
    "    \"\"\"\n",
    "\n",
    "    def LCG(size=10, seed=0):\n",
    "        # Parameters for maximal period\n",
    "        m = 2 ** 31 - 1  # Large prime modulus\n",
    "        a = 1103515245  # Multiplier (common choice)\n",
    "        b = 12345  # Increment (common choice)\n",
    "\n",
    "        x = seed\n",
    "        retValue = []\n",
    "        for _ in range(size):\n",
    "            x = (a * x + b) % m\n",
    "            retValue.append(x)\n",
    "        return retValue\n",
    "\n",
    "    return LCG(size=10000, seed=0)"
   ],
   "outputs": [],
   "execution_count": 92
  },
  {
   "cell_type": "code",
   "id": "8d215c5a",
   "metadata": {
    "deletable": false,
    "lx_assignment_number": "2",
    "lx_assignment_type": "ASSIGNMENT",
    "lx_assignment_type2print": "Assignment",
    "lx_problem_cell_type": "PROBLEM",
    "lx_problem_number": "4",
    "lx_problem_points": "8",
    "ExecuteTime": {
     "end_time": "2025-01-11T15:45:14.575291Z",
     "start_time": "2025-01-11T15:45:00.092302Z"
    }
   },
   "source": [
    "from matplotlib import pyplot as plt\n",
    "\n",
    "\n",
    "def problem4_uniform(generator=None, period=1, size=None, seed=0):\n",
    "    \"\"\"\n",
    "    Takes a generator and produces samples from the uniform [0,1] distribution according\n",
    "    to size.\n",
    "    \n",
    "    Parameters\n",
    "    -------------\n",
    "    generator : a function of type generator(size,seed) and produces the same result as problem1_LCG, i.e. pseudo random numbers in the range {0,1,...,period-1}\n",
    "    period : the period of the generator\n",
    "    seed : the seed to be used in the generator provided\n",
    "    size : an integer denoting how many samples should be produced\n",
    "    \n",
    "    Returns\n",
    "    --------------\n",
    "    out : a list of the uniform pseudo random numbers\n",
    "    \"\"\"\n",
    "\n",
    "    return [num / max(problem4_LCG(size=10, seed=0)) for num in generator(size=size, seed=seed)]\n",
    "\n",
    "\n",
    "ScaledLCG = problem4_uniform(generator=problem4_LCG, period=256)\n",
    "\n",
    "plt.hist(ScaledLCG, bins=40)"
   ],
   "outputs": [
    {
     "ename": "KeyboardInterrupt",
     "evalue": "",
     "output_type": "error",
     "traceback": [
      "\u001B[0;31m---------------------------------------------------------------------------\u001B[0m",
      "\u001B[0;31mKeyboardInterrupt\u001B[0m                         Traceback (most recent call last)",
      "Cell \u001B[0;32mIn[93], line 24\u001B[0m\n\u001B[1;32m      5\u001B[0m \u001B[38;5;250m    \u001B[39m\u001B[38;5;124;03m\"\"\"\u001B[39;00m\n\u001B[1;32m      6\u001B[0m \u001B[38;5;124;03m    Takes a generator and produces samples from the uniform [0,1] distribution according\u001B[39;00m\n\u001B[1;32m      7\u001B[0m \u001B[38;5;124;03m    to size.\u001B[39;00m\n\u001B[0;32m   (...)\u001B[0m\n\u001B[1;32m     18\u001B[0m \u001B[38;5;124;03m    out : a list of the uniform pseudo random numbers\u001B[39;00m\n\u001B[1;32m     19\u001B[0m \u001B[38;5;124;03m    \"\"\"\u001B[39;00m\n\u001B[1;32m     21\u001B[0m     \u001B[38;5;28;01mreturn\u001B[39;00m [num \u001B[38;5;241m/\u001B[39m \u001B[38;5;28mmax\u001B[39m(problem4_LCG(size\u001B[38;5;241m=\u001B[39m\u001B[38;5;241m10\u001B[39m, seed\u001B[38;5;241m=\u001B[39m\u001B[38;5;241m0\u001B[39m)) \u001B[38;5;28;01mfor\u001B[39;00m num \u001B[38;5;129;01min\u001B[39;00m generator(size\u001B[38;5;241m=\u001B[39msize, seed\u001B[38;5;241m=\u001B[39mseed)]\n\u001B[0;32m---> 24\u001B[0m ScaledLCG \u001B[38;5;241m=\u001B[39m \u001B[43mproblem4_uniform\u001B[49m\u001B[43m(\u001B[49m\u001B[43mgenerator\u001B[49m\u001B[38;5;241;43m=\u001B[39;49m\u001B[43mproblem4_LCG\u001B[49m\u001B[43m,\u001B[49m\u001B[43m \u001B[49m\u001B[43mperiod\u001B[49m\u001B[38;5;241;43m=\u001B[39;49m\u001B[38;5;241;43m256\u001B[39;49m\u001B[43m)\u001B[49m\n\u001B[1;32m     26\u001B[0m plt\u001B[38;5;241m.\u001B[39mhist(ScaledLCG, bins\u001B[38;5;241m=\u001B[39m\u001B[38;5;241m40\u001B[39m)\n",
      "Cell \u001B[0;32mIn[93], line 21\u001B[0m, in \u001B[0;36mproblem4_uniform\u001B[0;34m(generator, period, size, seed)\u001B[0m\n\u001B[1;32m      4\u001B[0m \u001B[38;5;28;01mdef\u001B[39;00m \u001B[38;5;21mproblem4_uniform\u001B[39m(generator\u001B[38;5;241m=\u001B[39m\u001B[38;5;28;01mNone\u001B[39;00m, period\u001B[38;5;241m=\u001B[39m\u001B[38;5;241m1\u001B[39m, size\u001B[38;5;241m=\u001B[39m\u001B[38;5;28;01mNone\u001B[39;00m, seed\u001B[38;5;241m=\u001B[39m\u001B[38;5;241m0\u001B[39m):\n\u001B[1;32m      5\u001B[0m \u001B[38;5;250m    \u001B[39m\u001B[38;5;124;03m\"\"\"\u001B[39;00m\n\u001B[1;32m      6\u001B[0m \u001B[38;5;124;03m    Takes a generator and produces samples from the uniform [0,1] distribution according\u001B[39;00m\n\u001B[1;32m      7\u001B[0m \u001B[38;5;124;03m    to size.\u001B[39;00m\n\u001B[0;32m   (...)\u001B[0m\n\u001B[1;32m     18\u001B[0m \u001B[38;5;124;03m    out : a list of the uniform pseudo random numbers\u001B[39;00m\n\u001B[1;32m     19\u001B[0m \u001B[38;5;124;03m    \"\"\"\u001B[39;00m\n\u001B[0;32m---> 21\u001B[0m     \u001B[38;5;28;01mreturn\u001B[39;00m [num \u001B[38;5;241m/\u001B[39m \u001B[38;5;28mmax\u001B[39m(problem4_LCG(size\u001B[38;5;241m=\u001B[39m\u001B[38;5;241m10\u001B[39m, seed\u001B[38;5;241m=\u001B[39m\u001B[38;5;241m0\u001B[39m)) \u001B[38;5;28;01mfor\u001B[39;00m num \u001B[38;5;129;01min\u001B[39;00m generator(size\u001B[38;5;241m=\u001B[39msize, seed\u001B[38;5;241m=\u001B[39mseed)]\n",
      "Cell \u001B[0;32mIn[93], line 21\u001B[0m, in \u001B[0;36m<listcomp>\u001B[0;34m(.0)\u001B[0m\n\u001B[1;32m      4\u001B[0m \u001B[38;5;28;01mdef\u001B[39;00m \u001B[38;5;21mproblem4_uniform\u001B[39m(generator\u001B[38;5;241m=\u001B[39m\u001B[38;5;28;01mNone\u001B[39;00m, period\u001B[38;5;241m=\u001B[39m\u001B[38;5;241m1\u001B[39m, size\u001B[38;5;241m=\u001B[39m\u001B[38;5;28;01mNone\u001B[39;00m, seed\u001B[38;5;241m=\u001B[39m\u001B[38;5;241m0\u001B[39m):\n\u001B[1;32m      5\u001B[0m \u001B[38;5;250m    \u001B[39m\u001B[38;5;124;03m\"\"\"\u001B[39;00m\n\u001B[1;32m      6\u001B[0m \u001B[38;5;124;03m    Takes a generator and produces samples from the uniform [0,1] distribution according\u001B[39;00m\n\u001B[1;32m      7\u001B[0m \u001B[38;5;124;03m    to size.\u001B[39;00m\n\u001B[0;32m   (...)\u001B[0m\n\u001B[1;32m     18\u001B[0m \u001B[38;5;124;03m    out : a list of the uniform pseudo random numbers\u001B[39;00m\n\u001B[1;32m     19\u001B[0m \u001B[38;5;124;03m    \"\"\"\u001B[39;00m\n\u001B[0;32m---> 21\u001B[0m     \u001B[38;5;28;01mreturn\u001B[39;00m [num \u001B[38;5;241m/\u001B[39m \u001B[38;5;28mmax\u001B[39m(\u001B[43mproblem4_LCG\u001B[49m\u001B[43m(\u001B[49m\u001B[43msize\u001B[49m\u001B[38;5;241;43m=\u001B[39;49m\u001B[38;5;241;43m10\u001B[39;49m\u001B[43m,\u001B[49m\u001B[43m \u001B[49m\u001B[43mseed\u001B[49m\u001B[38;5;241;43m=\u001B[39;49m\u001B[38;5;241;43m0\u001B[39;49m\u001B[43m)\u001B[49m) \u001B[38;5;28;01mfor\u001B[39;00m num \u001B[38;5;129;01min\u001B[39;00m generator(size\u001B[38;5;241m=\u001B[39msize, seed\u001B[38;5;241m=\u001B[39mseed)]\n",
      "Cell \u001B[0;32mIn[92], line 28\u001B[0m, in \u001B[0;36mproblem4_LCG\u001B[0;34m(size, seed)\u001B[0m\n\u001B[1;32m     25\u001B[0m         retValue\u001B[38;5;241m.\u001B[39mappend(x)\n\u001B[1;32m     26\u001B[0m     \u001B[38;5;28;01mreturn\u001B[39;00m retValue\n\u001B[0;32m---> 28\u001B[0m \u001B[38;5;28;01mreturn\u001B[39;00m \u001B[43mLCG\u001B[49m\u001B[43m(\u001B[49m\u001B[43msize\u001B[49m\u001B[38;5;241;43m=\u001B[39;49m\u001B[38;5;241;43m100000\u001B[39;49m\u001B[43m,\u001B[49m\u001B[43m \u001B[49m\u001B[43mseed\u001B[49m\u001B[38;5;241;43m=\u001B[39;49m\u001B[38;5;241;43m0\u001B[39;49m\u001B[43m)\u001B[49m\n",
      "Cell \u001B[0;32mIn[92], line 25\u001B[0m, in \u001B[0;36mproblem4_LCG.<locals>.LCG\u001B[0;34m(size, seed)\u001B[0m\n\u001B[1;32m     23\u001B[0m \u001B[38;5;28;01mfor\u001B[39;00m _ \u001B[38;5;129;01min\u001B[39;00m \u001B[38;5;28mrange\u001B[39m(size):\n\u001B[1;32m     24\u001B[0m     x \u001B[38;5;241m=\u001B[39m (a \u001B[38;5;241m*\u001B[39m x \u001B[38;5;241m+\u001B[39m b) \u001B[38;5;241m%\u001B[39m m\n\u001B[0;32m---> 25\u001B[0m     \u001B[43mretValue\u001B[49m\u001B[38;5;241;43m.\u001B[39;49m\u001B[43mappend\u001B[49m\u001B[43m(\u001B[49m\u001B[43mx\u001B[49m\u001B[43m)\u001B[49m\n\u001B[1;32m     26\u001B[0m \u001B[38;5;28;01mreturn\u001B[39;00m retValue\n",
      "\u001B[0;31mKeyboardInterrupt\u001B[0m: "
     ]
    }
   ],
   "execution_count": 93
  },
  {
   "cell_type": "code",
   "id": "15832284",
   "metadata": {
    "deletable": false,
    "lx_assignment_number": "2",
    "lx_assignment_type": "ASSIGNMENT",
    "lx_assignment_type2print": "Assignment",
    "lx_problem_cell_type": "PROBLEM",
    "lx_problem_number": "4",
    "lx_problem_points": "8",
    "ExecuteTime": {
     "end_time": "2025-01-11T15:45:14.577465Z",
     "start_time": "2025-01-11T15:44:30.842121Z"
    }
   },
   "source": [
    "\n",
    "def problem4_accept_reject(uniformGenerator=None, n_iterations=None, seed=0):\n",
    "    \"\"\"\n",
    "    Takes a generator that produces uniform pseudo random [0,1] numbers \n",
    "    and produces samples from (pi/2)*abs(sin(x*2*pi)) using an Accept-Reject\n",
    "    sampler with the uniform distribution as the proposal distribution.\n",
    "    Runs n_iterations\n",
    "    \n",
    "    Parameters\n",
    "    -------------\n",
    "    generator : a function of the type generator(size,seed) that produces uniform pseudo random\n",
    "    numbers from [0,1]\n",
    "    seed : the seed to be used in the generator provided\n",
    "    n_iterations : an integer denoting how many attempts should be made in the accept-reject sampler\n",
    "    \n",
    "    Returns\n",
    "    --------------\n",
    "    out : a list of the pseudo random numbers with the specified distribution\n",
    "    \"\"\"\n",
    "\n",
    "    XXX\n",
    "\n",
    "    return XXX"
   ],
   "outputs": [],
   "execution_count": 74
  },
  {
   "cell_type": "markdown",
   "id": "6479a17c",
   "metadata": {
    "deletable": false,
    "lx_assignment_number": "2",
    "lx_assignment_type": "ASSIGNMENT",
    "lx_assignment_type2print": "Assignment",
    "lx_problem_cell_type": "Test",
    "lx_problem_number": "4",
    "lx_problem_points": "8"
   },
   "source": [
    "---\n",
    "#### Local Test for Assignment 2, PROBLEM 4\n",
    "Evaluate cell below to make sure your answer is valid.                             You **should not** modify anything in the cell below when evaluating it to do a local test of                             your solution.\n",
    "You may need to include and evaluate code snippets from lecture notebooks in cells above to make the local test work correctly sometimes (see error messages for clues). This is meant to help you become efficient at recalling materials covered in lectures that relate to this problem. Such local tests will generally not be available in the exam."
   ]
  },
  {
   "cell_type": "code",
   "id": "26cd1592",
   "metadata": {
    "deletable": false,
    "lx_assignment_number": "2",
    "lx_assignment_type": "ASSIGNMENT",
    "lx_assignment_type2print": "Assignment",
    "lx_problem_cell_type": "Test",
    "lx_problem_number": "4",
    "lx_problem_points": "8",
    "ExecuteTime": {
     "end_time": "2025-01-11T15:45:14.578519Z",
     "start_time": "2025-01-11T15:44:30.860965Z"
    }
   },
   "source": [
    "\n",
    "# If you managed to solve all three parts you can test the following code to see if it runs\n",
    "# you have to change the period to match your LCG though, this is marked as XXX.\n",
    "# It is a very good idea to check these things using the histogram function in sagemath\n",
    "# try with a larger number of samples, up to 10000 should run\n",
    "\n",
    "print(\"LCG output: %s\" % problem4_LCG(size=10, seed=1))\n",
    "\n",
    "period = XXX\n",
    "\n",
    "print(\"Uniform sampler %s\" % problem4_uniform(generator=problem4_LCG, period=period, size=10, seed=1))\n",
    "\n",
    "uniform_sampler = lambda size, seed: problem4_uniform(generator=problem4_LCG, period=period, size=size, seed=seed)\n",
    "\n",
    "print(\"Accept-Reject sampler %s\" % problem4_accept_reject(uniformGenerator=uniform_sampler, n_iterations=20, seed=1))"
   ],
   "outputs": [
    {
     "name": "stdout",
     "output_type": "stream",
     "text": [
      "LCG output: [12345, 1406938949, 178066070, 1543701248, 427461576, 562845833, 1609490218, 377220791, 2040027864, 186150528, 667276653, 167860840, 95653539, 1525258573, 795960552, 1272442040, 173617473, 865290808, 270830898, 1905073316, 1560342131, 835276979, 5600085, 1987058269, 1401826095, 1694140998, 1087770539, 2122194134, 754953873, 2085830575, 1024885510, 1518985360, 2097608274, 1890535832, 545680769, 1377224096, 131584826, 908364759, 189246844, 1410643431, 521981313, 1218695711, 1611912202, 774336434, 1479967491, 1875327846, 1547822973, 1403927672, 527212241, 1886344482, 2137687561, 1788968695, 1011332867, 1922553165, 1326717799, 1295382156, 890099664, 617196876, 73107992, 668633302, 1304190794, 594241059, 1109311699, 1577361936, 168432667, 1165338027, 478490292, 449821714, 1265878824, 1051712694, 1360726589, 1467843818, 1659002142, 1757749254, 741020201, 2034742934, 159445517, 1570204149, 1414977256, 691741732, 1077507238, 1499864157, 1744631027, 901256469, 883311753, 2041650383, 1557331845, 1698854622, 1598099958, 1835296794, 30074496, 1569399995, 1294164748, 1865055905, 1381168876, 1701111519, 1306706590, 219349713, 559020559, 1909553872, 1358532845, 1918192227, 290289699, 1334650513, 786478753, 653245911, 523737056, 574403288, 1325269985, 1358152786, 278984578, 420130674, 470538426, 1968806651, 432993870, 1740761207, 2059379830, 269264803, 1137214761, 2122201090, 1700443715, 2047822777, 1784982244, 1072848637, 1756225095, 863366763, 68086479, 1930762536, 1169758253, 1489974450, 328641461, 210194062, 1708131725, 128115262, 522843174, 413683296, 1383496282, 1538629752, 657089523, 747830531, 1306953642, 671187156, 174809279, 2135375656, 686531205, 1153300211, 2087016207, 1009976012, 1095349323, 1608475065, 557654503, 941263801, 550138466, 263347017, 843591724, 1867033060, 154881321, 456586048, 1174361004, 540365515, 444417259, 2025113928, 772055988, 1790468701, 104816737, 664118356, 1947734314, 1872650286, 313295367, 1695823749, 475346752, 288186805, 870946977, 1328170862, 1820736572, 632187519, 1615670595, 989152031, 1009195525, 173725416, 988450047, 2002013520, 1470442000, 1770889621, 486856314, 1068374104, 1968467551, 1733871414, 207529991, 1581586567, 549447373, 174726048, 1186117604, 1355562356, 1189910338, 743487889, 1691682615, 373385629, 2145759365, 2116790311, 1003638542, 1580439373, 386348637, 895877809, 1922550647, 1519170107, 1868548344, 1007649351, 890451814, 1312413447, 750874828, 528675075, 196282559, 1352803865, 913001073, 1018829682, 1526411978, 124444759, 1458961166, 1623063668, 2067685624, 843032336, 708009503, 1597385864, 901749473, 1248477694, 1040903384, 1707246432, 1214500364, 1237412020, 710875239, 542958984, 894348087, 697852400, 1756943960, 1038245535, 2147336205, 1751257657, 436786536, 1251577725, 1797123214, 1957712570, 1511679916, 1915338023, 1094429797, 294828812, 1892104462, 553493358, 970077084, 1318585455, 223402763, 176455263, 986481725, 1002702780, 49342221, 696871561, 1380347051, 513919376, 1533706220, 1792296299, 1009755608, 1624182269, 249125799, 1581546033, 599389906, 707398791, 1355633905, 70925594, 1773289471, 1156540105, 1998753935, 479555323, 1396905502, 1212862212, 1496025616, 1103960865, 15656100, 716457028, 1108847835, 1226305117, 139356331, 1355647631, 719016173, 1818075069, 1801861128, 1962461185, 1220490423, 493171009, 24700020, 479099272, 663615163, 2090112760, 1293450921, 1364819360, 1525606250, 384907044, 421768125, 1889334652, 1499900537, 422463462, 1634821294, 1218158219, 1684180768, 1273525118, 496985498, 1814574362, 821867449, 1839025195, 633629617, 1019230784, 1548761504, 552024901, 1674172555, 1991562941, 1956311605, 1638845673, 826574779, 1786516982, 1317173838, 1031662458, 1179768116, 505958221, 291543836, 1912258046, 413950862, 574462981, 1547401692, 805385034, 1544195595, 1049885122, 1229896677, 1368360153, 2002066446, 1005551411, 1895390393, 2123411719, 1828667767, 1068355268, 1649532044, 551265459, 1342721015, 1004011222, 1491159944, 499967090, 1330931704, 154257609, 1854894696, 1697626172, 232450340, 372575759, 1491277676, 1091115224, 653063354, 1532080661, 104226796, 1444555861, 765699627, 1392826885, 1661312879, 297085137, 1750183172, 1479617291, 1256224731, 989065327, 809801483, 696874568, 1788454151, 1424278269, 287177944, 1554671478, 183913056, 560539792, 1152220997, 844031920, 1915386033, 292287110, 1903367702, 1141604439, 2000787947, 937321981, 1210593533, 1036801332, 1274007698, 1889134538, 541067264, 2118521623, 2035583609, 2082401068, 346143042, 619988021, 1908714474, 2022756374, 973590819, 1492174329, 1075865783, 1127372477, 680681416, 1359681612, 596500925, 94635414, 1265913114, 1927603604, 149636427, 585160126, 2075872210, 1977238188, 668362533, 164493675, 125683216, 1193270978, 789152978, 303918753, 689068948, 306920014, 629559966, 2128206392, 599675288, 2060665772, 1823996640, 2044993075, 1953055955, 768513837, 1683891401, 458515868, 446181002, 1197508688, 808465552, 78484562, 1827452883, 2029499730, 1212978049, 427373006, 640822094, 1820527470, 505297679, 351398609, 1509303680, 2088076964, 1406991482, 1970864537, 884338262, 665774999, 1399902219, 1154395695, 264780430, 436765649, 1070638661, 2108216291, 915798943, 143491110, 152334234, 125506212, 1103441530, 591801621, 737939769, 1766000922, 411310875, 251463131, 597302789, 753789391, 448412580, 1913358282, 488576998, 1348491578, 2053066115, 426120899, 373718090, 1821373830, 965204521, 630632412, 1580653138, 834007700, 1717893716, 47859724, 2141440337, 1196458369, 1948778531, 1591029309, 1170514827, 183115361, 546470346, 208826269, 1636757860, 1625500485, 638589271, 1617731931, 1079585542, 2127056635, 362966716, 543989509, 976932862, 818558885, 1790865006, 111725853, 1228432620, 2079007757, 1456858041, 1797892530, 2066668362, 1582087691, 9143783, 1982220219, 713044192, 1787834560, 2038547216, 1920942659, 67621736, 104930159, 1780838645, 1667589338, 1150683136, 1032850019, 1689472046, 1323348875, 1567312766, 153415787, 1215304860, 803316446, 285274066, 1570839113, 19758394, 1912412824, 184677327, 1860181230, 88775388, 550714670, 1728536767, 625602871, 44955740, 440890948, 1083130848, 605756476, 1192964650, 719540535, 1662805962, 501343898, 300502693, 2015308872, 1781393711, 847420345, 1360621581, 1756588978, 1924045156, 1230654987, 208553260, 376589638, 2011380948, 1708970071, 354507020, 511208981, 867684870, 410642807, 1722330630, 1849479417, 164410363, 2133487140, 667983112, 340859767, 1549913535, 1921500907, 1644683135, 1896672008, 476342075, 258807673, 924670173, 1557309084, 1557098489, 1001905113, 868928577, 1836592910, 1704402447, 256815073, 788221295, 1033265491, 59159127, 315260505, 238357254, 1239590945, 356083080, 544727674, 253229188, 2093401843, 72429735, 499561541, 976421058, 1206300611, 2139814502, 2028342767, 1177358848, 750548500, 1991086498, 1821282139, 1535870925, 1113728869, 1795583164, 323278592, 28871346, 1852037877, 879938516, 1676091060, 458309422, 2088087374, 2110664129, 128324774, 2119417594, 1042213528, 136336373, 2013501224, 3243546, 1270103041, 1991432781, 708268353, 1128732056, 1006306838, 1871897019, 222869771, 1085134465, 1264733852, 473163474, 962035818, 1825926925, 1202810365, 160712496, 98517772, 1892277589, 102142765, 1029928389, 740620383, 1586760968, 768336438, 1644720519, 402248571, 742570016, 1275120044, 1742642343, 1393409247, 1787638584, 1875564231, 1160411208, 1458966536, 445063598, 1073890226, 539463708, 1626274873, 1434483621, 1072615782, 2017116052, 363000849, 2114162361, 1507286062, 109510861, 413313215, 470745074, 2046164128, 589389279, 1800829178, 1328681889, 847624634, 995696267, 1967243042, 667417166, 1496233537, 1501920089, 2000768277, 1557156707, 1331654871, 1712860501, 793761379, 70416827, 1314857295, 1426533106, 939562049, 1299721316, 2061015731, 636414291, 243329499, 1979345797, 853569563, 901705983, 1335015800, 699367992, 1042507577, 764068031, 1424979958, 174877018, 1396288288, 657851890, 1193452255, 325535499, 35212193, 2053802647, 1548285620, 954210701, 746320316, 2125545729, 1009219193, 476429262, 880120594, 364922262, 1262672684, 1089697481, 1605452935, 972146008, 1843958373, 1077521579, 57514312, 835803994, 456065102, 2103906546, 430490146, 763144205, 934640075, 1577278555, 1195612331, 338495177, 571568451, 4421407, 740427119, 564918505, 2056497274, 898431804, 1769996093, 128509298, 619593787, 211793698, 1452683133, 1150740462, 574511563, 595786927, 2019336557, 1036493988, 1019370069, 675110951, 793085248, 922613412, 1315067351, 2039979646, 1237872484, 764030367, 1025296316, 552324777, 771714063, 1659550917, 1537804717, 533978480, 1604877974, 1081839007, 585012088, 1114543837, 1763628723, 1594010003, 1867627073, 352731932, 1788021706, 1295223290, 1812193986, 139209259, 1238157016, 432209190, 1606974300, 1414722008, 1030077433, 1589239727, 408085731, 1411028540, 45628600, 2057822222, 2006589643, 135631106, 823198726, 1330864948, 1169589077, 390770981, 542959294, 1534174164, 1212344959, 1783408937, 327438924, 490328324, 1265240680, 109248007, 1928271569, 980815631, 1870639538, 1014672151, 1782188212, 254461988, 1976932519, 1965823859, 1695752727, 1178797274, 347770938, 2095325042, 856663329, 884775581, 2029082020, 634883061, 1364951864, 1695589147, 1335419700, 275888642, 253245831, 469991587, 1848036743, 791228566, 1670877023, 1256091633, 313539235, 1838367604, 1581763533, 1655370451, 766216771, 1081366091, 1307883373, 1953663766, 1610657728, 1974245914, 939896484, 1766011353, 666483550, 1581873161, 1480879213, 617942942, 1587231890, 806804798, 1708090573, 1105436131, 1249066628, 1417143310, 449072436, 756289183, 321053182, 419375569, 1491138935, 981637897, 81783210, 847625117, 1417615146, 1930644283, 1172784870, 451097278, 922203855, 1887767565, 1261578912, 196939691, 697313186, 2098988231, 1201072480, 2070305257, 748199429, 283743744, 1809440789, 716487184, 1307982143, 621908931, 39837488, 153826497, 1685363107, 925244559, 434026075, 303086574, 465515762, 100240620, 30086132, 120581755, 1541779006, 1292846770, 2119215809, 797858633, 1532183553, 1239431152, 521761259, 1430807947, 1595451958, 234813458, 474117335, 1270151478, 2091381016, 261459977, 1820940825, 1342902678, 1295516207, 948667211, 1232626760, 1950468364, 1380579179, 1156329282, 1097671398, 563931336, 45219559, 813738754, 962336682, 274837817, 1360593060, 1918616765, 150360224, 1573665740, 1713952215, 542359838, 1414605677, 275561704, 733739315, 736234253, 2117574890, 1351535348, 1690321770, 1009314234, 862477121, 1592622121, 1752184384, 326734487, 389645554, 991606778, 841602211, 225597708, 50505900, 974810385, 343752275, 873094016, 805832728, 1495363687, 1744011134, 1113886711, 450276284, 1928146685, 51037982, 889605029, 9962526, 1602040473, 2048974139, 1489650266, 1200759170, 281094013, 1284514188, 691466171, 1144978640, 1003154538, 740611057, 945222522, 1652848596, 58831773, 1294912527, 1767701481, 1722999998, 429354222, 1139056842, 1517648675, 504894927, 595027489, 1806978703, 346530280, 180482095, 1688399050, 527905833, 143076311, 1419065176, 1273782640, 1291417231, 1904159837, 971691164, 1613707609, 2094512184, 1433511372, 899155565, 1686658533, 1383264498, 400858607, 915889527, 2047127281, 526747054, 1873498488, 1928753437, 501641386, 1313557657, 116913335, 1145166396, 1241748551, 1990619298, 930338958, 279012820, 1614994700, 277941502, 1387229054, 211565959, 1563059547, 1160835098, 1353212752, 1866944924, 269620631, 1817409612, 480495401, 433587381, 2024739754, 1477000283, 1123135960, 747580516, 1757039645, 1271024017, 1379383622, 949031855]\n"
     ]
    },
    {
     "ename": "NameError",
     "evalue": "name 'XXX' is not defined",
     "output_type": "error",
     "traceback": [
      "\u001B[0;31m---------------------------------------------------------------------------\u001B[0m",
      "\u001B[0;31mNameError\u001B[0m                                 Traceback (most recent call last)",
      "Cell \u001B[0;32mIn[75], line 8\u001B[0m\n\u001B[1;32m      1\u001B[0m \u001B[38;5;66;03m# If you managed to solve all three parts you can test the following code to see if it runs\u001B[39;00m\n\u001B[1;32m      2\u001B[0m \u001B[38;5;66;03m# you have to change the period to match your LCG though, this is marked as XXX.\u001B[39;00m\n\u001B[1;32m      3\u001B[0m \u001B[38;5;66;03m# It is a very good idea to check these things using the histogram function in sagemath\u001B[39;00m\n\u001B[1;32m      4\u001B[0m \u001B[38;5;66;03m# try with a larger number of samples, up to 10000 should run\u001B[39;00m\n\u001B[1;32m      6\u001B[0m \u001B[38;5;28mprint\u001B[39m(\u001B[38;5;124m\"\u001B[39m\u001B[38;5;124mLCG output: \u001B[39m\u001B[38;5;132;01m%s\u001B[39;00m\u001B[38;5;124m\"\u001B[39m \u001B[38;5;241m%\u001B[39m problem4_LCG(size\u001B[38;5;241m=\u001B[39m\u001B[38;5;241m10\u001B[39m, seed\u001B[38;5;241m=\u001B[39m\u001B[38;5;241m1\u001B[39m))\n\u001B[0;32m----> 8\u001B[0m period \u001B[38;5;241m=\u001B[39m \u001B[43mXXX\u001B[49m\n\u001B[1;32m     10\u001B[0m \u001B[38;5;28mprint\u001B[39m(\u001B[38;5;124m\"\u001B[39m\u001B[38;5;124mUniform sampler \u001B[39m\u001B[38;5;132;01m%s\u001B[39;00m\u001B[38;5;124m\"\u001B[39m \u001B[38;5;241m%\u001B[39m problem4_uniform(generator\u001B[38;5;241m=\u001B[39mproblem4_LCG, period\u001B[38;5;241m=\u001B[39mperiod, size\u001B[38;5;241m=\u001B[39m\u001B[38;5;241m10\u001B[39m, seed\u001B[38;5;241m=\u001B[39m\u001B[38;5;241m1\u001B[39m))\n\u001B[1;32m     12\u001B[0m uniform_sampler \u001B[38;5;241m=\u001B[39m \u001B[38;5;28;01mlambda\u001B[39;00m size, seed: problem4_uniform(generator\u001B[38;5;241m=\u001B[39mproblem4_LCG, period\u001B[38;5;241m=\u001B[39mperiod, size\u001B[38;5;241m=\u001B[39msize, seed\u001B[38;5;241m=\u001B[39mseed)\n",
      "\u001B[0;31mNameError\u001B[0m: name 'XXX' is not defined"
     ]
    }
   ],
   "execution_count": 75
  },
  {
   "cell_type": "code",
   "execution_count": null,
   "id": "5318f370",
   "metadata": {
    "deletable": false,
    "lx_assignment_number": "2",
    "lx_assignment_type": "ASSIGNMENT",
    "lx_assignment_type2print": "Assignment",
    "lx_problem_cell_type": "Test",
    "lx_problem_number": "4",
    "lx_problem_points": "8"
   },
   "outputs": [],
   "source": [
    "\n",
    "# If however you did not manage to implement either part 1 or part 2 but still want to check part 3, you can run the code below\n",
    "\n",
    "def testUniformGenerator(size, seed):\n",
    "    import random\n",
    "    random.seed(seed)\n",
    "\n",
    "    return [random.uniform(0, 1) for s in range(size)]\n",
    "\n",
    "\n",
    "print(\n",
    "    \"Accept-Reject sampler %s\" % problem4_accept_reject(uniformGenerator=testUniformGenerator, n_iterations=20, seed=1))"
   ]
  }
 ],
 "metadata": {
  "lx_assignment_number": 2,
  "lx_course_instance": "2024",
  "lx_course_name": "Introduction to Data Science",
  "lx_course_number": "1MS041",
  "kernelspec": {
   "name": "python3",
   "language": "python",
   "display_name": "Python 3 (ipykernel)"
  }
 },
 "nbformat": 4,
 "nbformat_minor": 5
}
