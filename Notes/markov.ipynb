{
 "cells": [
  {
   "cell_type": "code",
   "execution_count": null,
   "id": "initial_id",
   "metadata": {
    "collapsed": true
   },
   "outputs": [],
   "source": [
    "def stat_distr(p):\n",
    "    A = p.T - np.eye(p.shape[0])\n",
    "    b = np.zeros(p.shape[0])\n",
    "\n",
    "    A[-1] = 1\n",
    "    b[-1] = 1\n",
    "\n",
    "    return np.linalg.solve(A, b)"
   ]
  },
  {
   "metadata": {},
   "cell_type": "code",
   "outputs": [],
   "execution_count": null,
   "source": [
    "def check_irreducibility(lst):\n",
    "    if isinstance(lst, list):\n",
    "        pass\n",
    "    else:\n",
    "        raise Exception(\"Input to check_irreducibility() must be a LIST!\")\n",
    "\n",
    "    i = 0\n",
    "    for matrix in lst:\n",
    "        if matrix.shape[0] != matrix.shape[1]:\n",
    "            raise Exception(f\"Matrix #{i} is not square!\")\n",
    "        matrix_inf = np.linalg.matrix_power(matrix, 1000)\n",
    "        if np.any(matrix_inf < 1e-10):\n",
    "            print(f\"Matrix #{i} is REDUCIBLE!.\")\n",
    "            # print(matrix)\n",
    "        else:\n",
    "            print(f\"Matrix #{i} is irreducible.\")\n",
    "\n",
    "        i += 1"
   ],
   "id": "874e58a32ada619f"
  },
  {
   "metadata": {
    "ExecuteTime": {
     "end_time": "2025-01-14T15:50:57.143571Z",
     "start_time": "2025-01-14T15:50:56.958742Z"
    }
   },
   "cell_type": "code",
   "source": [
    "def reversible_markov(A):\n",
    "    n = len(A)\n",
    "\n",
    "    # Step 1: Find the stationary distribution\n",
    "    stationary_dist = stat_distr(A)\n",
    "\n",
    "    # Step 2: Check the detailed balance condition for all pairs (i, j)\n",
    "    for i in range(n):\n",
    "        for j in range(n):\n",
    "            if not np.isclose(stationary_dist[i] * A[i, j], stationary_dist[j] * A[j, i]):\n",
    "                print(f\"Chain is not reversible. Detailed balance is violated between states {i} and {j}.\")\n",
    "                return False  # Early exit if any violation is found\n",
    "\n",
    "    print(\"Chain is reversible!\")\n",
    "    return True"
   ],
   "id": "c994a4d0391b0b8b",
   "outputs": [
    {
     "ename": "NameError",
     "evalue": "name 'problem3_B' is not defined",
     "output_type": "error",
     "traceback": [
      "\u001B[0;31m---------------------------------------------------------------------------\u001B[0m",
      "\u001B[0;31mNameError\u001B[0m                                 Traceback (most recent call last)",
      "Cell \u001B[0;32mIn[1], line 26\u001B[0m\n\u001B[1;32m     23\u001B[0m     \u001B[38;5;28mprint\u001B[39m(\u001B[38;5;124m\"\u001B[39m\u001B[38;5;124mNo periodicity detected within the given range.\u001B[39m\u001B[38;5;124m\"\u001B[39m)\n\u001B[1;32m     24\u001B[0m     \u001B[38;5;28;01mreturn\u001B[39;00m \u001B[38;5;28;01mNone\u001B[39;00m\n\u001B[0;32m---> 26\u001B[0m check_periodicity(\u001B[43mproblem3_B\u001B[49m)\n",
      "\u001B[0;31mNameError\u001B[0m: name 'problem3_B' is not defined"
     ]
    }
   ],
   "execution_count": 1
  },
  {
   "cell_type": "markdown",
   "id": "0dd6a5a7",
   "metadata": {},
   "source": [
    "(Unfinished function)How to find expected number of steps until a state is reached"
   ]
  },
  {
   "cell_type": "code",
   "execution_count": null,
   "id": "3cd96db5",
   "metadata": {},
   "outputs": [],
   "source": [
    "import numpy as np\n",
    "\n",
    "# Transition matrix with downtown as an absorbing state\n",
    "P = np.array([\n",
    "    [1.0, 0.0, 0.0],  # Downtown is absorbing\n",
    "    [0.2, 0.5, 0.3],  # Suburbs\n",
    "    [0.4, 0.3, 0.3]  # Countryside\n",
    "])\n",
    "\n",
    "max_steps = 2\n",
    "initial_state = np.array([0, 1, 0])  # Start in the suburbs\n",
    "target_index = 0  # Downtown index\n",
    "\n",
    "hitting_probabilities = []\n",
    "cumulative_probability = 0  # Tracks total probability of hitting downtown\n",
    "\n",
    "current_state = initial_state.copy()\n",
    "for step in range(1, max_steps + 1):\n",
    "    # Advance the Markov chain one step\n",
    "    next_state = current_state @ P\n",
    "    # Calculate hitting probability at this step\n",
    "    hitting_probability = next_state[target_index] - cumulative_probability\n",
    "    hitting_probabilities.append(hitting_probability)\n",
    "    # Update cumulative probability\n",
    "    cumulative_probability += hitting_probability\n",
    "    # Update the current state\n",
    "    current_state = next_state\n",
    "\n",
    "    print(hitting_probability)\n",
    "\n",
    "# Check if total hitting probabilities sum to 1\n",
    "total_probability = sum(hitting_probabilities)\n",
    "if not np.isclose(total_probability, 1.0):\n",
    "    print(f\"Warning: Total hitting probability is {total_probability}, not 1.0\")\n",
    "\n",
    "# Compute expected hitting time\n",
    "expected_hitting_time = sum(step * hitting_probabilities[step - 1] for step in range(1, max_steps + 1))\n",
    "print(f\"Expected hitting time: {expected_hitting_time}\")\n",
    "\n",
    "problem1_ET = 3.8"
   ]
  }
 ],
 "metadata": {
  "kernelspec": {
   "display_name": "Python 3",
   "language": "python",
   "name": "python3"
  },
  "language_info": {
   "codemirror_mode": {
    "name": "ipython",
    "version": 2
   },
   "file_extension": ".py",
   "mimetype": "text/x-python",
   "name": "python",
   "nbconvert_exporter": "python",
   "pygments_lexer": "ipython2",
   "version": "2.7.6"
  }
 },
 "nbformat": 4,
 "nbformat_minor": 5
}
