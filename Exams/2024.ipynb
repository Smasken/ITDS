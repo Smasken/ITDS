{
 "cells": [
  {
   "cell_type": "markdown",
   "metadata": {},
   "source": [
    "Problem 1"
   ]
  },
  {
   "cell_type": "code",
   "metadata": {
    "ExecuteTime": {
     "end_time": "2025-01-14T17:18:31.535324Z",
     "start_time": "2025-01-14T17:18:29.871264Z"
    }
   },
   "source": [
    "import numpy as np\n",
    "import matplotlib.pyplot as plt\n",
    "\n",
    "\n",
    "def problem1_inversion(n_samples=1000):\n",
    "    # Distribution from part 1\n",
    "    # write the code in this function to produce samples from the distribution in the assignment\n",
    "    # Make sure you choose a good sampling distribution to avoid unnecessary rejections\n",
    "    # Return a numpy array of length n_samples\n",
    "\n",
    "    accepted_samples = []\n",
    "\n",
    "    target = lambda x: np.clip((np.exp(x ** 2) - 1) / (np.e - 1), 0, 1)\n",
    "    proposal = lambda x: 1\n",
    "\n",
    "    while len(accepted_samples) < n_samples:\n",
    "        x = np.random.uniform(1e-6, 1)\n",
    "        u = np.random.uniform(1e-6, 1)  # Uniform random for acceptance criterion\n",
    "\n",
    "        if u <= 1.1 * target(x):\n",
    "            accepted_samples.append(x)  # Accept x\n",
    "\n",
    "    return np.array(accepted_samples)\n",
    "\n",
    "\n",
    "accepted_samples = problem1_inversion(n_samples=100000)\n",
    "\n",
    "plt.hist(accepted_samples, bins=100)"
   ],
   "outputs": [
    {
     "data": {
      "text/plain": [
       "(array([4.000e+00, 2.000e+00, 9.000e+00, 1.200e+01, 1.100e+01, 1.900e+01,\n",
       "        1.700e+01, 3.700e+01, 3.100e+01, 4.400e+01, 4.200e+01, 4.800e+01,\n",
       "        4.500e+01, 5.700e+01, 6.100e+01, 8.100e+01, 1.020e+02, 1.060e+02,\n",
       "        9.400e+01, 1.060e+02, 1.170e+02, 1.270e+02, 1.340e+02, 1.350e+02,\n",
       "        1.430e+02, 1.770e+02, 2.000e+02, 1.720e+02, 2.090e+02, 2.340e+02,\n",
       "        2.180e+02, 2.230e+02, 2.700e+02, 2.890e+02, 3.080e+02, 3.440e+02,\n",
       "        3.360e+02, 3.510e+02, 3.510e+02, 3.860e+02, 3.980e+02, 4.030e+02,\n",
       "        4.540e+02, 4.720e+02, 4.640e+02, 5.670e+02, 5.450e+02, 5.990e+02,\n",
       "        6.170e+02, 6.020e+02, 7.140e+02, 6.830e+02, 7.370e+02, 7.400e+02,\n",
       "        7.530e+02, 7.910e+02, 8.740e+02, 8.410e+02, 8.610e+02, 9.030e+02,\n",
       "        9.270e+02, 1.022e+03, 1.015e+03, 1.079e+03, 1.159e+03, 1.188e+03,\n",
       "        1.184e+03, 1.285e+03, 1.322e+03, 1.360e+03, 1.468e+03, 1.445e+03,\n",
       "        1.477e+03, 1.595e+03, 1.607e+03, 1.632e+03, 1.736e+03, 1.700e+03,\n",
       "        1.790e+03, 1.942e+03, 1.936e+03, 1.983e+03, 2.064e+03, 2.138e+03,\n",
       "        2.247e+03, 2.329e+03, 2.464e+03, 2.482e+03, 2.653e+03, 2.629e+03,\n",
       "        2.647e+03, 2.783e+03, 2.849e+03, 2.968e+03, 3.059e+03, 3.095e+03,\n",
       "        3.284e+03, 3.225e+03, 3.297e+03, 3.265e+03]),\n",
       " array([0.03529805, 0.04494501, 0.05459196, 0.06423892, 0.07388587,\n",
       "        0.08353283, 0.09317978, 0.10282674, 0.11247369, 0.12212065,\n",
       "        0.13176761, 0.14141456, 0.15106152, 0.16070847, 0.17035543,\n",
       "        0.18000238, 0.18964934, 0.19929629, 0.20894325, 0.2185902 ,\n",
       "        0.22823716, 0.23788412, 0.24753107, 0.25717803, 0.26682498,\n",
       "        0.27647194, 0.28611889, 0.29576585, 0.3054128 , 0.31505976,\n",
       "        0.32470671, 0.33435367, 0.34400063, 0.35364758, 0.36329454,\n",
       "        0.37294149, 0.38258845, 0.3922354 , 0.40188236, 0.41152931,\n",
       "        0.42117627, 0.43082322, 0.44047018, 0.45011714, 0.45976409,\n",
       "        0.46941105, 0.479058  , 0.48870496, 0.49835191, 0.50799887,\n",
       "        0.51764582, 0.52729278, 0.53693973, 0.54658669, 0.55623365,\n",
       "        0.5658806 , 0.57552756, 0.58517451, 0.59482147, 0.60446842,\n",
       "        0.61411538, 0.62376233, 0.63340929, 0.64305624, 0.6527032 ,\n",
       "        0.66235016, 0.67199711, 0.68164407, 0.69129102, 0.70093798,\n",
       "        0.71058493, 0.72023189, 0.72987884, 0.7395258 , 0.74917275,\n",
       "        0.75881971, 0.76846667, 0.77811362, 0.78776058, 0.79740753,\n",
       "        0.80705449, 0.81670144, 0.8263484 , 0.83599535, 0.84564231,\n",
       "        0.85528926, 0.86493622, 0.87458318, 0.88423013, 0.89387709,\n",
       "        0.90352404, 0.913171  , 0.92281795, 0.93246491, 0.94211186,\n",
       "        0.95175882, 0.96140577, 0.97105273, 0.98069969, 0.99034664,\n",
       "        0.9999936 ]),\n",
       " <BarContainer object of 100 artists>)"
      ]
     },
     "execution_count": 336,
     "metadata": {},
     "output_type": "execute_result"
    },
    {
     "data": {
      "text/plain": [
       "<Figure size 640x480 with 1 Axes>"
      ],
      "image/png": "[encoded data removed]"
     },
     "metadata": {},
     "output_type": "display_data"
    }
   ],
   "execution_count": 336
  },
  {
   "cell_type": "markdown",
   "metadata": {},
   "source": [
    "Problem 2 (This is exacly the same as an assignment)"
   ]
  },
  {
   "cell_type": "markdown",
   "metadata": {},
   "source": [
    "Problem 3"
   ]
  },
  {
   "metadata": {
    "ExecuteTime": {
     "end_time": "2025-01-14T17:18:31.552190Z",
     "start_time": "2025-01-14T17:18:31.548307Z"
    }
   },
   "cell_type": "code",
   "source": [
    "# PART 1\n",
    "#------------------------TRANSITION MATRIX -------------------------------\n",
    "# Answer each one by supplying the transition matrix as a numpy array\n",
    "# of shape (n_states,n_states), where state (A,B,...) corresponds to index (0,1,...)\n",
    "\n",
    "import numpy as np\n",
    "\n",
    "problem3_A = np.array([[0.8, 0.2, 0.0, 0.0],\n",
    "                       [0.6, 0.2, 0.2, 0.0],\n",
    "                       [0.0, 0.4, 0.0, 0.6],\n",
    "                       [0.0, 0.0, 0.8, 0.2]])\n",
    "\n",
    "problem3_B = np.array([[0.0, 0.2, 0.0, 0.8],\n",
    "                       [0.0, 0.0, 1.0, 0.0],\n",
    "                       [0.0, 1.0, 0.0, 0.0],\n",
    "                       [0.5, 0.0, 0.5, 0.0]])\n",
    "\n",
    "problem3_C = np.array([[0.2, 0.3, 0.0, 0.0, 0.5],\n",
    "                       [0.2, 0.2, 0.6, 0.0, 0.0],\n",
    "                       [0.0, 0.4, 0.0, 0.6, 0.0],\n",
    "                       [0.0, 0.0, 0.0, 0.6, 0.4],\n",
    "                       [0.0, 0.0, 0.0, 0.4, 0.6]])\n",
    "\n",
    "problem3_D = np.array([[0.8, 0.2, 0.0, 0.0],\n",
    "                       [0.6, 0.2, 0.2, 0.0],\n",
    "                       [0.0, 0.4, 0.0, 0.6],\n",
    "                       [0.1, 0.0, 0.7, 0.2]])"
   ],
   "outputs": [],
   "execution_count": 337
  },
  {
   "metadata": {
    "ExecuteTime": {
     "end_time": "2025-01-14T17:18:31.564320Z",
     "start_time": "2025-01-14T17:18:31.560497Z"
    }
   },
   "cell_type": "code",
   "source": [
    "'''\n",
    "To check for irreducibility, raise the matrix to a high power\n",
    "and check for convergence. No elements should approach 0.\n",
    "'''\n",
    "\n",
    "\n",
    "def check_irreducibility(lst):\n",
    "    if isinstance(lst, list):\n",
    "        pass\n",
    "    else:\n",
    "        raise Exception(\"Input to check_irreducibility() must be a LIST!\")\n",
    "\n",
    "    i = 0\n",
    "    for matrix in lst:\n",
    "        if matrix.shape[0] != matrix.shape[1]:\n",
    "            raise Exception(f\"Matrix #{i} is not square!\")\n",
    "        matrix_inf = np.linalg.matrix_power(matrix, 1000)\n",
    "        if np.any(matrix_inf < 1e-10):\n",
    "            print(f\"Matrix #{i} is REDUCIBLE!.\")\n",
    "            # print(matrix)\n",
    "        else:\n",
    "            print(f\"Matrix #{i} is irreducible.\")\n",
    "\n",
    "        i += 1\n",
    "\n",
    "\n",
    "check_irreducibility([problem3_A, problem3_B, problem3_C, problem3_D])\n",
    "\n",
    "problem3_A_irreducible = True\n",
    "problem3_B_irreducible = False\n",
    "problem3_C_irreducible = False\n",
    "problem3_D_irreducible = True"
   ],
   "outputs": [
    {
     "name": "stdout",
     "output_type": "stream",
     "text": [
      "Matrix #0 is irreducible.\n",
      "Matrix #1 is REDUCIBLE!.\n",
      "Matrix #2 is REDUCIBLE!.\n",
      "Matrix #3 is irreducible.\n"
     ]
    }
   ],
   "execution_count": 338
  },
  {
   "metadata": {
    "ExecuteTime": {
     "end_time": "2025-01-14T17:18:31.578930Z",
     "start_time": "2025-01-14T17:18:31.573713Z"
    }
   },
   "cell_type": "code",
   "source": [
    "\n",
    "import numpy as np\n",
    "import numpy as np\n",
    "\n",
    "def stat_distr(p):\n",
    "    A = p.T - np.eye(p.shape[0])\n",
    "    b = np.zeros(p.shape[0])\n",
    "\n",
    "    A[-1] = 1\n",
    "    b[-1] = 1\n",
    "\n",
    "    return np.linalg.solve(A, b)\n",
    "\n",
    "def reversible_markov(A):\n",
    "    n = len(A)\n",
    "\n",
    "    # Step 1: Find the stationary distribution\n",
    "    stationary_dist = stat_distr(A)\n",
    "\n",
    "    # Step 2: Check the detailed balance condition for all pairs (i, j)\n",
    "    for i in range(n):\n",
    "        for j in range(n):\n",
    "            if not np.isclose(stationary_dist[i] * A[i, j], stationary_dist[j] * A[j, i]):\n",
    "                print(f\"Chain is not reversible. Detailed balance is violated between states {i} and {j}.\")\n",
    "                return False  # Early exit if any violation is found\n",
    "\n",
    "    print(\"Chain is reversible!\")\n",
    "    return True\n",
    "\n",
    "reversible_markov(problem3_D)\n",
    "\n",
    "\n",
    "\n",
    "\n",
    "\n"
   ],
   "outputs": [
    {
     "name": "stdout",
     "output_type": "stream",
     "text": [
      "Chain is not reversible. Detailed balance is violated between states 0 and 1.\n"
     ]
    },
    {
     "data": {
      "text/plain": [
       "False"
      ]
     },
     "execution_count": 339,
     "metadata": {},
     "output_type": "execute_result"
    }
   ],
   "execution_count": 339
  },
  {
   "cell_type": "markdown",
   "metadata": {},
   "source": [
    "Problem 4"
   ]
  },
  {
   "cell_type": "markdown",
   "metadata": {},
   "source": [
    "Problem 5"
   ]
  },
  {
   "metadata": {},
   "cell_type": "markdown",
   "source": ""
  }
 ],
 "metadata": {
  "kernelspec": {
   "display_name": "base",
   "language": "python",
   "name": "python3"
  },
  "language_info": {
   "codemirror_mode": {
    "name": "ipython",
    "version": 3
   },
   "file_extension": ".py",
   "mimetype": "text/x-python",
   "name": "python",
   "nbconvert_exporter": "python",
   "pygments_lexer": "ipython3",
   "version": "3.11.7"
  }
 },
 "nbformat": 4,
 "nbformat_minor": 2
}
